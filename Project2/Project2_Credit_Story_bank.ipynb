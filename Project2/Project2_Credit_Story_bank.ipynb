{
 "cells": [
  {
   "cell_type": "markdown",
   "id": "e065d008",
   "metadata": {
    "deletable": false,
    "editable": false,
    "id": "c81daeeb"
   },
   "source": [
    "# Исследование надежности заемщиков\n"
   ]
  },
  {
   "cell_type": "markdown",
   "id": "5228bc2d",
   "metadata": {
    "deletable": false,
    "editable": false,
    "id": "827c20bf"
   },
   "source": [
    "Во второй части проекта вы выполните шаги 3 и 4. Их вручную проверит ревьюер.\n",
    "Чтобы вам не пришлось писать код заново для шагов 1 и 2, мы добавили авторские решения в ячейки с кодом. \n",
    "\n"
   ]
  },
  {
   "cell_type": "markdown",
   "id": "786780ae",
   "metadata": {
    "deletable": false,
    "editable": false,
    "id": "744d7639"
   },
   "source": [
    "## Откройте таблицу и изучите общую информацию о данных"
   ]
  },
  {
   "cell_type": "markdown",
   "id": "d1e3913d",
   "metadata": {
    "deletable": false,
    "editable": false,
    "id": "e7a14c31"
   },
   "source": [
    "**Задание 1. Импортируйте библиотеку pandas. Считайте данные из csv-файла в датафрейм и сохраните в переменную `data`. Путь к файлу:**\n",
    "\n",
    "`/datasets/data.csv`"
   ]
  },
  {
   "cell_type": "code",
   "execution_count": 1,
   "id": "4f6a9204",
   "metadata": {
    "deletable": false,
    "id": "7bcf75c9"
   },
   "outputs": [],
   "source": [
    "import pandas as pd\n",
    "import seaborn as sns\n",
    "\n",
    "try:\n",
    "    data = pd.read_csv('/datasets/data.csv')\n",
    "except:\n",
    "    data = pd.read_csv('https://code.s3.yandex.net/datasets/data.csv')"
   ]
  },
  {
   "cell_type": "markdown",
   "id": "4ce4a7db",
   "metadata": {
    "deletable": false,
    "editable": false,
    "id": "b8038fe3"
   },
   "source": [
    "**Задание 2. Выведите первые 20 строчек датафрейма `data` на экран.**"
   ]
  },
  {
   "cell_type": "code",
   "execution_count": 2,
   "id": "6e7137eb",
   "metadata": {
    "deletable": false,
    "id": "2a7cab99",
    "outputId": "1a8f3ef2-d323-4ec2-ddf7-89670b5944c4"
   },
   "outputs": [
    {
     "data": {
      "text/html": [
       "<div>\n",
       "<style scoped>\n",
       "    .dataframe tbody tr th:only-of-type {\n",
       "        vertical-align: middle;\n",
       "    }\n",
       "\n",
       "    .dataframe tbody tr th {\n",
       "        vertical-align: top;\n",
       "    }\n",
       "\n",
       "    .dataframe thead th {\n",
       "        text-align: right;\n",
       "    }\n",
       "</style>\n",
       "<table border=\"1\" class=\"dataframe\">\n",
       "  <thead>\n",
       "    <tr style=\"text-align: right;\">\n",
       "      <th></th>\n",
       "      <th>children</th>\n",
       "      <th>days_employed</th>\n",
       "      <th>dob_years</th>\n",
       "      <th>education</th>\n",
       "      <th>education_id</th>\n",
       "      <th>family_status</th>\n",
       "      <th>family_status_id</th>\n",
       "      <th>gender</th>\n",
       "      <th>income_type</th>\n",
       "      <th>debt</th>\n",
       "      <th>total_income</th>\n",
       "      <th>purpose</th>\n",
       "    </tr>\n",
       "  </thead>\n",
       "  <tbody>\n",
       "    <tr>\n",
       "      <th>0</th>\n",
       "      <td>1</td>\n",
       "      <td>-8437.673028</td>\n",
       "      <td>42</td>\n",
       "      <td>высшее</td>\n",
       "      <td>0</td>\n",
       "      <td>женат / замужем</td>\n",
       "      <td>0</td>\n",
       "      <td>F</td>\n",
       "      <td>сотрудник</td>\n",
       "      <td>0</td>\n",
       "      <td>253875.639453</td>\n",
       "      <td>покупка жилья</td>\n",
       "    </tr>\n",
       "    <tr>\n",
       "      <th>1</th>\n",
       "      <td>1</td>\n",
       "      <td>-4024.803754</td>\n",
       "      <td>36</td>\n",
       "      <td>среднее</td>\n",
       "      <td>1</td>\n",
       "      <td>женат / замужем</td>\n",
       "      <td>0</td>\n",
       "      <td>F</td>\n",
       "      <td>сотрудник</td>\n",
       "      <td>0</td>\n",
       "      <td>112080.014102</td>\n",
       "      <td>приобретение автомобиля</td>\n",
       "    </tr>\n",
       "    <tr>\n",
       "      <th>2</th>\n",
       "      <td>0</td>\n",
       "      <td>-5623.422610</td>\n",
       "      <td>33</td>\n",
       "      <td>Среднее</td>\n",
       "      <td>1</td>\n",
       "      <td>женат / замужем</td>\n",
       "      <td>0</td>\n",
       "      <td>M</td>\n",
       "      <td>сотрудник</td>\n",
       "      <td>0</td>\n",
       "      <td>145885.952297</td>\n",
       "      <td>покупка жилья</td>\n",
       "    </tr>\n",
       "    <tr>\n",
       "      <th>3</th>\n",
       "      <td>3</td>\n",
       "      <td>-4124.747207</td>\n",
       "      <td>32</td>\n",
       "      <td>среднее</td>\n",
       "      <td>1</td>\n",
       "      <td>женат / замужем</td>\n",
       "      <td>0</td>\n",
       "      <td>M</td>\n",
       "      <td>сотрудник</td>\n",
       "      <td>0</td>\n",
       "      <td>267628.550329</td>\n",
       "      <td>дополнительное образование</td>\n",
       "    </tr>\n",
       "    <tr>\n",
       "      <th>4</th>\n",
       "      <td>0</td>\n",
       "      <td>340266.072047</td>\n",
       "      <td>53</td>\n",
       "      <td>среднее</td>\n",
       "      <td>1</td>\n",
       "      <td>гражданский брак</td>\n",
       "      <td>1</td>\n",
       "      <td>F</td>\n",
       "      <td>пенсионер</td>\n",
       "      <td>0</td>\n",
       "      <td>158616.077870</td>\n",
       "      <td>сыграть свадьбу</td>\n",
       "    </tr>\n",
       "    <tr>\n",
       "      <th>5</th>\n",
       "      <td>0</td>\n",
       "      <td>-926.185831</td>\n",
       "      <td>27</td>\n",
       "      <td>высшее</td>\n",
       "      <td>0</td>\n",
       "      <td>гражданский брак</td>\n",
       "      <td>1</td>\n",
       "      <td>M</td>\n",
       "      <td>компаньон</td>\n",
       "      <td>0</td>\n",
       "      <td>255763.565419</td>\n",
       "      <td>покупка жилья</td>\n",
       "    </tr>\n",
       "    <tr>\n",
       "      <th>6</th>\n",
       "      <td>0</td>\n",
       "      <td>-2879.202052</td>\n",
       "      <td>43</td>\n",
       "      <td>высшее</td>\n",
       "      <td>0</td>\n",
       "      <td>женат / замужем</td>\n",
       "      <td>0</td>\n",
       "      <td>F</td>\n",
       "      <td>компаньон</td>\n",
       "      <td>0</td>\n",
       "      <td>240525.971920</td>\n",
       "      <td>операции с жильем</td>\n",
       "    </tr>\n",
       "    <tr>\n",
       "      <th>7</th>\n",
       "      <td>0</td>\n",
       "      <td>-152.779569</td>\n",
       "      <td>50</td>\n",
       "      <td>СРЕДНЕЕ</td>\n",
       "      <td>1</td>\n",
       "      <td>женат / замужем</td>\n",
       "      <td>0</td>\n",
       "      <td>M</td>\n",
       "      <td>сотрудник</td>\n",
       "      <td>0</td>\n",
       "      <td>135823.934197</td>\n",
       "      <td>образование</td>\n",
       "    </tr>\n",
       "    <tr>\n",
       "      <th>8</th>\n",
       "      <td>2</td>\n",
       "      <td>-6929.865299</td>\n",
       "      <td>35</td>\n",
       "      <td>ВЫСШЕЕ</td>\n",
       "      <td>0</td>\n",
       "      <td>гражданский брак</td>\n",
       "      <td>1</td>\n",
       "      <td>F</td>\n",
       "      <td>сотрудник</td>\n",
       "      <td>0</td>\n",
       "      <td>95856.832424</td>\n",
       "      <td>на проведение свадьбы</td>\n",
       "    </tr>\n",
       "    <tr>\n",
       "      <th>9</th>\n",
       "      <td>0</td>\n",
       "      <td>-2188.756445</td>\n",
       "      <td>41</td>\n",
       "      <td>среднее</td>\n",
       "      <td>1</td>\n",
       "      <td>женат / замужем</td>\n",
       "      <td>0</td>\n",
       "      <td>M</td>\n",
       "      <td>сотрудник</td>\n",
       "      <td>0</td>\n",
       "      <td>144425.938277</td>\n",
       "      <td>покупка жилья для семьи</td>\n",
       "    </tr>\n",
       "    <tr>\n",
       "      <th>10</th>\n",
       "      <td>2</td>\n",
       "      <td>-4171.483647</td>\n",
       "      <td>36</td>\n",
       "      <td>высшее</td>\n",
       "      <td>0</td>\n",
       "      <td>женат / замужем</td>\n",
       "      <td>0</td>\n",
       "      <td>M</td>\n",
       "      <td>компаньон</td>\n",
       "      <td>0</td>\n",
       "      <td>113943.491460</td>\n",
       "      <td>покупка недвижимости</td>\n",
       "    </tr>\n",
       "    <tr>\n",
       "      <th>11</th>\n",
       "      <td>0</td>\n",
       "      <td>-792.701887</td>\n",
       "      <td>40</td>\n",
       "      <td>среднее</td>\n",
       "      <td>1</td>\n",
       "      <td>женат / замужем</td>\n",
       "      <td>0</td>\n",
       "      <td>F</td>\n",
       "      <td>сотрудник</td>\n",
       "      <td>0</td>\n",
       "      <td>77069.234271</td>\n",
       "      <td>покупка коммерческой недвижимости</td>\n",
       "    </tr>\n",
       "    <tr>\n",
       "      <th>12</th>\n",
       "      <td>0</td>\n",
       "      <td>NaN</td>\n",
       "      <td>65</td>\n",
       "      <td>среднее</td>\n",
       "      <td>1</td>\n",
       "      <td>гражданский брак</td>\n",
       "      <td>1</td>\n",
       "      <td>M</td>\n",
       "      <td>пенсионер</td>\n",
       "      <td>0</td>\n",
       "      <td>NaN</td>\n",
       "      <td>сыграть свадьбу</td>\n",
       "    </tr>\n",
       "    <tr>\n",
       "      <th>13</th>\n",
       "      <td>0</td>\n",
       "      <td>-1846.641941</td>\n",
       "      <td>54</td>\n",
       "      <td>неоконченное высшее</td>\n",
       "      <td>2</td>\n",
       "      <td>женат / замужем</td>\n",
       "      <td>0</td>\n",
       "      <td>F</td>\n",
       "      <td>сотрудник</td>\n",
       "      <td>0</td>\n",
       "      <td>130458.228857</td>\n",
       "      <td>приобретение автомобиля</td>\n",
       "    </tr>\n",
       "    <tr>\n",
       "      <th>14</th>\n",
       "      <td>0</td>\n",
       "      <td>-1844.956182</td>\n",
       "      <td>56</td>\n",
       "      <td>высшее</td>\n",
       "      <td>0</td>\n",
       "      <td>гражданский брак</td>\n",
       "      <td>1</td>\n",
       "      <td>F</td>\n",
       "      <td>компаньон</td>\n",
       "      <td>1</td>\n",
       "      <td>165127.911772</td>\n",
       "      <td>покупка жилой недвижимости</td>\n",
       "    </tr>\n",
       "    <tr>\n",
       "      <th>15</th>\n",
       "      <td>1</td>\n",
       "      <td>-972.364419</td>\n",
       "      <td>26</td>\n",
       "      <td>среднее</td>\n",
       "      <td>1</td>\n",
       "      <td>женат / замужем</td>\n",
       "      <td>0</td>\n",
       "      <td>F</td>\n",
       "      <td>сотрудник</td>\n",
       "      <td>0</td>\n",
       "      <td>116820.904450</td>\n",
       "      <td>строительство собственной недвижимости</td>\n",
       "    </tr>\n",
       "    <tr>\n",
       "      <th>16</th>\n",
       "      <td>0</td>\n",
       "      <td>-1719.934226</td>\n",
       "      <td>35</td>\n",
       "      <td>среднее</td>\n",
       "      <td>1</td>\n",
       "      <td>женат / замужем</td>\n",
       "      <td>0</td>\n",
       "      <td>F</td>\n",
       "      <td>сотрудник</td>\n",
       "      <td>0</td>\n",
       "      <td>289202.704229</td>\n",
       "      <td>недвижимость</td>\n",
       "    </tr>\n",
       "    <tr>\n",
       "      <th>17</th>\n",
       "      <td>0</td>\n",
       "      <td>-2369.999720</td>\n",
       "      <td>33</td>\n",
       "      <td>высшее</td>\n",
       "      <td>0</td>\n",
       "      <td>гражданский брак</td>\n",
       "      <td>1</td>\n",
       "      <td>M</td>\n",
       "      <td>сотрудник</td>\n",
       "      <td>0</td>\n",
       "      <td>90410.586745</td>\n",
       "      <td>строительство недвижимости</td>\n",
       "    </tr>\n",
       "    <tr>\n",
       "      <th>18</th>\n",
       "      <td>0</td>\n",
       "      <td>400281.136913</td>\n",
       "      <td>53</td>\n",
       "      <td>среднее</td>\n",
       "      <td>1</td>\n",
       "      <td>вдовец / вдова</td>\n",
       "      <td>2</td>\n",
       "      <td>F</td>\n",
       "      <td>пенсионер</td>\n",
       "      <td>0</td>\n",
       "      <td>56823.777243</td>\n",
       "      <td>на покупку подержанного автомобиля</td>\n",
       "    </tr>\n",
       "    <tr>\n",
       "      <th>19</th>\n",
       "      <td>0</td>\n",
       "      <td>-10038.818549</td>\n",
       "      <td>48</td>\n",
       "      <td>СРЕДНЕЕ</td>\n",
       "      <td>1</td>\n",
       "      <td>в разводе</td>\n",
       "      <td>3</td>\n",
       "      <td>F</td>\n",
       "      <td>сотрудник</td>\n",
       "      <td>0</td>\n",
       "      <td>242831.107982</td>\n",
       "      <td>на покупку своего автомобиля</td>\n",
       "    </tr>\n",
       "  </tbody>\n",
       "</table>\n",
       "</div>"
      ],
      "text/plain": [
       "    children  days_employed  dob_years            education  education_id  \\\n",
       "0          1   -8437.673028         42               высшее             0   \n",
       "1          1   -4024.803754         36              среднее             1   \n",
       "2          0   -5623.422610         33              Среднее             1   \n",
       "3          3   -4124.747207         32              среднее             1   \n",
       "4          0  340266.072047         53              среднее             1   \n",
       "5          0    -926.185831         27               высшее             0   \n",
       "6          0   -2879.202052         43               высшее             0   \n",
       "7          0    -152.779569         50              СРЕДНЕЕ             1   \n",
       "8          2   -6929.865299         35               ВЫСШЕЕ             0   \n",
       "9          0   -2188.756445         41              среднее             1   \n",
       "10         2   -4171.483647         36               высшее             0   \n",
       "11         0    -792.701887         40              среднее             1   \n",
       "12         0            NaN         65              среднее             1   \n",
       "13         0   -1846.641941         54  неоконченное высшее             2   \n",
       "14         0   -1844.956182         56               высшее             0   \n",
       "15         1    -972.364419         26              среднее             1   \n",
       "16         0   -1719.934226         35              среднее             1   \n",
       "17         0   -2369.999720         33               высшее             0   \n",
       "18         0  400281.136913         53              среднее             1   \n",
       "19         0  -10038.818549         48              СРЕДНЕЕ             1   \n",
       "\n",
       "       family_status  family_status_id gender income_type  debt  \\\n",
       "0    женат / замужем                 0      F   сотрудник     0   \n",
       "1    женат / замужем                 0      F   сотрудник     0   \n",
       "2    женат / замужем                 0      M   сотрудник     0   \n",
       "3    женат / замужем                 0      M   сотрудник     0   \n",
       "4   гражданский брак                 1      F   пенсионер     0   \n",
       "5   гражданский брак                 1      M   компаньон     0   \n",
       "6    женат / замужем                 0      F   компаньон     0   \n",
       "7    женат / замужем                 0      M   сотрудник     0   \n",
       "8   гражданский брак                 1      F   сотрудник     0   \n",
       "9    женат / замужем                 0      M   сотрудник     0   \n",
       "10   женат / замужем                 0      M   компаньон     0   \n",
       "11   женат / замужем                 0      F   сотрудник     0   \n",
       "12  гражданский брак                 1      M   пенсионер     0   \n",
       "13   женат / замужем                 0      F   сотрудник     0   \n",
       "14  гражданский брак                 1      F   компаньон     1   \n",
       "15   женат / замужем                 0      F   сотрудник     0   \n",
       "16   женат / замужем                 0      F   сотрудник     0   \n",
       "17  гражданский брак                 1      M   сотрудник     0   \n",
       "18    вдовец / вдова                 2      F   пенсионер     0   \n",
       "19         в разводе                 3      F   сотрудник     0   \n",
       "\n",
       "     total_income                                 purpose  \n",
       "0   253875.639453                           покупка жилья  \n",
       "1   112080.014102                 приобретение автомобиля  \n",
       "2   145885.952297                           покупка жилья  \n",
       "3   267628.550329              дополнительное образование  \n",
       "4   158616.077870                         сыграть свадьбу  \n",
       "5   255763.565419                           покупка жилья  \n",
       "6   240525.971920                       операции с жильем  \n",
       "7   135823.934197                             образование  \n",
       "8    95856.832424                   на проведение свадьбы  \n",
       "9   144425.938277                 покупка жилья для семьи  \n",
       "10  113943.491460                    покупка недвижимости  \n",
       "11   77069.234271       покупка коммерческой недвижимости  \n",
       "12            NaN                         сыграть свадьбу  \n",
       "13  130458.228857                 приобретение автомобиля  \n",
       "14  165127.911772              покупка жилой недвижимости  \n",
       "15  116820.904450  строительство собственной недвижимости  \n",
       "16  289202.704229                            недвижимость  \n",
       "17   90410.586745              строительство недвижимости  \n",
       "18   56823.777243      на покупку подержанного автомобиля  \n",
       "19  242831.107982            на покупку своего автомобиля  "
      ]
     },
     "execution_count": 2,
     "metadata": {},
     "output_type": "execute_result"
    }
   ],
   "source": [
    "data.head(20)"
   ]
  },
  {
   "cell_type": "markdown",
   "id": "12c819f5",
   "metadata": {
    "deletable": false,
    "editable": false,
    "id": "1c12e233"
   },
   "source": [
    "**Задание 3. Выведите основную информацию о датафрейме с помощью метода `info()`.**"
   ]
  },
  {
   "cell_type": "code",
   "execution_count": 3,
   "id": "810d31b6",
   "metadata": {
    "deletable": false,
    "id": "2b757bca",
    "outputId": "15376089-8dad-46c9-b520-c05248d43158"
   },
   "outputs": [
    {
     "name": "stdout",
     "output_type": "stream",
     "text": [
      "<class 'pandas.core.frame.DataFrame'>\n",
      "RangeIndex: 21525 entries, 0 to 21524\n",
      "Data columns (total 12 columns):\n",
      " #   Column            Non-Null Count  Dtype  \n",
      "---  ------            --------------  -----  \n",
      " 0   children          21525 non-null  int64  \n",
      " 1   days_employed     19351 non-null  float64\n",
      " 2   dob_years         21525 non-null  int64  \n",
      " 3   education         21525 non-null  object \n",
      " 4   education_id      21525 non-null  int64  \n",
      " 5   family_status     21525 non-null  object \n",
      " 6   family_status_id  21525 non-null  int64  \n",
      " 7   gender            21525 non-null  object \n",
      " 8   income_type       21525 non-null  object \n",
      " 9   debt              21525 non-null  int64  \n",
      " 10  total_income      19351 non-null  float64\n",
      " 11  purpose           21525 non-null  object \n",
      "dtypes: float64(2), int64(5), object(5)\n",
      "memory usage: 2.0+ MB\n"
     ]
    }
   ],
   "source": [
    "data.info()"
   ]
  },
  {
   "cell_type": "markdown",
   "id": "5b920e9e",
   "metadata": {
    "deletable": false,
    "editable": false,
    "id": "333ec665"
   },
   "source": [
    "## Предобработка данных"
   ]
  },
  {
   "cell_type": "markdown",
   "id": "b58ff78d",
   "metadata": {
    "deletable": false,
    "editable": false,
    "id": "02d92d53"
   },
   "source": [
    "### Удаление пропусков"
   ]
  },
  {
   "cell_type": "markdown",
   "id": "034ac7e3",
   "metadata": {
    "deletable": false,
    "editable": false,
    "id": "cd84967c"
   },
   "source": [
    "**Задание 4. Выведите количество пропущенных значений для каждого столбца. Используйте комбинацию двух методов.**"
   ]
  },
  {
   "cell_type": "code",
   "execution_count": 4,
   "id": "698baeeb",
   "metadata": {
    "deletable": false,
    "id": "7f9b2309",
    "outputId": "81f4d817-781c-465c-ed15-91ce4446810d"
   },
   "outputs": [
    {
     "data": {
      "text/plain": [
       "children               0\n",
       "days_employed       2174\n",
       "dob_years              0\n",
       "education              0\n",
       "education_id           0\n",
       "family_status          0\n",
       "family_status_id       0\n",
       "gender                 0\n",
       "income_type            0\n",
       "debt                   0\n",
       "total_income        2174\n",
       "purpose                0\n",
       "dtype: int64"
      ]
     },
     "execution_count": 4,
     "metadata": {},
     "output_type": "execute_result"
    }
   ],
   "source": [
    "data.isna().sum()"
   ]
  },
  {
   "cell_type": "markdown",
   "id": "0bb3ed3e",
   "metadata": {
    "deletable": false,
    "editable": false,
    "id": "db86e27b"
   },
   "source": [
    "**Задание 5. В двух столбцах есть пропущенные значения. Один из них — `days_employed`. Пропуски в этом столбце вы обработаете на следующем этапе. Другой столбец с пропущенными значениями — `total_income` — хранит данные о доходах. На сумму дохода сильнее всего влияет тип занятости, поэтому заполнить пропуски в этом столбце нужно медианным значением по каждому типу из столбца `income_type`. Например, у человека с типом занятости `сотрудник` пропуск в столбце `total_income` должен быть заполнен медианным доходом среди всех записей с тем же типом.**"
   ]
  },
  {
   "cell_type": "code",
   "execution_count": 5,
   "id": "657889f1",
   "metadata": {
    "deletable": false,
    "id": "42006a93"
   },
   "outputs": [],
   "source": [
    "for t in data['income_type'].unique():\n",
    "    data.loc[(data['income_type'] == t) & (data['total_income'].isna()), 'total_income'] = \\\n",
    "    data.loc[(data['income_type'] == t), 'total_income'].median()"
   ]
  },
  {
   "cell_type": "markdown",
   "id": "9d80d94a",
   "metadata": {
    "deletable": false,
    "editable": false,
    "id": "89da5ece"
   },
   "source": [
    "### Обработка аномальных значений"
   ]
  },
  {
   "cell_type": "markdown",
   "id": "b71797b9",
   "metadata": {
    "deletable": false,
    "editable": false,
    "id": "57964554"
   },
   "source": [
    "**Задание 6. В данных могут встречаться артефакты (аномалии) — значения, которые не отражают действительность и появились по какой-то ошибке. таким артефактом будет отрицательное количество дней трудового стажа в столбце `days_employed`. Для реальных данных это нормально. Обработайте значения в этом столбце: замените все отрицательные значения положительными с помощью метода `abs()`.**"
   ]
  },
  {
   "cell_type": "code",
   "execution_count": 6,
   "id": "b6143d05",
   "metadata": {
    "deletable": false,
    "id": "f6f055bf"
   },
   "outputs": [],
   "source": [
    "data['days_employed'] = data['days_employed'].abs()"
   ]
  },
  {
   "cell_type": "markdown",
   "id": "c03f16a2",
   "metadata": {
    "deletable": false,
    "editable": false,
    "id": "6107dd2f"
   },
   "source": [
    "**Задание 7. Для каждого типа занятости выведите медианное значение трудового стажа `days_employed` в днях.**"
   ]
  },
  {
   "cell_type": "code",
   "execution_count": 7,
   "id": "d2cbaa73",
   "metadata": {
    "deletable": false,
    "id": "85a5faf6",
    "outputId": "801ef80e-522b-4668-f34e-565af7432bcf"
   },
   "outputs": [
    {
     "data": {
      "text/plain": [
       "income_type\n",
       "безработный        366413.652744\n",
       "в декрете            3296.759962\n",
       "госслужащий          2689.368353\n",
       "компаньон            1547.382223\n",
       "пенсионер          365213.306266\n",
       "предприниматель       520.848083\n",
       "сотрудник            1574.202821\n",
       "студент               578.751554\n",
       "Name: days_employed, dtype: float64"
      ]
     },
     "execution_count": 7,
     "metadata": {},
     "output_type": "execute_result"
    }
   ],
   "source": [
    "data.groupby('income_type')['days_employed'].agg('median')"
   ]
  },
  {
   "cell_type": "markdown",
   "id": "e5a05d6a",
   "metadata": {
    "deletable": false,
    "editable": false,
    "id": "38d1a030"
   },
   "source": [
    "У двух типов (безработные и пенсионеры) получатся аномально большие значения. Исправить такие значения сложно, поэтому оставьте их как есть. Тем более этот столбец не понадобится вам для исследования."
   ]
  },
  {
   "cell_type": "markdown",
   "id": "d049255c",
   "metadata": {
    "deletable": false,
    "editable": false,
    "id": "d8a9f147"
   },
   "source": [
    "**Задание 8. Выведите перечень уникальных значений столбца `children`.**"
   ]
  },
  {
   "cell_type": "code",
   "execution_count": 8,
   "id": "8e4c014d",
   "metadata": {
    "deletable": false,
    "id": "ef5056eb",
    "outputId": "6975b15c-7f95-4697-d16d-a0c79b657b03"
   },
   "outputs": [
    {
     "data": {
      "text/plain": [
       "array([ 1,  0,  3,  2, -1,  4, 20,  5])"
      ]
     },
     "execution_count": 8,
     "metadata": {},
     "output_type": "execute_result"
    }
   ],
   "source": [
    "data['children'].unique()"
   ]
  },
  {
   "cell_type": "markdown",
   "id": "6f0bd67f",
   "metadata": {
    "deletable": false,
    "editable": false,
    "id": "40b9ebf2"
   },
   "source": [
    "**Задание 9. В столбце `children` есть два аномальных значения. Удалите строки, в которых встречаются такие аномальные значения из датафрейма `data`.**"
   ]
  },
  {
   "cell_type": "code",
   "execution_count": 9,
   "id": "8fa8a373",
   "metadata": {
    "deletable": false,
    "id": "3ff9801d"
   },
   "outputs": [],
   "source": [
    "data = data[(data['children'] != -1) & (data['children'] != 20)]"
   ]
  },
  {
   "cell_type": "markdown",
   "id": "c84235f9",
   "metadata": {
    "deletable": false,
    "editable": false,
    "id": "bbc4d0ce"
   },
   "source": [
    "**Задание 10. Ещё раз выведите перечень уникальных значений столбца `children`, чтобы убедиться, что артефакты удалены.**"
   ]
  },
  {
   "cell_type": "code",
   "execution_count": 10,
   "id": "1b4ea813",
   "metadata": {
    "deletable": false,
    "id": "ad4fa8b7",
    "outputId": "b2097101-d49d-44d9-901b-32a65c9463d1"
   },
   "outputs": [
    {
     "data": {
      "text/plain": [
       "array([1, 0, 3, 2, 4, 5])"
      ]
     },
     "execution_count": 10,
     "metadata": {},
     "output_type": "execute_result"
    }
   ],
   "source": [
    "data['children'].unique()"
   ]
  },
  {
   "cell_type": "markdown",
   "id": "1e066c74",
   "metadata": {
    "deletable": false,
    "editable": false,
    "id": "75440b63"
   },
   "source": [
    "### Удаление пропусков (продолжение)"
   ]
  },
  {
   "cell_type": "markdown",
   "id": "6c5b3bbd",
   "metadata": {
    "deletable": false,
    "editable": false,
    "id": "f4ea573f"
   },
   "source": [
    "**Задание 11. Заполните пропуски в столбце `days_employed` медианными значениями по каждого типа занятости `income_type`.**"
   ]
  },
  {
   "cell_type": "code",
   "execution_count": 11,
   "id": "a3bced65",
   "metadata": {
    "deletable": false,
    "id": "af6b1a7e"
   },
   "outputs": [],
   "source": [
    "for t in data['income_type'].unique():\n",
    "    data.loc[(data['income_type'] == t) & (data['days_employed'].isna()), 'days_employed'] = \\\n",
    "    data.loc[(data['income_type'] == t), 'days_employed'].median()"
   ]
  },
  {
   "cell_type": "markdown",
   "id": "3651189b",
   "metadata": {
    "deletable": false,
    "editable": false,
    "id": "2753f40d"
   },
   "source": [
    "**Задание 12. Убедитесь, что все пропуски заполнены. Проверьте себя и ещё раз выведите количество пропущенных значений для каждого столбца с помощью двух методов.**"
   ]
  },
  {
   "cell_type": "code",
   "execution_count": 12,
   "id": "e7e90b63",
   "metadata": {
    "deletable": false,
    "id": "55f78bc2",
    "outputId": "8da1e4e1-358e-4e87-98c9-f261bce0a7b2"
   },
   "outputs": [
    {
     "data": {
      "text/plain": [
       "children            0\n",
       "days_employed       0\n",
       "dob_years           0\n",
       "education           0\n",
       "education_id        0\n",
       "family_status       0\n",
       "family_status_id    0\n",
       "gender              0\n",
       "income_type         0\n",
       "debt                0\n",
       "total_income        0\n",
       "purpose             0\n",
       "dtype: int64"
      ]
     },
     "execution_count": 12,
     "metadata": {},
     "output_type": "execute_result"
    }
   ],
   "source": [
    "data.isna().sum()"
   ]
  },
  {
   "cell_type": "markdown",
   "id": "f45058d3",
   "metadata": {
    "deletable": false,
    "editable": false,
    "id": "ddc81e43"
   },
   "source": [
    "### Изменение типов данных"
   ]
  },
  {
   "cell_type": "markdown",
   "id": "cc06ae94",
   "metadata": {
    "deletable": false,
    "editable": false,
    "id": "42d19d24"
   },
   "source": [
    "**Задание 13. Замените вещественный тип данных в столбце `total_income` на целочисленный с помощью метода `astype()`.**"
   ]
  },
  {
   "cell_type": "code",
   "execution_count": 13,
   "id": "9afcc143",
   "metadata": {
    "deletable": false,
    "id": "920b65ad"
   },
   "outputs": [],
   "source": [
    "data['total_income'] = data['total_income'].astype(int)"
   ]
  },
  {
   "cell_type": "markdown",
   "id": "77f0357b",
   "metadata": {
    "deletable": false,
    "editable": false,
    "id": "80c420ba"
   },
   "source": [
    "### Обработка дубликатов"
   ]
  },
  {
   "cell_type": "markdown",
   "id": "91849c4b",
   "metadata": {
    "deletable": false,
    "editable": false
   },
   "source": [
    "**Задание 14. Обработайте неявные дубликаты в столбце `education`. В этом столбце есть одни и те же значения, но записанные по-разному: с использованием заглавных и строчных букв. Приведите их к нижнему регистру. Проверьте остальные столбцы.**"
   ]
  },
  {
   "cell_type": "code",
   "execution_count": 14,
   "id": "d4fd23e0",
   "metadata": {
    "deletable": false
   },
   "outputs": [],
   "source": [
    "data['education'] = data['education'].str.lower()"
   ]
  },
  {
   "cell_type": "markdown",
   "id": "e7327cdd",
   "metadata": {
    "deletable": false,
    "editable": false,
    "id": "dc587695"
   },
   "source": [
    "**Задание 15. Выведите на экран количество строк-дубликатов в данных. Если такие строки присутствуют, удалите их.**"
   ]
  },
  {
   "cell_type": "code",
   "execution_count": 15,
   "id": "bea9fdf5",
   "metadata": {
    "deletable": false,
    "id": "3ee445e4",
    "outputId": "9684deba-1934-42d1-99e1-cda61740f822"
   },
   "outputs": [
    {
     "data": {
      "text/plain": [
       "71"
      ]
     },
     "execution_count": 15,
     "metadata": {},
     "output_type": "execute_result"
    }
   ],
   "source": [
    "data.duplicated().sum()"
   ]
  },
  {
   "cell_type": "code",
   "execution_count": 16,
   "id": "be1f0d91",
   "metadata": {
    "deletable": false,
    "id": "8575fe05"
   },
   "outputs": [],
   "source": [
    "data = data.drop_duplicates()"
   ]
  },
  {
   "cell_type": "markdown",
   "id": "3cba2320",
   "metadata": {
    "deletable": false,
    "editable": false,
    "id": "9904cf55"
   },
   "source": [
    "### Категоризация данных"
   ]
  },
  {
   "cell_type": "markdown",
   "id": "3b0775fb",
   "metadata": {
    "deletable": false,
    "editable": false,
    "id": "72fcc8a2"
   },
   "source": [
    "**Задание 16. На основании диапазонов, указанных ниже, создайте в датафрейме `data` столбец `total_income_category` с категориями:**\n",
    "\n",
    "- 0–30000 — `'E'`;\n",
    "- 30001–50000 — `'D'`;\n",
    "- 50001–200000 — `'C'`;\n",
    "- 200001–1000000 — `'B'`;\n",
    "- 1000001 и выше — `'A'`.\n",
    "\n",
    "\n",
    "**Например, кредитополучателю с доходом 25000 нужно назначить категорию `'E'`, а клиенту, получающему 235000, — `'B'`. Используйте собственную функцию с именем `categorize_income()` и метод `apply()`.**"
   ]
  },
  {
   "cell_type": "code",
   "execution_count": 17,
   "id": "10089ddf",
   "metadata": {
    "deletable": false,
    "id": "e1771346"
   },
   "outputs": [],
   "source": [
    "def categorize_income(income):\n",
    "    try:\n",
    "        if 0 <= income <= 30000:\n",
    "            return 'E'\n",
    "        elif 30001 <= income <= 50000:\n",
    "            return 'D'\n",
    "        elif 50001 <= income <= 200000:\n",
    "            return 'C'\n",
    "        elif 200001 <= income <= 1000000:\n",
    "            return 'B'\n",
    "        elif income >= 1000001:\n",
    "            return 'A'\n",
    "    except:\n",
    "        pass"
   ]
  },
  {
   "cell_type": "code",
   "execution_count": 18,
   "id": "39b3cfc9",
   "metadata": {
    "deletable": false,
    "id": "d5f3586d"
   },
   "outputs": [],
   "source": [
    "data['total_income_category'] = data['total_income'].apply(categorize_income)"
   ]
  },
  {
   "cell_type": "markdown",
   "id": "c59f3b6f",
   "metadata": {
    "deletable": false,
    "editable": false,
    "id": "dde49b5c"
   },
   "source": [
    "**Задание 17. Выведите на экран перечень уникальных целей взятия кредита из столбца `purpose`.**"
   ]
  },
  {
   "cell_type": "code",
   "execution_count": 19,
   "id": "65569f25",
   "metadata": {
    "deletable": false,
    "id": "f67ce9b3",
    "outputId": "673c12d9-7d7e-4ae0-9812-c622c89dd244"
   },
   "outputs": [
    {
     "data": {
      "text/plain": [
       "array(['покупка жилья', 'приобретение автомобиля',\n",
       "       'дополнительное образование', 'сыграть свадьбу',\n",
       "       'операции с жильем', 'образование', 'на проведение свадьбы',\n",
       "       'покупка жилья для семьи', 'покупка недвижимости',\n",
       "       'покупка коммерческой недвижимости', 'покупка жилой недвижимости',\n",
       "       'строительство собственной недвижимости', 'недвижимость',\n",
       "       'строительство недвижимости', 'на покупку подержанного автомобиля',\n",
       "       'на покупку своего автомобиля',\n",
       "       'операции с коммерческой недвижимостью',\n",
       "       'строительство жилой недвижимости', 'жилье',\n",
       "       'операции со своей недвижимостью', 'автомобили',\n",
       "       'заняться образованием', 'сделка с подержанным автомобилем',\n",
       "       'получение образования', 'автомобиль', 'свадьба',\n",
       "       'получение дополнительного образования', 'покупка своего жилья',\n",
       "       'операции с недвижимостью', 'получение высшего образования',\n",
       "       'свой автомобиль', 'сделка с автомобилем',\n",
       "       'профильное образование', 'высшее образование',\n",
       "       'покупка жилья для сдачи', 'на покупку автомобиля', 'ремонт жилью',\n",
       "       'заняться высшим образованием'], dtype=object)"
      ]
     },
     "execution_count": 19,
     "metadata": {},
     "output_type": "execute_result"
    }
   ],
   "source": [
    "data['purpose'].unique()"
   ]
  },
  {
   "cell_type": "markdown",
   "id": "8662d617",
   "metadata": {
    "deletable": false,
    "editable": false,
    "id": "85d0aef0"
   },
   "source": [
    "**Задание 18. Создайте функцию, которая на основании данных из столбца `purpose` сформирует новый столбец `purpose_category`, в который войдут следующие категории:**\n",
    "\n",
    "- `'операции с автомобилем'`,\n",
    "- `'операции с недвижимостью'`,\n",
    "- `'проведение свадьбы'`,\n",
    "- `'получение образования'`.\n",
    "\n",
    "**Например, если в столбце `purpose` находится подстрока `'на покупку автомобиля'`, то в столбце `purpose_category` должна появиться строка `'операции с автомобилем'`.**\n",
    "\n",
    "**Используйте собственную функцию с именем `categorize_purpose()` и метод `apply()`. Изучите данные в столбце `purpose` и определите, какие подстроки помогут вам правильно определить категорию.**"
   ]
  },
  {
   "cell_type": "code",
   "execution_count": 20,
   "id": "d592659a",
   "metadata": {
    "deletable": false,
    "id": "e149fab4"
   },
   "outputs": [],
   "source": [
    "def categorize_purpose(row):\n",
    "    try:\n",
    "        if 'автом' in row:\n",
    "            return 'операции с автомобилем'\n",
    "        elif 'жил' in row or 'недвиж' in row:\n",
    "            return 'операции с недвижимостью'\n",
    "        elif 'свад' in row:\n",
    "            return 'проведение свадьбы'\n",
    "        elif 'образов' in row:\n",
    "            return 'получение образования'\n",
    "    except:\n",
    "        return 'нет категории'"
   ]
  },
  {
   "cell_type": "code",
   "execution_count": 21,
   "id": "3d626d4b",
   "metadata": {
    "deletable": false,
    "id": "bf36e69b"
   },
   "outputs": [],
   "source": [
    "data['purpose_category'] = data['purpose'].apply(categorize_purpose)"
   ]
  },
  {
   "cell_type": "markdown",
   "id": "23d43d58",
   "metadata": {
    "deletable": false,
    "editable": false,
    "id": "09b242bf"
   },
   "source": [
    "### Шаг 3. Исследуйте данные и ответьте на вопросы"
   ]
  },
  {
   "cell_type": "markdown",
   "id": "0a5e1d5c",
   "metadata": {
    "deletable": false,
    "editable": false,
    "id": "c5d66278"
   },
   "source": [
    "#### 3.1 Есть ли зависимость между количеством детей и возвратом кредита в срок?"
   ]
  },
  {
   "cell_type": "markdown",
   "id": "687395cc",
   "metadata": {},
   "source": [
    "Для определения зависимости между категориальными переменными будем смотреть на долю невернувших кредит в срок по каждой из групп. Также, для адекватной оценки доли в каждой группе стоит видеть информацию о количестве людей в каждой группе и количестве \"должников\" по каждой группе.\n",
    "\n",
    "Для расчета доли по разным видам категорий будет удобно использовать функцию, которая получает на вход исходный ДатаФрейм data, название столбца, по которому будет производиться группировка, и название столбца, по которому будет расчитываться доля должников. Функция будет возвращать таблицу с расчетными значениями по каждой категории."
   ]
  },
  {
   "cell_type": "code",
   "execution_count": 22,
   "id": "9802d652",
   "metadata": {
    "deletable": false,
    "id": "2cacfc4a"
   },
   "outputs": [],
   "source": [
    "def depend_function(df, group_col, value_col):   # объявляем функцию \n",
    "    try:\n",
    "        group_by_col = df.groupby(group_col)[value_col]    # группируем по категориальной переменной расчетную переменную\n",
    "    \n",
    "        count_value = group_by_col.apply(lambda x: x.count())   # считаем общее количество людей в каждой группе\n",
    "    \n",
    "        sum_value = group_by_col.apply(lambda x: x.sum())   # считаем количество должников\n",
    "    \n",
    "        proportion_value = sum_value / count_value   # находим долю должников в каждой группе\n",
    "    \n",
    "    \n",
    "        result_data = pd.concat([proportion_value, count_value, sum_value], axis=1)   # объеденим в один датафрейм расчетные объекты\n",
    "        result_data.columns = ['proportion_value', 'count_value', 'sum_value']   # укажем названия столбцов\n",
    "    \n",
    "        return result_data                                                       # возвращаем полученную таблицу\n",
    "    \n",
    "    except:\n",
    "        return 'Что-то пошло не так! Проверь функцию!'"
   ]
  },
  {
   "cell_type": "code",
   "execution_count": 23,
   "id": "e6853b89",
   "metadata": {},
   "outputs": [
    {
     "name": "stdout",
     "output_type": "stream",
     "text": [
      "          proportion_value  count_value  sum_value\n",
      "children                                          \n",
      "0                 0.075438        14091       1063\n",
      "1                 0.092346         4808        444\n",
      "2                 0.094542         2052        194\n",
      "3                 0.081818          330         27\n",
      "4                 0.097561           41          4\n",
      "5                 0.000000            9          0\n"
     ]
    },
    {
     "data": {
      "text/plain": [
       "<AxesSubplot:ylabel='proportion_value'>"
      ]
     },
     "execution_count": 23,
     "metadata": {},
     "output_type": "execute_result"
    },
    {
     "data": {
      "image/png": "[encoded data removed]",
      "text/plain": [
       "<Figure size 432x288 with 1 Axes>"
      ]
     },
     "metadata": {
      "needs_background": "light"
     },
     "output_type": "display_data"
    }
   ],
   "source": [
    "result_children = depend_function(data, 'children', 'debt')   # вызываем функцию для расчета\n",
    "\n",
    "print(result_children)                                        # выводем полученную таблицу\n",
    "\n",
    "sns.barplot(x=sorted(data['children'].unique()) , y='proportion_value', data=result_children)    # посторим график доли \"должников\" для наглядности"
   ]
  },
  {
   "cell_type": "markdown",
   "id": "d3d45139",
   "metadata": {},
   "source": [
    "Наблюдается общий тренд на увеличение процента \"должников\", в зависимости от увеличения количества детей. Если в случае когорты с пятью детьми очевидно, что данных о таких клиентах мало, то группу с тремя детьми можно рассмотреть несколько подробнее.\n",
    "\n",
    "Выделим группу людей с тремя детьми и посмотрим на процент \"должников\" в зависимости от цели кредита."
   ]
  },
  {
   "cell_type": "code",
   "execution_count": 24,
   "id": "19baebcc",
   "metadata": {
    "deletable": false,
    "id": "3a6b99ec"
   },
   "outputs": [
    {
     "data": {
      "text/html": [
       "<div>\n",
       "<style scoped>\n",
       "    .dataframe tbody tr th:only-of-type {\n",
       "        vertical-align: middle;\n",
       "    }\n",
       "\n",
       "    .dataframe tbody tr th {\n",
       "        vertical-align: top;\n",
       "    }\n",
       "\n",
       "    .dataframe thead th {\n",
       "        text-align: right;\n",
       "    }\n",
       "</style>\n",
       "<table border=\"1\" class=\"dataframe\">\n",
       "  <thead>\n",
       "    <tr style=\"text-align: right;\">\n",
       "      <th></th>\n",
       "      <th>debt</th>\n",
       "      <th>0</th>\n",
       "      <th>1</th>\n",
       "      <th>proportion</th>\n",
       "    </tr>\n",
       "    <tr>\n",
       "      <th>children</th>\n",
       "      <th>purpose_category</th>\n",
       "      <th></th>\n",
       "      <th></th>\n",
       "      <th></th>\n",
       "    </tr>\n",
       "  </thead>\n",
       "  <tbody>\n",
       "    <tr>\n",
       "      <th rowspan=\"4\" valign=\"top\">3</th>\n",
       "      <th>получение образования</th>\n",
       "      <td>65.0</td>\n",
       "      <td>4.0</td>\n",
       "      <td>0.057971</td>\n",
       "    </tr>\n",
       "    <tr>\n",
       "      <th>операции с недвижимостью</th>\n",
       "      <td>156.0</td>\n",
       "      <td>13.0</td>\n",
       "      <td>0.076923</td>\n",
       "    </tr>\n",
       "    <tr>\n",
       "      <th>операции с автомобилем</th>\n",
       "      <td>55.0</td>\n",
       "      <td>5.0</td>\n",
       "      <td>0.083333</td>\n",
       "    </tr>\n",
       "    <tr>\n",
       "      <th>проведение свадьбы</th>\n",
       "      <td>27.0</td>\n",
       "      <td>5.0</td>\n",
       "      <td>0.156250</td>\n",
       "    </tr>\n",
       "  </tbody>\n",
       "</table>\n",
       "</div>"
      ],
      "text/plain": [
       "debt                                   0     1  proportion\n",
       "children purpose_category                                 \n",
       "3        получение образования      65.0   4.0    0.057971\n",
       "         операции с недвижимостью  156.0  13.0    0.076923\n",
       "         операции с автомобилем     55.0   5.0    0.083333\n",
       "         проведение свадьбы         27.0   5.0    0.156250"
      ]
     },
     "execution_count": 24,
     "metadata": {},
     "output_type": "execute_result"
    }
   ],
   "source": [
    "three_children = data.pivot_table(index=['children','purpose_category'], \\\n",
    "                                  columns='debt',  values='total_income', aggfunc='count')  # создаем сводную таблицу\n",
    "three_children['proportion'] = three_children[1] / (three_children[1] + three_children[0])  # считаем долю должников\n",
    "\n",
    "filtered = three_children.loc[[3]].sort_values('proportion')    # оставляем только группу с тремя детьми\n",
    "                                                                # и сортируем по доле должников\n",
    "filtered\n"
   ]
  },
  {
   "cell_type": "markdown",
   "id": "50970c21",
   "metadata": {},
   "source": [
    "**Вывод:** определенно существует зависимость между количеством детей и возвратом кредита в срок. Общая тенденция показывает, что, чем больше детей, тем меньше вероятность возврата кредита в срок. Это можно объяснить высокой финансовой нагрузкой на клиента. \n",
    "\n",
    "Группа людей с пятью детьми слишком мала в данной выборке, чтобы можно было сделать о ней какие-либо выводы.\n",
    "\n",
    "В свою очередь когорта людей с тремя детьми несколько нарушает общий тренд. Возможно это связано с большим материнским капиталом, который выплачивают за третьего ребенка, причем, как известно, тратить его можно на улучшение условий жилья или, например образование. \n",
    "Для заемщиков с тремя детьми процент \"должников\" самый низкий именно в этих целях кредитования. Однако, на данном этапе это предположение. Для его подтверждения или опровержения необходимо больше данных о выплатах материнского капитала и его использования."
   ]
  },
  {
   "cell_type": "markdown",
   "id": "b42426f2",
   "metadata": {
    "deletable": false,
    "editable": false,
    "id": "97be82ca"
   },
   "source": [
    "#### 3.2 Есть ли зависимость между семейным положением и возвратом кредита в срок?"
   ]
  },
  {
   "cell_type": "code",
   "execution_count": 25,
   "id": "ada65fd6",
   "metadata": {
    "deletable": false,
    "id": "dc3f7ee8"
   },
   "outputs": [
    {
     "name": "stdout",
     "output_type": "stream",
     "text": [
      "                       proportion_value  count_value  sum_value\n",
      "family_status                                                  \n",
      "Не женат / не замужем          0.097639         2796        273\n",
      "в разводе                      0.070648         1189         84\n",
      "вдовец / вдова                 0.066246          951         63\n",
      "гражданский брак               0.093130         4134        385\n",
      "женат / замужем                0.075606        12261        927\n"
     ]
    },
    {
     "data": {
      "text/plain": [
       "<AxesSubplot:xlabel='proportion_value'>"
      ]
     },
     "execution_count": 25,
     "metadata": {},
     "output_type": "execute_result"
    },
    {
     "data": {
      "image/png": "[encoded data removed]",
      "text/plain": [
       "<Figure size 432x288 with 1 Axes>"
      ]
     },
     "metadata": {
      "needs_background": "light"
     },
     "output_type": "display_data"
    }
   ],
   "source": [
    "result_family_status = depend_function(data, 'family_status', 'debt')\n",
    "\n",
    "print(result_family_status)\n",
    "\n",
    "sns.barplot(x='proportion_value', y=sorted(data['family_status'].unique()), data=result_family_status)"
   ]
  },
  {
   "cell_type": "markdown",
   "id": "08cc1544",
   "metadata": {
    "deletable": false,
    "id": "1cef7837"
   },
   "source": [
    "Самый высокий процент \"должников\" наблюдается в когорте \"не женат / не замужем\", также высокий процент у группы \"гражданский брак\". Посчитаем медианное значение возраста для каждой группы"
   ]
  },
  {
   "cell_type": "code",
   "execution_count": 26,
   "id": "2edcea94",
   "metadata": {},
   "outputs": [
    {
     "name": "stdout",
     "output_type": "stream",
     "text": [
      "family_status\n",
      "Не женат / не замужем    36\n",
      "гражданский брак         41\n",
      "женат / замужем          43\n",
      "в разводе                46\n",
      "вдовец / вдова           58\n",
      "Name: dob_years, dtype: int64\n"
     ]
    }
   ],
   "source": [
    "print(data.groupby('family_status')['dob_years'].median().sort_values())"
   ]
  },
  {
   "cell_type": "markdown",
   "id": "573c5a58",
   "metadata": {},
   "source": [
    "**Вывод:** зависимость между семейным положением и возвратом кредита в срок есть. Когорты \"не женат / не замужем\" и \"гражданский брак\" имеют самый высокий процент должников. В то же время эти группы имеют \"самую молодую\" медиану возраста. Семейные пары и люди более взрослые могут иметь более высокую финансовую стабильность."
   ]
  },
  {
   "cell_type": "markdown",
   "id": "2796b8cf",
   "metadata": {
    "deletable": false,
    "editable": false,
    "id": "1e8b2fca"
   },
   "source": [
    "#### 3.3 Есть ли зависимость между уровнем дохода и возвратом кредита в срок?"
   ]
  },
  {
   "cell_type": "code",
   "execution_count": 27,
   "id": "3262be92",
   "metadata": {
    "deletable": false,
    "id": "cd7e3720"
   },
   "outputs": [
    {
     "name": "stdout",
     "output_type": "stream",
     "text": [
      "                       proportion_value  count_value  sum_value\n",
      "total_income_category                                          \n",
      "A                              0.080000           25          2\n",
      "B                              0.070602         5014        354\n",
      "C                              0.084982        15921       1353\n",
      "D                              0.060172          349         21\n",
      "E                              0.090909           22          2\n"
     ]
    },
    {
     "data": {
      "text/plain": [
       "<AxesSubplot:xlabel='proportion_value'>"
      ]
     },
     "execution_count": 27,
     "metadata": {},
     "output_type": "execute_result"
    },
    {
     "data": {
      "image/png": "[encoded data removed]",
      "text/plain": [
       "<Figure size 432x288 with 1 Axes>"
      ]
     },
     "metadata": {
      "needs_background": "light"
     },
     "output_type": "display_data"
    }
   ],
   "source": [
    "result_total_income = depend_function(data, 'total_income_category', 'debt')\n",
    "\n",
    "print(result_total_income)\n",
    "\n",
    "sns.barplot(x='proportion_value', y=sorted(data['total_income_category'].unique()), data=result_total_income)"
   ]
  },
  {
   "cell_type": "markdown",
   "id": "3e4ce121",
   "metadata": {
    "deletable": false,
    "id": "e8593def"
   },
   "source": [
    "**Вывод:** клиенты с уровнем дохода D имеют наименьший процент \"должников\" (6%). Клиенты с уровнем дохода Е имеют наибольший процент \"должников\" (8%), однако они представленны всего 22 клиентами, что слишком мало, чтобы сделать значимые выводы. \n",
    "То же самое касается и группы людей с уровнем дохода А, которые представлены 25 клиентами.\n",
    "\n",
    "Клиенты с более высоким уровнем дохода имеют тенденцию иметь более низкий процент \"должников\", в то время как клиенты с более низким уровнем дохода имеют более высокий процент \"должников\".\n",
    "\n",
    "Однако стоит отметить, что это не является абсолютной закономерностью и что существуют исключения из этого правила.\n"
   ]
  },
  {
   "cell_type": "markdown",
   "id": "825a2abd",
   "metadata": {
    "deletable": false,
    "editable": false,
    "id": "99ecbd1f"
   },
   "source": [
    "#### 3.4 Как разные цели кредита влияют на его возврат в срок?"
   ]
  },
  {
   "cell_type": "code",
   "execution_count": 28,
   "id": "191a77e8",
   "metadata": {
    "deletable": false,
    "id": "2b687290"
   },
   "outputs": [
    {
     "name": "stdout",
     "output_type": "stream",
     "text": [
      "                          proportion_value  count_value  sum_value\n",
      "purpose_category                                                  \n",
      "операции с автомобилем            0.093480         4279        400\n",
      "операции с недвижимостью          0.072551        10751        780\n",
      "получение образования             0.092528         3988        369\n",
      "проведение свадьбы                0.079118         2313        183\n"
     ]
    },
    {
     "data": {
      "text/plain": [
       "<AxesSubplot:xlabel='proportion_value'>"
      ]
     },
     "execution_count": 28,
     "metadata": {},
     "output_type": "execute_result"
    },
    {
     "data": {
      "image/png": "[encoded data removed]",
      "text/plain": [
       "<Figure size 432x288 with 1 Axes>"
      ]
     },
     "metadata": {
      "needs_background": "light"
     },
     "output_type": "display_data"
    }
   ],
   "source": [
    "result_purpose = depend_function(data, 'purpose_category', 'debt')\n",
    "\n",
    "print(result_purpose)\n",
    "\n",
    "sns.barplot(x='proportion_value', y=sorted(data['purpose_category'].unique()), data=result_purpose)"
   ]
  },
  {
   "cell_type": "markdown",
   "id": "f08f3fee",
   "metadata": {
    "deletable": false,
    "id": "b4bb2ce6"
   },
   "source": [
    "**Вывод:** Наименьший процент \"должников\" по кредитам у категории \"операции с недвижимостью\" - 7.25%, что говорит о том, что этот вид кредитования наиболее надежный.\n",
    "\n",
    "Наибольший процент должников по кредитам у категории \"операции с автомобилем\" - 9.35%, что говорит о том, что кредиты на покупку автомобиля могут быть рискованным видом финансирования.\n",
    "\n",
    "Процент должников по кредитам на образование (9.25%) и проведение свадьбы (7.91%) находятся на промежуточном уровне."
   ]
  },
  {
   "cell_type": "markdown",
   "id": "c09039bc",
   "metadata": {
    "deletable": false,
    "editable": false,
    "id": "09c3ac4c"
   },
   "source": [
    "#### 3.5 Приведите возможные причины появления пропусков в исходных данных."
   ]
  },
  {
   "cell_type": "markdown",
   "id": "4dbd953d",
   "metadata": {
    "deletable": false,
    "id": "9da2ceda"
   },
   "source": [
    "*Ответ:* \n",
    "1. Человеческий фактор - ошибка при заполнении данных.\n",
    "2. Технические проблемы сбора данных при их трансформации, выгрузке, перевода данных из одного формата в другой\n",
    "3. Системные ошибки, связанные с нарушением работы программного обеспечения или оборудования, которые могут привести к потере или искажению данных."
   ]
  },
  {
   "cell_type": "markdown",
   "id": "131072c9",
   "metadata": {
    "deletable": false,
    "editable": false,
    "id": "7b0487d6"
   },
   "source": [
    "#### 3.6 Объясните, почему заполнить пропуски медианным значением — лучшее решение для количественных переменных."
   ]
  },
  {
   "cell_type": "markdown",
   "id": "d2c832d9",
   "metadata": {
    "deletable": false,
    "id": "7ecf2b8e"
   },
   "source": [
    "*Ответ:* медианное значение позволяет сохранить среднее значение набора данных не искажая распределения данных. Также медианное значение помогает избежать влияния выбросов в данных."
   ]
  },
  {
   "cell_type": "markdown",
   "id": "1aa9562b",
   "metadata": {
    "deletable": false,
    "editable": false,
    "id": "6db5255a"
   },
   "source": [
    "### Шаг 4: общий вывод."
   ]
  },
  {
   "cell_type": "markdown",
   "id": "1aea59ae",
   "metadata": {
    "deletable": false,
    "id": "bad65432"
   },
   "source": [
    "Напишите ваш общий вывод.\n",
    "В ходе исследования надежности заемщиков были проанализированы данные о клиентах банка, которые брали кредиты. Были рассмотрены различные аспекты, такие как уровень дохода, цель кредита, наличие детей и т.д., и их влияние на возврат кредита в срок.\n",
    "\n",
    "В ходе анализа было выявлено, что наличие детей, семейное положение, уровень дохода оказывают влияние на возврат кредита в срок. Определили, что кредиты, взятые на операции с недвижимостью, чаще возвращаются в срок, в то время как кредиты, взятые на операции с автомобилем, чаще не возвращаются в срок.\n",
    "\n",
    "Кроме того, были обнаружены пропуски в данных, которые были заполнены медианными значениями, так как это лучшее решение для количественных переменных.\n",
    "\n",
    "Общий вывод исследования заключается в том, что на возврат кредита в срок оказывают влияние различные факторы, и эти факторы необходимо учитывать при выдаче кредита. Кроме того, необходимо более тщательно проверять кредитную историю заемщика, чтобы уменьшить риски невозврата кредита."
   ]
  }
 ],
 "metadata": {
  "ExecuteTimeLog": [
   {
    "duration": 533,
    "start_time": "2023-04-09T22:36:44.380Z"
   },
   {
    "duration": 23,
    "start_time": "2023-04-09T22:36:45.836Z"
   },
   {
    "duration": 16,
    "start_time": "2023-04-09T22:36:52.344Z"
   },
   {
    "duration": 10,
    "start_time": "2023-04-09T22:36:54.908Z"
   },
   {
    "duration": 34,
    "start_time": "2023-04-09T22:37:04.388Z"
   },
   {
    "duration": 3,
    "start_time": "2023-04-09T22:37:08.198Z"
   },
   {
    "duration": 8,
    "start_time": "2023-04-09T22:37:28.595Z"
   },
   {
    "duration": 5,
    "start_time": "2023-04-09T22:37:37.829Z"
   },
   {
    "duration": 7,
    "start_time": "2023-04-09T22:38:04.938Z"
   },
   {
    "duration": 5,
    "start_time": "2023-04-09T22:38:10.921Z"
   },
   {
    "duration": 35,
    "start_time": "2023-04-09T22:38:19.022Z"
   },
   {
    "duration": 11,
    "start_time": "2023-04-09T22:38:26.626Z"
   },
   {
    "duration": 4,
    "start_time": "2023-04-09T22:38:40.831Z"
   },
   {
    "duration": 12,
    "start_time": "2023-04-09T22:38:43.245Z"
   },
   {
    "duration": 21,
    "start_time": "2023-04-09T22:38:46.054Z"
   },
   {
    "duration": 18,
    "start_time": "2023-04-09T22:38:47.907Z"
   },
   {
    "duration": 4,
    "start_time": "2023-04-09T22:38:55.929Z"
   },
   {
    "duration": 10,
    "start_time": "2023-04-09T22:38:57.249Z"
   },
   {
    "duration": 7,
    "start_time": "2023-04-09T22:39:30.803Z"
   },
   {
    "duration": 4,
    "start_time": "2023-04-09T22:39:32.587Z"
   },
   {
    "duration": 9,
    "start_time": "2023-04-09T22:39:33.189Z"
   },
   {
    "duration": 553,
    "start_time": "2023-04-10T18:49:18.238Z"
   },
   {
    "duration": 28,
    "start_time": "2023-04-10T18:49:18.793Z"
   },
   {
    "duration": 14,
    "start_time": "2023-04-10T18:49:19.244Z"
   },
   {
    "duration": 9,
    "start_time": "2023-04-10T18:49:20.193Z"
   },
   {
    "duration": 30,
    "start_time": "2023-04-10T18:49:20.656Z"
   },
   {
    "duration": 3,
    "start_time": "2023-04-10T18:49:21.300Z"
   },
   {
    "duration": 8,
    "start_time": "2023-04-10T18:49:21.772Z"
   },
   {
    "duration": 4,
    "start_time": "2023-04-10T18:49:22.994Z"
   },
   {
    "duration": 6,
    "start_time": "2023-04-10T18:49:23.480Z"
   },
   {
    "duration": 4,
    "start_time": "2023-04-10T18:49:23.979Z"
   },
   {
    "duration": 30,
    "start_time": "2023-04-10T18:49:24.728Z"
   },
   {
    "duration": 9,
    "start_time": "2023-04-10T18:49:25.216Z"
   },
   {
    "duration": 4,
    "start_time": "2023-04-10T18:49:26.209Z"
   },
   {
    "duration": 15,
    "start_time": "2023-04-10T18:49:26.844Z"
   },
   {
    "duration": 20,
    "start_time": "2023-04-10T18:49:27.291Z"
   },
   {
    "duration": 18,
    "start_time": "2023-04-10T18:49:27.630Z"
   },
   {
    "duration": 3,
    "start_time": "2023-04-10T18:49:31.700Z"
   },
   {
    "duration": 10,
    "start_time": "2023-04-10T18:49:32.400Z"
   },
   {
    "duration": 6,
    "start_time": "2023-04-10T18:49:34.041Z"
   },
   {
    "duration": 4,
    "start_time": "2023-04-10T18:49:36.641Z"
   },
   {
    "duration": 14,
    "start_time": "2023-04-10T18:49:37.074Z"
   },
   {
    "duration": 17,
    "start_time": "2023-04-10T18:52:05.043Z"
   },
   {
    "duration": 10,
    "start_time": "2023-04-10T18:53:25.183Z"
   },
   {
    "duration": 6,
    "start_time": "2023-04-10T19:09:41.810Z"
   },
   {
    "duration": 6,
    "start_time": "2023-04-10T19:39:57.052Z"
   },
   {
    "duration": 6,
    "start_time": "2023-04-10T19:44:19.281Z"
   },
   {
    "duration": 10,
    "start_time": "2023-04-10T19:46:17.683Z"
   },
   {
    "duration": 94,
    "start_time": "2023-04-10T20:04:39.280Z"
   },
   {
    "duration": 73,
    "start_time": "2023-04-10T20:05:46.211Z"
   },
   {
    "duration": 12,
    "start_time": "2023-04-10T20:11:04.732Z"
   },
   {
    "duration": 4,
    "start_time": "2023-04-10T20:11:42.382Z"
   },
   {
    "duration": 13,
    "start_time": "2023-04-10T20:11:48.902Z"
   },
   {
    "duration": 12,
    "start_time": "2023-04-10T20:25:01.487Z"
   },
   {
    "duration": 14,
    "start_time": "2023-04-10T20:26:32.618Z"
   },
   {
    "duration": 680,
    "start_time": "2023-04-11T14:02:29.390Z"
   },
   {
    "duration": 22,
    "start_time": "2023-04-11T14:02:30.072Z"
   },
   {
    "duration": 155,
    "start_time": "2023-04-11T14:02:30.096Z"
   },
   {
    "duration": 24,
    "start_time": "2023-04-11T14:02:30.260Z"
   },
   {
    "duration": 75,
    "start_time": "2023-04-11T14:02:30.285Z"
   },
   {
    "duration": 5,
    "start_time": "2023-04-11T14:02:30.361Z"
   },
   {
    "duration": 10,
    "start_time": "2023-04-11T14:02:30.661Z"
   },
   {
    "duration": 6,
    "start_time": "2023-04-11T14:02:30.761Z"
   },
   {
    "duration": 7,
    "start_time": "2023-04-11T14:02:30.814Z"
   },
   {
    "duration": 9,
    "start_time": "2023-04-11T14:02:30.861Z"
   },
   {
    "duration": 34,
    "start_time": "2023-04-11T14:02:31.828Z"
   },
   {
    "duration": 9,
    "start_time": "2023-04-11T14:02:31.897Z"
   },
   {
    "duration": 4,
    "start_time": "2023-04-11T14:02:31.978Z"
   },
   {
    "duration": 10,
    "start_time": "2023-04-11T14:02:32.061Z"
   },
   {
    "duration": 22,
    "start_time": "2023-04-11T14:02:32.762Z"
   },
   {
    "duration": 17,
    "start_time": "2023-04-11T14:02:33.516Z"
   },
   {
    "duration": 3,
    "start_time": "2023-04-11T14:02:34.105Z"
   },
   {
    "duration": 12,
    "start_time": "2023-04-11T14:02:34.109Z"
   },
   {
    "duration": 6,
    "start_time": "2023-04-11T14:02:34.197Z"
   },
   {
    "duration": 4,
    "start_time": "2023-04-11T14:02:34.229Z"
   },
   {
    "duration": 9,
    "start_time": "2023-04-11T14:02:34.901Z"
   },
   {
    "duration": 133,
    "start_time": "2023-04-11T14:02:35.579Z"
   },
   {
    "duration": 3,
    "start_time": "2023-04-11T14:23:39.965Z"
   },
   {
    "duration": 89,
    "start_time": "2023-04-11T14:24:49.663Z"
   },
   {
    "duration": 16,
    "start_time": "2023-04-11T14:25:29.314Z"
   },
   {
    "duration": 10,
    "start_time": "2023-04-11T14:25:46.430Z"
   },
   {
    "duration": 11,
    "start_time": "2023-04-11T14:29:09.099Z"
   },
   {
    "duration": 12,
    "start_time": "2023-04-11T14:29:35.711Z"
   },
   {
    "duration": 11,
    "start_time": "2023-04-11T14:30:05.675Z"
   },
   {
    "duration": 10,
    "start_time": "2023-04-11T14:30:44.121Z"
   },
   {
    "duration": 19,
    "start_time": "2023-04-11T14:34:15.179Z"
   },
   {
    "duration": 17,
    "start_time": "2023-04-11T14:35:40.070Z"
   },
   {
    "duration": 12,
    "start_time": "2023-04-11T14:36:38.214Z"
   },
   {
    "duration": 12,
    "start_time": "2023-04-11T14:40:42.859Z"
   },
   {
    "duration": 11,
    "start_time": "2023-04-11T14:41:06.249Z"
   },
   {
    "duration": 4,
    "start_time": "2023-04-11T14:41:09.008Z"
   },
   {
    "duration": 11,
    "start_time": "2023-04-11T14:41:10.300Z"
   },
   {
    "duration": 12,
    "start_time": "2023-04-11T14:44:39.750Z"
   },
   {
    "duration": 11,
    "start_time": "2023-04-11T14:47:35.573Z"
   },
   {
    "duration": 13,
    "start_time": "2023-04-11T14:49:20.697Z"
   },
   {
    "duration": 4,
    "start_time": "2023-04-11T15:01:21.193Z"
   },
   {
    "duration": 4,
    "start_time": "2023-04-11T15:01:24.102Z"
   },
   {
    "duration": 13,
    "start_time": "2023-04-11T15:01:24.534Z"
   },
   {
    "duration": 4,
    "start_time": "2023-04-11T15:01:50.163Z"
   },
   {
    "duration": 9,
    "start_time": "2023-04-11T15:01:52.538Z"
   },
   {
    "duration": 4,
    "start_time": "2023-04-11T15:03:09.074Z"
   },
   {
    "duration": 939,
    "start_time": "2023-04-11T15:13:05.317Z"
   },
   {
    "duration": 16,
    "start_time": "2023-04-11T15:13:06.258Z"
   },
   {
    "duration": 15,
    "start_time": "2023-04-11T15:13:06.506Z"
   },
   {
    "duration": 9,
    "start_time": "2023-04-11T15:13:06.627Z"
   },
   {
    "duration": 36,
    "start_time": "2023-04-11T15:13:06.690Z"
   },
   {
    "duration": 4,
    "start_time": "2023-04-11T15:13:06.778Z"
   },
   {
    "duration": 8,
    "start_time": "2023-04-11T15:13:06.859Z"
   },
   {
    "duration": 4,
    "start_time": "2023-04-11T15:13:06.938Z"
   },
   {
    "duration": 6,
    "start_time": "2023-04-11T15:13:06.996Z"
   },
   {
    "duration": 4,
    "start_time": "2023-04-11T15:13:07.359Z"
   },
   {
    "duration": 54,
    "start_time": "2023-04-11T15:13:07.972Z"
   },
   {
    "duration": 13,
    "start_time": "2023-04-11T15:13:08.707Z"
   },
   {
    "duration": 4,
    "start_time": "2023-04-11T15:13:08.825Z"
   },
   {
    "duration": 18,
    "start_time": "2023-04-11T15:13:08.901Z"
   },
   {
    "duration": 31,
    "start_time": "2023-04-11T15:13:08.951Z"
   },
   {
    "duration": 27,
    "start_time": "2023-04-11T15:13:08.984Z"
   },
   {
    "duration": 4,
    "start_time": "2023-04-11T15:13:09.072Z"
   },
   {
    "duration": 10,
    "start_time": "2023-04-11T15:13:09.404Z"
   },
   {
    "duration": 6,
    "start_time": "2023-04-11T15:13:10.015Z"
   },
   {
    "duration": 4,
    "start_time": "2023-04-11T15:13:10.568Z"
   },
   {
    "duration": 11,
    "start_time": "2023-04-11T15:13:11.110Z"
   },
   {
    "duration": 4,
    "start_time": "2023-04-11T15:13:17.600Z"
   },
   {
    "duration": 12,
    "start_time": "2023-04-11T15:13:29.677Z"
   },
   {
    "duration": 69,
    "start_time": "2023-04-11T15:14:51.298Z"
   },
   {
    "duration": 9,
    "start_time": "2023-04-11T15:15:39.157Z"
   },
   {
    "duration": 14,
    "start_time": "2023-04-11T15:15:49.712Z"
   },
   {
    "duration": 13,
    "start_time": "2023-04-11T15:16:10.598Z"
   },
   {
    "duration": 14,
    "start_time": "2023-04-11T15:16:37.581Z"
   },
   {
    "duration": 9,
    "start_time": "2023-04-11T15:17:10.185Z"
   },
   {
    "duration": 12,
    "start_time": "2023-04-11T15:17:22.826Z"
   },
   {
    "duration": 12,
    "start_time": "2023-04-11T15:17:55.418Z"
   },
   {
    "duration": 11,
    "start_time": "2023-04-11T15:18:04.044Z"
   },
   {
    "duration": 118,
    "start_time": "2023-04-11T15:19:22.757Z"
   },
   {
    "duration": 58,
    "start_time": "2023-04-11T15:21:02.600Z"
   },
   {
    "duration": 661,
    "start_time": "2023-04-11T15:21:11.699Z"
   },
   {
    "duration": 10,
    "start_time": "2023-04-11T15:21:28.413Z"
   },
   {
    "duration": 8,
    "start_time": "2023-04-11T15:22:12.883Z"
   },
   {
    "duration": 113,
    "start_time": "2023-04-11T15:23:17.891Z"
   },
   {
    "duration": 118,
    "start_time": "2023-04-11T15:29:09.358Z"
   },
   {
    "duration": 128,
    "start_time": "2023-04-11T15:32:03.752Z"
   },
   {
    "duration": 48,
    "start_time": "2023-04-11T15:32:37.462Z"
   },
   {
    "duration": 4,
    "start_time": "2023-04-11T15:33:53.634Z"
   },
   {
    "duration": 114,
    "start_time": "2023-04-11T15:33:54.281Z"
   },
   {
    "duration": 15,
    "start_time": "2023-04-11T15:36:30.266Z"
   },
   {
    "duration": 105,
    "start_time": "2023-04-11T15:38:11.673Z"
   },
   {
    "duration": 117,
    "start_time": "2023-04-11T15:38:27.083Z"
   },
   {
    "duration": 111,
    "start_time": "2023-04-11T15:39:26.314Z"
   },
   {
    "duration": 120,
    "start_time": "2023-04-11T15:40:01.533Z"
   },
   {
    "duration": 117,
    "start_time": "2023-04-11T15:40:13.334Z"
   },
   {
    "duration": 117,
    "start_time": "2023-04-11T15:40:42.139Z"
   },
   {
    "duration": 155,
    "start_time": "2023-04-11T15:41:04.513Z"
   },
   {
    "duration": 117,
    "start_time": "2023-04-11T15:41:14.103Z"
   },
   {
    "duration": 21,
    "start_time": "2023-04-11T15:43:30.870Z"
   },
   {
    "duration": 130,
    "start_time": "2023-04-11T15:43:42.982Z"
   },
   {
    "duration": 126,
    "start_time": "2023-04-11T15:45:05.527Z"
   },
   {
    "duration": 4,
    "start_time": "2023-04-11T15:47:26.217Z"
   },
   {
    "duration": 136,
    "start_time": "2023-04-11T15:47:26.753Z"
   },
   {
    "duration": 156,
    "start_time": "2023-04-11T15:48:49.879Z"
   },
   {
    "duration": 126,
    "start_time": "2023-04-11T15:49:04.671Z"
   },
   {
    "duration": 196,
    "start_time": "2023-04-11T15:49:59.052Z"
   },
   {
    "duration": 107,
    "start_time": "2023-04-11T15:53:48.481Z"
   },
   {
    "duration": 118,
    "start_time": "2023-04-11T15:55:32.822Z"
   },
   {
    "duration": 129,
    "start_time": "2023-04-11T15:56:30.392Z"
   },
   {
    "duration": 125,
    "start_time": "2023-04-11T15:59:06.384Z"
   },
   {
    "duration": 119,
    "start_time": "2023-04-11T15:59:20.778Z"
   },
   {
    "duration": 116,
    "start_time": "2023-04-11T16:06:23.836Z"
   },
   {
    "duration": 30,
    "start_time": "2023-04-11T16:32:51.357Z"
   },
   {
    "duration": 1155,
    "start_time": "2023-04-11T16:37:26.071Z"
   },
   {
    "duration": 719,
    "start_time": "2023-04-11T16:37:38.392Z"
   },
   {
    "duration": 1119,
    "start_time": "2023-04-11T16:37:49.199Z"
   },
   {
    "duration": 28,
    "start_time": "2023-04-11T16:38:58.853Z"
   },
   {
    "duration": 29,
    "start_time": "2023-04-11T16:39:27.153Z"
   },
   {
    "duration": 24,
    "start_time": "2023-04-11T16:41:56.402Z"
   },
   {
    "duration": 1077,
    "start_time": "2023-04-11T16:45:19.039Z"
   },
   {
    "duration": 25,
    "start_time": "2023-04-11T16:45:42.251Z"
   },
   {
    "duration": 24,
    "start_time": "2023-04-11T16:46:37.115Z"
   },
   {
    "duration": 1070,
    "start_time": "2023-04-11T16:50:27.728Z"
   },
   {
    "duration": 29,
    "start_time": "2023-04-11T16:51:02.032Z"
   },
   {
    "duration": 17,
    "start_time": "2023-04-11T16:56:28.816Z"
   },
   {
    "duration": 497,
    "start_time": "2023-04-11T16:56:46.097Z"
   },
   {
    "duration": 33,
    "start_time": "2023-04-11T16:57:00.167Z"
   },
   {
    "duration": 44,
    "start_time": "2023-04-11T16:57:52.320Z"
   },
   {
    "duration": 45,
    "start_time": "2023-04-11T16:57:59.522Z"
   },
   {
    "duration": 46,
    "start_time": "2023-04-11T17:00:17.173Z"
   },
   {
    "duration": 35,
    "start_time": "2023-04-11T17:02:55.108Z"
   },
   {
    "duration": 25,
    "start_time": "2023-04-11T17:04:35.306Z"
   },
   {
    "duration": 21,
    "start_time": "2023-04-11T17:04:46.633Z"
   },
   {
    "duration": 22,
    "start_time": "2023-04-11T17:08:19.927Z"
   },
   {
    "duration": 26,
    "start_time": "2023-04-11T17:08:35.948Z"
   },
   {
    "duration": 30,
    "start_time": "2023-04-11T17:08:47.046Z"
   },
   {
    "duration": 25,
    "start_time": "2023-04-11T17:09:32.541Z"
   },
   {
    "duration": 23,
    "start_time": "2023-04-11T17:10:25.110Z"
   },
   {
    "duration": 22,
    "start_time": "2023-04-11T17:10:30.382Z"
   },
   {
    "duration": 22,
    "start_time": "2023-04-11T17:13:25.728Z"
   },
   {
    "duration": 24,
    "start_time": "2023-04-11T17:13:32.404Z"
   },
   {
    "duration": 23,
    "start_time": "2023-04-11T17:13:40.756Z"
   },
   {
    "duration": 23,
    "start_time": "2023-04-11T17:14:18.944Z"
   },
   {
    "duration": 22,
    "start_time": "2023-04-11T18:11:33.390Z"
   },
   {
    "duration": 23,
    "start_time": "2023-04-11T18:12:26.615Z"
   },
   {
    "duration": 137,
    "start_time": "2023-04-11T18:14:37.783Z"
   },
   {
    "duration": 21,
    "start_time": "2023-04-11T18:22:15.313Z"
   },
   {
    "duration": 18,
    "start_time": "2023-04-11T18:23:44.305Z"
   },
   {
    "duration": 19,
    "start_time": "2023-04-11T18:24:43.489Z"
   },
   {
    "duration": 32,
    "start_time": "2023-04-11T18:27:59.734Z"
   },
   {
    "duration": 33,
    "start_time": "2023-04-11T18:28:37.364Z"
   },
   {
    "duration": 25,
    "start_time": "2023-04-11T18:29:03.797Z"
   },
   {
    "duration": 10,
    "start_time": "2023-04-11T18:31:14.965Z"
   },
   {
    "duration": 132,
    "start_time": "2023-04-11T18:43:09.826Z"
   },
   {
    "duration": 150,
    "start_time": "2023-04-11T19:02:26.447Z"
   },
   {
    "duration": 1294,
    "start_time": "2023-04-11T19:57:43.146Z"
   },
   {
    "duration": 19,
    "start_time": "2023-04-11T19:57:44.443Z"
   },
   {
    "duration": 13,
    "start_time": "2023-04-11T19:57:44.463Z"
   },
   {
    "duration": 8,
    "start_time": "2023-04-11T19:57:44.478Z"
   },
   {
    "duration": 52,
    "start_time": "2023-04-11T19:57:44.488Z"
   },
   {
    "duration": 4,
    "start_time": "2023-04-11T19:57:44.541Z"
   },
   {
    "duration": 8,
    "start_time": "2023-04-11T19:57:44.546Z"
   },
   {
    "duration": 4,
    "start_time": "2023-04-11T19:57:44.556Z"
   },
   {
    "duration": 6,
    "start_time": "2023-04-11T19:57:44.561Z"
   },
   {
    "duration": 3,
    "start_time": "2023-04-11T19:57:44.568Z"
   },
   {
    "duration": 29,
    "start_time": "2023-04-11T19:57:44.573Z"
   },
   {
    "duration": 34,
    "start_time": "2023-04-11T19:57:44.603Z"
   },
   {
    "duration": 4,
    "start_time": "2023-04-11T19:57:44.638Z"
   },
   {
    "duration": 10,
    "start_time": "2023-04-11T19:57:44.644Z"
   },
   {
    "duration": 17,
    "start_time": "2023-04-11T19:57:44.655Z"
   },
   {
    "duration": 14,
    "start_time": "2023-04-11T19:57:44.673Z"
   },
   {
    "duration": 3,
    "start_time": "2023-04-11T19:57:44.688Z"
   },
   {
    "duration": 10,
    "start_time": "2023-04-11T19:57:44.692Z"
   },
   {
    "duration": 34,
    "start_time": "2023-04-11T19:57:44.703Z"
   },
   {
    "duration": 3,
    "start_time": "2023-04-11T19:57:44.738Z"
   },
   {
    "duration": 10,
    "start_time": "2023-04-11T19:57:44.742Z"
   },
   {
    "duration": 4,
    "start_time": "2023-04-11T19:57:44.754Z"
   },
   {
    "duration": 155,
    "start_time": "2023-04-11T19:57:44.760Z"
   },
   {
    "duration": 48,
    "start_time": "2023-04-11T19:57:44.917Z"
   },
   {
    "duration": 147,
    "start_time": "2023-04-11T19:57:44.966Z"
   },
   {
    "duration": 8,
    "start_time": "2023-04-11T19:57:45.114Z"
   },
   {
    "duration": 114,
    "start_time": "2023-04-11T19:57:45.124Z"
   },
   {
    "duration": 115,
    "start_time": "2023-04-11T19:57:45.239Z"
   },
   {
    "duration": 141,
    "start_time": "2023-04-11T19:58:01.823Z"
   },
   {
    "duration": 118,
    "start_time": "2023-04-11T19:58:07.458Z"
   },
   {
    "duration": 113,
    "start_time": "2023-04-11T19:58:09.783Z"
   },
   {
    "duration": 46,
    "start_time": "2023-04-12T18:43:24.604Z"
   },
   {
    "duration": 1700,
    "start_time": "2023-04-12T18:43:35.581Z"
   },
   {
    "duration": 19,
    "start_time": "2023-04-12T18:43:37.283Z"
   },
   {
    "duration": 24,
    "start_time": "2023-04-12T18:43:37.304Z"
   },
   {
    "duration": 9,
    "start_time": "2023-04-12T18:43:37.329Z"
   },
   {
    "duration": 47,
    "start_time": "2023-04-12T18:43:37.339Z"
   },
   {
    "duration": 4,
    "start_time": "2023-04-12T18:43:37.387Z"
   },
   {
    "duration": 14,
    "start_time": "2023-04-12T18:43:37.392Z"
   },
   {
    "duration": 8,
    "start_time": "2023-04-12T18:43:37.407Z"
   },
   {
    "duration": 13,
    "start_time": "2023-04-12T18:43:37.417Z"
   },
   {
    "duration": 13,
    "start_time": "2023-04-12T18:43:37.432Z"
   },
   {
    "duration": 38,
    "start_time": "2023-04-12T18:43:37.446Z"
   },
   {
    "duration": 8,
    "start_time": "2023-04-12T18:43:37.485Z"
   },
   {
    "duration": 11,
    "start_time": "2023-04-12T18:43:37.495Z"
   },
   {
    "duration": 15,
    "start_time": "2023-04-12T18:43:37.508Z"
   },
   {
    "duration": 29,
    "start_time": "2023-04-12T18:43:37.524Z"
   },
   {
    "duration": 17,
    "start_time": "2023-04-12T18:43:37.556Z"
   },
   {
    "duration": 9,
    "start_time": "2023-04-12T18:43:37.574Z"
   },
   {
    "duration": 11,
    "start_time": "2023-04-12T18:43:37.586Z"
   },
   {
    "duration": 7,
    "start_time": "2023-04-12T18:43:38.262Z"
   },
   {
    "duration": 4,
    "start_time": "2023-04-12T18:43:38.777Z"
   },
   {
    "duration": 10,
    "start_time": "2023-04-12T18:43:39.015Z"
   },
   {
    "duration": 4,
    "start_time": "2023-04-12T18:43:39.613Z"
   },
   {
    "duration": 141,
    "start_time": "2023-04-12T18:43:39.642Z"
   },
   {
    "duration": 26,
    "start_time": "2023-04-12T18:43:42.187Z"
   },
   {
    "duration": 130,
    "start_time": "2023-04-12T18:43:54.001Z"
   },
   {
    "duration": 7,
    "start_time": "2023-04-12T18:43:54.560Z"
   },
   {
    "duration": 113,
    "start_time": "2023-04-12T18:43:56.476Z"
   },
   {
    "duration": 151,
    "start_time": "2023-04-12T18:44:04.857Z"
   },
   {
    "duration": 1457,
    "start_time": "2023-04-12T20:48:16.163Z"
   },
   {
    "duration": 20,
    "start_time": "2023-04-12T20:48:17.623Z"
   },
   {
    "duration": 18,
    "start_time": "2023-04-12T20:48:17.644Z"
   },
   {
    "duration": 27,
    "start_time": "2023-04-12T20:48:17.664Z"
   },
   {
    "duration": 40,
    "start_time": "2023-04-12T20:48:17.693Z"
   },
   {
    "duration": 3,
    "start_time": "2023-04-12T20:48:17.735Z"
   },
   {
    "duration": 13,
    "start_time": "2023-04-12T20:48:17.740Z"
   },
   {
    "duration": 5,
    "start_time": "2023-04-12T20:48:17.755Z"
   },
   {
    "duration": 26,
    "start_time": "2023-04-12T20:48:17.762Z"
   },
   {
    "duration": 4,
    "start_time": "2023-04-12T20:48:17.791Z"
   },
   {
    "duration": 43,
    "start_time": "2023-04-12T20:48:17.797Z"
   },
   {
    "duration": 10,
    "start_time": "2023-04-12T20:48:17.841Z"
   },
   {
    "duration": 9,
    "start_time": "2023-04-12T20:48:17.853Z"
   },
   {
    "duration": 30,
    "start_time": "2023-04-12T20:48:17.863Z"
   },
   {
    "duration": 23,
    "start_time": "2023-04-12T20:48:17.895Z"
   },
   {
    "duration": 16,
    "start_time": "2023-04-12T20:48:17.920Z"
   },
   {
    "duration": 3,
    "start_time": "2023-04-12T20:48:17.938Z"
   },
   {
    "duration": 17,
    "start_time": "2023-04-12T20:48:17.943Z"
   },
   {
    "duration": 27,
    "start_time": "2023-04-12T20:48:17.961Z"
   },
   {
    "duration": 4,
    "start_time": "2023-04-12T20:48:17.991Z"
   },
   {
    "duration": 14,
    "start_time": "2023-04-12T20:48:17.997Z"
   },
   {
    "duration": 5,
    "start_time": "2023-04-12T20:48:18.012Z"
   },
   {
    "duration": 171,
    "start_time": "2023-04-12T20:48:18.018Z"
   },
   {
    "duration": 29,
    "start_time": "2023-04-12T20:48:18.191Z"
   },
   {
    "duration": 175,
    "start_time": "2023-04-12T20:48:18.221Z"
   },
   {
    "duration": 8,
    "start_time": "2023-04-12T20:48:18.398Z"
   },
   {
    "duration": 153,
    "start_time": "2023-04-12T20:48:18.408Z"
   },
   {
    "duration": 143,
    "start_time": "2023-04-12T20:48:18.564Z"
   }
  ],
  "colab": {
   "name": "dpp_template_part2.ipynb",
   "provenance": []
  },
  "kernelspec": {
   "display_name": "Python 3 (ipykernel)",
   "language": "python",
   "name": "python3"
  },
  "language_info": {
   "codemirror_mode": {
    "name": "ipython",
    "version": 3
   },
   "file_extension": ".py",
   "mimetype": "text/x-python",
   "name": "python",
   "nbconvert_exporter": "python",
   "pygments_lexer": "ipython3",
   "version": "3.9.5"
  },
  "toc": {
   "base_numbering": 1,
   "nav_menu": {},
   "number_sections": true,
   "sideBar": true,
   "skip_h1_title": true,
   "title_cell": "Table of Contents",
   "title_sidebar": "Contents",
   "toc_cell": false,
   "toc_position": {},
   "toc_section_display": true,
   "toc_window_display": true
  }
 },
 "nbformat": 4,
 "nbformat_minor": 5
}

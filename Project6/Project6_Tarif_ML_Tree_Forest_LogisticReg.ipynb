{
 "cells": [
  {
   "cell_type": "markdown",
   "metadata": {},
   "source": [
    "# Рекомендация тарифов"
   ]
  },
  {
   "cell_type": "markdown",
   "metadata": {},
   "source": [
    "В вашем распоряжении данные о поведении клиентов, которые уже перешли на эти тарифы (из проекта курса «Статистический анализ данных»). Нужно построить модель для задачи классификации, которая выберет подходящий тариф. Предобработка данных не понадобится — вы её уже сделали.\n",
    "\n",
    "Постройте модель с максимально большим значением *accuracy*. Чтобы сдать проект успешно, нужно довести долю правильных ответов по крайней мере до 0.75. Проверьте *accuracy* на тестовой выборке самостоятельно.\n",
    "\n",
    "**Описание данных**\n",
    "\n",
    "Каждый объект в наборе данных — это информация о поведении одного пользователя за месяц. Известно:\n",
    "\n",
    " - сalls — количество звонков,\n",
    " - minutes — суммарная длительность звонков в минутах,\n",
    " - messages — количество sms-сообщений,\n",
    " - mb_used — израсходованный интернет-трафик в Мб,\n",
    " - is_ultra — каким тарифом пользовался в течение месяца («Ультра» — 1, «Смарт» — 0).\n",
    " \n",
    "**План работы**\n",
    "\n",
    " - Изучить исходный датафрейм\n",
    " - разделить датафрейм на обучающую, валидационную и тестовую выборки в соотношениее 60/20/20 соответственно\n",
    " - исследовать модели классификации (решающее дерево, случайный лес, логистическая регрессия)\n",
    " - подобрать оптимальные параметры для каждой модели\n",
    " - оценить точность моделей на тестовой выборке\n",
    " - проверить модель на адекватность"
   ]
  },
  {
   "cell_type": "markdown",
   "metadata": {},
   "source": [
    "## Изучение файла"
   ]
  },
  {
   "cell_type": "code",
   "execution_count": 25,
   "metadata": {},
   "outputs": [],
   "source": [
    "import pandas as pd\n",
    "from sklearn.tree import DecisionTreeClassifier\n",
    "from sklearn.ensemble import RandomForestClassifier\n",
    "from sklearn.linear_model import LogisticRegression\n",
    "from sklearn.dummy import DummyClassifier\n",
    "\n",
    "from sklearn.metrics import accuracy_score\n",
    "from sklearn.metrics import precision_score\n",
    "from sklearn.metrics import recall_score\n",
    "from sklearn.metrics import f1_score\n",
    "from sklearn.model_selection import train_test_split\n",
    "import matplotlib.pyplot as plt"
   ]
  },
  {
   "cell_type": "code",
   "execution_count": 26,
   "metadata": {},
   "outputs": [
    {
     "name": "stdout",
     "output_type": "stream",
     "text": [
      "<class 'pandas.core.frame.DataFrame'>\n",
      "RangeIndex: 3214 entries, 0 to 3213\n",
      "Data columns (total 5 columns):\n",
      " #   Column    Non-Null Count  Dtype  \n",
      "---  ------    --------------  -----  \n",
      " 0   calls     3214 non-null   float64\n",
      " 1   minutes   3214 non-null   float64\n",
      " 2   messages  3214 non-null   float64\n",
      " 3   mb_used   3214 non-null   float64\n",
      " 4   is_ultra  3214 non-null   int64  \n",
      "dtypes: float64(4), int64(1)\n",
      "memory usage: 125.7 KB\n"
     ]
    }
   ],
   "source": [
    "data = pd.read_csv('/datasets/users_behavior.csv')\n",
    "data.info()"
   ]
  },
  {
   "cell_type": "code",
   "execution_count": 27,
   "metadata": {},
   "outputs": [
    {
     "data": {
      "text/html": [
       "<div>\n",
       "<style scoped>\n",
       "    .dataframe tbody tr th:only-of-type {\n",
       "        vertical-align: middle;\n",
       "    }\n",
       "\n",
       "    .dataframe tbody tr th {\n",
       "        vertical-align: top;\n",
       "    }\n",
       "\n",
       "    .dataframe thead th {\n",
       "        text-align: right;\n",
       "    }\n",
       "</style>\n",
       "<table border=\"1\" class=\"dataframe\">\n",
       "  <thead>\n",
       "    <tr style=\"text-align: right;\">\n",
       "      <th></th>\n",
       "      <th>calls</th>\n",
       "      <th>minutes</th>\n",
       "      <th>messages</th>\n",
       "      <th>mb_used</th>\n",
       "      <th>is_ultra</th>\n",
       "    </tr>\n",
       "  </thead>\n",
       "  <tbody>\n",
       "    <tr>\n",
       "      <th>0</th>\n",
       "      <td>40.0</td>\n",
       "      <td>311.90</td>\n",
       "      <td>83.0</td>\n",
       "      <td>19915.42</td>\n",
       "      <td>0</td>\n",
       "    </tr>\n",
       "    <tr>\n",
       "      <th>1</th>\n",
       "      <td>85.0</td>\n",
       "      <td>516.75</td>\n",
       "      <td>56.0</td>\n",
       "      <td>22696.96</td>\n",
       "      <td>0</td>\n",
       "    </tr>\n",
       "    <tr>\n",
       "      <th>2</th>\n",
       "      <td>77.0</td>\n",
       "      <td>467.66</td>\n",
       "      <td>86.0</td>\n",
       "      <td>21060.45</td>\n",
       "      <td>0</td>\n",
       "    </tr>\n",
       "    <tr>\n",
       "      <th>3</th>\n",
       "      <td>106.0</td>\n",
       "      <td>745.53</td>\n",
       "      <td>81.0</td>\n",
       "      <td>8437.39</td>\n",
       "      <td>1</td>\n",
       "    </tr>\n",
       "    <tr>\n",
       "      <th>4</th>\n",
       "      <td>66.0</td>\n",
       "      <td>418.74</td>\n",
       "      <td>1.0</td>\n",
       "      <td>14502.75</td>\n",
       "      <td>0</td>\n",
       "    </tr>\n",
       "  </tbody>\n",
       "</table>\n",
       "</div>"
      ],
      "text/plain": [
       "   calls  minutes  messages   mb_used  is_ultra\n",
       "0   40.0   311.90      83.0  19915.42         0\n",
       "1   85.0   516.75      56.0  22696.96         0\n",
       "2   77.0   467.66      86.0  21060.45         0\n",
       "3  106.0   745.53      81.0   8437.39         1\n",
       "4   66.0   418.74       1.0  14502.75         0"
      ]
     },
     "execution_count": 27,
     "metadata": {},
     "output_type": "execute_result"
    }
   ],
   "source": [
    "data.head()"
   ]
  },
  {
   "cell_type": "code",
   "execution_count": 28,
   "metadata": {},
   "outputs": [
    {
     "data": {
      "text/plain": [
       "(3214, 5)"
      ]
     },
     "execution_count": 28,
     "metadata": {},
     "output_type": "execute_result"
    }
   ],
   "source": [
    "data.shape"
   ]
  },
  {
   "cell_type": "markdown",
   "metadata": {},
   "source": [
    "**ВЫВОДЫ**\n",
    "\n",
    "Стоит задача классификации, за целевой признак возьмем столбец is_ultra. Остальные признаки помогут нам предсказывать решение по столбцу is_ultra."
   ]
  },
  {
   "cell_type": "markdown",
   "metadata": {},
   "source": [
    "## Разбивка данных на выборки\n",
    "\n",
    "Разбиваем выборки в соотношении `60/20/20`\n",
    " - тренировачная выборка `60%`\n",
    " - валидационная выборка `20%`\n",
    " - тестовая выборка `20%`"
   ]
  },
  {
   "cell_type": "code",
   "execution_count": 29,
   "metadata": {},
   "outputs": [
    {
     "name": "stdout",
     "output_type": "stream",
     "text": [
      "Обучающая выборка train_data  (1928, 5)\n",
      "Валидационная выборка valid_data (643, 5)\n",
      "Тестовая выборка test_data (643, 5)\n"
     ]
    }
   ],
   "source": [
    "train_data, prom_data = train_test_split(data, test_size=0.4, random_state=12345)\n",
    "valid_data, test_data = train_test_split(prom_data, test_size=0.5, random_state=12345)\n",
    "\n",
    "print('Обучающая выборка train_data ', train_data.shape)\n",
    "print('Валидационная выборка valid_data', valid_data.shape)\n",
    "print('Тестовая выборка test_data', test_data.shape)"
   ]
  },
  {
   "cell_type": "markdown",
   "metadata": {},
   "source": [
    "Создадим таблицы признаков и таблица целевых признаков для каждой выборки"
   ]
  },
  {
   "cell_type": "code",
   "execution_count": 30,
   "metadata": {},
   "outputs": [],
   "source": [
    "train_data_features = train_data.drop(['is_ultra'], axis=1)\n",
    "train_data_target = train_data['is_ultra']\n",
    "\n",
    "valid_data_features = valid_data.drop(['is_ultra'], axis=1)\n",
    "valid_data_target = valid_data['is_ultra']\n",
    "\n",
    "test_data_features = test_data.drop(['is_ultra'], axis=1)\n",
    "test_data_target = test_data['is_ultra']"
   ]
  },
  {
   "cell_type": "markdown",
   "metadata": {},
   "source": [
    "**ВЫВОДЫ**\n",
    "\n",
    "Данные разделили в соотношении 60/20/20.\n",
    "\n",
    " - Обучение пройдет на данных train_data\n",
    "\n",
    " - Валидация модели на данных valid_data\n",
    "\n",
    " - Тестировании модели пройдет на данных test_data"
   ]
  },
  {
   "cell_type": "markdown",
   "metadata": {},
   "source": [
    "## Исследование модели\n",
    "\n",
    "Рассмотрим следующие алгоритмы обучения для задачи классификации:\n",
    " - `Дерево решений`\n",
    " - `Случайный лес`\n",
    " - `Логистическая регрессия`\n",
    "\n",
    "### Дерево решений\n",
    "\n",
    "В данном блоке исследования будут выполнены следующие действия:\n",
    "\n",
    " - обучим модель дерева решений на тренировочной выборке\n",
    " - изучим точность предсказаний на тренировочной выборке в зависимости от глубины дерева\n",
    " - изучим точность предсказаний на валидационной выборке в зависимости от глубины дерева\n",
    " - сравним показатели и выберем наилучший\n",
    " - построим графики зависимости точности модели от гиперпараметра глубина дерева\n",
    " - изучим зависимость точности модели от других гиперпараметров (`criterion`, `min_samples_split`, `min_samples_leaf`, `splitter`)"
   ]
  },
  {
   "cell_type": "code",
   "execution_count": 31,
   "metadata": {},
   "outputs": [
    {
     "name": "stdout",
     "output_type": "stream",
     "text": [
      "max_depth =  1 :0.7542768273716952\n",
      "max_depth =  2 :0.7822706065318819\n",
      "max_depth =  3 :0.7853810264385692\n",
      "max_depth =  4 :0.7791601866251944\n",
      "max_depth =  5 :0.7791601866251944\n",
      "max_depth =  6 :0.7838258164852255\n",
      "max_depth =  7 :0.7822706065318819\n",
      "max_depth =  8 :0.7791601866251944\n",
      "max_depth =  9 :0.7822706065318819\n",
      "max_depth =  10 :0.7744945567651633\n",
      "max_depth =  11 :0.7620528771384136\n",
      "max_depth =  12 :0.7620528771384136\n",
      "max_depth =  13 :0.7558320373250389\n",
      "max_depth =  14 :0.7589424572317263\n",
      "max_depth =  15 :0.7465007776049767\n",
      "max_depth =  16 :0.7340590979782271\n",
      "max_depth =  17 :0.7356143079315708\n",
      "max_depth =  18 :0.7309486780715396\n",
      "max_depth =  19 :0.7278382581648523\n",
      "max_depth =  20 :0.7216174183514774\n",
      "max_depth =  21 :0.7278382581648523\n",
      "max_depth =  22 :0.7262830482115086\n",
      "max_depth =  23 :0.7169517884914464\n",
      "max_depth =  24 :0.713841368584759\n",
      "max_depth =  25 :0.713841368584759\n",
      "max_depth =  26 :0.713841368584759\n",
      "max_depth =  27 :0.713841368584759\n",
      "max_depth =  28 :0.713841368584759\n",
      "max_depth =  29 :0.713841368584759\n",
      "max_depth =  30 :0.713841368584759\n",
      "max_depth =  31 :0.713841368584759\n",
      "max_depth =  32 :0.713841368584759\n",
      "max_depth =  33 :0.713841368584759\n",
      "max_depth =  34 :0.713841368584759\n",
      "0.7853810264385692 Точность валидационной модели:  3\n"
     ]
    },
    {
     "data": {
      "image/png": "[encoded data removed]",
      "text/plain": [
       "<Figure size 1080x720 with 1 Axes>"
      ]
     },
     "metadata": {
      "needs_background": "light"
     },
     "output_type": "display_data"
    }
   ],
   "source": [
    "best_model_tree = None\n",
    "best_result_tree = 0\n",
    "model_depth = 0\n",
    "epohs_tree = []\n",
    "train_result_tree_list = []\n",
    "valid_result_tree_list = []\n",
    "\n",
    "for depth in range(1, 35):\n",
    "    model = DecisionTreeClassifier(random_state=12345, max_depth=depth)\n",
    "    model.fit(train_data_features, train_data_target)\n",
    "    predictions_train = model.predict(train_data_features)\n",
    "    train_result_tree = accuracy_score(train_data_target, predictions_train)\n",
    "    epohs_tree.append(depth)\n",
    "    train_result_tree_list.append(train_result_tree)\n",
    "    \n",
    "    predictions_valid = model.predict(valid_data_features)\n",
    "    valid_result_tree = accuracy_score(valid_data_target, predictions_valid)\n",
    "    valid_result_tree_list.append(valid_result_tree)\n",
    "    print('max_depth = ', depth, ':', end='')\n",
    "    print(valid_result_tree)\n",
    "    if valid_result_tree > best_result_tree:\n",
    "        best_result_tree = valid_result_tree\n",
    "        best_model_tree = model\n",
    "        model_depth = depth\n",
    "        \n",
    "print(best_result_tree, 'Точность валидационной модели: ', model_depth)\n",
    "\n",
    "plt.figure(figsize=(15, 10))\n",
    "plt.plot(epohs_tree, train_result_tree_list, label='train_data');\n",
    "plt.plot(epohs_tree, valid_result_tree_list, label='valid_data');\n",
    "plt.xlabel('Глубина дерева')\n",
    "plt.ylabel('Точность')\n",
    "plt.title('Зависимость точности от глубины дерева')\n",
    "plt.legend()\n",
    "plt.show()\n",
    "    \n",
    "    "
   ]
  },
  {
   "cell_type": "markdown",
   "metadata": {},
   "source": [
    "При увеличении глубины дерева производительность модели на обучающей выборке продолжает улучшаться, а на валидационной выборке достигает плато и начинает ухудшаться, это может указывать на переобучение.\n",
    "\n",
    "Наилучшая глубина дерева - 3 с точностью 0.7853810264385692\n",
    "\n",
    "Посмотрим на изменение точности модели в зависимости от гиперпараметра criterion. Так как по умолчанию гиперпараметр имеет значение `'gini'` изучим точность модели со значением `'entropy'`"
   ]
  },
  {
   "cell_type": "code",
   "execution_count": 32,
   "metadata": {},
   "outputs": [
    {
     "name": "stdout",
     "output_type": "stream",
     "text": [
      "Точность модели с гиперпараметром entropy:  0.7853810264385692\n",
      "Точность модели не изменилась, оставляем гиперпараметр gini\n"
     ]
    }
   ],
   "source": [
    "best_model_tree = DecisionTreeClassifier(random_state=12345, max_depth=3, criterion='entropy')\n",
    "best_model_tree.fit(train_data_features, train_data_target)\n",
    "valid_predictions = best_model_tree.predict(valid_data_features)\n",
    "entropy_result = accuracy_score(valid_data_target, valid_predictions)\n",
    "print('Точность модели с гиперпараметром entropy: ', entropy_result)\n",
    "if best_result_tree < entropy_result:\n",
    "    best_result_tree = entropy_result\n",
    "    print('Точность модели увличилась, оставляем гиперпараметр entropy')\n",
    "elif best_result_tree == entropy_result:\n",
    "    print('Точность модели не изменилась, оставляем гиперпараметр gini')\n",
    "else:\n",
    "    print('Точность модели уменьшилась, оставляем гиперпараметр gini')\n"
   ]
  },
  {
   "cell_type": "markdown",
   "metadata": {},
   "source": [
    "Изучим точность модели в зависимости от параметра min_samples_split. Увеличение этого параметра может привести к более устойчивому дереву с меньшим риском переобучения."
   ]
  },
  {
   "cell_type": "code",
   "execution_count": 33,
   "metadata": {},
   "outputs": [
    {
     "name": "stdout",
     "output_type": "stream",
     "text": [
      "min_samples_split =  2 :0.7853810264385692\n",
      "min_samples_split =  3 :0.7853810264385692\n",
      "min_samples_split =  4 :0.7853810264385692\n",
      "min_samples_split =  5 :0.7853810264385692\n",
      "min_samples_split =  6 :0.7853810264385692\n",
      "min_samples_split =  7 :0.7853810264385692\n",
      "min_samples_split =  8 :0.7853810264385692\n",
      "min_samples_split =  9 :0.7853810264385692\n",
      "0.7853810264385692 Точность валидационной модели:  2\n"
     ]
    },
    {
     "data": {
      "image/png": "[encoded data removed]",
      "text/plain": [
       "<Figure size 1080x720 with 1 Axes>"
      ]
     },
     "metadata": {
      "needs_background": "light"
     },
     "output_type": "display_data"
    }
   ],
   "source": [
    "epohs_samples_split = []\n",
    "train_samples_split = []\n",
    "valid_samples_split = []\n",
    "min_samples = 0\n",
    "best_result_tree = 0\n",
    "\n",
    "for n in range(2, 10):\n",
    "    best_model_tree = DecisionTreeClassifier(random_state=12345, max_depth=3, min_samples_split=n)\n",
    "    best_model_tree.fit(train_data_features, train_data_target)\n",
    "    \n",
    "    predictions_train = best_model_tree.predict(train_data_features)\n",
    "    \n",
    "    train_result_tree = accuracy_score(train_data_target, predictions_train)\n",
    "    \n",
    "    epohs_samples_split.append(n)\n",
    "    train_samples_split.append(train_result_tree)\n",
    "    \n",
    "    predictions_valid = best_model_tree.predict(valid_data_features)\n",
    "    \n",
    "    valid_result_tree = accuracy_score(valid_data_target, predictions_valid)\n",
    "    valid_samples_split.append(valid_result_tree)\n",
    "    \n",
    "    print('min_samples_split = ', n, ':', end='')\n",
    "    print(valid_result_tree)\n",
    "    \n",
    "    if valid_result_tree > best_result_tree:\n",
    "        best_result_tree = valid_result_tree\n",
    "        best_model_tree = model\n",
    "        min_samples = n\n",
    "    \n",
    "print(best_result_tree, 'Точность валидационной модели: ', min_samples)  \n",
    "    \n",
    "plt.figure(figsize=(15, 10))\n",
    "plt.plot(epohs_samples_split, train_samples_split, label='train_data');\n",
    "plt.plot(epohs_samples_split, valid_samples_split, label='valid_data');\n",
    "plt.xlabel('Минимальное количество примеров для разделения')\n",
    "plt.ylabel('Точность')\n",
    "plt.title('Зависимость точности от минимального количества примеров для разделения')\n",
    "plt.legend()\n",
    "plt.show()\n",
    "    "
   ]
  },
  {
   "cell_type": "markdown",
   "metadata": {},
   "source": [
    "Параметр `'min_samples_split'` не влияет на точность данной модели.\n",
    "\n",
    "Посмотрим на параметр `'min_samples_leaf'`"
   ]
  },
  {
   "cell_type": "code",
   "execution_count": 34,
   "metadata": {},
   "outputs": [
    {
     "name": "stdout",
     "output_type": "stream",
     "text": [
      "min_samples_split =  1 :0.7853810264385692\n",
      "min_samples_split =  2 :0.7853810264385692\n",
      "min_samples_split =  3 :0.7853810264385692\n",
      "min_samples_split =  4 :0.7853810264385692\n",
      "min_samples_split =  5 :0.7853810264385692\n",
      "min_samples_split =  6 :0.7853810264385692\n",
      "min_samples_split =  7 :0.7853810264385692\n",
      "min_samples_split =  8 :0.7853810264385692\n",
      "min_samples_split =  9 :0.7853810264385692\n",
      "0.7853810264385692 Точность валидационной модели:  1\n"
     ]
    },
    {
     "data": {
      "image/png": "[encoded data removed]",
      "text/plain": [
       "<Figure size 1080x720 with 1 Axes>"
      ]
     },
     "metadata": {
      "needs_background": "light"
     },
     "output_type": "display_data"
    }
   ],
   "source": [
    "epohs_samples_split = []\n",
    "train_samples_split = []\n",
    "valid_samples_split = []\n",
    "min_samples = 0\n",
    "best_result_tree = 0\n",
    "\n",
    "for n in range(1, 10):\n",
    "    best_model_tree = DecisionTreeClassifier(random_state=12345, max_depth=3, min_samples_leaf=n)\n",
    "    best_model_tree.fit(train_data_features, train_data_target)\n",
    "    \n",
    "    predictions_train = best_model_tree.predict(train_data_features)\n",
    "    \n",
    "    train_result_tree = accuracy_score(train_data_target, predictions_train)\n",
    "    \n",
    "    epohs_samples_split.append(n)\n",
    "    train_samples_split.append(train_result_tree)\n",
    "    \n",
    "    predictions_valid = best_model_tree.predict(valid_data_features)\n",
    "    \n",
    "    valid_result_tree = accuracy_score(valid_data_target, predictions_valid)\n",
    "    valid_samples_split.append(valid_result_tree)\n",
    "    \n",
    "    print('min_samples_split = ', n, ':', end='')\n",
    "    print(valid_result_tree)\n",
    "    \n",
    "    if valid_result_tree > best_result_tree:\n",
    "        best_result_tree = valid_result_tree\n",
    "        best_model_tree = model\n",
    "        min_samples = n\n",
    "    \n",
    "print(best_result_tree, 'Точность валидационной модели: ', min_samples)  \n",
    "    \n",
    "plt.figure(figsize=(15, 10))\n",
    "plt.plot(epohs_samples_split, train_samples_split, label='train_data');\n",
    "plt.plot(epohs_samples_split, valid_samples_split, label='valid_data');\n",
    "plt.xlabel('Минимальное количество объектов в листе')\n",
    "plt.ylabel('Точность')\n",
    "plt.title('Зависимость точности от минимального количества объектов в листе')\n",
    "plt.legend()\n",
    "plt.show()"
   ]
  },
  {
   "cell_type": "markdown",
   "metadata": {},
   "source": [
    "Параметр `'min_samples_leaf'` не влияет на точность данной модели.\n",
    "\n",
    "Посмотрим на параметр `'splitter'`. По умолчанию гиперпараметр имеет значение `'best'`. Заменим его на `'random'`"
   ]
  },
  {
   "cell_type": "code",
   "execution_count": 35,
   "metadata": {},
   "outputs": [
    {
     "name": "stdout",
     "output_type": "stream",
     "text": [
      "Точность модели с гиперпараметром random:  0.7387247278382582\n",
      "Точность модели уменьшилась, оставляем гиперпараметр best\n"
     ]
    }
   ],
   "source": [
    "best_model_tree = DecisionTreeClassifier(random_state=12345, max_depth=3, splitter='random')\n",
    "best_model_tree.fit(train_data_features, train_data_target)\n",
    "valid_predictions = best_model_tree.predict(valid_data_features)\n",
    "random_result = accuracy_score(valid_data_target, valid_predictions)\n",
    "print('Точность модели с гиперпараметром random: ', random_result)\n",
    "if best_result_tree < random_result:\n",
    "    best_result_tree = random_result\n",
    "    print('Точность модели увличилась, оставляем гиперпараметр random')\n",
    "elif best_result_tree == random_result:\n",
    "    print('Точность модели не изменилась, оставляем гиперпараметр best')\n",
    "else:\n",
    "    print('Точность модели уменьшилась, оставляем гиперпараметр best')"
   ]
  },
  {
   "cell_type": "markdown",
   "metadata": {},
   "source": [
    "Наиболее точной моделью обученной алгоритмом дерево решений примем модель с гиперпараметрами:\n",
    " - `max_depth` = 3\n",
    " - `criterion` = gini\n",
    " - `min_samples_split` = 2\n",
    " - `min_samples_leaf` = 1\n",
    " - `splitter` = best"
   ]
  },
  {
   "cell_type": "markdown",
   "metadata": {},
   "source": [
    "### Случайный лес\n",
    "\n",
    "В данном блоке исследования будут выполнены следующие действия:\n",
    "\n",
    " - обучим модель случайного леса на тренировочной выборке\n",
    " - изучим точность предсказаний на тренировочной выборке в зависимости от количества деревьев\n",
    " - изучим точность предсказаний на валидационной выборке в зависимости от количества деревьев\n",
    " - сравним показатели и выберем наилучший\n",
    " - построим графики зависимости точности модели от гиперпараметра количества деревьев\n",
    " - изучим зависимость точности модели от других гиперпараметров (`criterion`, `max_depth`)\n"
   ]
  },
  {
   "cell_type": "code",
   "execution_count": 36,
   "metadata": {},
   "outputs": [
    {
     "name": "stdout",
     "output_type": "stream",
     "text": [
      "количество деревьев =  1 :0.7107309486780715\n",
      "количество деревьев =  2 :0.7636080870917574\n",
      "количество деревьев =  3 :0.7387247278382582\n",
      "количество деревьев =  4 :0.7713841368584758\n",
      "количество деревьев =  5 :0.749611197511664\n",
      "количество деревьев =  6 :0.7807153965785381\n",
      "количество деревьев =  7 :0.7682737169517885\n",
      "количество деревьев =  8 :0.7822706065318819\n",
      "количество деревьев =  9 :0.7729393468118196\n",
      "количество деревьев =  10 :0.7853810264385692\n",
      "количество деревьев =  11 :0.7838258164852255\n",
      "количество деревьев =  12 :0.7869362363919129\n",
      "количество деревьев =  13 :0.7822706065318819\n",
      "количество деревьев =  14 :0.7838258164852255\n",
      "количество деревьев =  15 :0.7838258164852255\n",
      "количество деревьев =  16 :0.7869362363919129\n",
      "количество деревьев =  17 :0.7869362363919129\n",
      "количество деревьев =  18 :0.7931570762052877\n",
      "количество деревьев =  19 :0.7884914463452566\n",
      "количество деревьев =  20 :0.7869362363919129\n",
      "количество деревьев =  21 :0.7931570762052877\n",
      "количество деревьев =  22 :0.7884914463452566\n",
      "количество деревьев =  23 :0.7947122861586314\n",
      "количество деревьев =  24 :0.7900466562986003\n",
      "количество деревьев =  25 :0.7838258164852255\n",
      "количество деревьев =  26 :0.7853810264385692\n",
      "количество деревьев =  27 :0.7853810264385692\n",
      "количество деревьев =  28 :0.7838258164852255\n",
      "количество деревьев =  29 :0.7791601866251944\n",
      "количество деревьев =  30 :0.7838258164852255\n",
      "0.7947122861586314 Точность валидационной модели:  23  деревьев\n"
     ]
    },
    {
     "data": {
      "image/png": "[encoded data removed]",
      "text/plain": [
       "<Figure size 1080x720 with 1 Axes>"
      ]
     },
     "metadata": {
      "needs_background": "light"
     },
     "output_type": "display_data"
    }
   ],
   "source": [
    "best_model_forest = None\n",
    "best_result_forest = 0\n",
    "model_est = 0\n",
    "epohs_forest = []\n",
    "train_result_forest_list = []\n",
    "valid_result_forest_list = []\n",
    "\n",
    "for est in range(1, 31):\n",
    "    model_forest = RandomForestClassifier(random_state=12345, n_estimators=est)\n",
    "    model_forest.fit(train_data_features, train_data_target)\n",
    "    predictions_forest_train = model_forest.predict(train_data_features)\n",
    "    result_forest_train = accuracy_score(train_data_target, predictions_forest_train)\n",
    "    epohs_forest.append(est)\n",
    "    train_result_forest_list.append(result_forest_train)\n",
    "    \n",
    "    predictions_forest_valid = model_forest.predict(valid_data_features)\n",
    "    result_forest_valid = accuracy_score(valid_data_target, predictions_forest_valid)\n",
    "    valid_result_forest_list.append(result_forest_valid)\n",
    "    print('количество деревьев = ', est, ':', end='')\n",
    "    print(result_forest_valid)\n",
    "    if best_result_forest < result_forest_valid:\n",
    "        best_result_forest = result_forest_valid\n",
    "        best_model_forest = model_forest\n",
    "        model_est = est\n",
    "        \n",
    "print(best_result_forest, 'Точность валидационной модели: ', model_est, ' деревьев' )\n",
    "\n",
    "plt.figure(figsize=(15, 10))\n",
    "plt.plot(epohs_forest, train_result_forest_list, label='train_data');\n",
    "plt.plot(epohs_forest, valid_result_forest_list, label='valid_data');\n",
    "plt.xlabel('Количество деревьев')\n",
    "plt.ylabel('Точность')\n",
    "plt.title('Зависимость точности от количества деревьев')\n",
    "plt.legend()\n",
    "plt.show()"
   ]
  },
  {
   "cell_type": "markdown",
   "metadata": {},
   "source": [
    "Наибольшая точность у модели с количеством деревьев 23 - `0.7947122861586314`\n",
    "\n",
    "Увеличение количества деревьев:\n",
    "\n",
    " - Улучшение стабильности. Увеличение количества деревьев в модели случайного леса приводит к повышению стабильности модели;\n",
    " - Улучшение точности. Начиная с некоторого значения, увеличение количества деревьев может улучшить точность модели;\n",
    " - Увеличение времени обучения: Увеличение количества деревьев ведет к увеличению времени обучения модели. Каждое дерево строится независимо от остальных, поэтому большее количество деревьев требует больше времени на их построение;\n",
    " - Риск переобучения. Слишком большое количество деревьев может привести к переобучению модели.\n",
    "\n",
    "Таким образом для данной модели будем считать оптимальным значение гиперпараметра `n_estimators` = 23 дерева, так как такая модель обеспечивает наилучшую точность, а дальнейшее увеличение количества деревьев увеличивает время обучения, а так же риск переобучения модели, что видно на графике (снижение точности модели на валидационной выборке после значения 23).\n",
    "\n",
    "Посмотрим на влияние параметры глубины деревьев `max_depth`"
   ]
  },
  {
   "cell_type": "code",
   "execution_count": 37,
   "metadata": {
    "scrolled": false
   },
   "outputs": [
    {
     "name": "stdout",
     "output_type": "stream",
     "text": [
      "глубина деревьев =  1 :0.7511664074650077\n",
      "глубина деревьев =  2 :0.7853810264385692\n",
      "глубина деревьев =  3 :0.7884914463452566\n",
      "глубина деревьев =  4 :0.7853810264385692\n",
      "глубина деревьев =  5 :0.7884914463452566\n",
      "глубина деревьев =  6 :0.8009331259720062\n",
      "глубина деревьев =  7 :0.8009331259720062\n",
      "глубина деревьев =  8 :0.7962674961119751\n",
      "глубина деревьев =  9 :0.7916018662519441\n",
      "глубина деревьев =  10 :0.7931570762052877\n",
      "глубина деревьев =  11 :0.7838258164852255\n",
      "глубина деревьев =  12 :0.7978227060653188\n",
      "глубина деревьев =  13 :0.7916018662519441\n",
      "глубина деревьев =  14 :0.776049766718507\n",
      "глубина деревьев =  15 :0.7869362363919129\n",
      "глубина деревьев =  16 :0.7900466562986003\n",
      "глубина деревьев =  17 :0.7838258164852255\n",
      "глубина деревьев =  18 :0.7869362363919129\n",
      "глубина деревьев =  19 :0.7838258164852255\n",
      "глубина деревьев =  20 :0.7884914463452566\n",
      "глубина деревьев =  21 :0.7869362363919129\n",
      "глубина деревьев =  22 :0.7822706065318819\n",
      "глубина деревьев =  23 :0.7853810264385692\n",
      "глубина деревьев =  24 :0.7947122861586314\n",
      "глубина деревьев =  25 :0.7947122861586314\n",
      "глубина деревьев =  26 :0.7962674961119751\n",
      "глубина деревьев =  27 :0.7947122861586314\n",
      "глубина деревьев =  28 :0.7947122861586314\n",
      "глубина деревьев =  29 :0.7947122861586314\n",
      "глубина деревьев =  30 :0.7947122861586314\n",
      "глубина деревьев =  31 :0.7947122861586314\n",
      "глубина деревьев =  32 :0.7947122861586314\n",
      "глубина деревьев =  33 :0.7947122861586314\n",
      "глубина деревьев =  34 :0.7947122861586314\n",
      "0.8009331259720062 Точность валидационной модели:  6  деревьев\n"
     ]
    },
    {
     "data": {
      "image/png": "[encoded data removed]",
      "text/plain": [
       "<Figure size 1080x720 with 1 Axes>"
      ]
     },
     "metadata": {
      "needs_background": "light"
     },
     "output_type": "display_data"
    }
   ],
   "source": [
    "best_model_forest_depth = None\n",
    "best_result_forest_depth = 0\n",
    "model_forest_depth = 0\n",
    "epohs_forest_depth = []\n",
    "train_result_forest_depth_list = []\n",
    "valid_result_forest_depth_list = []\n",
    "\n",
    "\n",
    "for depth in range(1, 35):\n",
    "    best_model_forest_depth = RandomForestClassifier(random_state=12345, n_estimators=23, max_depth=depth)\n",
    "    best_model_forest_depth.fit(train_data_features, train_data_target)\n",
    "    predictions_forest_depth_train = best_model_forest_depth.predict(train_data_features)\n",
    "    result_forest_depth_train = accuracy_score(train_data_target, predictions_forest_depth_train)\n",
    "    epohs_forest_depth.append(depth)\n",
    "    train_result_forest_depth_list.append(result_forest_depth_train)\n",
    "    \n",
    "    predictions_forest_depth_valid = best_model_forest_depth.predict(valid_data_features)\n",
    "    result_forest_depth_valid = accuracy_score(valid_data_target, predictions_forest_depth_valid)\n",
    "    valid_result_forest_depth_list.append(result_forest_depth_valid)\n",
    "    print('глубина деревьев = ', depth, ':', end='')\n",
    "    print(result_forest_depth_valid)\n",
    "    if best_result_forest_depth < result_forest_depth_valid:\n",
    "        best_result_forest_depth = result_forest_depth_valid\n",
    "        best_model_forest_depth = model_forest_depth\n",
    "        model_forest_depth = depth\n",
    "        \n",
    "print(best_result_forest_depth, 'Точность валидационной модели: ', model_forest_depth, ' деревьев' )\n",
    "\n",
    "plt.figure(figsize=(15, 10))\n",
    "plt.plot(epohs_forest_depth, train_result_forest_depth_list, label='train_data');\n",
    "plt.plot(epohs_forest_depth, valid_result_forest_depth_list, label='valid_data');\n",
    "plt.xlabel('Глубина деревьев')\n",
    "plt.ylabel('Точность')\n",
    "plt.title('Зависимость точности от глубины деревьев')\n",
    "plt.legend()\n",
    "plt.show()"
   ]
  },
  {
   "cell_type": "markdown",
   "metadata": {},
   "source": [
    "Наилучшее значение точности получилось у модели с глубиной дерева равной 6 - `0.8009331259720062`. Далее точность падает, а в последствии выходит на плато, что говорит о переобучении модели.\n",
    "\n",
    "Изучим влияние гипепрпараметра `criterion` на точность модели. По умолчанию criterion=`gini`, заменим на `entropy`. "
   ]
  },
  {
   "cell_type": "code",
   "execution_count": 38,
   "metadata": {},
   "outputs": [
    {
     "name": "stdout",
     "output_type": "stream",
     "text": [
      "Лучший результат с gini:  0.8009331259720062\n",
      "Точность модели увеличилась, оставляем гиперпараметр entropy:  0.80248833592535\n"
     ]
    }
   ],
   "source": [
    "best_result_forest = best_result_forest_depth\n",
    "print('Лучший результат с gini: ', best_result_forest)\n",
    "\n",
    "\n",
    "best_model_forest = RandomForestClassifier(random_state=12345,  n_estimators=23, max_depth=6, criterion='entropy')\n",
    "best_model_forest.fit(train_data_features, train_data_target)\n",
    "predictions_valid = best_model_forest.predict(valid_data_features)\n",
    "entropy_result = accuracy_score(valid_data_target, predictions_valid)\n",
    "if best_result_forest < entropy_result:\n",
    "    best_result_forest = entropy_result\n",
    "    print('Точность модели увеличилась, оставляем гиперпараметр entropy: ', best_result_forest)\n",
    "elif best_result_forest == entropy_result:\n",
    "    print('Точность модели не изменилась, оставляем гиперпараметр gini')\n",
    "else:\n",
    "    print('Точность модели уменьшилась, оставляем гиперпараметр gini')"
   ]
  },
  {
   "cell_type": "markdown",
   "metadata": {},
   "source": [
    "Гиперпараметр `criterion` со значением `entropy` даёт большую точность.\n",
    "\n",
    "Наиболее точной моделью обученной алгоритмом случайный лес примем модель с гиперпараметрами:\n",
    " - `n_estimators` = 23\n",
    " - `max_depth` = 6\n",
    " - `criterion` = entropy"
   ]
  },
  {
   "cell_type": "markdown",
   "metadata": {},
   "source": [
    "### Логистическая регрессия\n",
    "\n",
    "В данном блоке исследования будут выполнены следующие действия:\n",
    "\n",
    " - обучим модель логистической регрессии на тренировочной выборке\n",
    " - изучим точность предсказаний на тренировочной выборке в зависимости от количества итераций\n",
    " - изучим точность предсказаний на валидационной выборке в зависимости от количества итераций\n",
    " - сравним показатели и выберем наилучший\n",
    " - построим графики зависимости точности модели от гиперпараметра количества итераций"
   ]
  },
  {
   "cell_type": "code",
   "execution_count": 39,
   "metadata": {},
   "outputs": [
    {
     "name": "stdout",
     "output_type": "stream",
     "text": [
      "количество итераций =  100 :0.7107309486780715\n",
      "количество итераций =  200 :0.7107309486780715\n",
      "количество итераций =  300 :0.7107309486780715\n",
      "количество итераций =  400 :0.7107309486780715\n",
      "количество итераций =  500 :0.7107309486780715\n",
      "количество итераций =  600 :0.7107309486780715\n",
      "количество итераций =  700 :0.7107309486780715\n",
      "количество итераций =  800 :0.7107309486780715\n",
      "количество итераций =  900 :0.7107309486780715\n",
      "количество итераций =  1000 :0.7107309486780715\n",
      "количество итераций =  1100 :0.7107309486780715\n",
      "количество итераций =  1200 :0.7107309486780715\n",
      "количество итераций =  1300 :0.7107309486780715\n",
      "количество итераций =  1400 :0.7107309486780715\n",
      "количество итераций =  1500 :0.7107309486780715\n",
      "количество итераций =  1600 :0.7107309486780715\n",
      "количество итераций =  1700 :0.7107309486780715\n",
      "количество итераций =  1800 :0.7107309486780715\n",
      "количество итераций =  1900 :0.7107309486780715\n",
      "0.7107309486780715 Точность валидационной модели:  100  итераций\n"
     ]
    },
    {
     "data": {
      "image/png": "[encoded data removed]",
      "text/plain": [
       "<Figure size 1080x720 with 1 Axes>"
      ]
     },
     "metadata": {
      "needs_background": "light"
     },
     "output_type": "display_data"
    }
   ],
   "source": [
    "epohs_log = []\n",
    "train_result_log_list = []\n",
    "valid_result_log_list = []\n",
    "best_result_log = 0\n",
    "best_model_log = None\n",
    "best_itr = 0\n",
    "\n",
    "for itr in range(100, 2000, 100):\n",
    "    model_log = LogisticRegression(random_state=12345, solver='lbfgs', max_iter=itr)\n",
    "    model_log.fit(train_data_features, train_data_target)\n",
    "    train_predictions_log = model_log.predict(train_data_features)\n",
    "    train_result_log = accuracy_score(train_data_target, train_predictions_log)\n",
    "    epohs_log.append(itr)\n",
    "    train_result_log_list.append(train_result_log)\n",
    "    \n",
    "    valid_predictions_log = model_log.predict(valid_data_features)\n",
    "    valid_result_log = accuracy_score(valid_data_target, valid_predictions_log)\n",
    "    valid_result_log_list.append(valid_result_log)\n",
    "    print('количество итераций = ', itr, ':', end='')\n",
    "    print(valid_result_log)\n",
    "    if best_result_log < valid_result_log:\n",
    "        best_result_log = valid_result_log\n",
    "        best_model_log = model_log\n",
    "        best_itr = itr\n",
    "        \n",
    "print(best_result_log, 'Точность валидационной модели: ', best_itr, ' итераций' )\n",
    "\n",
    "plt.figure(figsize=(15, 10))\n",
    "plt.plot(epohs_log, train_result_log_list, label='train_data');\n",
    "plt.plot(epohs_log, valid_result_log_list, label='valid_data');\n",
    "plt.xlabel('Количество итераций')\n",
    "plt.ylabel('Точность')\n",
    "plt.title('Зависимость точности от количества итераций')\n",
    "plt.legend()\n",
    "plt.show()"
   ]
  },
  {
   "cell_type": "markdown",
   "metadata": {},
   "source": [
    "Точность оказывается одинаковой и при значении параметра 100 и 2000. Чтобы не увеличивать время обучения модели, примем гиперпараметр `max_iter` = 100\n",
    "\n",
    "### Вывод\n",
    "\n",
    "Посмотрим какие наилучшие результаты получились для каждой модели:"
   ]
  },
  {
   "cell_type": "code",
   "execution_count": 40,
   "metadata": {},
   "outputs": [
    {
     "name": "stdout",
     "output_type": "stream",
     "text": [
      "Лучший результат дерева решений:  0.7853810264385692\n",
      "Лучший результат случайного леса:  0.80248833592535\n",
      "Лучший результат логистической регрессии:  0.7107309486780715\n"
     ]
    }
   ],
   "source": [
    "print('Лучший результат дерева решений: ', best_result_tree)\n",
    "print('Лучший результат случайного леса: ', best_result_forest)\n",
    "print('Лучший результат логистической регрессии: ', best_result_log)"
   ]
  },
  {
   "cell_type": "markdown",
   "metadata": {},
   "source": [
    "Наиболее высокой точности получилось добиться для случайного леса - `0.80248833592535`"
   ]
  },
  {
   "cell_type": "markdown",
   "metadata": {},
   "source": [
    "## Проверка модели на тестовой выборке\n",
    "\n",
    "Так как наибольшей точности удалось добиться на модели случайного леса (`RandomForest`) - посмотрим, как модель справиться с тестовыми данными:"
   ]
  },
  {
   "cell_type": "code",
   "execution_count": 41,
   "metadata": {},
   "outputs": [
    {
     "name": "stdout",
     "output_type": "stream",
     "text": [
      "Точность случайного леса на тестовой выборке:  0.7993779160186625\n"
     ]
    }
   ],
   "source": [
    "best_model_forest = RandomForestClassifier(random_state=12345,  n_estimators=23, max_depth=6, criterion='entropy')\n",
    "best_model_forest.fit(train_data_features, train_data_target)\n",
    "predictions_forest = best_model_forest.predict(test_data_features)\n",
    "test_result_forest = accuracy_score(test_data_target, predictions_forest)\n",
    "print('Точность случайного леса на тестовой выборке: ', test_result_forest)"
   ]
  },
  {
   "cell_type": "markdown",
   "metadata": {},
   "source": [
    "Модель случайного леса на тестовых данных показала результат `0.7993779160186625`.\n",
    "\n",
    "Для решения поставленной задачи выбор данной модели будет оптимальным вариантом."
   ]
  },
  {
   "cell_type": "markdown",
   "metadata": {},
   "source": [
    "## Проверка модели на адекватность\n",
    "\n",
    "Адекватность модели оценивается по нескольким параметрам. Для модели классификации это accuracy, precision и recall. Качество модели лучше всего отражают precision и recall и эти метрики складываются в F-мера как единую оценку модели."
   ]
  },
  {
   "cell_type": "code",
   "execution_count": 42,
   "metadata": {},
   "outputs": [
    {
     "name": "stdout",
     "output_type": "stream",
     "text": [
      "accuracy = 0.7993779160186625 precision = 0.7846153846153846 recall = 0.5024630541871922\n"
     ]
    }
   ],
   "source": [
    "test_predictions = best_model_forest.predict(test_data_features)\n",
    "accuracy = accuracy_score(test_data_target, test_predictions)\n",
    "precision = precision_score(test_data_target, test_predictions)\n",
    "recall = recall_score(test_data_target, test_predictions)\n",
    "print('accuracy =', accuracy, 'precision =', precision, 'recall =', recall)"
   ]
  },
  {
   "cell_type": "code",
   "execution_count": 43,
   "metadata": {},
   "outputs": [
    {
     "name": "stdout",
     "output_type": "stream",
     "text": [
      "F-мера = 0.6126126126126127\n"
     ]
    }
   ],
   "source": [
    "f_score = f1_score(test_data_target, test_predictions)\n",
    "print('F-мера =', f_score)"
   ]
  },
  {
   "cell_type": "markdown",
   "metadata": {},
   "source": [
    "**Вывод**\n",
    "\n",
    "Модель получилась среднего качества, что адекватно для подобных задач."
   ]
  },
  {
   "cell_type": "markdown",
   "metadata": {},
   "source": [
    "Проверим модель на адекватность в сравнении с DummyClassifier:"
   ]
  },
  {
   "cell_type": "code",
   "execution_count": 44,
   "metadata": {},
   "outputs": [
    {
     "name": "stdout",
     "output_type": "stream",
     "text": [
      "accuracy DummyClassifier:  0.6842923794712286\n"
     ]
    }
   ],
   "source": [
    "model_dummy = DummyClassifier(random_state=12345, strategy='most_frequent')\n",
    "model_dummy.fit(train_data_features, train_data_target)\n",
    "dummy_predictions = model_dummy.predict(test_data_features)\n",
    "dummy_accuracy = accuracy_score(test_data_target, dummy_predictions)\n",
    "print('accuracy DummyClassifier: ', dummy_accuracy)"
   ]
  },
  {
   "cell_type": "markdown",
   "metadata": {},
   "source": [
    "Модель `RandomForest` получилась более точной, чем у `DummyClassifier`. Можно сделать вывод об адекватности обученной модели."
   ]
  },
  {
   "cell_type": "markdown",
   "metadata": {},
   "source": [
    "## Общий вывод\n",
    "\n",
    "В ходе исследования было сделано:\n",
    "\n",
    " - Изучен файл с данными.\n",
    " - Разбиты данные на три выборки: обучающая, валидационная и тестовая.\n",
    " - Исследованы три модели классификации: Решающее дерево, Случайный лес и Логистическая регрессия.\n",
    " - Найдены оптимальные параметры для каждой модели и выбрана одна из них для обучения модели.\n",
    " - Оценена точность обученной модели.\n",
    " - Оценена адекватность модели.\n",
    " \n",
    "Для обучения модели была использована выборка в 2000 значений. Этого может быть недостаточно для повышения ключевых параметров модели классификатора. Увеличение в 10 или 100 увеличит accuracy, precision и recall, а также время обучения.\n",
    "\n",
    "Адекватность модели повышается с ростом количества значений."
   ]
  },
  {
   "cell_type": "markdown",
   "metadata": {},
   "source": [
    "## Чек-лист готовности проекта"
   ]
  },
  {
   "cell_type": "markdown",
   "metadata": {},
   "source": [
    "Поставьте 'x' в выполненных пунктах. Далее нажмите Shift+Enter."
   ]
  },
  {
   "cell_type": "markdown",
   "metadata": {},
   "source": [
    "- [x] Jupyter Notebook открыт\n",
    "- [x] Весь код исполняется без ошибок\n",
    "- [x] Ячейки с кодом расположены в порядке исполнения\n",
    "- [x] Выполнено задание 1: данные загружены и изучены\n",
    "- [x] Выполнено задание 2: данные разбиты на три выборки\n",
    "- [x] Выполнено задание 3: проведено исследование моделей\n",
    "    - [x] Рассмотрено больше одной модели\n",
    "    - [x] Рассмотрено хотя бы 3 значения гипепараметров для какой-нибудь модели\n",
    "    - [x] Написаны выводы по результатам исследования\n",
    "- [x] Выполнено задание 3: Проведено тестирование\n",
    "- [x] Удалось достичь accuracy не меньше 0.75\n"
   ]
  }
 ],
 "metadata": {
  "ExecuteTimeLog": [
   {
    "duration": 338,
    "start_time": "2023-06-07T19:44:25.981Z"
   },
   {
    "duration": 3,
    "start_time": "2023-06-07T19:45:00.343Z"
   },
   {
    "duration": 122,
    "start_time": "2023-06-07T19:45:45.599Z"
   },
   {
    "duration": 19,
    "start_time": "2023-06-07T19:46:02.123Z"
   },
   {
    "duration": 367,
    "start_time": "2023-06-08T18:24:48.532Z"
   },
   {
    "duration": 175,
    "start_time": "2023-06-08T18:24:48.958Z"
   },
   {
    "duration": 14,
    "start_time": "2023-06-08T18:24:49.867Z"
   },
   {
    "duration": 58,
    "start_time": "2023-06-08T18:25:09.734Z"
   },
   {
    "duration": 3,
    "start_time": "2023-06-08T18:25:30.243Z"
   },
   {
    "duration": 709,
    "start_time": "2023-06-08T19:08:25.288Z"
   },
   {
    "duration": 2,
    "start_time": "2023-06-08T19:11:07.034Z"
   },
   {
    "duration": 34,
    "start_time": "2023-06-08T19:11:07.274Z"
   },
   {
    "duration": 8,
    "start_time": "2023-06-08T19:11:07.472Z"
   },
   {
    "duration": 3,
    "start_time": "2023-06-08T19:11:08.088Z"
   },
   {
    "duration": 35,
    "start_time": "2023-06-08T19:13:08.125Z"
   },
   {
    "duration": 8,
    "start_time": "2023-06-08T19:13:12.853Z"
   },
   {
    "duration": 4,
    "start_time": "2023-06-08T19:13:18.407Z"
   },
   {
    "duration": 6,
    "start_time": "2023-06-08T19:18:03.123Z"
   },
   {
    "duration": 44,
    "start_time": "2023-06-08T19:23:01.863Z"
   },
   {
    "duration": 5,
    "start_time": "2023-06-08T19:23:09.625Z"
   },
   {
    "duration": 15,
    "start_time": "2023-06-08T19:33:02.163Z"
   },
   {
    "duration": 30,
    "start_time": "2023-06-08T19:34:00.930Z"
   },
   {
    "duration": 63,
    "start_time": "2023-06-08T19:34:29.729Z"
   },
   {
    "duration": 64,
    "start_time": "2023-06-08T20:03:13.718Z"
   },
   {
    "duration": 29,
    "start_time": "2023-06-08T20:03:36.429Z"
   },
   {
    "duration": 65,
    "start_time": "2023-06-08T20:03:57.535Z"
   },
   {
    "duration": 462,
    "start_time": "2023-06-08T20:04:16.937Z"
   },
   {
    "duration": 29,
    "start_time": "2023-06-08T20:04:29.706Z"
   },
   {
    "duration": 17,
    "start_time": "2023-06-08T20:12:40.995Z"
   },
   {
    "duration": 16,
    "start_time": "2023-06-08T20:13:21.102Z"
   },
   {
    "duration": 39,
    "start_time": "2023-06-08T20:14:06.984Z"
   },
   {
    "duration": 416,
    "start_time": "2023-06-08T20:14:56.868Z"
   },
   {
    "duration": 160,
    "start_time": "2023-06-08T20:17:07.441Z"
   },
   {
    "duration": 98,
    "start_time": "2023-06-08T20:19:05.288Z"
   },
   {
    "duration": 141,
    "start_time": "2023-06-08T20:19:12.762Z"
   },
   {
    "duration": 174,
    "start_time": "2023-06-08T20:19:57.938Z"
   },
   {
    "duration": 177,
    "start_time": "2023-06-08T20:23:09.945Z"
   },
   {
    "duration": 103,
    "start_time": "2023-06-08T20:23:53.539Z"
   },
   {
    "duration": 87,
    "start_time": "2023-06-08T20:24:00.442Z"
   },
   {
    "duration": 294,
    "start_time": "2023-06-08T20:24:12.905Z"
   },
   {
    "duration": 298,
    "start_time": "2023-06-08T20:24:28.956Z"
   },
   {
    "duration": 55,
    "start_time": "2023-06-08T20:25:42.622Z"
   },
   {
    "duration": 248,
    "start_time": "2023-06-08T20:25:50.638Z"
   },
   {
    "duration": 217,
    "start_time": "2023-06-08T20:28:41.975Z"
   },
   {
    "duration": 231,
    "start_time": "2023-06-08T20:28:56.123Z"
   },
   {
    "duration": 257,
    "start_time": "2023-06-08T20:31:29.107Z"
   },
   {
    "duration": 258,
    "start_time": "2023-06-08T20:32:26.653Z"
   },
   {
    "duration": 800,
    "start_time": "2023-06-08T20:32:40.347Z"
   },
   {
    "duration": 329,
    "start_time": "2023-06-08T20:33:32.114Z"
   },
   {
    "duration": 535,
    "start_time": "2023-06-08T20:47:29.512Z"
   },
   {
    "duration": 11,
    "start_time": "2023-06-08T21:04:47.069Z"
   },
   {
    "duration": 546,
    "start_time": "2023-06-08T21:05:08.067Z"
   },
   {
    "duration": 10,
    "start_time": "2023-06-08T21:05:31.188Z"
   },
   {
    "duration": 204,
    "start_time": "2023-06-08T21:21:14.677Z"
   },
   {
    "duration": 262,
    "start_time": "2023-06-08T21:23:32.467Z"
   },
   {
    "duration": 15,
    "start_time": "2023-06-08T21:24:16.384Z"
   },
   {
    "duration": 765,
    "start_time": "2023-06-08T21:24:24.341Z"
   },
   {
    "duration": 207,
    "start_time": "2023-06-08T21:24:34.157Z"
   },
   {
    "duration": 204,
    "start_time": "2023-06-08T21:27:39.308Z"
   },
   {
    "duration": 210,
    "start_time": "2023-06-08T21:28:41.858Z"
   },
   {
    "duration": 211,
    "start_time": "2023-06-08T21:29:23.072Z"
   },
   {
    "duration": 220,
    "start_time": "2023-06-08T21:31:28.447Z"
   },
   {
    "duration": 7,
    "start_time": "2023-06-08T21:37:26.915Z"
   },
   {
    "duration": 3,
    "start_time": "2023-06-08T21:37:46.665Z"
   },
   {
    "duration": 35,
    "start_time": "2023-06-08T21:37:47.177Z"
   },
   {
    "duration": 7,
    "start_time": "2023-06-08T21:37:47.213Z"
   },
   {
    "duration": 3,
    "start_time": "2023-06-08T21:37:47.255Z"
   },
   {
    "duration": 7,
    "start_time": "2023-06-08T21:37:47.354Z"
   },
   {
    "duration": 5,
    "start_time": "2023-06-08T21:37:47.392Z"
   },
   {
    "duration": 515,
    "start_time": "2023-06-08T21:37:47.484Z"
   },
   {
    "duration": 10,
    "start_time": "2023-06-08T21:37:48.000Z"
   },
   {
    "duration": 216,
    "start_time": "2023-06-08T21:37:48.017Z"
   },
   {
    "duration": 223,
    "start_time": "2023-06-08T21:37:48.235Z"
   },
   {
    "duration": 8,
    "start_time": "2023-06-08T21:37:48.459Z"
   },
   {
    "duration": 97,
    "start_time": "2023-06-08T21:42:43.303Z"
   },
   {
    "duration": 1431,
    "start_time": "2023-06-09T10:43:07.138Z"
   },
   {
    "duration": 69,
    "start_time": "2023-06-09T10:43:08.571Z"
   },
   {
    "duration": 12,
    "start_time": "2023-06-09T10:43:09.094Z"
   },
   {
    "duration": 3,
    "start_time": "2023-06-09T10:43:10.111Z"
   },
   {
    "duration": 7,
    "start_time": "2023-06-09T10:43:12.075Z"
   },
   {
    "duration": 6,
    "start_time": "2023-06-09T10:43:13.516Z"
   },
   {
    "duration": 518,
    "start_time": "2023-06-09T10:43:15.489Z"
   },
   {
    "duration": 10,
    "start_time": "2023-06-09T10:44:31.437Z"
   },
   {
    "duration": 217,
    "start_time": "2023-06-09T10:44:33.292Z"
   },
   {
    "duration": 228,
    "start_time": "2023-06-09T10:44:37.618Z"
   },
   {
    "duration": 9,
    "start_time": "2023-06-09T10:44:40.187Z"
   },
   {
    "duration": 1654,
    "start_time": "2023-06-09T19:46:13.621Z"
   },
   {
    "duration": 88,
    "start_time": "2023-06-09T19:46:15.276Z"
   },
   {
    "duration": 13,
    "start_time": "2023-06-09T19:46:16.230Z"
   },
   {
    "duration": 3,
    "start_time": "2023-06-09T19:46:17.287Z"
   },
   {
    "duration": 7,
    "start_time": "2023-06-09T19:46:18.454Z"
   },
   {
    "duration": 7,
    "start_time": "2023-06-09T19:46:19.402Z"
   },
   {
    "duration": 545,
    "start_time": "2023-06-09T19:46:21.375Z"
   },
   {
    "duration": 9,
    "start_time": "2023-06-09T19:46:23.846Z"
   },
   {
    "duration": 243,
    "start_time": "2023-06-09T19:46:25.471Z"
   },
   {
    "duration": 235,
    "start_time": "2023-06-09T19:46:29.142Z"
   },
   {
    "duration": 9,
    "start_time": "2023-06-09T19:46:32.390Z"
   },
   {
    "duration": 123,
    "start_time": "2023-06-09T19:49:22.046Z"
   },
   {
    "duration": 11,
    "start_time": "2023-06-09T19:49:52.200Z"
   },
   {
    "duration": 286,
    "start_time": "2023-06-09T20:22:26.046Z"
   },
   {
    "duration": 279,
    "start_time": "2023-06-09T20:25:08.418Z"
   },
   {
    "duration": 1916,
    "start_time": "2023-06-09T20:25:32.444Z"
   },
   {
    "duration": 2039,
    "start_time": "2023-06-09T20:27:13.639Z"
   },
   {
    "duration": 2544,
    "start_time": "2023-06-09T20:27:36.031Z"
   },
   {
    "duration": 18715,
    "start_time": "2023-06-09T20:28:52.944Z"
   },
   {
    "duration": 2067,
    "start_time": "2023-06-09T20:29:37.402Z"
   },
   {
    "duration": 1996,
    "start_time": "2023-06-09T20:32:05.244Z"
   },
   {
    "duration": 2502,
    "start_time": "2023-06-09T21:07:13.406Z"
   },
   {
    "duration": 2486,
    "start_time": "2023-06-09T21:08:15.263Z"
   },
   {
    "duration": 9106,
    "start_time": "2023-06-09T21:08:46.946Z"
   },
   {
    "duration": 3092,
    "start_time": "2023-06-09T21:09:20.130Z"
   },
   {
    "duration": 64,
    "start_time": "2023-06-09T21:24:45.416Z"
   },
   {
    "duration": 72,
    "start_time": "2023-06-09T21:26:51.259Z"
   },
   {
    "duration": 63,
    "start_time": "2023-06-09T21:27:13.357Z"
   },
   {
    "duration": 4,
    "start_time": "2023-06-09T21:44:47.685Z"
   },
   {
    "duration": 3,
    "start_time": "2023-06-09T21:45:05.999Z"
   },
   {
    "duration": 41,
    "start_time": "2023-06-09T21:45:06.499Z"
   },
   {
    "duration": 8,
    "start_time": "2023-06-09T21:45:06.542Z"
   },
   {
    "duration": 4,
    "start_time": "2023-06-09T21:45:06.557Z"
   },
   {
    "duration": 6,
    "start_time": "2023-06-09T21:45:06.664Z"
   },
   {
    "duration": 7,
    "start_time": "2023-06-09T21:45:06.718Z"
   },
   {
    "duration": 558,
    "start_time": "2023-06-09T21:45:06.804Z"
   },
   {
    "duration": 10,
    "start_time": "2023-06-09T21:45:07.364Z"
   },
   {
    "duration": 248,
    "start_time": "2023-06-09T21:45:07.375Z"
   },
   {
    "duration": 319,
    "start_time": "2023-06-09T21:45:07.625Z"
   },
   {
    "duration": 8,
    "start_time": "2023-06-09T21:45:07.945Z"
   },
   {
    "duration": 2071,
    "start_time": "2023-06-09T21:45:07.954Z"
   },
   {
    "duration": 2994,
    "start_time": "2023-06-09T21:45:10.026Z"
   },
   {
    "duration": 65,
    "start_time": "2023-06-09T21:45:13.022Z"
   },
   {
    "duration": 18,
    "start_time": "2023-06-09T21:45:13.088Z"
   },
   {
    "duration": 3,
    "start_time": "2023-06-09T21:45:28.752Z"
   },
   {
    "duration": 104,
    "start_time": "2023-06-09T21:49:06.992Z"
   },
   {
    "duration": 3,
    "start_time": "2023-06-09T21:49:13.611Z"
   },
   {
    "duration": 16674,
    "start_time": "2023-06-09T22:07:42.173Z"
   },
   {
    "duration": 17533,
    "start_time": "2023-06-09T22:08:41.056Z"
   },
   {
    "duration": 604,
    "start_time": "2023-06-09T22:09:33.646Z"
   },
   {
    "duration": 3359,
    "start_time": "2023-06-09T22:11:05.568Z"
   },
   {
    "duration": 2992,
    "start_time": "2023-06-09T22:11:52.534Z"
   },
   {
    "duration": 3049,
    "start_time": "2023-06-09T22:12:06.612Z"
   },
   {
    "duration": 336,
    "start_time": "2023-06-09T22:12:33.960Z"
   },
   {
    "duration": 607,
    "start_time": "2023-06-09T22:15:03.728Z"
   },
   {
    "duration": 473,
    "start_time": "2023-06-09T22:15:20.986Z"
   },
   {
    "duration": 132,
    "start_time": "2023-06-09T22:22:36.992Z"
   },
   {
    "duration": 36,
    "start_time": "2023-06-09T22:22:49.894Z"
   },
   {
    "duration": 236,
    "start_time": "2023-06-09T22:23:26.322Z"
   },
   {
    "duration": 318,
    "start_time": "2023-06-09T22:23:50.422Z"
   },
   {
    "duration": 531,
    "start_time": "2023-06-09T22:25:32.043Z"
   },
   {
    "duration": 773,
    "start_time": "2023-06-09T22:26:20.652Z"
   },
   {
    "duration": 986,
    "start_time": "2023-06-09T22:26:24.813Z"
   },
   {
    "duration": 1002,
    "start_time": "2023-06-09T22:26:32.512Z"
   },
   {
    "duration": 191,
    "start_time": "2023-06-09T22:28:37.674Z"
   },
   {
    "duration": 238,
    "start_time": "2023-06-09T22:28:53.259Z"
   },
   {
    "duration": 197,
    "start_time": "2023-06-09T22:29:26.070Z"
   },
   {
    "duration": 244,
    "start_time": "2023-06-09T22:29:40.586Z"
   },
   {
    "duration": 186,
    "start_time": "2023-06-09T22:30:16.448Z"
   },
   {
    "duration": 196,
    "start_time": "2023-06-09T22:30:24.819Z"
   },
   {
    "duration": 164,
    "start_time": "2023-06-09T22:35:02.517Z"
   },
   {
    "duration": 20,
    "start_time": "2023-06-09T22:35:25.673Z"
   },
   {
    "duration": 11,
    "start_time": "2023-06-09T22:35:37.359Z"
   },
   {
    "duration": 23,
    "start_time": "2023-06-09T22:35:48.019Z"
   },
   {
    "duration": 38,
    "start_time": "2023-06-09T22:35:55.511Z"
   },
   {
    "duration": 3,
    "start_time": "2023-06-09T22:40:18.600Z"
   },
   {
    "duration": 3,
    "start_time": "2023-06-09T22:41:18.131Z"
   },
   {
    "duration": 499,
    "start_time": "2023-06-09T22:41:31.599Z"
   },
   {
    "duration": 4,
    "start_time": "2023-06-09T22:41:32.933Z"
   },
   {
    "duration": 88,
    "start_time": "2023-06-09T22:59:40.473Z"
   },
   {
    "duration": 83,
    "start_time": "2023-06-09T23:00:38.250Z"
   },
   {
    "duration": 3,
    "start_time": "2023-06-09T23:10:24.235Z"
   },
   {
    "duration": 11,
    "start_time": "2023-06-09T23:16:01.910Z"
   },
   {
    "duration": 11,
    "start_time": "2023-06-09T23:16:26.667Z"
   },
   {
    "duration": 6,
    "start_time": "2023-06-09T23:16:50.755Z"
   },
   {
    "duration": 4,
    "start_time": "2023-06-09T23:36:53.584Z"
   },
   {
    "duration": 34,
    "start_time": "2023-06-09T23:36:53.614Z"
   },
   {
    "duration": 9,
    "start_time": "2023-06-09T23:36:53.652Z"
   },
   {
    "duration": 4,
    "start_time": "2023-06-09T23:36:53.676Z"
   },
   {
    "duration": 10,
    "start_time": "2023-06-09T23:36:53.769Z"
   },
   {
    "duration": 7,
    "start_time": "2023-06-09T23:36:53.829Z"
   },
   {
    "duration": 553,
    "start_time": "2023-06-09T23:36:53.921Z"
   },
   {
    "duration": 12,
    "start_time": "2023-06-09T23:36:54.476Z"
   },
   {
    "duration": 252,
    "start_time": "2023-06-09T23:36:54.490Z"
   },
   {
    "duration": 245,
    "start_time": "2023-06-09T23:36:54.744Z"
   },
   {
    "duration": 16,
    "start_time": "2023-06-09T23:36:54.990Z"
   },
   {
    "duration": 2110,
    "start_time": "2023-06-09T23:36:55.008Z"
   },
   {
    "duration": 2854,
    "start_time": "2023-06-09T23:36:57.120Z"
   },
   {
    "duration": 71,
    "start_time": "2023-06-09T23:36:59.976Z"
   },
   {
    "duration": 518,
    "start_time": "2023-06-09T23:37:00.049Z"
   },
   {
    "duration": 4,
    "start_time": "2023-06-09T23:37:00.570Z"
   },
   {
    "duration": 142,
    "start_time": "2023-06-09T23:37:00.576Z"
   },
   {
    "duration": 12,
    "start_time": "2023-06-09T23:37:00.719Z"
   },
   {
    "duration": 29,
    "start_time": "2023-06-09T23:37:00.732Z"
   },
   {
    "duration": 1643,
    "start_time": "2023-06-10T09:17:05.085Z"
   },
   {
    "duration": 4,
    "start_time": "2023-06-10T10:01:38.912Z"
   },
   {
    "duration": 127,
    "start_time": "2023-06-10T10:01:38.989Z"
   },
   {
    "duration": 15,
    "start_time": "2023-06-10T10:01:39.118Z"
   },
   {
    "duration": 28,
    "start_time": "2023-06-10T10:01:39.135Z"
   },
   {
    "duration": 8,
    "start_time": "2023-06-10T10:01:39.204Z"
   },
   {
    "duration": 7,
    "start_time": "2023-06-10T10:01:39.261Z"
   },
   {
    "duration": 652,
    "start_time": "2023-06-10T10:01:39.412Z"
   },
   {
    "duration": 13,
    "start_time": "2023-06-10T10:01:40.816Z"
   },
   {
    "duration": 278,
    "start_time": "2023-06-10T10:01:40.874Z"
   },
   {
    "duration": 284,
    "start_time": "2023-06-10T10:01:41.155Z"
   },
   {
    "duration": 11,
    "start_time": "2023-06-10T10:01:41.446Z"
   },
   {
    "duration": 2790,
    "start_time": "2023-06-10T10:01:41.459Z"
   },
   {
    "duration": 3659,
    "start_time": "2023-06-10T10:01:44.252Z"
   },
   {
    "duration": 110,
    "start_time": "2023-06-10T10:01:47.913Z"
   },
   {
    "duration": 688,
    "start_time": "2023-06-10T10:01:48.025Z"
   },
   {
    "duration": 4,
    "start_time": "2023-06-10T10:01:48.714Z"
   },
   {
    "duration": 113,
    "start_time": "2023-06-10T10:01:54.983Z"
   },
   {
    "duration": 12,
    "start_time": "2023-06-10T10:06:29.610Z"
   },
   {
    "duration": 5,
    "start_time": "2023-06-10T10:06:31.281Z"
   },
   {
    "duration": 4,
    "start_time": "2023-06-10T10:11:43.471Z"
   },
   {
    "duration": 114,
    "start_time": "2023-06-10T10:19:13.301Z"
   },
   {
    "duration": 10,
    "start_time": "2023-06-10T10:19:26.560Z"
   },
   {
    "duration": 6,
    "start_time": "2023-06-10T10:20:07.956Z"
   },
   {
    "duration": 4,
    "start_time": "2023-06-10T10:25:44.089Z"
   },
   {
    "duration": 36,
    "start_time": "2023-06-10T10:25:44.174Z"
   },
   {
    "duration": 10,
    "start_time": "2023-06-10T10:25:44.212Z"
   },
   {
    "duration": 7,
    "start_time": "2023-06-10T10:25:44.235Z"
   },
   {
    "duration": 8,
    "start_time": "2023-06-10T10:25:44.382Z"
   },
   {
    "duration": 11,
    "start_time": "2023-06-10T10:25:44.443Z"
   },
   {
    "duration": 659,
    "start_time": "2023-06-10T10:25:44.600Z"
   },
   {
    "duration": 14,
    "start_time": "2023-06-10T10:25:45.261Z"
   },
   {
    "duration": 307,
    "start_time": "2023-06-10T10:25:45.277Z"
   },
   {
    "duration": 283,
    "start_time": "2023-06-10T10:25:45.586Z"
   },
   {
    "duration": 9,
    "start_time": "2023-06-10T10:25:45.871Z"
   },
   {
    "duration": 2643,
    "start_time": "2023-06-10T10:25:45.881Z"
   },
   {
    "duration": 3685,
    "start_time": "2023-06-10T10:25:48.526Z"
   },
   {
    "duration": 91,
    "start_time": "2023-06-10T10:25:52.213Z"
   },
   {
    "duration": 1086,
    "start_time": "2023-06-10T10:25:52.306Z"
   },
   {
    "duration": 4,
    "start_time": "2023-06-10T10:25:53.395Z"
   },
   {
    "duration": 101,
    "start_time": "2023-06-10T10:25:53.401Z"
   },
   {
    "duration": 15,
    "start_time": "2023-06-10T10:25:53.503Z"
   },
   {
    "duration": 68,
    "start_time": "2023-06-10T10:25:53.519Z"
   },
   {
    "duration": 51,
    "start_time": "2023-06-10T10:25:53.588Z"
   }
  ],
  "kernelspec": {
   "display_name": "Python 3 (ipykernel)",
   "language": "python",
   "name": "python3"
  },
  "language_info": {
   "codemirror_mode": {
    "name": "ipython",
    "version": 3
   },
   "file_extension": ".py",
   "mimetype": "text/x-python",
   "name": "python",
   "nbconvert_exporter": "python",
   "pygments_lexer": "ipython3",
   "version": "3.9.5"
  },
  "toc": {
   "base_numbering": 1,
   "nav_menu": {},
   "number_sections": true,
   "sideBar": true,
   "skip_h1_title": true,
   "title_cell": "Table of Contents",
   "title_sidebar": "Contents",
   "toc_cell": false,
   "toc_position": {},
   "toc_section_display": true,
   "toc_window_display": false
  }
 },
 "nbformat": 4,
 "nbformat_minor": 2
}

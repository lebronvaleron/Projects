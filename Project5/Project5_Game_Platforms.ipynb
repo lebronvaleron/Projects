{
 "cells": [
  {
   "cell_type": "markdown",
   "metadata": {},
   "source": [
    "# Сборный проект. Анализ и предсказание продаж игр на различных платформах.\n",
    "\n",
    "Интернет-магазин, который продаёт по всему миру компьютерные игры. Из открытых источников доступны исторические данные о продажах игр, оценки пользователей и экспертов, жанры и платформы (например, Xbox или PlayStation). Необходимо выявить определяющие успешность игры закономерности. Это позволит сделать ставку на потенциально популярный продукт и спланировать рекламные кампании.\n",
    "\n",
    "**Описание данных**\n",
    "\n",
    " - `Name` — название игры\n",
    " - `Platform` — платформа\n",
    " - `Year_of_Release` — год выпуска\n",
    " - `Genre` — жанр игры\n",
    " - `NA_sales` — продажи в Северной Америке (миллионы проданных копий)\n",
    " - `EU_sales` — продажи в Европе (миллионы проданных копий)\n",
    " - `JP_sales` — продажи в Японии (миллионы проданных копий)\n",
    " - `Other_sales` — продажи в других странах (миллионы проданных копий)\n",
    " - `Critic_Score` — оценка критиков (максимум 100)\n",
    " - `User_Score` — оценка пользователей (максимум 10)\n",
    " - `Rating` — рейтинг от организации ESRB (англ. Entertainment Software Rating Board). Эта ассоциация определяет рейтинг компьютерных игр и присваивает им подходящую возрастную категорию.\n",
    "\n",
    "## Шаг 1 Общая информация о датасете"
   ]
  },
  {
   "cell_type": "code",
   "execution_count": 1,
   "metadata": {},
   "outputs": [],
   "source": [
    "import pandas as pd\n",
    "import numpy as np\n",
    "import matplotlib.pyplot as plt\n",
    "from scipy import stats as st\n",
    "import seaborn as sns"
   ]
  },
  {
   "cell_type": "code",
   "execution_count": 2,
   "metadata": {},
   "outputs": [],
   "source": [
    "data = pd.read_csv('/datasets/games.csv')"
   ]
  },
  {
   "cell_type": "code",
   "execution_count": 3,
   "metadata": {},
   "outputs": [
    {
     "data": {
      "text/html": [
       "<div>\n",
       "<style scoped>\n",
       "    .dataframe tbody tr th:only-of-type {\n",
       "        vertical-align: middle;\n",
       "    }\n",
       "\n",
       "    .dataframe tbody tr th {\n",
       "        vertical-align: top;\n",
       "    }\n",
       "\n",
       "    .dataframe thead th {\n",
       "        text-align: right;\n",
       "    }\n",
       "</style>\n",
       "<table border=\"1\" class=\"dataframe\">\n",
       "  <thead>\n",
       "    <tr style=\"text-align: right;\">\n",
       "      <th></th>\n",
       "      <th>Name</th>\n",
       "      <th>Platform</th>\n",
       "      <th>Year_of_Release</th>\n",
       "      <th>Genre</th>\n",
       "      <th>NA_sales</th>\n",
       "      <th>EU_sales</th>\n",
       "      <th>JP_sales</th>\n",
       "      <th>Other_sales</th>\n",
       "      <th>Critic_Score</th>\n",
       "      <th>User_Score</th>\n",
       "      <th>Rating</th>\n",
       "    </tr>\n",
       "  </thead>\n",
       "  <tbody>\n",
       "    <tr>\n",
       "      <th>0</th>\n",
       "      <td>Wii Sports</td>\n",
       "      <td>Wii</td>\n",
       "      <td>2006.0</td>\n",
       "      <td>Sports</td>\n",
       "      <td>41.36</td>\n",
       "      <td>28.96</td>\n",
       "      <td>3.77</td>\n",
       "      <td>8.45</td>\n",
       "      <td>76.0</td>\n",
       "      <td>8</td>\n",
       "      <td>E</td>\n",
       "    </tr>\n",
       "    <tr>\n",
       "      <th>1</th>\n",
       "      <td>Super Mario Bros.</td>\n",
       "      <td>NES</td>\n",
       "      <td>1985.0</td>\n",
       "      <td>Platform</td>\n",
       "      <td>29.08</td>\n",
       "      <td>3.58</td>\n",
       "      <td>6.81</td>\n",
       "      <td>0.77</td>\n",
       "      <td>NaN</td>\n",
       "      <td>NaN</td>\n",
       "      <td>NaN</td>\n",
       "    </tr>\n",
       "    <tr>\n",
       "      <th>2</th>\n",
       "      <td>Mario Kart Wii</td>\n",
       "      <td>Wii</td>\n",
       "      <td>2008.0</td>\n",
       "      <td>Racing</td>\n",
       "      <td>15.68</td>\n",
       "      <td>12.76</td>\n",
       "      <td>3.79</td>\n",
       "      <td>3.29</td>\n",
       "      <td>82.0</td>\n",
       "      <td>8.3</td>\n",
       "      <td>E</td>\n",
       "    </tr>\n",
       "    <tr>\n",
       "      <th>3</th>\n",
       "      <td>Wii Sports Resort</td>\n",
       "      <td>Wii</td>\n",
       "      <td>2009.0</td>\n",
       "      <td>Sports</td>\n",
       "      <td>15.61</td>\n",
       "      <td>10.93</td>\n",
       "      <td>3.28</td>\n",
       "      <td>2.95</td>\n",
       "      <td>80.0</td>\n",
       "      <td>8</td>\n",
       "      <td>E</td>\n",
       "    </tr>\n",
       "    <tr>\n",
       "      <th>4</th>\n",
       "      <td>Pokemon Red/Pokemon Blue</td>\n",
       "      <td>GB</td>\n",
       "      <td>1996.0</td>\n",
       "      <td>Role-Playing</td>\n",
       "      <td>11.27</td>\n",
       "      <td>8.89</td>\n",
       "      <td>10.22</td>\n",
       "      <td>1.00</td>\n",
       "      <td>NaN</td>\n",
       "      <td>NaN</td>\n",
       "      <td>NaN</td>\n",
       "    </tr>\n",
       "  </tbody>\n",
       "</table>\n",
       "</div>"
      ],
      "text/plain": [
       "                       Name Platform  Year_of_Release         Genre  NA_sales  \\\n",
       "0                Wii Sports      Wii           2006.0        Sports     41.36   \n",
       "1         Super Mario Bros.      NES           1985.0      Platform     29.08   \n",
       "2            Mario Kart Wii      Wii           2008.0        Racing     15.68   \n",
       "3         Wii Sports Resort      Wii           2009.0        Sports     15.61   \n",
       "4  Pokemon Red/Pokemon Blue       GB           1996.0  Role-Playing     11.27   \n",
       "\n",
       "   EU_sales  JP_sales  Other_sales  Critic_Score User_Score Rating  \n",
       "0     28.96      3.77         8.45          76.0          8      E  \n",
       "1      3.58      6.81         0.77           NaN        NaN    NaN  \n",
       "2     12.76      3.79         3.29          82.0        8.3      E  \n",
       "3     10.93      3.28         2.95          80.0          8      E  \n",
       "4      8.89     10.22         1.00           NaN        NaN    NaN  "
      ]
     },
     "execution_count": 3,
     "metadata": {},
     "output_type": "execute_result"
    }
   ],
   "source": [
    "data.head()"
   ]
  },
  {
   "cell_type": "code",
   "execution_count": 4,
   "metadata": {},
   "outputs": [
    {
     "name": "stdout",
     "output_type": "stream",
     "text": [
      "<class 'pandas.core.frame.DataFrame'>\n",
      "RangeIndex: 16715 entries, 0 to 16714\n",
      "Data columns (total 11 columns):\n",
      " #   Column           Non-Null Count  Dtype  \n",
      "---  ------           --------------  -----  \n",
      " 0   Name             16713 non-null  object \n",
      " 1   Platform         16715 non-null  object \n",
      " 2   Year_of_Release  16446 non-null  float64\n",
      " 3   Genre            16713 non-null  object \n",
      " 4   NA_sales         16715 non-null  float64\n",
      " 5   EU_sales         16715 non-null  float64\n",
      " 6   JP_sales         16715 non-null  float64\n",
      " 7   Other_sales      16715 non-null  float64\n",
      " 8   Critic_Score     8137 non-null   float64\n",
      " 9   User_Score       10014 non-null  object \n",
      " 10  Rating           9949 non-null   object \n",
      "dtypes: float64(6), object(5)\n",
      "memory usage: 1.4+ MB\n"
     ]
    }
   ],
   "source": [
    "data.info()"
   ]
  },
  {
   "cell_type": "code",
   "execution_count": 5,
   "metadata": {},
   "outputs": [
    {
     "data": {
      "text/html": [
       "<div>\n",
       "<style scoped>\n",
       "    .dataframe tbody tr th:only-of-type {\n",
       "        vertical-align: middle;\n",
       "    }\n",
       "\n",
       "    .dataframe tbody tr th {\n",
       "        vertical-align: top;\n",
       "    }\n",
       "\n",
       "    .dataframe thead th {\n",
       "        text-align: right;\n",
       "    }\n",
       "</style>\n",
       "<table border=\"1\" class=\"dataframe\">\n",
       "  <thead>\n",
       "    <tr style=\"text-align: right;\">\n",
       "      <th></th>\n",
       "      <th>Name</th>\n",
       "      <th>Platform</th>\n",
       "      <th>Year_of_Release</th>\n",
       "      <th>Genre</th>\n",
       "      <th>NA_sales</th>\n",
       "      <th>EU_sales</th>\n",
       "      <th>JP_sales</th>\n",
       "      <th>Other_sales</th>\n",
       "      <th>Critic_Score</th>\n",
       "      <th>User_Score</th>\n",
       "      <th>Rating</th>\n",
       "    </tr>\n",
       "  </thead>\n",
       "  <tbody>\n",
       "    <tr>\n",
       "      <th>119</th>\n",
       "      <td>Zumba Fitness</td>\n",
       "      <td>Wii</td>\n",
       "      <td>2010.0</td>\n",
       "      <td>Sports</td>\n",
       "      <td>3.45</td>\n",
       "      <td>2.59</td>\n",
       "      <td>0.0</td>\n",
       "      <td>0.66</td>\n",
       "      <td>NaN</td>\n",
       "      <td>tbd</td>\n",
       "      <td>E</td>\n",
       "    </tr>\n",
       "    <tr>\n",
       "      <th>301</th>\n",
       "      <td>Namco Museum: 50th Anniversary</td>\n",
       "      <td>PS2</td>\n",
       "      <td>2005.0</td>\n",
       "      <td>Misc</td>\n",
       "      <td>2.08</td>\n",
       "      <td>1.35</td>\n",
       "      <td>0.0</td>\n",
       "      <td>0.54</td>\n",
       "      <td>61.0</td>\n",
       "      <td>tbd</td>\n",
       "      <td>E10+</td>\n",
       "    </tr>\n",
       "    <tr>\n",
       "      <th>520</th>\n",
       "      <td>Zumba Fitness 2</td>\n",
       "      <td>Wii</td>\n",
       "      <td>2011.0</td>\n",
       "      <td>Sports</td>\n",
       "      <td>1.51</td>\n",
       "      <td>1.03</td>\n",
       "      <td>0.0</td>\n",
       "      <td>0.27</td>\n",
       "      <td>NaN</td>\n",
       "      <td>tbd</td>\n",
       "      <td>T</td>\n",
       "    </tr>\n",
       "    <tr>\n",
       "      <th>645</th>\n",
       "      <td>uDraw Studio</td>\n",
       "      <td>Wii</td>\n",
       "      <td>2010.0</td>\n",
       "      <td>Misc</td>\n",
       "      <td>1.65</td>\n",
       "      <td>0.57</td>\n",
       "      <td>0.0</td>\n",
       "      <td>0.20</td>\n",
       "      <td>71.0</td>\n",
       "      <td>tbd</td>\n",
       "      <td>E</td>\n",
       "    </tr>\n",
       "    <tr>\n",
       "      <th>657</th>\n",
       "      <td>Frogger's Adventures: Temple of the Frog</td>\n",
       "      <td>GBA</td>\n",
       "      <td>NaN</td>\n",
       "      <td>Adventure</td>\n",
       "      <td>2.15</td>\n",
       "      <td>0.18</td>\n",
       "      <td>0.0</td>\n",
       "      <td>0.07</td>\n",
       "      <td>73.0</td>\n",
       "      <td>tbd</td>\n",
       "      <td>E</td>\n",
       "    </tr>\n",
       "    <tr>\n",
       "      <th>...</th>\n",
       "      <td>...</td>\n",
       "      <td>...</td>\n",
       "      <td>...</td>\n",
       "      <td>...</td>\n",
       "      <td>...</td>\n",
       "      <td>...</td>\n",
       "      <td>...</td>\n",
       "      <td>...</td>\n",
       "      <td>...</td>\n",
       "      <td>...</td>\n",
       "      <td>...</td>\n",
       "    </tr>\n",
       "    <tr>\n",
       "      <th>16695</th>\n",
       "      <td>Planet Monsters</td>\n",
       "      <td>GBA</td>\n",
       "      <td>2001.0</td>\n",
       "      <td>Action</td>\n",
       "      <td>0.01</td>\n",
       "      <td>0.00</td>\n",
       "      <td>0.0</td>\n",
       "      <td>0.00</td>\n",
       "      <td>67.0</td>\n",
       "      <td>tbd</td>\n",
       "      <td>E</td>\n",
       "    </tr>\n",
       "    <tr>\n",
       "      <th>16697</th>\n",
       "      <td>Bust-A-Move 3000</td>\n",
       "      <td>GC</td>\n",
       "      <td>2003.0</td>\n",
       "      <td>Puzzle</td>\n",
       "      <td>0.01</td>\n",
       "      <td>0.00</td>\n",
       "      <td>0.0</td>\n",
       "      <td>0.00</td>\n",
       "      <td>53.0</td>\n",
       "      <td>tbd</td>\n",
       "      <td>E</td>\n",
       "    </tr>\n",
       "    <tr>\n",
       "      <th>16698</th>\n",
       "      <td>Mega Brain Boost</td>\n",
       "      <td>DS</td>\n",
       "      <td>2008.0</td>\n",
       "      <td>Puzzle</td>\n",
       "      <td>0.01</td>\n",
       "      <td>0.00</td>\n",
       "      <td>0.0</td>\n",
       "      <td>0.00</td>\n",
       "      <td>48.0</td>\n",
       "      <td>tbd</td>\n",
       "      <td>E</td>\n",
       "    </tr>\n",
       "    <tr>\n",
       "      <th>16704</th>\n",
       "      <td>Plushees</td>\n",
       "      <td>DS</td>\n",
       "      <td>2008.0</td>\n",
       "      <td>Simulation</td>\n",
       "      <td>0.01</td>\n",
       "      <td>0.00</td>\n",
       "      <td>0.0</td>\n",
       "      <td>0.00</td>\n",
       "      <td>NaN</td>\n",
       "      <td>tbd</td>\n",
       "      <td>E</td>\n",
       "    </tr>\n",
       "    <tr>\n",
       "      <th>16706</th>\n",
       "      <td>Men in Black II: Alien Escape</td>\n",
       "      <td>GC</td>\n",
       "      <td>2003.0</td>\n",
       "      <td>Shooter</td>\n",
       "      <td>0.01</td>\n",
       "      <td>0.00</td>\n",
       "      <td>0.0</td>\n",
       "      <td>0.00</td>\n",
       "      <td>NaN</td>\n",
       "      <td>tbd</td>\n",
       "      <td>T</td>\n",
       "    </tr>\n",
       "  </tbody>\n",
       "</table>\n",
       "<p>2424 rows × 11 columns</p>\n",
       "</div>"
      ],
      "text/plain": [
       "                                           Name Platform  Year_of_Release  \\\n",
       "119                               Zumba Fitness      Wii           2010.0   \n",
       "301              Namco Museum: 50th Anniversary      PS2           2005.0   \n",
       "520                             Zumba Fitness 2      Wii           2011.0   \n",
       "645                                uDraw Studio      Wii           2010.0   \n",
       "657    Frogger's Adventures: Temple of the Frog      GBA              NaN   \n",
       "...                                         ...      ...              ...   \n",
       "16695                           Planet Monsters      GBA           2001.0   \n",
       "16697                          Bust-A-Move 3000       GC           2003.0   \n",
       "16698                          Mega Brain Boost       DS           2008.0   \n",
       "16704                                  Plushees       DS           2008.0   \n",
       "16706             Men in Black II: Alien Escape       GC           2003.0   \n",
       "\n",
       "            Genre  NA_sales  EU_sales  JP_sales  Other_sales  Critic_Score  \\\n",
       "119        Sports      3.45      2.59       0.0         0.66           NaN   \n",
       "301          Misc      2.08      1.35       0.0         0.54          61.0   \n",
       "520        Sports      1.51      1.03       0.0         0.27           NaN   \n",
       "645          Misc      1.65      0.57       0.0         0.20          71.0   \n",
       "657     Adventure      2.15      0.18       0.0         0.07          73.0   \n",
       "...           ...       ...       ...       ...          ...           ...   \n",
       "16695      Action      0.01      0.00       0.0         0.00          67.0   \n",
       "16697      Puzzle      0.01      0.00       0.0         0.00          53.0   \n",
       "16698      Puzzle      0.01      0.00       0.0         0.00          48.0   \n",
       "16704  Simulation      0.01      0.00       0.0         0.00           NaN   \n",
       "16706     Shooter      0.01      0.00       0.0         0.00           NaN   \n",
       "\n",
       "      User_Score Rating  \n",
       "119          tbd      E  \n",
       "301          tbd   E10+  \n",
       "520          tbd      T  \n",
       "645          tbd      E  \n",
       "657          tbd      E  \n",
       "...          ...    ...  \n",
       "16695        tbd      E  \n",
       "16697        tbd      E  \n",
       "16698        tbd      E  \n",
       "16704        tbd      E  \n",
       "16706        tbd      T  \n",
       "\n",
       "[2424 rows x 11 columns]"
      ]
     },
     "execution_count": 5,
     "metadata": {},
     "output_type": "execute_result"
    }
   ],
   "source": [
    "data[data['User_Score'] == 'tbd']"
   ]
  },
  {
   "cell_type": "markdown",
   "metadata": {},
   "source": [
    "Посмотрим на строки с пропущенными значениями"
   ]
  },
  {
   "cell_type": "code",
   "execution_count": 6,
   "metadata": {},
   "outputs": [
    {
     "data": {
      "text/html": [
       "<div>\n",
       "<style scoped>\n",
       "    .dataframe tbody tr th:only-of-type {\n",
       "        vertical-align: middle;\n",
       "    }\n",
       "\n",
       "    .dataframe tbody tr th {\n",
       "        vertical-align: top;\n",
       "    }\n",
       "\n",
       "    .dataframe thead th {\n",
       "        text-align: right;\n",
       "    }\n",
       "</style>\n",
       "<table border=\"1\" class=\"dataframe\">\n",
       "  <thead>\n",
       "    <tr style=\"text-align: right;\">\n",
       "      <th></th>\n",
       "      <th>Name</th>\n",
       "      <th>Platform</th>\n",
       "      <th>Year_of_Release</th>\n",
       "      <th>Genre</th>\n",
       "      <th>NA_sales</th>\n",
       "      <th>EU_sales</th>\n",
       "      <th>JP_sales</th>\n",
       "      <th>Other_sales</th>\n",
       "      <th>Critic_Score</th>\n",
       "      <th>User_Score</th>\n",
       "      <th>Rating</th>\n",
       "    </tr>\n",
       "  </thead>\n",
       "  <tbody>\n",
       "    <tr>\n",
       "      <th>659</th>\n",
       "      <td>NaN</td>\n",
       "      <td>GEN</td>\n",
       "      <td>1993.0</td>\n",
       "      <td>NaN</td>\n",
       "      <td>1.78</td>\n",
       "      <td>0.53</td>\n",
       "      <td>0.00</td>\n",
       "      <td>0.08</td>\n",
       "      <td>NaN</td>\n",
       "      <td>NaN</td>\n",
       "      <td>NaN</td>\n",
       "    </tr>\n",
       "    <tr>\n",
       "      <th>14244</th>\n",
       "      <td>NaN</td>\n",
       "      <td>GEN</td>\n",
       "      <td>1993.0</td>\n",
       "      <td>NaN</td>\n",
       "      <td>0.00</td>\n",
       "      <td>0.00</td>\n",
       "      <td>0.03</td>\n",
       "      <td>0.00</td>\n",
       "      <td>NaN</td>\n",
       "      <td>NaN</td>\n",
       "      <td>NaN</td>\n",
       "    </tr>\n",
       "  </tbody>\n",
       "</table>\n",
       "</div>"
      ],
      "text/plain": [
       "      Name Platform  Year_of_Release Genre  NA_sales  EU_sales  JP_sales  \\\n",
       "659    NaN      GEN           1993.0   NaN      1.78      0.53      0.00   \n",
       "14244  NaN      GEN           1993.0   NaN      0.00      0.00      0.03   \n",
       "\n",
       "       Other_sales  Critic_Score User_Score Rating  \n",
       "659           0.08           NaN        NaN    NaN  \n",
       "14244         0.00           NaN        NaN    NaN  "
      ]
     },
     "execution_count": 6,
     "metadata": {},
     "output_type": "execute_result"
    }
   ],
   "source": [
    "data[data['Name'].isna()]"
   ]
  },
  {
   "cell_type": "code",
   "execution_count": 7,
   "metadata": {},
   "outputs": [
    {
     "data": {
      "text/html": [
       "<div>\n",
       "<style scoped>\n",
       "    .dataframe tbody tr th:only-of-type {\n",
       "        vertical-align: middle;\n",
       "    }\n",
       "\n",
       "    .dataframe tbody tr th {\n",
       "        vertical-align: top;\n",
       "    }\n",
       "\n",
       "    .dataframe thead th {\n",
       "        text-align: right;\n",
       "    }\n",
       "</style>\n",
       "<table border=\"1\" class=\"dataframe\">\n",
       "  <thead>\n",
       "    <tr style=\"text-align: right;\">\n",
       "      <th></th>\n",
       "      <th>Name</th>\n",
       "      <th>Platform</th>\n",
       "      <th>Year_of_Release</th>\n",
       "      <th>Genre</th>\n",
       "      <th>NA_sales</th>\n",
       "      <th>EU_sales</th>\n",
       "      <th>JP_sales</th>\n",
       "      <th>Other_sales</th>\n",
       "      <th>Critic_Score</th>\n",
       "      <th>User_Score</th>\n",
       "      <th>Rating</th>\n",
       "    </tr>\n",
       "  </thead>\n",
       "  <tbody>\n",
       "    <tr>\n",
       "      <th>183</th>\n",
       "      <td>Madden NFL 2004</td>\n",
       "      <td>PS2</td>\n",
       "      <td>NaN</td>\n",
       "      <td>Sports</td>\n",
       "      <td>4.26</td>\n",
       "      <td>0.26</td>\n",
       "      <td>0.01</td>\n",
       "      <td>0.71</td>\n",
       "      <td>94.0</td>\n",
       "      <td>8.5</td>\n",
       "      <td>E</td>\n",
       "    </tr>\n",
       "    <tr>\n",
       "      <th>377</th>\n",
       "      <td>FIFA Soccer 2004</td>\n",
       "      <td>PS2</td>\n",
       "      <td>NaN</td>\n",
       "      <td>Sports</td>\n",
       "      <td>0.59</td>\n",
       "      <td>2.36</td>\n",
       "      <td>0.04</td>\n",
       "      <td>0.51</td>\n",
       "      <td>84.0</td>\n",
       "      <td>6.4</td>\n",
       "      <td>E</td>\n",
       "    </tr>\n",
       "    <tr>\n",
       "      <th>456</th>\n",
       "      <td>LEGO Batman: The Videogame</td>\n",
       "      <td>Wii</td>\n",
       "      <td>NaN</td>\n",
       "      <td>Action</td>\n",
       "      <td>1.80</td>\n",
       "      <td>0.97</td>\n",
       "      <td>0.00</td>\n",
       "      <td>0.29</td>\n",
       "      <td>74.0</td>\n",
       "      <td>7.9</td>\n",
       "      <td>E10+</td>\n",
       "    </tr>\n",
       "    <tr>\n",
       "      <th>475</th>\n",
       "      <td>wwe Smackdown vs. Raw 2006</td>\n",
       "      <td>PS2</td>\n",
       "      <td>NaN</td>\n",
       "      <td>Fighting</td>\n",
       "      <td>1.57</td>\n",
       "      <td>1.02</td>\n",
       "      <td>0.00</td>\n",
       "      <td>0.41</td>\n",
       "      <td>NaN</td>\n",
       "      <td>NaN</td>\n",
       "      <td>NaN</td>\n",
       "    </tr>\n",
       "    <tr>\n",
       "      <th>609</th>\n",
       "      <td>Space Invaders</td>\n",
       "      <td>2600</td>\n",
       "      <td>NaN</td>\n",
       "      <td>Shooter</td>\n",
       "      <td>2.36</td>\n",
       "      <td>0.14</td>\n",
       "      <td>0.00</td>\n",
       "      <td>0.03</td>\n",
       "      <td>NaN</td>\n",
       "      <td>NaN</td>\n",
       "      <td>NaN</td>\n",
       "    </tr>\n",
       "    <tr>\n",
       "      <th>...</th>\n",
       "      <td>...</td>\n",
       "      <td>...</td>\n",
       "      <td>...</td>\n",
       "      <td>...</td>\n",
       "      <td>...</td>\n",
       "      <td>...</td>\n",
       "      <td>...</td>\n",
       "      <td>...</td>\n",
       "      <td>...</td>\n",
       "      <td>...</td>\n",
       "      <td>...</td>\n",
       "    </tr>\n",
       "    <tr>\n",
       "      <th>16373</th>\n",
       "      <td>PDC World Championship Darts 2008</td>\n",
       "      <td>PSP</td>\n",
       "      <td>NaN</td>\n",
       "      <td>Sports</td>\n",
       "      <td>0.01</td>\n",
       "      <td>0.00</td>\n",
       "      <td>0.00</td>\n",
       "      <td>0.00</td>\n",
       "      <td>43.0</td>\n",
       "      <td>tbd</td>\n",
       "      <td>E10+</td>\n",
       "    </tr>\n",
       "    <tr>\n",
       "      <th>16405</th>\n",
       "      <td>Freaky Flyers</td>\n",
       "      <td>GC</td>\n",
       "      <td>NaN</td>\n",
       "      <td>Racing</td>\n",
       "      <td>0.01</td>\n",
       "      <td>0.00</td>\n",
       "      <td>0.00</td>\n",
       "      <td>0.00</td>\n",
       "      <td>69.0</td>\n",
       "      <td>6.5</td>\n",
       "      <td>T</td>\n",
       "    </tr>\n",
       "    <tr>\n",
       "      <th>16448</th>\n",
       "      <td>Inversion</td>\n",
       "      <td>PC</td>\n",
       "      <td>NaN</td>\n",
       "      <td>Shooter</td>\n",
       "      <td>0.01</td>\n",
       "      <td>0.00</td>\n",
       "      <td>0.00</td>\n",
       "      <td>0.00</td>\n",
       "      <td>59.0</td>\n",
       "      <td>6.7</td>\n",
       "      <td>M</td>\n",
       "    </tr>\n",
       "    <tr>\n",
       "      <th>16458</th>\n",
       "      <td>Hakuouki: Shinsengumi Kitan</td>\n",
       "      <td>PS3</td>\n",
       "      <td>NaN</td>\n",
       "      <td>Adventure</td>\n",
       "      <td>0.01</td>\n",
       "      <td>0.00</td>\n",
       "      <td>0.00</td>\n",
       "      <td>0.00</td>\n",
       "      <td>NaN</td>\n",
       "      <td>NaN</td>\n",
       "      <td>NaN</td>\n",
       "    </tr>\n",
       "    <tr>\n",
       "      <th>16522</th>\n",
       "      <td>Virtua Quest</td>\n",
       "      <td>GC</td>\n",
       "      <td>NaN</td>\n",
       "      <td>Role-Playing</td>\n",
       "      <td>0.01</td>\n",
       "      <td>0.00</td>\n",
       "      <td>0.00</td>\n",
       "      <td>0.00</td>\n",
       "      <td>55.0</td>\n",
       "      <td>5.5</td>\n",
       "      <td>T</td>\n",
       "    </tr>\n",
       "  </tbody>\n",
       "</table>\n",
       "<p>269 rows × 11 columns</p>\n",
       "</div>"
      ],
      "text/plain": [
       "                                    Name Platform  Year_of_Release  \\\n",
       "183                      Madden NFL 2004      PS2              NaN   \n",
       "377                     FIFA Soccer 2004      PS2              NaN   \n",
       "456           LEGO Batman: The Videogame      Wii              NaN   \n",
       "475           wwe Smackdown vs. Raw 2006      PS2              NaN   \n",
       "609                       Space Invaders     2600              NaN   \n",
       "...                                  ...      ...              ...   \n",
       "16373  PDC World Championship Darts 2008      PSP              NaN   \n",
       "16405                      Freaky Flyers       GC              NaN   \n",
       "16448                          Inversion       PC              NaN   \n",
       "16458        Hakuouki: Shinsengumi Kitan      PS3              NaN   \n",
       "16522                       Virtua Quest       GC              NaN   \n",
       "\n",
       "              Genre  NA_sales  EU_sales  JP_sales  Other_sales  Critic_Score  \\\n",
       "183          Sports      4.26      0.26      0.01         0.71          94.0   \n",
       "377          Sports      0.59      2.36      0.04         0.51          84.0   \n",
       "456          Action      1.80      0.97      0.00         0.29          74.0   \n",
       "475        Fighting      1.57      1.02      0.00         0.41           NaN   \n",
       "609         Shooter      2.36      0.14      0.00         0.03           NaN   \n",
       "...             ...       ...       ...       ...          ...           ...   \n",
       "16373        Sports      0.01      0.00      0.00         0.00          43.0   \n",
       "16405        Racing      0.01      0.00      0.00         0.00          69.0   \n",
       "16448       Shooter      0.01      0.00      0.00         0.00          59.0   \n",
       "16458     Adventure      0.01      0.00      0.00         0.00           NaN   \n",
       "16522  Role-Playing      0.01      0.00      0.00         0.00          55.0   \n",
       "\n",
       "      User_Score Rating  \n",
       "183          8.5      E  \n",
       "377          6.4      E  \n",
       "456          7.9   E10+  \n",
       "475          NaN    NaN  \n",
       "609          NaN    NaN  \n",
       "...          ...    ...  \n",
       "16373        tbd   E10+  \n",
       "16405        6.5      T  \n",
       "16448        6.7      M  \n",
       "16458        NaN    NaN  \n",
       "16522        5.5      T  \n",
       "\n",
       "[269 rows x 11 columns]"
      ]
     },
     "execution_count": 7,
     "metadata": {},
     "output_type": "execute_result"
    }
   ],
   "source": [
    "data[data['Year_of_Release'].isna()]"
   ]
  },
  {
   "cell_type": "code",
   "execution_count": 8,
   "metadata": {},
   "outputs": [
    {
     "data": {
      "text/html": [
       "<div>\n",
       "<style scoped>\n",
       "    .dataframe tbody tr th:only-of-type {\n",
       "        vertical-align: middle;\n",
       "    }\n",
       "\n",
       "    .dataframe tbody tr th {\n",
       "        vertical-align: top;\n",
       "    }\n",
       "\n",
       "    .dataframe thead th {\n",
       "        text-align: right;\n",
       "    }\n",
       "</style>\n",
       "<table border=\"1\" class=\"dataframe\">\n",
       "  <thead>\n",
       "    <tr style=\"text-align: right;\">\n",
       "      <th></th>\n",
       "      <th>Name</th>\n",
       "      <th>Platform</th>\n",
       "      <th>Year_of_Release</th>\n",
       "      <th>Genre</th>\n",
       "      <th>NA_sales</th>\n",
       "      <th>EU_sales</th>\n",
       "      <th>JP_sales</th>\n",
       "      <th>Other_sales</th>\n",
       "      <th>Critic_Score</th>\n",
       "      <th>User_Score</th>\n",
       "      <th>Rating</th>\n",
       "    </tr>\n",
       "  </thead>\n",
       "  <tbody>\n",
       "    <tr>\n",
       "      <th>659</th>\n",
       "      <td>NaN</td>\n",
       "      <td>GEN</td>\n",
       "      <td>1993.0</td>\n",
       "      <td>NaN</td>\n",
       "      <td>1.78</td>\n",
       "      <td>0.53</td>\n",
       "      <td>0.00</td>\n",
       "      <td>0.08</td>\n",
       "      <td>NaN</td>\n",
       "      <td>NaN</td>\n",
       "      <td>NaN</td>\n",
       "    </tr>\n",
       "    <tr>\n",
       "      <th>14244</th>\n",
       "      <td>NaN</td>\n",
       "      <td>GEN</td>\n",
       "      <td>1993.0</td>\n",
       "      <td>NaN</td>\n",
       "      <td>0.00</td>\n",
       "      <td>0.00</td>\n",
       "      <td>0.03</td>\n",
       "      <td>0.00</td>\n",
       "      <td>NaN</td>\n",
       "      <td>NaN</td>\n",
       "      <td>NaN</td>\n",
       "    </tr>\n",
       "  </tbody>\n",
       "</table>\n",
       "</div>"
      ],
      "text/plain": [
       "      Name Platform  Year_of_Release Genre  NA_sales  EU_sales  JP_sales  \\\n",
       "659    NaN      GEN           1993.0   NaN      1.78      0.53      0.00   \n",
       "14244  NaN      GEN           1993.0   NaN      0.00      0.00      0.03   \n",
       "\n",
       "       Other_sales  Critic_Score User_Score Rating  \n",
       "659           0.08           NaN        NaN    NaN  \n",
       "14244         0.00           NaN        NaN    NaN  "
      ]
     },
     "execution_count": 8,
     "metadata": {},
     "output_type": "execute_result"
    }
   ],
   "source": [
    "data[data['Genre'].isna()]"
   ]
  },
  {
   "cell_type": "code",
   "execution_count": 9,
   "metadata": {},
   "outputs": [
    {
     "data": {
      "text/html": [
       "<div>\n",
       "<style scoped>\n",
       "    .dataframe tbody tr th:only-of-type {\n",
       "        vertical-align: middle;\n",
       "    }\n",
       "\n",
       "    .dataframe tbody tr th {\n",
       "        vertical-align: top;\n",
       "    }\n",
       "\n",
       "    .dataframe thead th {\n",
       "        text-align: right;\n",
       "    }\n",
       "</style>\n",
       "<table border=\"1\" class=\"dataframe\">\n",
       "  <thead>\n",
       "    <tr style=\"text-align: right;\">\n",
       "      <th></th>\n",
       "      <th>Name</th>\n",
       "      <th>Platform</th>\n",
       "      <th>Year_of_Release</th>\n",
       "      <th>Genre</th>\n",
       "      <th>NA_sales</th>\n",
       "      <th>EU_sales</th>\n",
       "      <th>JP_sales</th>\n",
       "      <th>Other_sales</th>\n",
       "      <th>Critic_Score</th>\n",
       "      <th>User_Score</th>\n",
       "      <th>Rating</th>\n",
       "    </tr>\n",
       "  </thead>\n",
       "  <tbody>\n",
       "    <tr>\n",
       "      <th>1</th>\n",
       "      <td>Super Mario Bros.</td>\n",
       "      <td>NES</td>\n",
       "      <td>1985.0</td>\n",
       "      <td>Platform</td>\n",
       "      <td>29.08</td>\n",
       "      <td>3.58</td>\n",
       "      <td>6.81</td>\n",
       "      <td>0.77</td>\n",
       "      <td>NaN</td>\n",
       "      <td>NaN</td>\n",
       "      <td>NaN</td>\n",
       "    </tr>\n",
       "    <tr>\n",
       "      <th>4</th>\n",
       "      <td>Pokemon Red/Pokemon Blue</td>\n",
       "      <td>GB</td>\n",
       "      <td>1996.0</td>\n",
       "      <td>Role-Playing</td>\n",
       "      <td>11.27</td>\n",
       "      <td>8.89</td>\n",
       "      <td>10.22</td>\n",
       "      <td>1.00</td>\n",
       "      <td>NaN</td>\n",
       "      <td>NaN</td>\n",
       "      <td>NaN</td>\n",
       "    </tr>\n",
       "    <tr>\n",
       "      <th>5</th>\n",
       "      <td>Tetris</td>\n",
       "      <td>GB</td>\n",
       "      <td>1989.0</td>\n",
       "      <td>Puzzle</td>\n",
       "      <td>23.20</td>\n",
       "      <td>2.26</td>\n",
       "      <td>4.22</td>\n",
       "      <td>0.58</td>\n",
       "      <td>NaN</td>\n",
       "      <td>NaN</td>\n",
       "      <td>NaN</td>\n",
       "    </tr>\n",
       "    <tr>\n",
       "      <th>9</th>\n",
       "      <td>Duck Hunt</td>\n",
       "      <td>NES</td>\n",
       "      <td>1984.0</td>\n",
       "      <td>Shooter</td>\n",
       "      <td>26.93</td>\n",
       "      <td>0.63</td>\n",
       "      <td>0.28</td>\n",
       "      <td>0.47</td>\n",
       "      <td>NaN</td>\n",
       "      <td>NaN</td>\n",
       "      <td>NaN</td>\n",
       "    </tr>\n",
       "    <tr>\n",
       "      <th>10</th>\n",
       "      <td>Nintendogs</td>\n",
       "      <td>DS</td>\n",
       "      <td>2005.0</td>\n",
       "      <td>Simulation</td>\n",
       "      <td>9.05</td>\n",
       "      <td>10.95</td>\n",
       "      <td>1.93</td>\n",
       "      <td>2.74</td>\n",
       "      <td>NaN</td>\n",
       "      <td>NaN</td>\n",
       "      <td>NaN</td>\n",
       "    </tr>\n",
       "    <tr>\n",
       "      <th>...</th>\n",
       "      <td>...</td>\n",
       "      <td>...</td>\n",
       "      <td>...</td>\n",
       "      <td>...</td>\n",
       "      <td>...</td>\n",
       "      <td>...</td>\n",
       "      <td>...</td>\n",
       "      <td>...</td>\n",
       "      <td>...</td>\n",
       "      <td>...</td>\n",
       "      <td>...</td>\n",
       "    </tr>\n",
       "    <tr>\n",
       "      <th>16710</th>\n",
       "      <td>Samurai Warriors: Sanada Maru</td>\n",
       "      <td>PS3</td>\n",
       "      <td>2016.0</td>\n",
       "      <td>Action</td>\n",
       "      <td>0.00</td>\n",
       "      <td>0.00</td>\n",
       "      <td>0.01</td>\n",
       "      <td>0.00</td>\n",
       "      <td>NaN</td>\n",
       "      <td>NaN</td>\n",
       "      <td>NaN</td>\n",
       "    </tr>\n",
       "    <tr>\n",
       "      <th>16711</th>\n",
       "      <td>LMA Manager 2007</td>\n",
       "      <td>X360</td>\n",
       "      <td>2006.0</td>\n",
       "      <td>Sports</td>\n",
       "      <td>0.00</td>\n",
       "      <td>0.01</td>\n",
       "      <td>0.00</td>\n",
       "      <td>0.00</td>\n",
       "      <td>NaN</td>\n",
       "      <td>NaN</td>\n",
       "      <td>NaN</td>\n",
       "    </tr>\n",
       "    <tr>\n",
       "      <th>16712</th>\n",
       "      <td>Haitaka no Psychedelica</td>\n",
       "      <td>PSV</td>\n",
       "      <td>2016.0</td>\n",
       "      <td>Adventure</td>\n",
       "      <td>0.00</td>\n",
       "      <td>0.00</td>\n",
       "      <td>0.01</td>\n",
       "      <td>0.00</td>\n",
       "      <td>NaN</td>\n",
       "      <td>NaN</td>\n",
       "      <td>NaN</td>\n",
       "    </tr>\n",
       "    <tr>\n",
       "      <th>16713</th>\n",
       "      <td>Spirits &amp; Spells</td>\n",
       "      <td>GBA</td>\n",
       "      <td>2003.0</td>\n",
       "      <td>Platform</td>\n",
       "      <td>0.01</td>\n",
       "      <td>0.00</td>\n",
       "      <td>0.00</td>\n",
       "      <td>0.00</td>\n",
       "      <td>NaN</td>\n",
       "      <td>NaN</td>\n",
       "      <td>NaN</td>\n",
       "    </tr>\n",
       "    <tr>\n",
       "      <th>16714</th>\n",
       "      <td>Winning Post 8 2016</td>\n",
       "      <td>PSV</td>\n",
       "      <td>2016.0</td>\n",
       "      <td>Simulation</td>\n",
       "      <td>0.00</td>\n",
       "      <td>0.00</td>\n",
       "      <td>0.01</td>\n",
       "      <td>0.00</td>\n",
       "      <td>NaN</td>\n",
       "      <td>NaN</td>\n",
       "      <td>NaN</td>\n",
       "    </tr>\n",
       "  </tbody>\n",
       "</table>\n",
       "<p>8578 rows × 11 columns</p>\n",
       "</div>"
      ],
      "text/plain": [
       "                                Name Platform  Year_of_Release         Genre  \\\n",
       "1                  Super Mario Bros.      NES           1985.0      Platform   \n",
       "4           Pokemon Red/Pokemon Blue       GB           1996.0  Role-Playing   \n",
       "5                             Tetris       GB           1989.0        Puzzle   \n",
       "9                          Duck Hunt      NES           1984.0       Shooter   \n",
       "10                        Nintendogs       DS           2005.0    Simulation   \n",
       "...                              ...      ...              ...           ...   \n",
       "16710  Samurai Warriors: Sanada Maru      PS3           2016.0        Action   \n",
       "16711               LMA Manager 2007     X360           2006.0        Sports   \n",
       "16712        Haitaka no Psychedelica      PSV           2016.0     Adventure   \n",
       "16713               Spirits & Spells      GBA           2003.0      Platform   \n",
       "16714            Winning Post 8 2016      PSV           2016.0    Simulation   \n",
       "\n",
       "       NA_sales  EU_sales  JP_sales  Other_sales  Critic_Score User_Score  \\\n",
       "1         29.08      3.58      6.81         0.77           NaN        NaN   \n",
       "4         11.27      8.89     10.22         1.00           NaN        NaN   \n",
       "5         23.20      2.26      4.22         0.58           NaN        NaN   \n",
       "9         26.93      0.63      0.28         0.47           NaN        NaN   \n",
       "10         9.05     10.95      1.93         2.74           NaN        NaN   \n",
       "...         ...       ...       ...          ...           ...        ...   \n",
       "16710      0.00      0.00      0.01         0.00           NaN        NaN   \n",
       "16711      0.00      0.01      0.00         0.00           NaN        NaN   \n",
       "16712      0.00      0.00      0.01         0.00           NaN        NaN   \n",
       "16713      0.01      0.00      0.00         0.00           NaN        NaN   \n",
       "16714      0.00      0.00      0.01         0.00           NaN        NaN   \n",
       "\n",
       "      Rating  \n",
       "1        NaN  \n",
       "4        NaN  \n",
       "5        NaN  \n",
       "9        NaN  \n",
       "10       NaN  \n",
       "...      ...  \n",
       "16710    NaN  \n",
       "16711    NaN  \n",
       "16712    NaN  \n",
       "16713    NaN  \n",
       "16714    NaN  \n",
       "\n",
       "[8578 rows x 11 columns]"
      ]
     },
     "execution_count": 9,
     "metadata": {},
     "output_type": "execute_result"
    }
   ],
   "source": [
    "data[data['Critic_Score'].isna()]"
   ]
  },
  {
   "cell_type": "code",
   "execution_count": 10,
   "metadata": {},
   "outputs": [
    {
     "data": {
      "text/html": [
       "<div>\n",
       "<style scoped>\n",
       "    .dataframe tbody tr th:only-of-type {\n",
       "        vertical-align: middle;\n",
       "    }\n",
       "\n",
       "    .dataframe tbody tr th {\n",
       "        vertical-align: top;\n",
       "    }\n",
       "\n",
       "    .dataframe thead th {\n",
       "        text-align: right;\n",
       "    }\n",
       "</style>\n",
       "<table border=\"1\" class=\"dataframe\">\n",
       "  <thead>\n",
       "    <tr style=\"text-align: right;\">\n",
       "      <th></th>\n",
       "      <th>Name</th>\n",
       "      <th>Platform</th>\n",
       "      <th>Year_of_Release</th>\n",
       "      <th>Genre</th>\n",
       "      <th>NA_sales</th>\n",
       "      <th>EU_sales</th>\n",
       "      <th>JP_sales</th>\n",
       "      <th>Other_sales</th>\n",
       "      <th>Critic_Score</th>\n",
       "      <th>User_Score</th>\n",
       "      <th>Rating</th>\n",
       "    </tr>\n",
       "  </thead>\n",
       "  <tbody>\n",
       "    <tr>\n",
       "      <th>1</th>\n",
       "      <td>Super Mario Bros.</td>\n",
       "      <td>NES</td>\n",
       "      <td>1985.0</td>\n",
       "      <td>Platform</td>\n",
       "      <td>29.08</td>\n",
       "      <td>3.58</td>\n",
       "      <td>6.81</td>\n",
       "      <td>0.77</td>\n",
       "      <td>NaN</td>\n",
       "      <td>NaN</td>\n",
       "      <td>NaN</td>\n",
       "    </tr>\n",
       "    <tr>\n",
       "      <th>4</th>\n",
       "      <td>Pokemon Red/Pokemon Blue</td>\n",
       "      <td>GB</td>\n",
       "      <td>1996.0</td>\n",
       "      <td>Role-Playing</td>\n",
       "      <td>11.27</td>\n",
       "      <td>8.89</td>\n",
       "      <td>10.22</td>\n",
       "      <td>1.00</td>\n",
       "      <td>NaN</td>\n",
       "      <td>NaN</td>\n",
       "      <td>NaN</td>\n",
       "    </tr>\n",
       "    <tr>\n",
       "      <th>5</th>\n",
       "      <td>Tetris</td>\n",
       "      <td>GB</td>\n",
       "      <td>1989.0</td>\n",
       "      <td>Puzzle</td>\n",
       "      <td>23.20</td>\n",
       "      <td>2.26</td>\n",
       "      <td>4.22</td>\n",
       "      <td>0.58</td>\n",
       "      <td>NaN</td>\n",
       "      <td>NaN</td>\n",
       "      <td>NaN</td>\n",
       "    </tr>\n",
       "    <tr>\n",
       "      <th>9</th>\n",
       "      <td>Duck Hunt</td>\n",
       "      <td>NES</td>\n",
       "      <td>1984.0</td>\n",
       "      <td>Shooter</td>\n",
       "      <td>26.93</td>\n",
       "      <td>0.63</td>\n",
       "      <td>0.28</td>\n",
       "      <td>0.47</td>\n",
       "      <td>NaN</td>\n",
       "      <td>NaN</td>\n",
       "      <td>NaN</td>\n",
       "    </tr>\n",
       "    <tr>\n",
       "      <th>10</th>\n",
       "      <td>Nintendogs</td>\n",
       "      <td>DS</td>\n",
       "      <td>2005.0</td>\n",
       "      <td>Simulation</td>\n",
       "      <td>9.05</td>\n",
       "      <td>10.95</td>\n",
       "      <td>1.93</td>\n",
       "      <td>2.74</td>\n",
       "      <td>NaN</td>\n",
       "      <td>NaN</td>\n",
       "      <td>NaN</td>\n",
       "    </tr>\n",
       "    <tr>\n",
       "      <th>...</th>\n",
       "      <td>...</td>\n",
       "      <td>...</td>\n",
       "      <td>...</td>\n",
       "      <td>...</td>\n",
       "      <td>...</td>\n",
       "      <td>...</td>\n",
       "      <td>...</td>\n",
       "      <td>...</td>\n",
       "      <td>...</td>\n",
       "      <td>...</td>\n",
       "      <td>...</td>\n",
       "    </tr>\n",
       "    <tr>\n",
       "      <th>16710</th>\n",
       "      <td>Samurai Warriors: Sanada Maru</td>\n",
       "      <td>PS3</td>\n",
       "      <td>2016.0</td>\n",
       "      <td>Action</td>\n",
       "      <td>0.00</td>\n",
       "      <td>0.00</td>\n",
       "      <td>0.01</td>\n",
       "      <td>0.00</td>\n",
       "      <td>NaN</td>\n",
       "      <td>NaN</td>\n",
       "      <td>NaN</td>\n",
       "    </tr>\n",
       "    <tr>\n",
       "      <th>16711</th>\n",
       "      <td>LMA Manager 2007</td>\n",
       "      <td>X360</td>\n",
       "      <td>2006.0</td>\n",
       "      <td>Sports</td>\n",
       "      <td>0.00</td>\n",
       "      <td>0.01</td>\n",
       "      <td>0.00</td>\n",
       "      <td>0.00</td>\n",
       "      <td>NaN</td>\n",
       "      <td>NaN</td>\n",
       "      <td>NaN</td>\n",
       "    </tr>\n",
       "    <tr>\n",
       "      <th>16712</th>\n",
       "      <td>Haitaka no Psychedelica</td>\n",
       "      <td>PSV</td>\n",
       "      <td>2016.0</td>\n",
       "      <td>Adventure</td>\n",
       "      <td>0.00</td>\n",
       "      <td>0.00</td>\n",
       "      <td>0.01</td>\n",
       "      <td>0.00</td>\n",
       "      <td>NaN</td>\n",
       "      <td>NaN</td>\n",
       "      <td>NaN</td>\n",
       "    </tr>\n",
       "    <tr>\n",
       "      <th>16713</th>\n",
       "      <td>Spirits &amp; Spells</td>\n",
       "      <td>GBA</td>\n",
       "      <td>2003.0</td>\n",
       "      <td>Platform</td>\n",
       "      <td>0.01</td>\n",
       "      <td>0.00</td>\n",
       "      <td>0.00</td>\n",
       "      <td>0.00</td>\n",
       "      <td>NaN</td>\n",
       "      <td>NaN</td>\n",
       "      <td>NaN</td>\n",
       "    </tr>\n",
       "    <tr>\n",
       "      <th>16714</th>\n",
       "      <td>Winning Post 8 2016</td>\n",
       "      <td>PSV</td>\n",
       "      <td>2016.0</td>\n",
       "      <td>Simulation</td>\n",
       "      <td>0.00</td>\n",
       "      <td>0.00</td>\n",
       "      <td>0.01</td>\n",
       "      <td>0.00</td>\n",
       "      <td>NaN</td>\n",
       "      <td>NaN</td>\n",
       "      <td>NaN</td>\n",
       "    </tr>\n",
       "  </tbody>\n",
       "</table>\n",
       "<p>6701 rows × 11 columns</p>\n",
       "</div>"
      ],
      "text/plain": [
       "                                Name Platform  Year_of_Release         Genre  \\\n",
       "1                  Super Mario Bros.      NES           1985.0      Platform   \n",
       "4           Pokemon Red/Pokemon Blue       GB           1996.0  Role-Playing   \n",
       "5                             Tetris       GB           1989.0        Puzzle   \n",
       "9                          Duck Hunt      NES           1984.0       Shooter   \n",
       "10                        Nintendogs       DS           2005.0    Simulation   \n",
       "...                              ...      ...              ...           ...   \n",
       "16710  Samurai Warriors: Sanada Maru      PS3           2016.0        Action   \n",
       "16711               LMA Manager 2007     X360           2006.0        Sports   \n",
       "16712        Haitaka no Psychedelica      PSV           2016.0     Adventure   \n",
       "16713               Spirits & Spells      GBA           2003.0      Platform   \n",
       "16714            Winning Post 8 2016      PSV           2016.0    Simulation   \n",
       "\n",
       "       NA_sales  EU_sales  JP_sales  Other_sales  Critic_Score User_Score  \\\n",
       "1         29.08      3.58      6.81         0.77           NaN        NaN   \n",
       "4         11.27      8.89     10.22         1.00           NaN        NaN   \n",
       "5         23.20      2.26      4.22         0.58           NaN        NaN   \n",
       "9         26.93      0.63      0.28         0.47           NaN        NaN   \n",
       "10         9.05     10.95      1.93         2.74           NaN        NaN   \n",
       "...         ...       ...       ...          ...           ...        ...   \n",
       "16710      0.00      0.00      0.01         0.00           NaN        NaN   \n",
       "16711      0.00      0.01      0.00         0.00           NaN        NaN   \n",
       "16712      0.00      0.00      0.01         0.00           NaN        NaN   \n",
       "16713      0.01      0.00      0.00         0.00           NaN        NaN   \n",
       "16714      0.00      0.00      0.01         0.00           NaN        NaN   \n",
       "\n",
       "      Rating  \n",
       "1        NaN  \n",
       "4        NaN  \n",
       "5        NaN  \n",
       "9        NaN  \n",
       "10       NaN  \n",
       "...      ...  \n",
       "16710    NaN  \n",
       "16711    NaN  \n",
       "16712    NaN  \n",
       "16713    NaN  \n",
       "16714    NaN  \n",
       "\n",
       "[6701 rows x 11 columns]"
      ]
     },
     "execution_count": 10,
     "metadata": {},
     "output_type": "execute_result"
    }
   ],
   "source": [
    "data[data['User_Score'].isna()]"
   ]
  },
  {
   "cell_type": "code",
   "execution_count": 11,
   "metadata": {},
   "outputs": [
    {
     "data": {
      "text/html": [
       "<div>\n",
       "<style scoped>\n",
       "    .dataframe tbody tr th:only-of-type {\n",
       "        vertical-align: middle;\n",
       "    }\n",
       "\n",
       "    .dataframe tbody tr th {\n",
       "        vertical-align: top;\n",
       "    }\n",
       "\n",
       "    .dataframe thead th {\n",
       "        text-align: right;\n",
       "    }\n",
       "</style>\n",
       "<table border=\"1\" class=\"dataframe\">\n",
       "  <thead>\n",
       "    <tr style=\"text-align: right;\">\n",
       "      <th></th>\n",
       "      <th>Name</th>\n",
       "      <th>Platform</th>\n",
       "      <th>Year_of_Release</th>\n",
       "      <th>Genre</th>\n",
       "      <th>NA_sales</th>\n",
       "      <th>EU_sales</th>\n",
       "      <th>JP_sales</th>\n",
       "      <th>Other_sales</th>\n",
       "      <th>Critic_Score</th>\n",
       "      <th>User_Score</th>\n",
       "      <th>Rating</th>\n",
       "    </tr>\n",
       "  </thead>\n",
       "  <tbody>\n",
       "    <tr>\n",
       "      <th>1</th>\n",
       "      <td>Super Mario Bros.</td>\n",
       "      <td>NES</td>\n",
       "      <td>1985.0</td>\n",
       "      <td>Platform</td>\n",
       "      <td>29.08</td>\n",
       "      <td>3.58</td>\n",
       "      <td>6.81</td>\n",
       "      <td>0.77</td>\n",
       "      <td>NaN</td>\n",
       "      <td>NaN</td>\n",
       "      <td>NaN</td>\n",
       "    </tr>\n",
       "    <tr>\n",
       "      <th>4</th>\n",
       "      <td>Pokemon Red/Pokemon Blue</td>\n",
       "      <td>GB</td>\n",
       "      <td>1996.0</td>\n",
       "      <td>Role-Playing</td>\n",
       "      <td>11.27</td>\n",
       "      <td>8.89</td>\n",
       "      <td>10.22</td>\n",
       "      <td>1.00</td>\n",
       "      <td>NaN</td>\n",
       "      <td>NaN</td>\n",
       "      <td>NaN</td>\n",
       "    </tr>\n",
       "    <tr>\n",
       "      <th>5</th>\n",
       "      <td>Tetris</td>\n",
       "      <td>GB</td>\n",
       "      <td>1989.0</td>\n",
       "      <td>Puzzle</td>\n",
       "      <td>23.20</td>\n",
       "      <td>2.26</td>\n",
       "      <td>4.22</td>\n",
       "      <td>0.58</td>\n",
       "      <td>NaN</td>\n",
       "      <td>NaN</td>\n",
       "      <td>NaN</td>\n",
       "    </tr>\n",
       "    <tr>\n",
       "      <th>9</th>\n",
       "      <td>Duck Hunt</td>\n",
       "      <td>NES</td>\n",
       "      <td>1984.0</td>\n",
       "      <td>Shooter</td>\n",
       "      <td>26.93</td>\n",
       "      <td>0.63</td>\n",
       "      <td>0.28</td>\n",
       "      <td>0.47</td>\n",
       "      <td>NaN</td>\n",
       "      <td>NaN</td>\n",
       "      <td>NaN</td>\n",
       "    </tr>\n",
       "    <tr>\n",
       "      <th>10</th>\n",
       "      <td>Nintendogs</td>\n",
       "      <td>DS</td>\n",
       "      <td>2005.0</td>\n",
       "      <td>Simulation</td>\n",
       "      <td>9.05</td>\n",
       "      <td>10.95</td>\n",
       "      <td>1.93</td>\n",
       "      <td>2.74</td>\n",
       "      <td>NaN</td>\n",
       "      <td>NaN</td>\n",
       "      <td>NaN</td>\n",
       "    </tr>\n",
       "    <tr>\n",
       "      <th>...</th>\n",
       "      <td>...</td>\n",
       "      <td>...</td>\n",
       "      <td>...</td>\n",
       "      <td>...</td>\n",
       "      <td>...</td>\n",
       "      <td>...</td>\n",
       "      <td>...</td>\n",
       "      <td>...</td>\n",
       "      <td>...</td>\n",
       "      <td>...</td>\n",
       "      <td>...</td>\n",
       "    </tr>\n",
       "    <tr>\n",
       "      <th>16710</th>\n",
       "      <td>Samurai Warriors: Sanada Maru</td>\n",
       "      <td>PS3</td>\n",
       "      <td>2016.0</td>\n",
       "      <td>Action</td>\n",
       "      <td>0.00</td>\n",
       "      <td>0.00</td>\n",
       "      <td>0.01</td>\n",
       "      <td>0.00</td>\n",
       "      <td>NaN</td>\n",
       "      <td>NaN</td>\n",
       "      <td>NaN</td>\n",
       "    </tr>\n",
       "    <tr>\n",
       "      <th>16711</th>\n",
       "      <td>LMA Manager 2007</td>\n",
       "      <td>X360</td>\n",
       "      <td>2006.0</td>\n",
       "      <td>Sports</td>\n",
       "      <td>0.00</td>\n",
       "      <td>0.01</td>\n",
       "      <td>0.00</td>\n",
       "      <td>0.00</td>\n",
       "      <td>NaN</td>\n",
       "      <td>NaN</td>\n",
       "      <td>NaN</td>\n",
       "    </tr>\n",
       "    <tr>\n",
       "      <th>16712</th>\n",
       "      <td>Haitaka no Psychedelica</td>\n",
       "      <td>PSV</td>\n",
       "      <td>2016.0</td>\n",
       "      <td>Adventure</td>\n",
       "      <td>0.00</td>\n",
       "      <td>0.00</td>\n",
       "      <td>0.01</td>\n",
       "      <td>0.00</td>\n",
       "      <td>NaN</td>\n",
       "      <td>NaN</td>\n",
       "      <td>NaN</td>\n",
       "    </tr>\n",
       "    <tr>\n",
       "      <th>16713</th>\n",
       "      <td>Spirits &amp; Spells</td>\n",
       "      <td>GBA</td>\n",
       "      <td>2003.0</td>\n",
       "      <td>Platform</td>\n",
       "      <td>0.01</td>\n",
       "      <td>0.00</td>\n",
       "      <td>0.00</td>\n",
       "      <td>0.00</td>\n",
       "      <td>NaN</td>\n",
       "      <td>NaN</td>\n",
       "      <td>NaN</td>\n",
       "    </tr>\n",
       "    <tr>\n",
       "      <th>16714</th>\n",
       "      <td>Winning Post 8 2016</td>\n",
       "      <td>PSV</td>\n",
       "      <td>2016.0</td>\n",
       "      <td>Simulation</td>\n",
       "      <td>0.00</td>\n",
       "      <td>0.00</td>\n",
       "      <td>0.01</td>\n",
       "      <td>0.00</td>\n",
       "      <td>NaN</td>\n",
       "      <td>NaN</td>\n",
       "      <td>NaN</td>\n",
       "    </tr>\n",
       "  </tbody>\n",
       "</table>\n",
       "<p>6766 rows × 11 columns</p>\n",
       "</div>"
      ],
      "text/plain": [
       "                                Name Platform  Year_of_Release         Genre  \\\n",
       "1                  Super Mario Bros.      NES           1985.0      Platform   \n",
       "4           Pokemon Red/Pokemon Blue       GB           1996.0  Role-Playing   \n",
       "5                             Tetris       GB           1989.0        Puzzle   \n",
       "9                          Duck Hunt      NES           1984.0       Shooter   \n",
       "10                        Nintendogs       DS           2005.0    Simulation   \n",
       "...                              ...      ...              ...           ...   \n",
       "16710  Samurai Warriors: Sanada Maru      PS3           2016.0        Action   \n",
       "16711               LMA Manager 2007     X360           2006.0        Sports   \n",
       "16712        Haitaka no Psychedelica      PSV           2016.0     Adventure   \n",
       "16713               Spirits & Spells      GBA           2003.0      Platform   \n",
       "16714            Winning Post 8 2016      PSV           2016.0    Simulation   \n",
       "\n",
       "       NA_sales  EU_sales  JP_sales  Other_sales  Critic_Score User_Score  \\\n",
       "1         29.08      3.58      6.81         0.77           NaN        NaN   \n",
       "4         11.27      8.89     10.22         1.00           NaN        NaN   \n",
       "5         23.20      2.26      4.22         0.58           NaN        NaN   \n",
       "9         26.93      0.63      0.28         0.47           NaN        NaN   \n",
       "10         9.05     10.95      1.93         2.74           NaN        NaN   \n",
       "...         ...       ...       ...          ...           ...        ...   \n",
       "16710      0.00      0.00      0.01         0.00           NaN        NaN   \n",
       "16711      0.00      0.01      0.00         0.00           NaN        NaN   \n",
       "16712      0.00      0.00      0.01         0.00           NaN        NaN   \n",
       "16713      0.01      0.00      0.00         0.00           NaN        NaN   \n",
       "16714      0.00      0.00      0.01         0.00           NaN        NaN   \n",
       "\n",
       "      Rating  \n",
       "1        NaN  \n",
       "4        NaN  \n",
       "5        NaN  \n",
       "9        NaN  \n",
       "10       NaN  \n",
       "...      ...  \n",
       "16710    NaN  \n",
       "16711    NaN  \n",
       "16712    NaN  \n",
       "16713    NaN  \n",
       "16714    NaN  \n",
       "\n",
       "[6766 rows x 11 columns]"
      ]
     },
     "execution_count": 11,
     "metadata": {},
     "output_type": "execute_result"
    }
   ],
   "source": [
    "data[data['Rating'].isna()]"
   ]
  },
  {
   "cell_type": "markdown",
   "metadata": {},
   "source": [
    "На данном этапе можем сделать следующие выводы:\n",
    "\n",
    " - пропущенные значения в столбцах `Name`, `Year_of_Release`, `Genre`, `Critic_Score`, `User_Score`, `Rating`\n",
    " - категориальные переменные `Name`, `Platform`, `Genre`, `Rating`\n",
    " - количественные переменные `Year_of_release`, `NA_sales`, `EU_sales`, `JP_sales`, `Other_sales`, `Critic_Score`, `User_Score`\n",
    " - в строчках 659 и 14244 пустые значения по столбцам `Name` и `Genre`, причем отличаются они продажами по Японии. Скорее всего это одна и та же запись.\n",
    "\n",
    "\n",
    "## Предподготовка данных\n",
    "\n",
    "### Приведение названия столбцов к нижнему регистру"
   ]
  },
  {
   "cell_type": "code",
   "execution_count": 12,
   "metadata": {},
   "outputs": [
    {
     "data": {
      "text/html": [
       "<div>\n",
       "<style scoped>\n",
       "    .dataframe tbody tr th:only-of-type {\n",
       "        vertical-align: middle;\n",
       "    }\n",
       "\n",
       "    .dataframe tbody tr th {\n",
       "        vertical-align: top;\n",
       "    }\n",
       "\n",
       "    .dataframe thead th {\n",
       "        text-align: right;\n",
       "    }\n",
       "</style>\n",
       "<table border=\"1\" class=\"dataframe\">\n",
       "  <thead>\n",
       "    <tr style=\"text-align: right;\">\n",
       "      <th></th>\n",
       "      <th>name</th>\n",
       "      <th>platform</th>\n",
       "      <th>year_of_release</th>\n",
       "      <th>genre</th>\n",
       "      <th>na_sales</th>\n",
       "      <th>eu_sales</th>\n",
       "      <th>jp_sales</th>\n",
       "      <th>other_sales</th>\n",
       "      <th>critic_score</th>\n",
       "      <th>user_score</th>\n",
       "      <th>rating</th>\n",
       "    </tr>\n",
       "  </thead>\n",
       "  <tbody>\n",
       "    <tr>\n",
       "      <th>0</th>\n",
       "      <td>Wii Sports</td>\n",
       "      <td>Wii</td>\n",
       "      <td>2006.0</td>\n",
       "      <td>Sports</td>\n",
       "      <td>41.36</td>\n",
       "      <td>28.96</td>\n",
       "      <td>3.77</td>\n",
       "      <td>8.45</td>\n",
       "      <td>76.0</td>\n",
       "      <td>8</td>\n",
       "      <td>E</td>\n",
       "    </tr>\n",
       "    <tr>\n",
       "      <th>1</th>\n",
       "      <td>Super Mario Bros.</td>\n",
       "      <td>NES</td>\n",
       "      <td>1985.0</td>\n",
       "      <td>Platform</td>\n",
       "      <td>29.08</td>\n",
       "      <td>3.58</td>\n",
       "      <td>6.81</td>\n",
       "      <td>0.77</td>\n",
       "      <td>NaN</td>\n",
       "      <td>NaN</td>\n",
       "      <td>NaN</td>\n",
       "    </tr>\n",
       "    <tr>\n",
       "      <th>2</th>\n",
       "      <td>Mario Kart Wii</td>\n",
       "      <td>Wii</td>\n",
       "      <td>2008.0</td>\n",
       "      <td>Racing</td>\n",
       "      <td>15.68</td>\n",
       "      <td>12.76</td>\n",
       "      <td>3.79</td>\n",
       "      <td>3.29</td>\n",
       "      <td>82.0</td>\n",
       "      <td>8.3</td>\n",
       "      <td>E</td>\n",
       "    </tr>\n",
       "    <tr>\n",
       "      <th>3</th>\n",
       "      <td>Wii Sports Resort</td>\n",
       "      <td>Wii</td>\n",
       "      <td>2009.0</td>\n",
       "      <td>Sports</td>\n",
       "      <td>15.61</td>\n",
       "      <td>10.93</td>\n",
       "      <td>3.28</td>\n",
       "      <td>2.95</td>\n",
       "      <td>80.0</td>\n",
       "      <td>8</td>\n",
       "      <td>E</td>\n",
       "    </tr>\n",
       "    <tr>\n",
       "      <th>4</th>\n",
       "      <td>Pokemon Red/Pokemon Blue</td>\n",
       "      <td>GB</td>\n",
       "      <td>1996.0</td>\n",
       "      <td>Role-Playing</td>\n",
       "      <td>11.27</td>\n",
       "      <td>8.89</td>\n",
       "      <td>10.22</td>\n",
       "      <td>1.00</td>\n",
       "      <td>NaN</td>\n",
       "      <td>NaN</td>\n",
       "      <td>NaN</td>\n",
       "    </tr>\n",
       "  </tbody>\n",
       "</table>\n",
       "</div>"
      ],
      "text/plain": [
       "                       name platform  year_of_release         genre  na_sales  \\\n",
       "0                Wii Sports      Wii           2006.0        Sports     41.36   \n",
       "1         Super Mario Bros.      NES           1985.0      Platform     29.08   \n",
       "2            Mario Kart Wii      Wii           2008.0        Racing     15.68   \n",
       "3         Wii Sports Resort      Wii           2009.0        Sports     15.61   \n",
       "4  Pokemon Red/Pokemon Blue       GB           1996.0  Role-Playing     11.27   \n",
       "\n",
       "   eu_sales  jp_sales  other_sales  critic_score user_score rating  \n",
       "0     28.96      3.77         8.45          76.0          8      E  \n",
       "1      3.58      6.81         0.77           NaN        NaN    NaN  \n",
       "2     12.76      3.79         3.29          82.0        8.3      E  \n",
       "3     10.93      3.28         2.95          80.0          8      E  \n",
       "4      8.89     10.22         1.00           NaN        NaN    NaN  "
      ]
     },
     "execution_count": 12,
     "metadata": {},
     "output_type": "execute_result"
    }
   ],
   "source": [
    "data.columns = data.columns.str.lower()\n",
    "data.head()"
   ]
  },
  {
   "cell_type": "markdown",
   "metadata": {},
   "source": [
    "### Замена типов данных в столбцах датафрейма\n",
    "\n",
    "Преобразование типов данных в столбцах\n",
    " - `na_sales`, `eu_sales`, `jp_sales`, `other_sales` - исказит точность продаж в млн копий\n",
    " - `critic_score`, `user_score` - не получится из-за наличия пропущенных значений Nan\n",
    " - `year_of_release` - преобразуем в тип данных datetime\n",
    " - `name`, `platform`, `genre` - в строковые значения"
   ]
  },
  {
   "cell_type": "code",
   "execution_count": 13,
   "metadata": {},
   "outputs": [
    {
     "name": "stdout",
     "output_type": "stream",
     "text": [
      "<class 'pandas.core.frame.DataFrame'>\n",
      "RangeIndex: 16715 entries, 0 to 16714\n",
      "Data columns (total 11 columns):\n",
      " #   Column           Non-Null Count  Dtype  \n",
      "---  ------           --------------  -----  \n",
      " 0   name             16715 non-null  object \n",
      " 1   platform         16715 non-null  object \n",
      " 2   year_of_release  16446 non-null  float64\n",
      " 3   genre            16715 non-null  object \n",
      " 4   na_sales         16715 non-null  float64\n",
      " 5   eu_sales         16715 non-null  float64\n",
      " 6   jp_sales         16715 non-null  float64\n",
      " 7   other_sales      16715 non-null  float64\n",
      " 8   critic_score     8137 non-null   float64\n",
      " 9   user_score       10014 non-null  object \n",
      " 10  rating           9949 non-null   object \n",
      "dtypes: float64(6), object(5)\n",
      "memory usage: 1.4+ MB\n"
     ]
    }
   ],
   "source": [
    "data['year_of_release'] = pd.to_numeric(data['year_of_release'], downcast='integer')\n",
    "data['critic_score'] = pd.to_numeric(data['critic_score'], downcast='integer')\n",
    "data['name'] = data['name'].astype('str')\n",
    "data['platform'] = data['platform'].astype('str')\n",
    "data['genre'] = data['genre'].astype('str')\n",
    "\n",
    "data.info()"
   ]
  },
  {
   "cell_type": "markdown",
   "metadata": {},
   "source": [
    "### Заполнение пропусков в значениях\n",
    "\n",
    " - `name`, `genre` - пропуски в строках 659 и 14244 стоит удалить \n",
    " - `rating` - возрастной рейтинг можно заполнить по значениям самых популярных рейтингов в зависимости от жанра\n",
    " - `critic_score`, `user_score` - заполнить не получится, так как для каждой конкретной игры рейтинг составляется индивидуально. `Пропуски в данных столбцах появляются из-за того, что оценка игр происходит не сразу, причем некоторые игры могут быть вообще не оценены. Из-за этого в большинстве случаев и отсутствуют оценки.`\n",
    " - изучим значение `tbd` в столбце `user_score` подробнее\n",
    " \n",
    "### Удаление строк"
   ]
  },
  {
   "cell_type": "code",
   "execution_count": 14,
   "metadata": {
    "scrolled": true
   },
   "outputs": [
    {
     "name": "stdout",
     "output_type": "stream",
     "text": [
      "<class 'pandas.core.frame.DataFrame'>\n",
      "Int64Index: 16713 entries, 0 to 16714\n",
      "Data columns (total 11 columns):\n",
      " #   Column           Non-Null Count  Dtype  \n",
      "---  ------           --------------  -----  \n",
      " 0   name             16713 non-null  object \n",
      " 1   platform         16713 non-null  object \n",
      " 2   year_of_release  16444 non-null  float64\n",
      " 3   genre            16713 non-null  object \n",
      " 4   na_sales         16713 non-null  float64\n",
      " 5   eu_sales         16713 non-null  float64\n",
      " 6   jp_sales         16713 non-null  float64\n",
      " 7   other_sales      16713 non-null  float64\n",
      " 8   critic_score     8137 non-null   float64\n",
      " 9   user_score       10014 non-null  object \n",
      " 10  rating           9949 non-null   object \n",
      "dtypes: float64(6), object(5)\n",
      "memory usage: 1.5+ MB\n"
     ]
    }
   ],
   "source": [
    "data.drop([659, 14244], inplace=True)\n",
    "data.info()"
   ]
  },
  {
   "cell_type": "code",
   "execution_count": 15,
   "metadata": {
    "scrolled": true
   },
   "outputs": [
    {
     "data": {
      "text/plain": [
       "array(['Madden NFL 2004', 'FIFA Soccer 2004',\n",
       "       'LEGO Batman: The Videogame', 'wwe Smackdown vs. Raw 2006',\n",
       "       'Space Invaders', 'Rock Band',\n",
       "       \"Frogger's Adventures: Temple of the Frog\",\n",
       "       'LEGO Indiana Jones: The Original Adventures', 'Call of Duty 3',\n",
       "       'Call of Duty: Black Ops', 'Triple Play 99', 'Adventure', 'Combat',\n",
       "       'LEGO Harry Potter: Years 5-7', 'NASCAR Thunder 2003',\n",
       "       'Hitman 2: Silent Assassin', 'Legacy of Kain: Soul Reaver',\n",
       "       'Donkey Kong Land III', 'Air-Sea Battle', 'Suikoden III',\n",
       "       'Wheel of Fortune', 'Yakuza 4', 'Namco Museum', 'Rhythm Heaven',\n",
       "       'The Lord of the Rings: War in the North', 'Madden NFL 07',\n",
       "       'MLB SlugFest 20-03', 'Shaun White Snowboarding',\n",
       "       'PES 2009: Pro Evolution Soccer', 'WarioWare: Twisted!',\n",
       "       'Madden NFL 11', 'Test Drive Unlimited 2',\n",
       "       'The Chronicles of Narnia: The Lion, The Witch and The Wardrobe',\n",
       "       'Monster Hunter 2', 'Metal Gear Solid 2: Substance',\n",
       "       'Advance Wars: Days of Ruin', 'The Golden Compass',\n",
       "       'Madden NFL 06', 'NASCAR: Dirt to Daytona', 'Madden NFL 2002',\n",
       "       'Def Jam: Fight for NY', 'NBA Street Vol. 2', 'Fishing Derby',\n",
       "       'Wet', 'Sonic the Hedgehog', 'Karate', 'Tiger Woods PGA Tour 07',\n",
       "       'Circus Atari',\n",
       "       'The Chronicles of Riddick: Escape from Butcher Bay',\n",
       "       \"Maze Craze: A Game of Cops 'n Robbers\", 'Silent Hill: Homecoming',\n",
       "       'Super Breakout', \"Robert Ludlum's The Bourne Conspiracy\",\n",
       "       'NHL Slapshot', 'TERA', 'NFL GameDay 2003',\n",
       "       'Harvest Moon: Save the Homeland', 'Hangman', 'NBA Live 2003',\n",
       "       \"Cubix Robots for Everyone: Clash 'n' Bash\",\n",
       "       'Dragon Ball Z: Budokai Tenkaichi 2 (JP sales)', 'Tropico 4',\n",
       "       'Tomb Raider (2013)', 'Bejeweled 3', 'Custom Robo',\n",
       "       'Final Fantasy XI', 'Singularity', 'Dragster',\n",
       "       'All-Star Baseball 2005', 'Star Wars Jedi Knight II: Jedi Outcast',\n",
       "       'Slot Machine', 'The Dukes of Hazzard II: Daisy Dukes It Out',\n",
       "       'Harvest Moon: The Tale of Two Towns', 'Shrek the Third',\n",
       "       'Nicktoons: Battle for Volcano Island', 'Haven: Call of the King',\n",
       "       'Unreal Championship 2: The Liandri Conflict', 'Pac-Man Fever',\n",
       "       'The Legend of Zelda: The Minish Cap(weekly JP sales)', 'Indy 500',\n",
       "       'Disgaea 3: Absence of Detention', 'Flag Capture', 'Gun',\n",
       "       'Rock Revolution', 'College Hoops 2K6',\n",
       "       'Jonah Lomu Rugby Challenge', 'Mega Man X Collection',\n",
       "       'BioShock 2', 'Danganronpa: Trigger Happy Havoc', 'Jet X20',\n",
       "       \"Tony Hawk's Downhill Jam\", 'Tribes: Aerial Assault',\n",
       "       'Big Beach Sports 2', 'Yu Yu Hakusho: Dark Tournament',\n",
       "       'Ghostbusters II', 'Breakaway IV', 'Robotech: Battlecry',\n",
       "       'Move Fitness', 'Valkyria Chronicles III: Unrecorded Chronicles',\n",
       "       'DanceDanceRevolution II', 'WRC: FIA World Rally Championship',\n",
       "       'Famista 64', 'Dead Space 3', 'Pet Zombies', 'Star Trek: Legacy',\n",
       "       'Backbreaker', 'Twisted Metal: Small Brawl', 'Otomedius Excellent',\n",
       "       'NBA Starting Five', 'Teen Titans', 'Trauma Team',\n",
       "       \"James Cameron's Dark Angel\", 'Sword of the Samurai',\n",
       "       'Splatterhouse', 'Alone in the Dark: The New Nightmare',\n",
       "       'Vegas Party', 'Jurassic Park: The Game', 'Home Run',\n",
       "       'eJay Clubworld', 'Our House Party!', 'WCW Backstage Assault',\n",
       "       \"Disney's Cinderella: Magical Dreams\", 'Transworld Surf',\n",
       "       'Street Fighter IV', 'Nintendo Puzzle Collection',\n",
       "       'Charm Girls Club: My Fashion Mall', 'Record of Agarest War Zero',\n",
       "       'Rocksmith',\n",
       "       'Super Robot Wars OG Saga: Masou Kishin II - Revelation of Evil God',\n",
       "       'Saru! Get You! Million Monkeys', 'Street Hoops',\n",
       "       'Godzilla: Destroy All Monsters Melee',\n",
       "       'The Daring Game for Girls', 'Major League Baseball 2K6',\n",
       "       'Star Trek: Conquest', 'GiFTPiA', 'Happy Feet Two',\n",
       "       \"Disney's Chicken Little: Ace In Action\",\n",
       "       'Atsumare! Power Pro Kun no DS Koushien',\n",
       "       'My Healthy Cooking Coach', 'Luminous Arc 2 (JP sales)',\n",
       "       'Egg Monster Hero', 'Demon Chaos', 'Samurai Shodown Anthology',\n",
       "       'Action Man-Operation Extreme', 'Super Puzzle Fighter II',\n",
       "       'Charm Girls Club: My Fashion Show', 'Face Racers: Photo Finish',\n",
       "       'Zero: Tsukihami no Kamen', 'The Hidden', 'Get Fit with Mel B',\n",
       "       'Mega Man Battle Network: Operation Shooting Star',\n",
       "       'Smashing Drive', 'Port Royale 3', 'Dream Trigger 3D',\n",
       "       'Dead Island: Riptide', 'Yoostar on MTV', 'Tornado',\n",
       "       \"McFarlane's Evil Prophecy\", 'Drake of the 99 Dragons',\n",
       "       'Build-A-Bear Workshop: Friendship Valley', 'Rayman Arena',\n",
       "       'National Geographic Challenge!', 'Alex Rider: Stormbreaker',\n",
       "       'Chou Soujuu Mecha MG',\n",
       "       'Prinny: Can I Really Be The Hero? (US sales)',\n",
       "       'Combat Elite: WWII Paratroopers', \"Flip's Twisted World\",\n",
       "       'Mobile Ops: The One Year War',\n",
       "       \"Tom Clancy's Rainbow Six: Critical Hour\",\n",
       "       'Jewel Link Chronicles: Mountains of Madness',\n",
       "       'Captain America: Super Soldier', 'Mountain Bike Adrenaline',\n",
       "       'Drill Dozer', 'GRID', 'Tour de France 2011',\n",
       "       'Reader Rabbit 2nd Grade', 'Monster Hunter Frontier Online',\n",
       "       'RollerCoaster Tycoon', 'Battle vs. Chess',\n",
       "       'The History Channel: Great Battles - Medieval',\n",
       "       'Clockwork Empires', 'B.L.U.E.: Legend of Water', 'NHL Hitz Pro',\n",
       "       \"Luxor: Pharaoh's Challenge\", 'Sega Rally 2006',\n",
       "       'Half-Minute Hero 2', 'Housekeeping', 'Major League Baseball 2K8',\n",
       "       'Sabre Wulf', 'Swords', 'Beyond the Labyrinth',\n",
       "       'Bikkuriman Daijiten', 'Majesty 2: The Fantasy Kingdom Sim',\n",
       "       'Fullmetal Alchemist: Brotherhood',\n",
       "       'Samurai Spirits: Tenkaichi Kenkakuden', 'World of Tanks',\n",
       "       'Tom and Jerry in War of the Whiskers', 'Super Duper Sumos',\n",
       "       'The King of Fighters: Maximum Impact - Maniax',\n",
       "       'Combat Wings: The Great Battles of WWII', 'Tube Slider',\n",
       "       'Umineko no Naku Koro ni San: Shinjitsu to Gensou no Yasoukyoku',\n",
       "       'Payout Poker & Casino', 'Wii de Asobu: Metroid Prime',\n",
       "       'Legacy of Ys: Books I & II', 'Saint', 'Steal Princess',\n",
       "       'Mario Tennis', 'Runaway: A Twist of Fate',\n",
       "       \"Yu-Gi-Oh! 5D's Wheelie Breakers (JP sales)\",\n",
       "       \"Cabela's Alaskan Adventure\",\n",
       "       'Writing and Speaking Beautiful Japanese DS', 'Virtua Quest',\n",
       "       \"Shonen Jump's Yu-Gi-Oh! GX Card Almanac\", 'Without Warning',\n",
       "       'PDC World Championship Darts 2008',\n",
       "       'Dinotopia: The Sunstone Odyssey', 'Jet Impulse', 'Dream Dancer',\n",
       "       \"Dance! It's Your Stage\", 'Football Manager 2007',\n",
       "       'Ferrari: The Race Experience', 'Aquaman: Battle for Atlantis',\n",
       "       'Homeworld Remastered Collection', 'Shorts',\n",
       "       'AKB1/48: Idol to Guam de Koishitara...',\n",
       "       'Brothers in Arms: Furious 4', 'Agarest Senki: Re-appearance',\n",
       "       'Freaky Flyers', 'Inversion', 'Hakuouki: Shinsengumi Kitan'],\n",
       "      dtype=object)"
      ]
     },
     "execution_count": 15,
     "metadata": {},
     "output_type": "execute_result"
    }
   ],
   "source": [
    "data[data['year_of_release'].isna()]['name'].unique()"
   ]
  },
  {
   "cell_type": "code",
   "execution_count": 16,
   "metadata": {},
   "outputs": [
    {
     "data": {
      "text/plain": [
       "232"
      ]
     },
     "execution_count": 16,
     "metadata": {},
     "output_type": "execute_result"
    }
   ],
   "source": [
    "len(data[data['year_of_release'].isna()]['name'].unique())"
   ]
  },
  {
   "cell_type": "markdown",
   "metadata": {},
   "source": [
    "**Восстановим данные**\n",
    "\n",
    " - `year_of_release` - например для спортивных игр FIFA 15 - этот год означает конец сезона 14/15, соответственно выход игры должен был состояться в 2014. \n",
    " - `rating` - заполним пропущенные значения `unknown`\n",
    " \n",
    "### Восстановление значений в year_of_release"
   ]
  },
  {
   "cell_type": "code",
   "execution_count": 17,
   "metadata": {},
   "outputs": [
    {
     "name": "stdout",
     "output_type": "stream",
     "text": [
      "<class 'pandas.core.frame.DataFrame'>\n",
      "Int64Index: 16713 entries, 0 to 16714\n",
      "Data columns (total 11 columns):\n",
      " #   Column           Non-Null Count  Dtype  \n",
      "---  ------           --------------  -----  \n",
      " 0   name             16713 non-null  object \n",
      " 1   platform         16713 non-null  object \n",
      " 2   year_of_release  16462 non-null  float64\n",
      " 3   genre            16713 non-null  object \n",
      " 4   na_sales         16713 non-null  float64\n",
      " 5   eu_sales         16713 non-null  float64\n",
      " 6   jp_sales         16713 non-null  float64\n",
      " 7   other_sales      16713 non-null  float64\n",
      " 8   critic_score     8137 non-null   float64\n",
      " 9   user_score       10014 non-null  object \n",
      " 10  rating           9949 non-null   object \n",
      "dtypes: float64(6), object(5)\n",
      "memory usage: 1.5+ MB\n"
     ]
    }
   ],
   "source": [
    "def fill_year(row):\n",
    "    year = 0\n",
    "    last_word = ''\n",
    "    genre = row[3]\n",
    "    for word in row[0].split():\n",
    "        try:\n",
    "            last_word = word\n",
    "            year = int(word)\n",
    "        except:\n",
    "            continue\n",
    "    if genre in ('Sports', 'Racing', 'Fighting'):\n",
    "        if year > 2000 or last_word in ('2K6','2K8'):\n",
    "            if genre == 'Sports':\n",
    "                year -=1\n",
    "            if last_word == '2K6':\n",
    "                year = 2005\n",
    "            elif last_word == '2K8':\n",
    "                year = 2007\n",
    "            if year < 2017 and np.isnan(row[2]):\n",
    "                row[2] = year\n",
    "    return row\n",
    "\n",
    "data = data.apply(fill_year, axis=1)\n",
    "data.info()"
   ]
  },
  {
   "cell_type": "code",
   "execution_count": 18,
   "metadata": {},
   "outputs": [
    {
     "data": {
      "text/plain": [
       "217"
      ]
     },
     "execution_count": 18,
     "metadata": {},
     "output_type": "execute_result"
    }
   ],
   "source": [
    "len(data[data['year_of_release'].isna()]['name'].unique())"
   ]
  },
  {
   "cell_type": "markdown",
   "metadata": {},
   "source": [
    "### Восстановление значений в rating"
   ]
  },
  {
   "cell_type": "code",
   "execution_count": 19,
   "metadata": {},
   "outputs": [
    {
     "name": "stdout",
     "output_type": "stream",
     "text": [
      "<class 'pandas.core.frame.DataFrame'>\n",
      "Int64Index: 16713 entries, 0 to 16714\n",
      "Data columns (total 11 columns):\n",
      " #   Column           Non-Null Count  Dtype  \n",
      "---  ------           --------------  -----  \n",
      " 0   name             16713 non-null  object \n",
      " 1   platform         16713 non-null  object \n",
      " 2   year_of_release  16462 non-null  float64\n",
      " 3   genre            16713 non-null  object \n",
      " 4   na_sales         16713 non-null  float64\n",
      " 5   eu_sales         16713 non-null  float64\n",
      " 6   jp_sales         16713 non-null  float64\n",
      " 7   other_sales      16713 non-null  float64\n",
      " 8   critic_score     8137 non-null   float64\n",
      " 9   user_score       10014 non-null  object \n",
      " 10  rating           16713 non-null  object \n",
      "dtypes: float64(6), object(5)\n",
      "memory usage: 1.5+ MB\n"
     ]
    }
   ],
   "source": [
    "data['rating'].fillna('unknown', inplace=True)\n",
    "data.info()"
   ]
  },
  {
   "cell_type": "markdown",
   "metadata": {},
   "source": [
    "### Значение tbd"
   ]
  },
  {
   "cell_type": "code",
   "execution_count": 20,
   "metadata": {},
   "outputs": [
    {
     "data": {
      "text/html": [
       "<div>\n",
       "<style scoped>\n",
       "    .dataframe tbody tr th:only-of-type {\n",
       "        vertical-align: middle;\n",
       "    }\n",
       "\n",
       "    .dataframe tbody tr th {\n",
       "        vertical-align: top;\n",
       "    }\n",
       "\n",
       "    .dataframe thead th {\n",
       "        text-align: right;\n",
       "    }\n",
       "</style>\n",
       "<table border=\"1\" class=\"dataframe\">\n",
       "  <thead>\n",
       "    <tr style=\"text-align: right;\">\n",
       "      <th></th>\n",
       "      <th>name</th>\n",
       "      <th>platform</th>\n",
       "      <th>year_of_release</th>\n",
       "      <th>genre</th>\n",
       "      <th>na_sales</th>\n",
       "      <th>eu_sales</th>\n",
       "      <th>jp_sales</th>\n",
       "      <th>other_sales</th>\n",
       "      <th>critic_score</th>\n",
       "      <th>user_score</th>\n",
       "      <th>rating</th>\n",
       "    </tr>\n",
       "  </thead>\n",
       "  <tbody>\n",
       "    <tr>\n",
       "      <th>119</th>\n",
       "      <td>Zumba Fitness</td>\n",
       "      <td>Wii</td>\n",
       "      <td>2010.0</td>\n",
       "      <td>Sports</td>\n",
       "      <td>3.45</td>\n",
       "      <td>2.59</td>\n",
       "      <td>0.0</td>\n",
       "      <td>0.66</td>\n",
       "      <td>NaN</td>\n",
       "      <td>tbd</td>\n",
       "      <td>E</td>\n",
       "    </tr>\n",
       "    <tr>\n",
       "      <th>301</th>\n",
       "      <td>Namco Museum: 50th Anniversary</td>\n",
       "      <td>PS2</td>\n",
       "      <td>2005.0</td>\n",
       "      <td>Misc</td>\n",
       "      <td>2.08</td>\n",
       "      <td>1.35</td>\n",
       "      <td>0.0</td>\n",
       "      <td>0.54</td>\n",
       "      <td>61.0</td>\n",
       "      <td>tbd</td>\n",
       "      <td>E10+</td>\n",
       "    </tr>\n",
       "    <tr>\n",
       "      <th>520</th>\n",
       "      <td>Zumba Fitness 2</td>\n",
       "      <td>Wii</td>\n",
       "      <td>2011.0</td>\n",
       "      <td>Sports</td>\n",
       "      <td>1.51</td>\n",
       "      <td>1.03</td>\n",
       "      <td>0.0</td>\n",
       "      <td>0.27</td>\n",
       "      <td>NaN</td>\n",
       "      <td>tbd</td>\n",
       "      <td>T</td>\n",
       "    </tr>\n",
       "    <tr>\n",
       "      <th>645</th>\n",
       "      <td>uDraw Studio</td>\n",
       "      <td>Wii</td>\n",
       "      <td>2010.0</td>\n",
       "      <td>Misc</td>\n",
       "      <td>1.65</td>\n",
       "      <td>0.57</td>\n",
       "      <td>0.0</td>\n",
       "      <td>0.20</td>\n",
       "      <td>71.0</td>\n",
       "      <td>tbd</td>\n",
       "      <td>E</td>\n",
       "    </tr>\n",
       "    <tr>\n",
       "      <th>657</th>\n",
       "      <td>Frogger's Adventures: Temple of the Frog</td>\n",
       "      <td>GBA</td>\n",
       "      <td>NaN</td>\n",
       "      <td>Adventure</td>\n",
       "      <td>2.15</td>\n",
       "      <td>0.18</td>\n",
       "      <td>0.0</td>\n",
       "      <td>0.07</td>\n",
       "      <td>73.0</td>\n",
       "      <td>tbd</td>\n",
       "      <td>E</td>\n",
       "    </tr>\n",
       "    <tr>\n",
       "      <th>...</th>\n",
       "      <td>...</td>\n",
       "      <td>...</td>\n",
       "      <td>...</td>\n",
       "      <td>...</td>\n",
       "      <td>...</td>\n",
       "      <td>...</td>\n",
       "      <td>...</td>\n",
       "      <td>...</td>\n",
       "      <td>...</td>\n",
       "      <td>...</td>\n",
       "      <td>...</td>\n",
       "    </tr>\n",
       "    <tr>\n",
       "      <th>16695</th>\n",
       "      <td>Planet Monsters</td>\n",
       "      <td>GBA</td>\n",
       "      <td>2001.0</td>\n",
       "      <td>Action</td>\n",
       "      <td>0.01</td>\n",
       "      <td>0.00</td>\n",
       "      <td>0.0</td>\n",
       "      <td>0.00</td>\n",
       "      <td>67.0</td>\n",
       "      <td>tbd</td>\n",
       "      <td>E</td>\n",
       "    </tr>\n",
       "    <tr>\n",
       "      <th>16697</th>\n",
       "      <td>Bust-A-Move 3000</td>\n",
       "      <td>GC</td>\n",
       "      <td>2003.0</td>\n",
       "      <td>Puzzle</td>\n",
       "      <td>0.01</td>\n",
       "      <td>0.00</td>\n",
       "      <td>0.0</td>\n",
       "      <td>0.00</td>\n",
       "      <td>53.0</td>\n",
       "      <td>tbd</td>\n",
       "      <td>E</td>\n",
       "    </tr>\n",
       "    <tr>\n",
       "      <th>16698</th>\n",
       "      <td>Mega Brain Boost</td>\n",
       "      <td>DS</td>\n",
       "      <td>2008.0</td>\n",
       "      <td>Puzzle</td>\n",
       "      <td>0.01</td>\n",
       "      <td>0.00</td>\n",
       "      <td>0.0</td>\n",
       "      <td>0.00</td>\n",
       "      <td>48.0</td>\n",
       "      <td>tbd</td>\n",
       "      <td>E</td>\n",
       "    </tr>\n",
       "    <tr>\n",
       "      <th>16704</th>\n",
       "      <td>Plushees</td>\n",
       "      <td>DS</td>\n",
       "      <td>2008.0</td>\n",
       "      <td>Simulation</td>\n",
       "      <td>0.01</td>\n",
       "      <td>0.00</td>\n",
       "      <td>0.0</td>\n",
       "      <td>0.00</td>\n",
       "      <td>NaN</td>\n",
       "      <td>tbd</td>\n",
       "      <td>E</td>\n",
       "    </tr>\n",
       "    <tr>\n",
       "      <th>16706</th>\n",
       "      <td>Men in Black II: Alien Escape</td>\n",
       "      <td>GC</td>\n",
       "      <td>2003.0</td>\n",
       "      <td>Shooter</td>\n",
       "      <td>0.01</td>\n",
       "      <td>0.00</td>\n",
       "      <td>0.0</td>\n",
       "      <td>0.00</td>\n",
       "      <td>NaN</td>\n",
       "      <td>tbd</td>\n",
       "      <td>T</td>\n",
       "    </tr>\n",
       "  </tbody>\n",
       "</table>\n",
       "<p>2424 rows × 11 columns</p>\n",
       "</div>"
      ],
      "text/plain": [
       "                                           name platform  year_of_release  \\\n",
       "119                               Zumba Fitness      Wii           2010.0   \n",
       "301              Namco Museum: 50th Anniversary      PS2           2005.0   \n",
       "520                             Zumba Fitness 2      Wii           2011.0   \n",
       "645                                uDraw Studio      Wii           2010.0   \n",
       "657    Frogger's Adventures: Temple of the Frog      GBA              NaN   \n",
       "...                                         ...      ...              ...   \n",
       "16695                           Planet Monsters      GBA           2001.0   \n",
       "16697                          Bust-A-Move 3000       GC           2003.0   \n",
       "16698                          Mega Brain Boost       DS           2008.0   \n",
       "16704                                  Plushees       DS           2008.0   \n",
       "16706             Men in Black II: Alien Escape       GC           2003.0   \n",
       "\n",
       "            genre  na_sales  eu_sales  jp_sales  other_sales  critic_score  \\\n",
       "119        Sports      3.45      2.59       0.0         0.66           NaN   \n",
       "301          Misc      2.08      1.35       0.0         0.54          61.0   \n",
       "520        Sports      1.51      1.03       0.0         0.27           NaN   \n",
       "645          Misc      1.65      0.57       0.0         0.20          71.0   \n",
       "657     Adventure      2.15      0.18       0.0         0.07          73.0   \n",
       "...           ...       ...       ...       ...          ...           ...   \n",
       "16695      Action      0.01      0.00       0.0         0.00          67.0   \n",
       "16697      Puzzle      0.01      0.00       0.0         0.00          53.0   \n",
       "16698      Puzzle      0.01      0.00       0.0         0.00          48.0   \n",
       "16704  Simulation      0.01      0.00       0.0         0.00           NaN   \n",
       "16706     Shooter      0.01      0.00       0.0         0.00           NaN   \n",
       "\n",
       "      user_score rating  \n",
       "119          tbd      E  \n",
       "301          tbd   E10+  \n",
       "520          tbd      T  \n",
       "645          tbd      E  \n",
       "657          tbd      E  \n",
       "...          ...    ...  \n",
       "16695        tbd      E  \n",
       "16697        tbd      E  \n",
       "16698        tbd      E  \n",
       "16704        tbd      E  \n",
       "16706        tbd      T  \n",
       "\n",
       "[2424 rows x 11 columns]"
      ]
     },
     "execution_count": 20,
     "metadata": {},
     "output_type": "execute_result"
    }
   ],
   "source": [
    "data[data['user_score'] == 'tbd']"
   ]
  },
  {
   "cell_type": "markdown",
   "metadata": {},
   "source": [
    "`tbd` - значение расшифровывается как `to be determined` или `to be decided` то есть \"будет определено\" или \"будет решено\". Оно используется, когда конкретное значение или информация ещё не известны или не были приняты окончательные решения.\n",
    "\n",
    "То есть на момент выгрузки датасета значения рейтинга пользователей еще не были собраны.\n",
    "\n",
    "Обработаем эти значения на значения Nan, чтобы он содержал один тип данных.\n"
   ]
  },
  {
   "cell_type": "code",
   "execution_count": 21,
   "metadata": {},
   "outputs": [
    {
     "name": "stdout",
     "output_type": "stream",
     "text": [
      "<class 'pandas.core.frame.DataFrame'>\n",
      "Int64Index: 16713 entries, 0 to 16714\n",
      "Data columns (total 11 columns):\n",
      " #   Column           Non-Null Count  Dtype  \n",
      "---  ------           --------------  -----  \n",
      " 0   name             16713 non-null  object \n",
      " 1   platform         16713 non-null  object \n",
      " 2   year_of_release  16462 non-null  float64\n",
      " 3   genre            16713 non-null  object \n",
      " 4   na_sales         16713 non-null  float64\n",
      " 5   eu_sales         16713 non-null  float64\n",
      " 6   jp_sales         16713 non-null  float64\n",
      " 7   other_sales      16713 non-null  float64\n",
      " 8   critic_score     8137 non-null   float64\n",
      " 9   user_score       7590 non-null   float32\n",
      " 10  rating           16713 non-null  object \n",
      "dtypes: float32(1), float64(6), object(4)\n",
      "memory usage: 1.5+ MB\n"
     ]
    }
   ],
   "source": [
    "data['user_score'] = data['user_score'].replace({'tbd': pd.NA}, regex=False)\n",
    "data['user_score'] = pd.to_numeric(data['user_score'], downcast='float', errors ='coerce')\n",
    "data['user_score'] = data['user_score'].round(1)\n",
    "data.info()"
   ]
  },
  {
   "cell_type": "markdown",
   "metadata": {},
   "source": [
    "### Расчет суммарных продаж по всем регионам"
   ]
  },
  {
   "cell_type": "code",
   "execution_count": 22,
   "metadata": {
    "scrolled": true
   },
   "outputs": [
    {
     "data": {
      "text/html": [
       "<div>\n",
       "<style scoped>\n",
       "    .dataframe tbody tr th:only-of-type {\n",
       "        vertical-align: middle;\n",
       "    }\n",
       "\n",
       "    .dataframe tbody tr th {\n",
       "        vertical-align: top;\n",
       "    }\n",
       "\n",
       "    .dataframe thead th {\n",
       "        text-align: right;\n",
       "    }\n",
       "</style>\n",
       "<table border=\"1\" class=\"dataframe\">\n",
       "  <thead>\n",
       "    <tr style=\"text-align: right;\">\n",
       "      <th></th>\n",
       "      <th>name</th>\n",
       "      <th>platform</th>\n",
       "      <th>year_of_release</th>\n",
       "      <th>genre</th>\n",
       "      <th>na_sales</th>\n",
       "      <th>eu_sales</th>\n",
       "      <th>jp_sales</th>\n",
       "      <th>other_sales</th>\n",
       "      <th>critic_score</th>\n",
       "      <th>user_score</th>\n",
       "      <th>rating</th>\n",
       "      <th>world_sales</th>\n",
       "    </tr>\n",
       "  </thead>\n",
       "  <tbody>\n",
       "    <tr>\n",
       "      <th>0</th>\n",
       "      <td>Wii Sports</td>\n",
       "      <td>Wii</td>\n",
       "      <td>2006.0</td>\n",
       "      <td>Sports</td>\n",
       "      <td>41.36</td>\n",
       "      <td>28.96</td>\n",
       "      <td>3.77</td>\n",
       "      <td>8.45</td>\n",
       "      <td>76.0</td>\n",
       "      <td>8.0</td>\n",
       "      <td>E</td>\n",
       "      <td>82.54</td>\n",
       "    </tr>\n",
       "    <tr>\n",
       "      <th>1</th>\n",
       "      <td>Super Mario Bros.</td>\n",
       "      <td>NES</td>\n",
       "      <td>1985.0</td>\n",
       "      <td>Platform</td>\n",
       "      <td>29.08</td>\n",
       "      <td>3.58</td>\n",
       "      <td>6.81</td>\n",
       "      <td>0.77</td>\n",
       "      <td>NaN</td>\n",
       "      <td>NaN</td>\n",
       "      <td>unknown</td>\n",
       "      <td>40.24</td>\n",
       "    </tr>\n",
       "    <tr>\n",
       "      <th>2</th>\n",
       "      <td>Mario Kart Wii</td>\n",
       "      <td>Wii</td>\n",
       "      <td>2008.0</td>\n",
       "      <td>Racing</td>\n",
       "      <td>15.68</td>\n",
       "      <td>12.76</td>\n",
       "      <td>3.79</td>\n",
       "      <td>3.29</td>\n",
       "      <td>82.0</td>\n",
       "      <td>8.3</td>\n",
       "      <td>E</td>\n",
       "      <td>35.52</td>\n",
       "    </tr>\n",
       "    <tr>\n",
       "      <th>3</th>\n",
       "      <td>Wii Sports Resort</td>\n",
       "      <td>Wii</td>\n",
       "      <td>2009.0</td>\n",
       "      <td>Sports</td>\n",
       "      <td>15.61</td>\n",
       "      <td>10.93</td>\n",
       "      <td>3.28</td>\n",
       "      <td>2.95</td>\n",
       "      <td>80.0</td>\n",
       "      <td>8.0</td>\n",
       "      <td>E</td>\n",
       "      <td>32.77</td>\n",
       "    </tr>\n",
       "    <tr>\n",
       "      <th>4</th>\n",
       "      <td>Pokemon Red/Pokemon Blue</td>\n",
       "      <td>GB</td>\n",
       "      <td>1996.0</td>\n",
       "      <td>Role-Playing</td>\n",
       "      <td>11.27</td>\n",
       "      <td>8.89</td>\n",
       "      <td>10.22</td>\n",
       "      <td>1.00</td>\n",
       "      <td>NaN</td>\n",
       "      <td>NaN</td>\n",
       "      <td>unknown</td>\n",
       "      <td>31.38</td>\n",
       "    </tr>\n",
       "    <tr>\n",
       "      <th>...</th>\n",
       "      <td>...</td>\n",
       "      <td>...</td>\n",
       "      <td>...</td>\n",
       "      <td>...</td>\n",
       "      <td>...</td>\n",
       "      <td>...</td>\n",
       "      <td>...</td>\n",
       "      <td>...</td>\n",
       "      <td>...</td>\n",
       "      <td>...</td>\n",
       "      <td>...</td>\n",
       "      <td>...</td>\n",
       "    </tr>\n",
       "    <tr>\n",
       "      <th>16710</th>\n",
       "      <td>Samurai Warriors: Sanada Maru</td>\n",
       "      <td>PS3</td>\n",
       "      <td>2016.0</td>\n",
       "      <td>Action</td>\n",
       "      <td>0.00</td>\n",
       "      <td>0.00</td>\n",
       "      <td>0.01</td>\n",
       "      <td>0.00</td>\n",
       "      <td>NaN</td>\n",
       "      <td>NaN</td>\n",
       "      <td>unknown</td>\n",
       "      <td>0.01</td>\n",
       "    </tr>\n",
       "    <tr>\n",
       "      <th>16711</th>\n",
       "      <td>LMA Manager 2007</td>\n",
       "      <td>X360</td>\n",
       "      <td>2006.0</td>\n",
       "      <td>Sports</td>\n",
       "      <td>0.00</td>\n",
       "      <td>0.01</td>\n",
       "      <td>0.00</td>\n",
       "      <td>0.00</td>\n",
       "      <td>NaN</td>\n",
       "      <td>NaN</td>\n",
       "      <td>unknown</td>\n",
       "      <td>0.01</td>\n",
       "    </tr>\n",
       "    <tr>\n",
       "      <th>16712</th>\n",
       "      <td>Haitaka no Psychedelica</td>\n",
       "      <td>PSV</td>\n",
       "      <td>2016.0</td>\n",
       "      <td>Adventure</td>\n",
       "      <td>0.00</td>\n",
       "      <td>0.00</td>\n",
       "      <td>0.01</td>\n",
       "      <td>0.00</td>\n",
       "      <td>NaN</td>\n",
       "      <td>NaN</td>\n",
       "      <td>unknown</td>\n",
       "      <td>0.01</td>\n",
       "    </tr>\n",
       "    <tr>\n",
       "      <th>16713</th>\n",
       "      <td>Spirits &amp; Spells</td>\n",
       "      <td>GBA</td>\n",
       "      <td>2003.0</td>\n",
       "      <td>Platform</td>\n",
       "      <td>0.01</td>\n",
       "      <td>0.00</td>\n",
       "      <td>0.00</td>\n",
       "      <td>0.00</td>\n",
       "      <td>NaN</td>\n",
       "      <td>NaN</td>\n",
       "      <td>unknown</td>\n",
       "      <td>0.01</td>\n",
       "    </tr>\n",
       "    <tr>\n",
       "      <th>16714</th>\n",
       "      <td>Winning Post 8 2016</td>\n",
       "      <td>PSV</td>\n",
       "      <td>2016.0</td>\n",
       "      <td>Simulation</td>\n",
       "      <td>0.00</td>\n",
       "      <td>0.00</td>\n",
       "      <td>0.01</td>\n",
       "      <td>0.00</td>\n",
       "      <td>NaN</td>\n",
       "      <td>NaN</td>\n",
       "      <td>unknown</td>\n",
       "      <td>0.01</td>\n",
       "    </tr>\n",
       "  </tbody>\n",
       "</table>\n",
       "<p>16713 rows × 12 columns</p>\n",
       "</div>"
      ],
      "text/plain": [
       "                                name platform  year_of_release         genre  \\\n",
       "0                         Wii Sports      Wii           2006.0        Sports   \n",
       "1                  Super Mario Bros.      NES           1985.0      Platform   \n",
       "2                     Mario Kart Wii      Wii           2008.0        Racing   \n",
       "3                  Wii Sports Resort      Wii           2009.0        Sports   \n",
       "4           Pokemon Red/Pokemon Blue       GB           1996.0  Role-Playing   \n",
       "...                              ...      ...              ...           ...   \n",
       "16710  Samurai Warriors: Sanada Maru      PS3           2016.0        Action   \n",
       "16711               LMA Manager 2007     X360           2006.0        Sports   \n",
       "16712        Haitaka no Psychedelica      PSV           2016.0     Adventure   \n",
       "16713               Spirits & Spells      GBA           2003.0      Platform   \n",
       "16714            Winning Post 8 2016      PSV           2016.0    Simulation   \n",
       "\n",
       "       na_sales  eu_sales  jp_sales  other_sales  critic_score  user_score  \\\n",
       "0         41.36     28.96      3.77         8.45          76.0         8.0   \n",
       "1         29.08      3.58      6.81         0.77           NaN         NaN   \n",
       "2         15.68     12.76      3.79         3.29          82.0         8.3   \n",
       "3         15.61     10.93      3.28         2.95          80.0         8.0   \n",
       "4         11.27      8.89     10.22         1.00           NaN         NaN   \n",
       "...         ...       ...       ...          ...           ...         ...   \n",
       "16710      0.00      0.00      0.01         0.00           NaN         NaN   \n",
       "16711      0.00      0.01      0.00         0.00           NaN         NaN   \n",
       "16712      0.00      0.00      0.01         0.00           NaN         NaN   \n",
       "16713      0.01      0.00      0.00         0.00           NaN         NaN   \n",
       "16714      0.00      0.00      0.01         0.00           NaN         NaN   \n",
       "\n",
       "        rating  world_sales  \n",
       "0            E        82.54  \n",
       "1      unknown        40.24  \n",
       "2            E        35.52  \n",
       "3            E        32.77  \n",
       "4      unknown        31.38  \n",
       "...        ...          ...  \n",
       "16710  unknown         0.01  \n",
       "16711  unknown         0.01  \n",
       "16712  unknown         0.01  \n",
       "16713  unknown         0.01  \n",
       "16714  unknown         0.01  \n",
       "\n",
       "[16713 rows x 12 columns]"
      ]
     },
     "execution_count": 22,
     "metadata": {},
     "output_type": "execute_result"
    }
   ],
   "source": [
    "data['world_sales'] = data[['na_sales','eu_sales','jp_sales', 'other_sales']].sum(axis = 1)\n",
    "data"
   ]
  },
  {
   "cell_type": "markdown",
   "metadata": {},
   "source": [
    "### Выводы\n",
    "\n",
    "**На данном этапе было сделано**\n",
    "\n",
    " - привели к нижнему регистру газвания столбцов\n",
    " - восстановили пропущенные значения в столбцах `year_of_release` и `rating`\n",
    " - обработали выбивающиеся значения `tbd` в столбце `user_score`\n",
    " - расчитали суммарные продажи по всем регионам\n",
    " \n",
    "Данные готовы к дальнейшему анализу"
   ]
  },
  {
   "cell_type": "markdown",
   "metadata": {},
   "source": [
    "## Исследовательский анализ данных\n",
    "\n",
    "### Выпуск игр по годам"
   ]
  },
  {
   "cell_type": "code",
   "execution_count": 23,
   "metadata": {},
   "outputs": [
    {
     "data": {
      "text/html": [
       "<div>\n",
       "<style scoped>\n",
       "    .dataframe tbody tr th:only-of-type {\n",
       "        vertical-align: middle;\n",
       "    }\n",
       "\n",
       "    .dataframe tbody tr th {\n",
       "        vertical-align: top;\n",
       "    }\n",
       "\n",
       "    .dataframe thead th {\n",
       "        text-align: right;\n",
       "    }\n",
       "</style>\n",
       "<table border=\"1\" class=\"dataframe\">\n",
       "  <thead>\n",
       "    <tr style=\"text-align: right;\">\n",
       "      <th></th>\n",
       "      <th>count_of_games</th>\n",
       "    </tr>\n",
       "    <tr>\n",
       "      <th>year_of_release</th>\n",
       "      <th></th>\n",
       "    </tr>\n",
       "  </thead>\n",
       "  <tbody>\n",
       "    <tr>\n",
       "      <th>1980.0</th>\n",
       "      <td>9</td>\n",
       "    </tr>\n",
       "    <tr>\n",
       "      <th>1981.0</th>\n",
       "      <td>46</td>\n",
       "    </tr>\n",
       "    <tr>\n",
       "      <th>1982.0</th>\n",
       "      <td>36</td>\n",
       "    </tr>\n",
       "    <tr>\n",
       "      <th>1983.0</th>\n",
       "      <td>17</td>\n",
       "    </tr>\n",
       "    <tr>\n",
       "      <th>1984.0</th>\n",
       "      <td>14</td>\n",
       "    </tr>\n",
       "    <tr>\n",
       "      <th>1985.0</th>\n",
       "      <td>14</td>\n",
       "    </tr>\n",
       "    <tr>\n",
       "      <th>1986.0</th>\n",
       "      <td>21</td>\n",
       "    </tr>\n",
       "    <tr>\n",
       "      <th>1987.0</th>\n",
       "      <td>16</td>\n",
       "    </tr>\n",
       "    <tr>\n",
       "      <th>1988.0</th>\n",
       "      <td>15</td>\n",
       "    </tr>\n",
       "    <tr>\n",
       "      <th>1989.0</th>\n",
       "      <td>17</td>\n",
       "    </tr>\n",
       "    <tr>\n",
       "      <th>1990.0</th>\n",
       "      <td>16</td>\n",
       "    </tr>\n",
       "    <tr>\n",
       "      <th>1991.0</th>\n",
       "      <td>41</td>\n",
       "    </tr>\n",
       "    <tr>\n",
       "      <th>1992.0</th>\n",
       "      <td>43</td>\n",
       "    </tr>\n",
       "    <tr>\n",
       "      <th>1993.0</th>\n",
       "      <td>60</td>\n",
       "    </tr>\n",
       "    <tr>\n",
       "      <th>1994.0</th>\n",
       "      <td>121</td>\n",
       "    </tr>\n",
       "    <tr>\n",
       "      <th>1995.0</th>\n",
       "      <td>219</td>\n",
       "    </tr>\n",
       "    <tr>\n",
       "      <th>1996.0</th>\n",
       "      <td>263</td>\n",
       "    </tr>\n",
       "    <tr>\n",
       "      <th>1997.0</th>\n",
       "      <td>289</td>\n",
       "    </tr>\n",
       "    <tr>\n",
       "      <th>1998.0</th>\n",
       "      <td>379</td>\n",
       "    </tr>\n",
       "    <tr>\n",
       "      <th>1999.0</th>\n",
       "      <td>338</td>\n",
       "    </tr>\n",
       "    <tr>\n",
       "      <th>2000.0</th>\n",
       "      <td>350</td>\n",
       "    </tr>\n",
       "    <tr>\n",
       "      <th>2001.0</th>\n",
       "      <td>483</td>\n",
       "    </tr>\n",
       "    <tr>\n",
       "      <th>2002.0</th>\n",
       "      <td>832</td>\n",
       "    </tr>\n",
       "    <tr>\n",
       "      <th>2003.0</th>\n",
       "      <td>778</td>\n",
       "    </tr>\n",
       "    <tr>\n",
       "      <th>2004.0</th>\n",
       "      <td>764</td>\n",
       "    </tr>\n",
       "    <tr>\n",
       "      <th>2005.0</th>\n",
       "      <td>941</td>\n",
       "    </tr>\n",
       "    <tr>\n",
       "      <th>2006.0</th>\n",
       "      <td>1009</td>\n",
       "    </tr>\n",
       "    <tr>\n",
       "      <th>2007.0</th>\n",
       "      <td>1200</td>\n",
       "    </tr>\n",
       "    <tr>\n",
       "      <th>2008.0</th>\n",
       "      <td>1427</td>\n",
       "    </tr>\n",
       "    <tr>\n",
       "      <th>2009.0</th>\n",
       "      <td>1426</td>\n",
       "    </tr>\n",
       "    <tr>\n",
       "      <th>2010.0</th>\n",
       "      <td>1255</td>\n",
       "    </tr>\n",
       "    <tr>\n",
       "      <th>2011.0</th>\n",
       "      <td>1137</td>\n",
       "    </tr>\n",
       "    <tr>\n",
       "      <th>2012.0</th>\n",
       "      <td>653</td>\n",
       "    </tr>\n",
       "    <tr>\n",
       "      <th>2013.0</th>\n",
       "      <td>544</td>\n",
       "    </tr>\n",
       "    <tr>\n",
       "      <th>2014.0</th>\n",
       "      <td>581</td>\n",
       "    </tr>\n",
       "    <tr>\n",
       "      <th>2015.0</th>\n",
       "      <td>606</td>\n",
       "    </tr>\n",
       "    <tr>\n",
       "      <th>2016.0</th>\n",
       "      <td>502</td>\n",
       "    </tr>\n",
       "  </tbody>\n",
       "</table>\n",
       "</div>"
      ],
      "text/plain": [
       "                 count_of_games\n",
       "year_of_release                \n",
       "1980.0                        9\n",
       "1981.0                       46\n",
       "1982.0                       36\n",
       "1983.0                       17\n",
       "1984.0                       14\n",
       "1985.0                       14\n",
       "1986.0                       21\n",
       "1987.0                       16\n",
       "1988.0                       15\n",
       "1989.0                       17\n",
       "1990.0                       16\n",
       "1991.0                       41\n",
       "1992.0                       43\n",
       "1993.0                       60\n",
       "1994.0                      121\n",
       "1995.0                      219\n",
       "1996.0                      263\n",
       "1997.0                      289\n",
       "1998.0                      379\n",
       "1999.0                      338\n",
       "2000.0                      350\n",
       "2001.0                      483\n",
       "2002.0                      832\n",
       "2003.0                      778\n",
       "2004.0                      764\n",
       "2005.0                      941\n",
       "2006.0                     1009\n",
       "2007.0                     1200\n",
       "2008.0                     1427\n",
       "2009.0                     1426\n",
       "2010.0                     1255\n",
       "2011.0                     1137\n",
       "2012.0                      653\n",
       "2013.0                      544\n",
       "2014.0                      581\n",
       "2015.0                      606\n",
       "2016.0                      502"
      ]
     },
     "execution_count": 23,
     "metadata": {},
     "output_type": "execute_result"
    }
   ],
   "source": [
    "pivot_year = data.pivot_table(index='year_of_release', values='name', aggfunc='count')\n",
    "pivot_year.columns = ['count_of_games']\n",
    "pivot_year"
   ]
  },
  {
   "cell_type": "code",
   "execution_count": 24,
   "metadata": {},
   "outputs": [
    {
     "data": {
      "image/png": "[encoded data removed]",
      "text/plain": [
       "<Figure size 1080x504 with 1 Axes>"
      ]
     },
     "metadata": {
      "needs_background": "light"
     },
     "output_type": "display_data"
    }
   ],
   "source": [
    "pivot_year.plot(color='blue', figsize=(15, 7), grid=True)\n",
    "plt.fill_between(pivot_year.index, pivot_year['count_of_games'], color='blue', alpha=0.3)\n",
    "plt.xlabel('Год выпуска')\n",
    "plt.ylabel('Количество игр')\n",
    "plt.title('Количество игр по годам')\n",
    "plt.show()"
   ]
  },
  {
   "cell_type": "markdown",
   "metadata": {},
   "source": [
    "Пик приходится на период с 2005 по 2010 годы.\n",
    "\n",
    "Количество изданных игр до 1995 года значительно меньше, чем за последующее время. Очевидно, с 1995 года появмлся стремительный рост игровой индустрии.\n",
    "\n",
    "Не все данные важны, так как охватываемый период затрагивает промежуток времени в 35 лет. За этот период произошло много изменений в сфере тезнологий, что в свою очередь повлияло и на игровую индустрию. Так например:\n",
    "\n",
    " - `1980 - 1993` было в принципе мало продаж игр в силу недостаточного уровня развития игровых движков, соответственно, и отзывов критиков и пользователей за этот период значительно меньше;\n",
    " - `2002` произошел пик, на этот период пришелся прогресс игровых движков;\n",
    " - `2005-2010` пришла популярность на игры и их массовое распространение;\n",
    " - `2012 - 2016` спад обусловлен кризисом, а также тем, что игровые студии стали создавать более сложные продукты, на разработку которых тратится больше времени.\n",
    " \n",
    "### Продажи по платформам"
   ]
  },
  {
   "cell_type": "code",
   "execution_count": 25,
   "metadata": {},
   "outputs": [
    {
     "data": {
      "text/html": [
       "<div>\n",
       "<style scoped>\n",
       "    .dataframe tbody tr th:only-of-type {\n",
       "        vertical-align: middle;\n",
       "    }\n",
       "\n",
       "    .dataframe tbody tr th {\n",
       "        vertical-align: top;\n",
       "    }\n",
       "\n",
       "    .dataframe thead th {\n",
       "        text-align: right;\n",
       "    }\n",
       "</style>\n",
       "<table border=\"1\" class=\"dataframe\">\n",
       "  <thead>\n",
       "    <tr style=\"text-align: right;\">\n",
       "      <th></th>\n",
       "      <th>world_sales</th>\n",
       "    </tr>\n",
       "    <tr>\n",
       "      <th>platform</th>\n",
       "      <th></th>\n",
       "    </tr>\n",
       "  </thead>\n",
       "  <tbody>\n",
       "    <tr>\n",
       "      <th>PS2</th>\n",
       "      <td>1255.77</td>\n",
       "    </tr>\n",
       "    <tr>\n",
       "      <th>X360</th>\n",
       "      <td>971.42</td>\n",
       "    </tr>\n",
       "    <tr>\n",
       "      <th>PS3</th>\n",
       "      <td>939.65</td>\n",
       "    </tr>\n",
       "    <tr>\n",
       "      <th>Wii</th>\n",
       "      <td>907.51</td>\n",
       "    </tr>\n",
       "    <tr>\n",
       "      <th>DS</th>\n",
       "      <td>806.12</td>\n",
       "    </tr>\n",
       "    <tr>\n",
       "      <th>PS</th>\n",
       "      <td>730.86</td>\n",
       "    </tr>\n",
       "    <tr>\n",
       "      <th>GBA</th>\n",
       "      <td>317.85</td>\n",
       "    </tr>\n",
       "    <tr>\n",
       "      <th>PS4</th>\n",
       "      <td>314.14</td>\n",
       "    </tr>\n",
       "    <tr>\n",
       "      <th>PSP</th>\n",
       "      <td>294.05</td>\n",
       "    </tr>\n",
       "    <tr>\n",
       "      <th>PC</th>\n",
       "      <td>259.52</td>\n",
       "    </tr>\n",
       "    <tr>\n",
       "      <th>3DS</th>\n",
       "      <td>259.00</td>\n",
       "    </tr>\n",
       "    <tr>\n",
       "      <th>XB</th>\n",
       "      <td>257.74</td>\n",
       "    </tr>\n",
       "    <tr>\n",
       "      <th>GB</th>\n",
       "      <td>255.46</td>\n",
       "    </tr>\n",
       "    <tr>\n",
       "      <th>NES</th>\n",
       "      <td>251.05</td>\n",
       "    </tr>\n",
       "    <tr>\n",
       "      <th>N64</th>\n",
       "      <td>218.68</td>\n",
       "    </tr>\n",
       "    <tr>\n",
       "      <th>SNES</th>\n",
       "      <td>200.04</td>\n",
       "    </tr>\n",
       "    <tr>\n",
       "      <th>GC</th>\n",
       "      <td>198.93</td>\n",
       "    </tr>\n",
       "    <tr>\n",
       "      <th>XOne</th>\n",
       "      <td>159.32</td>\n",
       "    </tr>\n",
       "    <tr>\n",
       "      <th>2600</th>\n",
       "      <td>96.98</td>\n",
       "    </tr>\n",
       "    <tr>\n",
       "      <th>WiiU</th>\n",
       "      <td>82.19</td>\n",
       "    </tr>\n",
       "    <tr>\n",
       "      <th>PSV</th>\n",
       "      <td>54.07</td>\n",
       "    </tr>\n",
       "    <tr>\n",
       "      <th>SAT</th>\n",
       "      <td>33.59</td>\n",
       "    </tr>\n",
       "    <tr>\n",
       "      <th>GEN</th>\n",
       "      <td>28.35</td>\n",
       "    </tr>\n",
       "    <tr>\n",
       "      <th>DC</th>\n",
       "      <td>15.95</td>\n",
       "    </tr>\n",
       "    <tr>\n",
       "      <th>SCD</th>\n",
       "      <td>1.86</td>\n",
       "    </tr>\n",
       "    <tr>\n",
       "      <th>NG</th>\n",
       "      <td>1.44</td>\n",
       "    </tr>\n",
       "    <tr>\n",
       "      <th>WS</th>\n",
       "      <td>1.42</td>\n",
       "    </tr>\n",
       "    <tr>\n",
       "      <th>TG16</th>\n",
       "      <td>0.16</td>\n",
       "    </tr>\n",
       "    <tr>\n",
       "      <th>3DO</th>\n",
       "      <td>0.10</td>\n",
       "    </tr>\n",
       "    <tr>\n",
       "      <th>GG</th>\n",
       "      <td>0.04</td>\n",
       "    </tr>\n",
       "    <tr>\n",
       "      <th>PCFX</th>\n",
       "      <td>0.03</td>\n",
       "    </tr>\n",
       "  </tbody>\n",
       "</table>\n",
       "</div>"
      ],
      "text/plain": [
       "          world_sales\n",
       "platform             \n",
       "PS2           1255.77\n",
       "X360           971.42\n",
       "PS3            939.65\n",
       "Wii            907.51\n",
       "DS             806.12\n",
       "PS             730.86\n",
       "GBA            317.85\n",
       "PS4            314.14\n",
       "PSP            294.05\n",
       "PC             259.52\n",
       "3DS            259.00\n",
       "XB             257.74\n",
       "GB             255.46\n",
       "NES            251.05\n",
       "N64            218.68\n",
       "SNES           200.04\n",
       "GC             198.93\n",
       "XOne           159.32\n",
       "2600            96.98\n",
       "WiiU            82.19\n",
       "PSV             54.07\n",
       "SAT             33.59\n",
       "GEN             28.35\n",
       "DC              15.95\n",
       "SCD              1.86\n",
       "NG               1.44\n",
       "WS               1.42\n",
       "TG16             0.16\n",
       "3DO              0.10\n",
       "GG               0.04\n",
       "PCFX             0.03"
      ]
     },
     "execution_count": 25,
     "metadata": {},
     "output_type": "execute_result"
    }
   ],
   "source": [
    "pivot_sales = data.pivot_table(index='platform', values='world_sales', aggfunc='sum')\n",
    "pivot_sales = pivot_sales.sort_values('world_sales', ascending=False)\n",
    "pivot_sales"
   ]
  },
  {
   "cell_type": "markdown",
   "metadata": {},
   "source": [
    "Больше всего продаж для платформ `PS2`, `X360`, `PS3`, `Wii`, `DS`. Изучим распределение продаж по годам."
   ]
  },
  {
   "cell_type": "code",
   "execution_count": 26,
   "metadata": {},
   "outputs": [
    {
     "data": {
      "text/plain": [
       "['PS2', 'X360', 'PS3', 'Wii', 'DS', 'PS']"
      ]
     },
     "execution_count": 26,
     "metadata": {},
     "output_type": "execute_result"
    }
   ],
   "source": [
    "top_platforms = list(pivot_sales.index[:6])\n",
    "top_platforms"
   ]
  },
  {
   "cell_type": "code",
   "execution_count": 27,
   "metadata": {
    "scrolled": false
   },
   "outputs": [
    {
     "name": "stdout",
     "output_type": "stream",
     "text": [
      "Платформа PS2\n",
      "                 world_sales\n",
      "year_of_release             \n",
      "2000.0                 39.17\n",
      "2001.0                166.43\n",
      "2002.0                205.78\n",
      "2003.0                194.27\n",
      "2004.0                212.13\n",
      "2005.0                160.91\n",
      "2006.0                106.46\n",
      "2007.0                 75.99\n",
      "2008.0                 53.90\n",
      "2009.0                 26.40\n",
      "2010.0                  5.64\n",
      "2011.0                  0.45 \n",
      "\n",
      "Платформа X360\n",
      "                 world_sales\n",
      "year_of_release             \n",
      "2005.0                  8.25\n",
      "2006.0                 51.63\n",
      "2007.0                 95.41\n",
      "2008.0                135.26\n",
      "2009.0                120.29\n",
      "2010.0                170.03\n",
      "2011.0                143.89\n",
      "2012.0                 99.74\n",
      "2013.0                 88.58\n",
      "2014.0                 34.74\n",
      "2015.0                 11.96\n",
      "2016.0                  1.52 \n",
      "\n",
      "Платформа PS3\n",
      "                 world_sales\n",
      "year_of_release             \n",
      "2006.0                 20.96\n",
      "2007.0                 73.19\n",
      "2008.0                118.52\n",
      "2009.0                130.93\n",
      "2010.0                142.17\n",
      "2011.0                156.78\n",
      "2012.0                107.36\n",
      "2013.0                113.25\n",
      "2014.0                 47.76\n",
      "2015.0                 16.82\n",
      "2016.0                  3.60 \n",
      "\n",
      "Платформа Wii\n",
      "                 world_sales\n",
      "year_of_release             \n",
      "2006.0                137.15\n",
      "2007.0                152.77\n",
      "2008.0                171.32\n",
      "2009.0                206.97\n",
      "2010.0                127.95\n",
      "2011.0                 59.65\n",
      "2012.0                 21.71\n",
      "2013.0                  8.59\n",
      "2014.0                  3.75\n",
      "2015.0                  1.14\n",
      "2016.0                  0.18 \n",
      "\n",
      "Платформа DS\n",
      "                 world_sales\n",
      "year_of_release             \n",
      "1985.0                  0.02\n",
      "2004.0                 17.27\n",
      "2005.0                130.14\n",
      "2006.0                119.81\n",
      "2007.0                146.95\n",
      "2008.0                145.31\n",
      "2009.0                119.54\n",
      "2010.0                 85.02\n",
      "2011.0                 26.18\n",
      "2012.0                 11.01\n",
      "2013.0                  1.54 \n",
      "\n",
      "Платформа PS\n",
      "                 world_sales\n",
      "year_of_release             \n",
      "1994.0                  6.03\n",
      "1995.0                 35.96\n",
      "1996.0                 94.70\n",
      "1997.0                136.17\n",
      "1998.0                169.49\n",
      "1999.0                144.53\n",
      "2000.0                 96.37\n",
      "2001.0                 35.59\n",
      "2002.0                  6.67\n",
      "2003.0                  2.07 \n",
      "\n"
     ]
    },
    {
     "data": {
      "image/png": "[encoded data removed]",
      "text/plain": [
       "<Figure size 1080x360 with 1 Axes>"
      ]
     },
     "metadata": {
      "needs_background": "light"
     },
     "output_type": "display_data"
    },
    {
     "data": {
      "image/png": "[encoded data removed]",
      "text/plain": [
       "<Figure size 1080x360 with 1 Axes>"
      ]
     },
     "metadata": {
      "needs_background": "light"
     },
     "output_type": "display_data"
    },
    {
     "data": {
      "image/png": "[encoded data removed]",
      "text/plain": [
       "<Figure size 1080x360 with 1 Axes>"
      ]
     },
     "metadata": {
      "needs_background": "light"
     },
     "output_type": "display_data"
    },
    {
     "data": {
      "image/png": "[encoded data removed]",
      "text/plain": [
       "<Figure size 1080x360 with 1 Axes>"
      ]
     },
     "metadata": {
      "needs_background": "light"
     },
     "output_type": "display_data"
    },
    {
     "data": {
      "image/png": "[encoded data removed]",
      "text/plain": [
       "<Figure size 1080x360 with 1 Axes>"
      ]
     },
     "metadata": {
      "needs_background": "light"
     },
     "output_type": "display_data"
    },
    {
     "data": {
      "image/png": "[encoded data removed]",
      "text/plain": [
       "<Figure size 1080x360 with 1 Axes>"
      ]
     },
     "metadata": {
      "needs_background": "light"
     },
     "output_type": "display_data"
    }
   ],
   "source": [
    "for col in top_platforms:\n",
    "    local_data = data[data['platform'] == col]\n",
    "    local_pivot = local_data.pivot_table(index='year_of_release', values='world_sales', aggfunc='sum')\n",
    "    local_pivot.plot(kind='bar', figsize=(15, 5), grid=True)\n",
    "    plt.title(col)\n",
    "    plt.xlabel('Год')\n",
    "    plt.xticks(rotation=45)\n",
    "    plt.ylabel('Продажи')\n",
    "    print('Платформа', col)\n",
    "    print(local_pivot, '\\n')\n"
   ]
  },
  {
   "cell_type": "markdown",
   "metadata": {},
   "source": [
    "Посмотрим такоеже распределение для платформы `PS4`"
   ]
  },
  {
   "cell_type": "code",
   "execution_count": 28,
   "metadata": {},
   "outputs": [
    {
     "name": "stdout",
     "output_type": "stream",
     "text": [
      "Платформа PS4\n",
      "                 world_sales\n",
      "year_of_release             \n",
      "2013.0                 25.99\n",
      "2014.0                100.00\n",
      "2015.0                118.90\n",
      "2016.0                 69.25\n"
     ]
    },
    {
     "data": {
      "image/png": "[encoded data removed]",
      "text/plain": [
       "<Figure size 1080x360 with 1 Axes>"
      ]
     },
     "metadata": {
      "needs_background": "light"
     },
     "output_type": "display_data"
    }
   ],
   "source": [
    "local_data = data[data['platform'] == 'PS4']\n",
    "local_pivot = local_data.pivot_table(index='year_of_release', values='world_sales', aggfunc='sum')\n",
    "local_pivot.plot(kind='bar', figsize=(15, 5), grid=True)\n",
    "plt.title('PS4')\n",
    "plt.xlabel('Год')\n",
    "plt.xticks(rotation=45)\n",
    "plt.ylabel('Продажи')\n",
    "print('Платформа PS4')\n",
    "print(local_pivot)"
   ]
  },
  {
   "cell_type": "markdown",
   "metadata": {},
   "source": [
    "На примере платформы `PlayStation` можно проследить определенный тренд, что \"время жизни\" платформы в районе 10 лет (8-12 лет).\n",
    "\n",
    " - `PS` 1994-2003 \n",
    " - `PS2` 2000-2010\n",
    " - `PS3` 2006-2016\n",
    " - `PS4` 2013 - настоящее время. Скорее всего уйдет с продажи в ближайший год, т.к. в ноябре 2020 года была выпущена `PS5`\n",
    " \n",
    "Примерно каждые 6 лет, компания Sony выпускает новую модель, а предыдущая уходит с продажи примерно за 3 года после выпуска новой.\n",
    "\n",
    "### Актуальный период\n",
    "\n",
    "Актуальный период продаж стоит считать 2013-2016 года (они своевремнно отображают данные об индустрии)\n",
    "\n",
    "`Платформа PS4 дает возможность поддержки новых игр, которые имеют более высокие технические требования.\n",
    "К тому же разработка игр сместилась в сторону качества, а не количества игр, то есть игры создаются за период 2-4 года и если выход PS4 приходится на 2013, то к 2017 году есть основания ожидать пик продаж.`\n",
    "\n",
    "\n",
    "### Отсев предыдущих периодов\n"
   ]
  },
  {
   "cell_type": "code",
   "execution_count": 29,
   "metadata": {},
   "outputs": [
    {
     "name": "stdout",
     "output_type": "stream",
     "text": [
      "<class 'pandas.core.frame.DataFrame'>\n",
      "Int64Index: 2233 entries, 16 to 16714\n",
      "Data columns (total 12 columns):\n",
      " #   Column           Non-Null Count  Dtype  \n",
      "---  ------           --------------  -----  \n",
      " 0   name             2233 non-null   object \n",
      " 1   platform         2233 non-null   object \n",
      " 2   year_of_release  2233 non-null   float64\n",
      " 3   genre            2233 non-null   object \n",
      " 4   na_sales         2233 non-null   float64\n",
      " 5   eu_sales         2233 non-null   float64\n",
      " 6   jp_sales         2233 non-null   float64\n",
      " 7   other_sales      2233 non-null   float64\n",
      " 8   critic_score     991 non-null    float64\n",
      " 9   user_score       1192 non-null   float32\n",
      " 10  rating           2233 non-null   object \n",
      " 11  world_sales      2233 non-null   float64\n",
      "dtypes: float32(1), float64(7), object(4)\n",
      "memory usage: 218.1+ KB\n"
     ]
    }
   ],
   "source": [
    "actual_data = data.query('year_of_release > 2012')\n",
    "actual_data.info()"
   ]
  },
  {
   "cell_type": "markdown",
   "metadata": {},
   "source": [
    "Создадим сводную таблицу по прадаж с платформ за актуальный период."
   ]
  },
  {
   "cell_type": "code",
   "execution_count": 30,
   "metadata": {},
   "outputs": [
    {
     "data": {
      "text/html": [
       "<div>\n",
       "<style scoped>\n",
       "    .dataframe tbody tr th:only-of-type {\n",
       "        vertical-align: middle;\n",
       "    }\n",
       "\n",
       "    .dataframe tbody tr th {\n",
       "        vertical-align: top;\n",
       "    }\n",
       "\n",
       "    .dataframe thead th {\n",
       "        text-align: right;\n",
       "    }\n",
       "</style>\n",
       "<table border=\"1\" class=\"dataframe\">\n",
       "  <thead>\n",
       "    <tr style=\"text-align: right;\">\n",
       "      <th></th>\n",
       "      <th></th>\n",
       "      <th>world_sales</th>\n",
       "    </tr>\n",
       "    <tr>\n",
       "      <th>platform</th>\n",
       "      <th>year_of_release</th>\n",
       "      <th></th>\n",
       "    </tr>\n",
       "  </thead>\n",
       "  <tbody>\n",
       "    <tr>\n",
       "      <th rowspan=\"4\" valign=\"top\">3DS</th>\n",
       "      <th>2013.0</th>\n",
       "      <td>56.57</td>\n",
       "    </tr>\n",
       "    <tr>\n",
       "      <th>2014.0</th>\n",
       "      <td>43.76</td>\n",
       "    </tr>\n",
       "    <tr>\n",
       "      <th>2015.0</th>\n",
       "      <td>27.78</td>\n",
       "    </tr>\n",
       "    <tr>\n",
       "      <th>2016.0</th>\n",
       "      <td>15.14</td>\n",
       "    </tr>\n",
       "    <tr>\n",
       "      <th>DS</th>\n",
       "      <th>2013.0</th>\n",
       "      <td>1.54</td>\n",
       "    </tr>\n",
       "    <tr>\n",
       "      <th rowspan=\"4\" valign=\"top\">PC</th>\n",
       "      <th>2013.0</th>\n",
       "      <td>12.38</td>\n",
       "    </tr>\n",
       "    <tr>\n",
       "      <th>2014.0</th>\n",
       "      <td>13.28</td>\n",
       "    </tr>\n",
       "    <tr>\n",
       "      <th>2015.0</th>\n",
       "      <td>8.52</td>\n",
       "    </tr>\n",
       "    <tr>\n",
       "      <th>2016.0</th>\n",
       "      <td>5.25</td>\n",
       "    </tr>\n",
       "    <tr>\n",
       "      <th rowspan=\"4\" valign=\"top\">PS3</th>\n",
       "      <th>2013.0</th>\n",
       "      <td>113.25</td>\n",
       "    </tr>\n",
       "    <tr>\n",
       "      <th>2014.0</th>\n",
       "      <td>47.76</td>\n",
       "    </tr>\n",
       "    <tr>\n",
       "      <th>2015.0</th>\n",
       "      <td>16.82</td>\n",
       "    </tr>\n",
       "    <tr>\n",
       "      <th>2016.0</th>\n",
       "      <td>3.60</td>\n",
       "    </tr>\n",
       "    <tr>\n",
       "      <th rowspan=\"4\" valign=\"top\">PS4</th>\n",
       "      <th>2013.0</th>\n",
       "      <td>25.99</td>\n",
       "    </tr>\n",
       "    <tr>\n",
       "      <th>2014.0</th>\n",
       "      <td>100.00</td>\n",
       "    </tr>\n",
       "    <tr>\n",
       "      <th>2015.0</th>\n",
       "      <td>118.90</td>\n",
       "    </tr>\n",
       "    <tr>\n",
       "      <th>2016.0</th>\n",
       "      <td>69.25</td>\n",
       "    </tr>\n",
       "    <tr>\n",
       "      <th rowspan=\"3\" valign=\"top\">PSP</th>\n",
       "      <th>2013.0</th>\n",
       "      <td>3.14</td>\n",
       "    </tr>\n",
       "    <tr>\n",
       "      <th>2014.0</th>\n",
       "      <td>0.24</td>\n",
       "    </tr>\n",
       "    <tr>\n",
       "      <th>2015.0</th>\n",
       "      <td>0.12</td>\n",
       "    </tr>\n",
       "    <tr>\n",
       "      <th rowspan=\"4\" valign=\"top\">PSV</th>\n",
       "      <th>2013.0</th>\n",
       "      <td>10.59</td>\n",
       "    </tr>\n",
       "    <tr>\n",
       "      <th>2014.0</th>\n",
       "      <td>11.90</td>\n",
       "    </tr>\n",
       "    <tr>\n",
       "      <th>2015.0</th>\n",
       "      <td>6.25</td>\n",
       "    </tr>\n",
       "    <tr>\n",
       "      <th>2016.0</th>\n",
       "      <td>4.25</td>\n",
       "    </tr>\n",
       "    <tr>\n",
       "      <th rowspan=\"4\" valign=\"top\">Wii</th>\n",
       "      <th>2013.0</th>\n",
       "      <td>8.59</td>\n",
       "    </tr>\n",
       "    <tr>\n",
       "      <th>2014.0</th>\n",
       "      <td>3.75</td>\n",
       "    </tr>\n",
       "    <tr>\n",
       "      <th>2015.0</th>\n",
       "      <td>1.14</td>\n",
       "    </tr>\n",
       "    <tr>\n",
       "      <th>2016.0</th>\n",
       "      <td>0.18</td>\n",
       "    </tr>\n",
       "    <tr>\n",
       "      <th rowspan=\"4\" valign=\"top\">WiiU</th>\n",
       "      <th>2013.0</th>\n",
       "      <td>21.65</td>\n",
       "    </tr>\n",
       "    <tr>\n",
       "      <th>2014.0</th>\n",
       "      <td>22.03</td>\n",
       "    </tr>\n",
       "    <tr>\n",
       "      <th>2015.0</th>\n",
       "      <td>16.35</td>\n",
       "    </tr>\n",
       "    <tr>\n",
       "      <th>2016.0</th>\n",
       "      <td>4.60</td>\n",
       "    </tr>\n",
       "    <tr>\n",
       "      <th rowspan=\"4\" valign=\"top\">X360</th>\n",
       "      <th>2013.0</th>\n",
       "      <td>88.58</td>\n",
       "    </tr>\n",
       "    <tr>\n",
       "      <th>2014.0</th>\n",
       "      <td>34.74</td>\n",
       "    </tr>\n",
       "    <tr>\n",
       "      <th>2015.0</th>\n",
       "      <td>11.96</td>\n",
       "    </tr>\n",
       "    <tr>\n",
       "      <th>2016.0</th>\n",
       "      <td>1.52</td>\n",
       "    </tr>\n",
       "    <tr>\n",
       "      <th rowspan=\"4\" valign=\"top\">XOne</th>\n",
       "      <th>2013.0</th>\n",
       "      <td>18.96</td>\n",
       "    </tr>\n",
       "    <tr>\n",
       "      <th>2014.0</th>\n",
       "      <td>54.07</td>\n",
       "    </tr>\n",
       "    <tr>\n",
       "      <th>2015.0</th>\n",
       "      <td>60.14</td>\n",
       "    </tr>\n",
       "    <tr>\n",
       "      <th>2016.0</th>\n",
       "      <td>26.15</td>\n",
       "    </tr>\n",
       "  </tbody>\n",
       "</table>\n",
       "</div>"
      ],
      "text/plain": [
       "                          world_sales\n",
       "platform year_of_release             \n",
       "3DS      2013.0                 56.57\n",
       "         2014.0                 43.76\n",
       "         2015.0                 27.78\n",
       "         2016.0                 15.14\n",
       "DS       2013.0                  1.54\n",
       "PC       2013.0                 12.38\n",
       "         2014.0                 13.28\n",
       "         2015.0                  8.52\n",
       "         2016.0                  5.25\n",
       "PS3      2013.0                113.25\n",
       "         2014.0                 47.76\n",
       "         2015.0                 16.82\n",
       "         2016.0                  3.60\n",
       "PS4      2013.0                 25.99\n",
       "         2014.0                100.00\n",
       "         2015.0                118.90\n",
       "         2016.0                 69.25\n",
       "PSP      2013.0                  3.14\n",
       "         2014.0                  0.24\n",
       "         2015.0                  0.12\n",
       "PSV      2013.0                 10.59\n",
       "         2014.0                 11.90\n",
       "         2015.0                  6.25\n",
       "         2016.0                  4.25\n",
       "Wii      2013.0                  8.59\n",
       "         2014.0                  3.75\n",
       "         2015.0                  1.14\n",
       "         2016.0                  0.18\n",
       "WiiU     2013.0                 21.65\n",
       "         2014.0                 22.03\n",
       "         2015.0                 16.35\n",
       "         2016.0                  4.60\n",
       "X360     2013.0                 88.58\n",
       "         2014.0                 34.74\n",
       "         2015.0                 11.96\n",
       "         2016.0                  1.52\n",
       "XOne     2013.0                 18.96\n",
       "         2014.0                 54.07\n",
       "         2015.0                 60.14\n",
       "         2016.0                 26.15"
      ]
     },
     "execution_count": 30,
     "metadata": {},
     "output_type": "execute_result"
    }
   ],
   "source": [
    "actual_pivot = actual_data.pivot_table(index=['platform', 'year_of_release'], values='world_sales', aggfunc='sum')\n",
    "actual_pivot"
   ]
  },
  {
   "cell_type": "markdown",
   "metadata": {},
   "source": [
    "Рост продаж наблюдается у PS4, XOne, 3DS, WiiU и PSV. Этому способствует то, что данные платформы обновляются. В свою очередь на убыль идут компании PS3, X360, DS, Wii и PSP - устаревшие поколения"
   ]
  },
  {
   "cell_type": "code",
   "execution_count": 31,
   "metadata": {},
   "outputs": [
    {
     "data": {
      "text/html": [
       "<div>\n",
       "<style scoped>\n",
       "    .dataframe tbody tr th:only-of-type {\n",
       "        vertical-align: middle;\n",
       "    }\n",
       "\n",
       "    .dataframe tbody tr th {\n",
       "        vertical-align: top;\n",
       "    }\n",
       "\n",
       "    .dataframe thead th {\n",
       "        text-align: right;\n",
       "    }\n",
       "</style>\n",
       "<table border=\"1\" class=\"dataframe\">\n",
       "  <thead>\n",
       "    <tr style=\"text-align: right;\">\n",
       "      <th></th>\n",
       "      <th>world_sales</th>\n",
       "    </tr>\n",
       "    <tr>\n",
       "      <th>platform</th>\n",
       "      <th></th>\n",
       "    </tr>\n",
       "  </thead>\n",
       "  <tbody>\n",
       "    <tr>\n",
       "      <th>PS4</th>\n",
       "      <td>314.14</td>\n",
       "    </tr>\n",
       "    <tr>\n",
       "      <th>PS3</th>\n",
       "      <td>181.43</td>\n",
       "    </tr>\n",
       "    <tr>\n",
       "      <th>XOne</th>\n",
       "      <td>159.32</td>\n",
       "    </tr>\n",
       "    <tr>\n",
       "      <th>3DS</th>\n",
       "      <td>143.25</td>\n",
       "    </tr>\n",
       "    <tr>\n",
       "      <th>X360</th>\n",
       "      <td>136.80</td>\n",
       "    </tr>\n",
       "    <tr>\n",
       "      <th>WiiU</th>\n",
       "      <td>64.63</td>\n",
       "    </tr>\n",
       "    <tr>\n",
       "      <th>PC</th>\n",
       "      <td>39.43</td>\n",
       "    </tr>\n",
       "    <tr>\n",
       "      <th>PSV</th>\n",
       "      <td>32.99</td>\n",
       "    </tr>\n",
       "    <tr>\n",
       "      <th>Wii</th>\n",
       "      <td>13.66</td>\n",
       "    </tr>\n",
       "    <tr>\n",
       "      <th>PSP</th>\n",
       "      <td>3.50</td>\n",
       "    </tr>\n",
       "    <tr>\n",
       "      <th>DS</th>\n",
       "      <td>1.54</td>\n",
       "    </tr>\n",
       "  </tbody>\n",
       "</table>\n",
       "</div>"
      ],
      "text/plain": [
       "          world_sales\n",
       "platform             \n",
       "PS4            314.14\n",
       "PS3            181.43\n",
       "XOne           159.32\n",
       "3DS            143.25\n",
       "X360           136.80\n",
       "WiiU            64.63\n",
       "PC              39.43\n",
       "PSV             32.99\n",
       "Wii             13.66\n",
       "PSP              3.50\n",
       "DS               1.54"
      ]
     },
     "execution_count": 31,
     "metadata": {},
     "output_type": "execute_result"
    }
   ],
   "source": [
    "top_actual_pivot = actual_data.pivot_table(index='platform', values='world_sales', aggfunc='sum')\n",
    "top_actual_pivot.sort_values('world_sales', ascending=False)"
   ]
  },
  {
   "cell_type": "markdown",
   "metadata": {},
   "source": [
    "Самые популярные платформы по продажам игр за актуальный период:\n",
    "\n",
    " - `PS4` - 314 млн копий\n",
    " - `PS3` - 181 млн копий\n",
    " - `XOne`- 159 млн копий\n",
    " - `3D S`- 143 млн копий\n",
    " - `X360`- 136 млн копий\n",
    " \n",
    "### Глобальные продажи игр в разбивке по годам"
   ]
  },
  {
   "cell_type": "code",
   "execution_count": 32,
   "metadata": {},
   "outputs": [
    {
     "data": {
      "text/plain": [
       "count    2233.000000\n",
       "mean        0.488442\n",
       "std         1.235226\n",
       "min         0.010000\n",
       "25%         0.030000\n",
       "50%         0.110000\n",
       "75%         0.400000\n",
       "max        21.050000\n",
       "Name: world_sales, dtype: float64"
      ]
     },
     "execution_count": 32,
     "metadata": {},
     "output_type": "execute_result"
    },
    {
     "data": {
      "image/png": "[encoded data removed]",
      "text/plain": [
       "<Figure size 432x288 with 1 Axes>"
      ]
     },
     "metadata": {
      "needs_background": "light"
     },
     "output_type": "display_data"
    }
   ],
   "source": [
    "actual_data.boxplot(column='world_sales');\n",
    "actual_data['world_sales'].describe()"
   ]
  },
  {
   "cell_type": "code",
   "execution_count": 33,
   "metadata": {},
   "outputs": [
    {
     "data": {
      "text/plain": [
       "['PS4', 'PS3', 'XOne', '3DS', 'X360']"
      ]
     },
     "execution_count": 33,
     "metadata": {},
     "output_type": "execute_result"
    }
   ],
   "source": [
    "best_platforms = list(top_actual_pivot.sort_values('world_sales', ascending=False).index)\n",
    "best_platforms = best_platforms[0:5]\n",
    "best_platforms"
   ]
  },
  {
   "cell_type": "code",
   "execution_count": 34,
   "metadata": {},
   "outputs": [
    {
     "data": {
      "image/png": "[encoded data removed]",
      "text/plain": [
       "<Figure size 1080x720 with 1 Axes>"
      ]
     },
     "metadata": {
      "needs_background": "light"
     },
     "output_type": "display_data"
    }
   ],
   "source": [
    "group_data = {}\n",
    "for group in best_platforms:\n",
    "    group_data[group] = actual_data[actual_data['platform'] == group]['world_sales']\n",
    "\n",
    "# Построение boxplot для каждой группы\n",
    "plt.figure(figsize=(15, 10));\n",
    "plt.boxplot(group_data.values(), labels=group_data.keys());\n",
    "plt.title('Boxplot для топ популярных платформ');\n",
    "plt.xlabel('Платформа');\n",
    "plt.ylabel('Количество проданных игр, млн');\n",
    "plt.show();"
   ]
  },
  {
   "cell_type": "code",
   "execution_count": 35,
   "metadata": {},
   "outputs": [
    {
     "data": {
      "text/html": [
       "<div>\n",
       "<style scoped>\n",
       "    .dataframe tbody tr th:only-of-type {\n",
       "        vertical-align: middle;\n",
       "    }\n",
       "\n",
       "    .dataframe tbody tr th {\n",
       "        vertical-align: top;\n",
       "    }\n",
       "\n",
       "    .dataframe thead th {\n",
       "        text-align: right;\n",
       "    }\n",
       "</style>\n",
       "<table border=\"1\" class=\"dataframe\">\n",
       "  <thead>\n",
       "    <tr style=\"text-align: right;\">\n",
       "      <th></th>\n",
       "      <th>name</th>\n",
       "      <th>platform</th>\n",
       "      <th>year_of_release</th>\n",
       "      <th>genre</th>\n",
       "      <th>na_sales</th>\n",
       "      <th>eu_sales</th>\n",
       "      <th>jp_sales</th>\n",
       "      <th>other_sales</th>\n",
       "      <th>critic_score</th>\n",
       "      <th>user_score</th>\n",
       "      <th>rating</th>\n",
       "      <th>world_sales</th>\n",
       "    </tr>\n",
       "  </thead>\n",
       "  <tbody>\n",
       "    <tr>\n",
       "      <th>16</th>\n",
       "      <td>Grand Theft Auto V</td>\n",
       "      <td>PS3</td>\n",
       "      <td>2013.0</td>\n",
       "      <td>Action</td>\n",
       "      <td>7.02</td>\n",
       "      <td>9.09</td>\n",
       "      <td>0.98</td>\n",
       "      <td>3.96</td>\n",
       "      <td>97.0</td>\n",
       "      <td>8.2</td>\n",
       "      <td>M</td>\n",
       "      <td>21.05</td>\n",
       "    </tr>\n",
       "    <tr>\n",
       "      <th>23</th>\n",
       "      <td>Grand Theft Auto V</td>\n",
       "      <td>X360</td>\n",
       "      <td>2013.0</td>\n",
       "      <td>Action</td>\n",
       "      <td>9.66</td>\n",
       "      <td>5.14</td>\n",
       "      <td>0.06</td>\n",
       "      <td>1.41</td>\n",
       "      <td>97.0</td>\n",
       "      <td>8.1</td>\n",
       "      <td>M</td>\n",
       "      <td>16.27</td>\n",
       "    </tr>\n",
       "    <tr>\n",
       "      <th>31</th>\n",
       "      <td>Call of Duty: Black Ops 3</td>\n",
       "      <td>PS4</td>\n",
       "      <td>2015.0</td>\n",
       "      <td>Shooter</td>\n",
       "      <td>6.03</td>\n",
       "      <td>5.86</td>\n",
       "      <td>0.36</td>\n",
       "      <td>2.38</td>\n",
       "      <td>NaN</td>\n",
       "      <td>NaN</td>\n",
       "      <td>unknown</td>\n",
       "      <td>14.63</td>\n",
       "    </tr>\n",
       "    <tr>\n",
       "      <th>33</th>\n",
       "      <td>Pokemon X/Pokemon Y</td>\n",
       "      <td>3DS</td>\n",
       "      <td>2013.0</td>\n",
       "      <td>Role-Playing</td>\n",
       "      <td>5.28</td>\n",
       "      <td>4.19</td>\n",
       "      <td>4.35</td>\n",
       "      <td>0.78</td>\n",
       "      <td>NaN</td>\n",
       "      <td>NaN</td>\n",
       "      <td>unknown</td>\n",
       "      <td>14.60</td>\n",
       "    </tr>\n",
       "    <tr>\n",
       "      <th>42</th>\n",
       "      <td>Grand Theft Auto V</td>\n",
       "      <td>PS4</td>\n",
       "      <td>2014.0</td>\n",
       "      <td>Action</td>\n",
       "      <td>3.96</td>\n",
       "      <td>6.31</td>\n",
       "      <td>0.38</td>\n",
       "      <td>1.97</td>\n",
       "      <td>97.0</td>\n",
       "      <td>8.3</td>\n",
       "      <td>M</td>\n",
       "      <td>12.62</td>\n",
       "    </tr>\n",
       "    <tr>\n",
       "      <th>47</th>\n",
       "      <td>Pokemon Omega Ruby/Pokemon Alpha Sapphire</td>\n",
       "      <td>3DS</td>\n",
       "      <td>2014.0</td>\n",
       "      <td>Role-Playing</td>\n",
       "      <td>4.35</td>\n",
       "      <td>3.49</td>\n",
       "      <td>3.10</td>\n",
       "      <td>0.74</td>\n",
       "      <td>NaN</td>\n",
       "      <td>NaN</td>\n",
       "      <td>unknown</td>\n",
       "      <td>11.68</td>\n",
       "    </tr>\n",
       "    <tr>\n",
       "      <th>60</th>\n",
       "      <td>Call of Duty: Ghosts</td>\n",
       "      <td>X360</td>\n",
       "      <td>2013.0</td>\n",
       "      <td>Shooter</td>\n",
       "      <td>6.73</td>\n",
       "      <td>2.56</td>\n",
       "      <td>0.04</td>\n",
       "      <td>0.91</td>\n",
       "      <td>73.0</td>\n",
       "      <td>2.6</td>\n",
       "      <td>M</td>\n",
       "      <td>10.24</td>\n",
       "    </tr>\n",
       "  </tbody>\n",
       "</table>\n",
       "</div>"
      ],
      "text/plain": [
       "                                         name platform  year_of_release  \\\n",
       "16                         Grand Theft Auto V      PS3           2013.0   \n",
       "23                         Grand Theft Auto V     X360           2013.0   \n",
       "31                  Call of Duty: Black Ops 3      PS4           2015.0   \n",
       "33                        Pokemon X/Pokemon Y      3DS           2013.0   \n",
       "42                         Grand Theft Auto V      PS4           2014.0   \n",
       "47  Pokemon Omega Ruby/Pokemon Alpha Sapphire      3DS           2014.0   \n",
       "60                       Call of Duty: Ghosts     X360           2013.0   \n",
       "\n",
       "           genre  na_sales  eu_sales  jp_sales  other_sales  critic_score  \\\n",
       "16        Action      7.02      9.09      0.98         3.96          97.0   \n",
       "23        Action      9.66      5.14      0.06         1.41          97.0   \n",
       "31       Shooter      6.03      5.86      0.36         2.38           NaN   \n",
       "33  Role-Playing      5.28      4.19      4.35         0.78           NaN   \n",
       "42        Action      3.96      6.31      0.38         1.97          97.0   \n",
       "47  Role-Playing      4.35      3.49      3.10         0.74           NaN   \n",
       "60       Shooter      6.73      2.56      0.04         0.91          73.0   \n",
       "\n",
       "    user_score   rating  world_sales  \n",
       "16         8.2        M        21.05  \n",
       "23         8.1        M        16.27  \n",
       "31         NaN  unknown        14.63  \n",
       "33         NaN  unknown        14.60  \n",
       "42         8.3        M        12.62  \n",
       "47         NaN  unknown        11.68  \n",
       "60         2.6        M        10.24  "
      ]
     },
     "execution_count": 35,
     "metadata": {},
     "output_type": "execute_result"
    }
   ],
   "source": [
    "actual_data[actual_data['world_sales'] > 10]"
   ]
  },
  {
   "cell_type": "markdown",
   "metadata": {},
   "source": [
    "В продажах наблюдаются различия между играми, которые становятся очень популярными и продаются в течении многих лет, видно, что таких игр мало. А также те игры, что сконцентрированы между 200 и 400 тысячами проданных копий.\n",
    "\n",
    " - `общее` среднее значение проданных копий по миру - 488 тысяч, наибольшее 21 млн. Наименьшее 10 тысяч\n",
    " - `PS4` среднее значение проданных копий для платформы - 200 тысяч, наибольшее 14 млн. Наименьшее 10 тысяч\n",
    " - `PS3` среднее значение проданных копий для платформы - 525 тысяч, наибольшее 21 млн. Наименьшее 10 тысяч\n",
    " - `XOne` среднее значение проданных копий для платформы - 645 тысяч, наибольшее 7.4 млн. Наименьшее 10 тысяч\n",
    " - `X360` среднее значение проданных копий для платформы - 735 тысяч, наибольшее 16.3 млн. Наименьшее 10 тысяч\n",
    " - `3DS` среднее значение проданных копий для платформы - 645 тысяч, наибольшее 7.4 млн. Наименьшее 10 тысяч\n",
    " \n",
    "Для платформ `PS4`, `PS3`, `X360` особенно заметными выбросами являются игры `GTA V` и `Call of Duty`, Что вполне ожидаемо для этих игр. В свою очередь для японской платформы `3DS` очень популярной является игра `Pokemon`.  "
   ]
  },
  {
   "cell_type": "markdown",
   "metadata": {},
   "source": [
    "### Продажи на популярных платформах"
   ]
  },
  {
   "cell_type": "code",
   "execution_count": 36,
   "metadata": {},
   "outputs": [
    {
     "data": {
      "text/html": [
       "<div>\n",
       "<style scoped>\n",
       "    .dataframe tbody tr th:only-of-type {\n",
       "        vertical-align: middle;\n",
       "    }\n",
       "\n",
       "    .dataframe tbody tr th {\n",
       "        vertical-align: top;\n",
       "    }\n",
       "\n",
       "    .dataframe thead th {\n",
       "        text-align: right;\n",
       "    }\n",
       "</style>\n",
       "<table border=\"1\" class=\"dataframe\">\n",
       "  <thead>\n",
       "    <tr style=\"text-align: right;\">\n",
       "      <th></th>\n",
       "      <th>world_sales</th>\n",
       "      <th>critic_score</th>\n",
       "      <th>user_score</th>\n",
       "    </tr>\n",
       "  </thead>\n",
       "  <tbody>\n",
       "    <tr>\n",
       "      <th>31</th>\n",
       "      <td>14.63</td>\n",
       "      <td>NaN</td>\n",
       "      <td>NaN</td>\n",
       "    </tr>\n",
       "    <tr>\n",
       "      <th>42</th>\n",
       "      <td>12.62</td>\n",
       "      <td>97.0</td>\n",
       "      <td>8.3</td>\n",
       "    </tr>\n",
       "    <tr>\n",
       "      <th>77</th>\n",
       "      <td>8.58</td>\n",
       "      <td>82.0</td>\n",
       "      <td>4.3</td>\n",
       "    </tr>\n",
       "    <tr>\n",
       "      <th>87</th>\n",
       "      <td>7.98</td>\n",
       "      <td>NaN</td>\n",
       "      <td>NaN</td>\n",
       "    </tr>\n",
       "    <tr>\n",
       "      <th>92</th>\n",
       "      <td>7.66</td>\n",
       "      <td>83.0</td>\n",
       "      <td>5.7</td>\n",
       "    </tr>\n",
       "  </tbody>\n",
       "</table>\n",
       "</div>"
      ],
      "text/plain": [
       "    world_sales  critic_score  user_score\n",
       "31        14.63           NaN         NaN\n",
       "42        12.62          97.0         8.3\n",
       "77         8.58          82.0         4.3\n",
       "87         7.98           NaN         NaN\n",
       "92         7.66          83.0         5.7"
      ]
     },
     "execution_count": 36,
     "metadata": {},
     "output_type": "execute_result"
    }
   ],
   "source": [
    "ps4_actual_data = actual_data.query('platform ==\"PS4\"')\n",
    "ps4_rating = ps4_actual_data.loc[:,['world_sales', 'critic_score', 'user_score']]\n",
    "ps4_rating.head()"
   ]
  },
  {
   "cell_type": "code",
   "execution_count": 37,
   "metadata": {},
   "outputs": [
    {
     "data": {
      "text/html": [
       "<div>\n",
       "<style scoped>\n",
       "    .dataframe tbody tr th:only-of-type {\n",
       "        vertical-align: middle;\n",
       "    }\n",
       "\n",
       "    .dataframe tbody tr th {\n",
       "        vertical-align: top;\n",
       "    }\n",
       "\n",
       "    .dataframe thead th {\n",
       "        text-align: right;\n",
       "    }\n",
       "</style>\n",
       "<table border=\"1\" class=\"dataframe\">\n",
       "  <thead>\n",
       "    <tr style=\"text-align: right;\">\n",
       "      <th></th>\n",
       "      <th>world_sales</th>\n",
       "      <th>critic_score</th>\n",
       "      <th>user_score</th>\n",
       "    </tr>\n",
       "  </thead>\n",
       "  <tbody>\n",
       "    <tr>\n",
       "      <th>world_sales</th>\n",
       "      <td>1.000000</td>\n",
       "      <td>0.406568</td>\n",
       "      <td>-0.031957</td>\n",
       "    </tr>\n",
       "    <tr>\n",
       "      <th>critic_score</th>\n",
       "      <td>0.406568</td>\n",
       "      <td>1.000000</td>\n",
       "      <td>0.557654</td>\n",
       "    </tr>\n",
       "    <tr>\n",
       "      <th>user_score</th>\n",
       "      <td>-0.031957</td>\n",
       "      <td>0.557654</td>\n",
       "      <td>1.000000</td>\n",
       "    </tr>\n",
       "  </tbody>\n",
       "</table>\n",
       "</div>"
      ],
      "text/plain": [
       "              world_sales  critic_score  user_score\n",
       "world_sales      1.000000      0.406568   -0.031957\n",
       "critic_score     0.406568      1.000000    0.557654\n",
       "user_score      -0.031957      0.557654    1.000000"
      ]
     },
     "execution_count": 37,
     "metadata": {},
     "output_type": "execute_result"
    }
   ],
   "source": [
    "ps4_rating.corr()"
   ]
  },
  {
   "cell_type": "code",
   "execution_count": 38,
   "metadata": {},
   "outputs": [
    {
     "data": {
      "image/png": "[encoded data removed]",
      "text/plain": [
       "<Figure size 1080x1080 with 9 Axes>"
      ]
     },
     "metadata": {
      "needs_background": "light"
     },
     "output_type": "display_data"
    }
   ],
   "source": [
    "pd.plotting.scatter_matrix(ps4_rating, figsize=(15, 15));"
   ]
  },
  {
   "cell_type": "markdown",
   "metadata": {},
   "source": [
    "Для платформы `PS4` существует умеренная положительная корреляция между количеством проданных копий и рейтингом критиков.\n",
    "\n",
    "Так же существует зависимость между рейтингом критиков и рейтингом пользователей. Условно говоря, чем выше рейтинг поставленный критиком, тем выше рейтинг поставленный пользователями."
   ]
  },
  {
   "cell_type": "code",
   "execution_count": 39,
   "metadata": {},
   "outputs": [
    {
     "data": {
      "text/html": [
       "<div>\n",
       "<style scoped>\n",
       "    .dataframe tbody tr th:only-of-type {\n",
       "        vertical-align: middle;\n",
       "    }\n",
       "\n",
       "    .dataframe tbody tr th {\n",
       "        vertical-align: top;\n",
       "    }\n",
       "\n",
       "    .dataframe thead th {\n",
       "        text-align: right;\n",
       "    }\n",
       "</style>\n",
       "<table border=\"1\" class=\"dataframe\">\n",
       "  <thead>\n",
       "    <tr style=\"text-align: right;\">\n",
       "      <th></th>\n",
       "      <th>world_sales</th>\n",
       "      <th>critic_score</th>\n",
       "      <th>user_score</th>\n",
       "    </tr>\n",
       "  </thead>\n",
       "  <tbody>\n",
       "    <tr>\n",
       "      <th>16</th>\n",
       "      <td>21.05</td>\n",
       "      <td>97.0</td>\n",
       "      <td>8.2</td>\n",
       "    </tr>\n",
       "    <tr>\n",
       "      <th>69</th>\n",
       "      <td>9.36</td>\n",
       "      <td>71.0</td>\n",
       "      <td>2.6</td>\n",
       "    </tr>\n",
       "    <tr>\n",
       "      <th>126</th>\n",
       "      <td>6.46</td>\n",
       "      <td>86.0</td>\n",
       "      <td>4.3</td>\n",
       "    </tr>\n",
       "    <tr>\n",
       "      <th>149</th>\n",
       "      <td>5.86</td>\n",
       "      <td>95.0</td>\n",
       "      <td>9.1</td>\n",
       "    </tr>\n",
       "    <tr>\n",
       "      <th>180</th>\n",
       "      <td>5.27</td>\n",
       "      <td>NaN</td>\n",
       "      <td>NaN</td>\n",
       "    </tr>\n",
       "  </tbody>\n",
       "</table>\n",
       "</div>"
      ],
      "text/plain": [
       "     world_sales  critic_score  user_score\n",
       "16         21.05          97.0         8.2\n",
       "69          9.36          71.0         2.6\n",
       "126         6.46          86.0         4.3\n",
       "149         5.86          95.0         9.1\n",
       "180         5.27           NaN         NaN"
      ]
     },
     "execution_count": 39,
     "metadata": {},
     "output_type": "execute_result"
    }
   ],
   "source": [
    "ps3_actual_data = actual_data.query('platform ==\"PS3\"')\n",
    "ps3_rating = ps3_actual_data.loc[:,['world_sales', 'critic_score', 'user_score']]\n",
    "ps3_rating.head()"
   ]
  },
  {
   "cell_type": "code",
   "execution_count": 40,
   "metadata": {},
   "outputs": [
    {
     "data": {
      "text/html": [
       "<div>\n",
       "<style scoped>\n",
       "    .dataframe tbody tr th:only-of-type {\n",
       "        vertical-align: middle;\n",
       "    }\n",
       "\n",
       "    .dataframe tbody tr th {\n",
       "        vertical-align: top;\n",
       "    }\n",
       "\n",
       "    .dataframe thead th {\n",
       "        text-align: right;\n",
       "    }\n",
       "</style>\n",
       "<table border=\"1\" class=\"dataframe\">\n",
       "  <thead>\n",
       "    <tr style=\"text-align: right;\">\n",
       "      <th></th>\n",
       "      <th>world_sales</th>\n",
       "      <th>critic_score</th>\n",
       "      <th>user_score</th>\n",
       "    </tr>\n",
       "  </thead>\n",
       "  <tbody>\n",
       "    <tr>\n",
       "      <th>world_sales</th>\n",
       "      <td>1.000000</td>\n",
       "      <td>0.334285</td>\n",
       "      <td>0.002394</td>\n",
       "    </tr>\n",
       "    <tr>\n",
       "      <th>critic_score</th>\n",
       "      <td>0.334285</td>\n",
       "      <td>1.000000</td>\n",
       "      <td>0.599920</td>\n",
       "    </tr>\n",
       "    <tr>\n",
       "      <th>user_score</th>\n",
       "      <td>0.002394</td>\n",
       "      <td>0.599920</td>\n",
       "      <td>1.000000</td>\n",
       "    </tr>\n",
       "  </tbody>\n",
       "</table>\n",
       "</div>"
      ],
      "text/plain": [
       "              world_sales  critic_score  user_score\n",
       "world_sales      1.000000      0.334285    0.002394\n",
       "critic_score     0.334285      1.000000    0.599920\n",
       "user_score       0.002394      0.599920    1.000000"
      ]
     },
     "execution_count": 40,
     "metadata": {},
     "output_type": "execute_result"
    }
   ],
   "source": [
    "ps3_rating.corr()"
   ]
  },
  {
   "cell_type": "code",
   "execution_count": 41,
   "metadata": {},
   "outputs": [
    {
     "data": {
      "image/png": "[encoded data removed]",
      "text/plain": [
       "<Figure size 1080x1080 with 9 Axes>"
      ]
     },
     "metadata": {
      "needs_background": "light"
     },
     "output_type": "display_data"
    }
   ],
   "source": [
    "pd.plotting.scatter_matrix(ps3_rating, figsize=(15, 15));"
   ]
  },
  {
   "cell_type": "markdown",
   "metadata": {},
   "source": [
    "Для платформы PS3 взаимосвязь показателей аналогична PS4"
   ]
  },
  {
   "cell_type": "code",
   "execution_count": 42,
   "metadata": {},
   "outputs": [
    {
     "data": {
      "text/html": [
       "<div>\n",
       "<style scoped>\n",
       "    .dataframe tbody tr th:only-of-type {\n",
       "        vertical-align: middle;\n",
       "    }\n",
       "\n",
       "    .dataframe tbody tr th {\n",
       "        vertical-align: top;\n",
       "    }\n",
       "\n",
       "    .dataframe thead th {\n",
       "        text-align: right;\n",
       "    }\n",
       "</style>\n",
       "<table border=\"1\" class=\"dataframe\">\n",
       "  <thead>\n",
       "    <tr style=\"text-align: right;\">\n",
       "      <th></th>\n",
       "      <th>world_sales</th>\n",
       "      <th>critic_score</th>\n",
       "      <th>user_score</th>\n",
       "    </tr>\n",
       "  </thead>\n",
       "  <tbody>\n",
       "    <tr>\n",
       "      <th>99</th>\n",
       "      <td>7.39</td>\n",
       "      <td>NaN</td>\n",
       "      <td>NaN</td>\n",
       "    </tr>\n",
       "    <tr>\n",
       "      <th>165</th>\n",
       "      <td>5.47</td>\n",
       "      <td>97.0</td>\n",
       "      <td>7.9</td>\n",
       "    </tr>\n",
       "    <tr>\n",
       "      <th>179</th>\n",
       "      <td>5.26</td>\n",
       "      <td>81.0</td>\n",
       "      <td>5.4</td>\n",
       "    </tr>\n",
       "    <tr>\n",
       "      <th>242</th>\n",
       "      <td>4.49</td>\n",
       "      <td>84.0</td>\n",
       "      <td>6.4</td>\n",
       "    </tr>\n",
       "    <tr>\n",
       "      <th>270</th>\n",
       "      <td>4.22</td>\n",
       "      <td>88.0</td>\n",
       "      <td>6.2</td>\n",
       "    </tr>\n",
       "  </tbody>\n",
       "</table>\n",
       "</div>"
      ],
      "text/plain": [
       "     world_sales  critic_score  user_score\n",
       "99          7.39           NaN         NaN\n",
       "165         5.47          97.0         7.9\n",
       "179         5.26          81.0         5.4\n",
       "242         4.49          84.0         6.4\n",
       "270         4.22          88.0         6.2"
      ]
     },
     "execution_count": 42,
     "metadata": {},
     "output_type": "execute_result"
    }
   ],
   "source": [
    "x_one_actual_data = actual_data.query('platform ==\"XOne\"')\n",
    "x_one_rating = x_one_actual_data.loc[:,['world_sales', 'critic_score', 'user_score']]\n",
    "x_one_rating.head()"
   ]
  },
  {
   "cell_type": "code",
   "execution_count": 43,
   "metadata": {},
   "outputs": [
    {
     "data": {
      "text/html": [
       "<div>\n",
       "<style scoped>\n",
       "    .dataframe tbody tr th:only-of-type {\n",
       "        vertical-align: middle;\n",
       "    }\n",
       "\n",
       "    .dataframe tbody tr th {\n",
       "        vertical-align: top;\n",
       "    }\n",
       "\n",
       "    .dataframe thead th {\n",
       "        text-align: right;\n",
       "    }\n",
       "</style>\n",
       "<table border=\"1\" class=\"dataframe\">\n",
       "  <thead>\n",
       "    <tr style=\"text-align: right;\">\n",
       "      <th></th>\n",
       "      <th>world_sales</th>\n",
       "      <th>critic_score</th>\n",
       "      <th>user_score</th>\n",
       "    </tr>\n",
       "  </thead>\n",
       "  <tbody>\n",
       "    <tr>\n",
       "      <th>world_sales</th>\n",
       "      <td>1.000000</td>\n",
       "      <td>0.416998</td>\n",
       "      <td>-0.068925</td>\n",
       "    </tr>\n",
       "    <tr>\n",
       "      <th>critic_score</th>\n",
       "      <td>0.416998</td>\n",
       "      <td>1.000000</td>\n",
       "      <td>0.472462</td>\n",
       "    </tr>\n",
       "    <tr>\n",
       "      <th>user_score</th>\n",
       "      <td>-0.068925</td>\n",
       "      <td>0.472462</td>\n",
       "      <td>1.000000</td>\n",
       "    </tr>\n",
       "  </tbody>\n",
       "</table>\n",
       "</div>"
      ],
      "text/plain": [
       "              world_sales  critic_score  user_score\n",
       "world_sales      1.000000      0.416998   -0.068925\n",
       "critic_score     0.416998      1.000000    0.472462\n",
       "user_score      -0.068925      0.472462    1.000000"
      ]
     },
     "execution_count": 43,
     "metadata": {},
     "output_type": "execute_result"
    }
   ],
   "source": [
    "x_one_rating.corr()"
   ]
  },
  {
   "cell_type": "code",
   "execution_count": 44,
   "metadata": {},
   "outputs": [
    {
     "data": {
      "image/png": "[encoded data removed]",
      "text/plain": [
       "<Figure size 1080x1080 with 9 Axes>"
      ]
     },
     "metadata": {
      "needs_background": "light"
     },
     "output_type": "display_data"
    }
   ],
   "source": [
    "pd.plotting.scatter_matrix(x_one_rating, figsize=(15, 15));"
   ]
  },
  {
   "cell_type": "code",
   "execution_count": 45,
   "metadata": {},
   "outputs": [
    {
     "data": {
      "text/html": [
       "<div>\n",
       "<style scoped>\n",
       "    .dataframe tbody tr th:only-of-type {\n",
       "        vertical-align: middle;\n",
       "    }\n",
       "\n",
       "    .dataframe tbody tr th {\n",
       "        vertical-align: top;\n",
       "    }\n",
       "\n",
       "    .dataframe thead th {\n",
       "        text-align: right;\n",
       "    }\n",
       "</style>\n",
       "<table border=\"1\" class=\"dataframe\">\n",
       "  <thead>\n",
       "    <tr style=\"text-align: right;\">\n",
       "      <th></th>\n",
       "      <th>world_sales</th>\n",
       "      <th>critic_score</th>\n",
       "      <th>user_score</th>\n",
       "    </tr>\n",
       "  </thead>\n",
       "  <tbody>\n",
       "    <tr>\n",
       "      <th>23</th>\n",
       "      <td>16.27</td>\n",
       "      <td>97.0</td>\n",
       "      <td>8.1</td>\n",
       "    </tr>\n",
       "    <tr>\n",
       "      <th>60</th>\n",
       "      <td>10.24</td>\n",
       "      <td>73.0</td>\n",
       "      <td>2.6</td>\n",
       "    </tr>\n",
       "    <tr>\n",
       "      <th>72</th>\n",
       "      <td>9.18</td>\n",
       "      <td>NaN</td>\n",
       "      <td>NaN</td>\n",
       "    </tr>\n",
       "    <tr>\n",
       "      <th>263</th>\n",
       "      <td>4.28</td>\n",
       "      <td>NaN</td>\n",
       "      <td>4.9</td>\n",
       "    </tr>\n",
       "    <tr>\n",
       "      <th>271</th>\n",
       "      <td>4.22</td>\n",
       "      <td>84.0</td>\n",
       "      <td>4.2</td>\n",
       "    </tr>\n",
       "  </tbody>\n",
       "</table>\n",
       "</div>"
      ],
      "text/plain": [
       "     world_sales  critic_score  user_score\n",
       "23         16.27          97.0         8.1\n",
       "60         10.24          73.0         2.6\n",
       "72          9.18           NaN         NaN\n",
       "263         4.28           NaN         4.9\n",
       "271         4.22          84.0         4.2"
      ]
     },
     "execution_count": 45,
     "metadata": {},
     "output_type": "execute_result"
    }
   ],
   "source": [
    "x_360_actual_data = actual_data.query('platform ==\"X360\"')\n",
    "x_360_rating = x_360_actual_data.loc[:,['world_sales', 'critic_score', 'user_score']]\n",
    "x_360_rating.head()"
   ]
  },
  {
   "cell_type": "code",
   "execution_count": 46,
   "metadata": {},
   "outputs": [
    {
     "data": {
      "text/html": [
       "<div>\n",
       "<style scoped>\n",
       "    .dataframe tbody tr th:only-of-type {\n",
       "        vertical-align: middle;\n",
       "    }\n",
       "\n",
       "    .dataframe tbody tr th {\n",
       "        vertical-align: top;\n",
       "    }\n",
       "\n",
       "    .dataframe thead th {\n",
       "        text-align: right;\n",
       "    }\n",
       "</style>\n",
       "<table border=\"1\" class=\"dataframe\">\n",
       "  <thead>\n",
       "    <tr style=\"text-align: right;\">\n",
       "      <th></th>\n",
       "      <th>world_sales</th>\n",
       "      <th>critic_score</th>\n",
       "      <th>user_score</th>\n",
       "    </tr>\n",
       "  </thead>\n",
       "  <tbody>\n",
       "    <tr>\n",
       "      <th>world_sales</th>\n",
       "      <td>1.000000</td>\n",
       "      <td>0.350345</td>\n",
       "      <td>-0.011742</td>\n",
       "    </tr>\n",
       "    <tr>\n",
       "      <th>critic_score</th>\n",
       "      <td>0.350345</td>\n",
       "      <td>1.000000</td>\n",
       "      <td>0.520946</td>\n",
       "    </tr>\n",
       "    <tr>\n",
       "      <th>user_score</th>\n",
       "      <td>-0.011742</td>\n",
       "      <td>0.520946</td>\n",
       "      <td>1.000000</td>\n",
       "    </tr>\n",
       "  </tbody>\n",
       "</table>\n",
       "</div>"
      ],
      "text/plain": [
       "              world_sales  critic_score  user_score\n",
       "world_sales      1.000000      0.350345   -0.011742\n",
       "critic_score     0.350345      1.000000    0.520946\n",
       "user_score      -0.011742      0.520946    1.000000"
      ]
     },
     "execution_count": 46,
     "metadata": {},
     "output_type": "execute_result"
    }
   ],
   "source": [
    "x_360_rating.corr()"
   ]
  },
  {
   "cell_type": "code",
   "execution_count": 47,
   "metadata": {},
   "outputs": [
    {
     "data": {
      "image/png": "[encoded data removed]",
      "text/plain": [
       "<Figure size 1080x1080 with 9 Axes>"
      ]
     },
     "metadata": {
      "needs_background": "light"
     },
     "output_type": "display_data"
    }
   ],
   "source": [
    "pd.plotting.scatter_matrix(x_360_rating, figsize=(15, 15));"
   ]
  },
  {
   "cell_type": "code",
   "execution_count": 48,
   "metadata": {},
   "outputs": [
    {
     "data": {
      "text/html": [
       "<div>\n",
       "<style scoped>\n",
       "    .dataframe tbody tr th:only-of-type {\n",
       "        vertical-align: middle;\n",
       "    }\n",
       "\n",
       "    .dataframe tbody tr th {\n",
       "        vertical-align: top;\n",
       "    }\n",
       "\n",
       "    .dataframe thead th {\n",
       "        text-align: right;\n",
       "    }\n",
       "</style>\n",
       "<table border=\"1\" class=\"dataframe\">\n",
       "  <thead>\n",
       "    <tr style=\"text-align: right;\">\n",
       "      <th></th>\n",
       "      <th>world_sales</th>\n",
       "      <th>critic_score</th>\n",
       "      <th>user_score</th>\n",
       "    </tr>\n",
       "  </thead>\n",
       "  <tbody>\n",
       "    <tr>\n",
       "      <th>33</th>\n",
       "      <td>14.60</td>\n",
       "      <td>NaN</td>\n",
       "      <td>NaN</td>\n",
       "    </tr>\n",
       "    <tr>\n",
       "      <th>47</th>\n",
       "      <td>11.68</td>\n",
       "      <td>NaN</td>\n",
       "      <td>NaN</td>\n",
       "    </tr>\n",
       "    <tr>\n",
       "      <th>96</th>\n",
       "      <td>7.55</td>\n",
       "      <td>NaN</td>\n",
       "      <td>NaN</td>\n",
       "    </tr>\n",
       "    <tr>\n",
       "      <th>108</th>\n",
       "      <td>7.14</td>\n",
       "      <td>NaN</td>\n",
       "      <td>NaN</td>\n",
       "    </tr>\n",
       "    <tr>\n",
       "      <th>184</th>\n",
       "      <td>5.22</td>\n",
       "      <td>NaN</td>\n",
       "      <td>NaN</td>\n",
       "    </tr>\n",
       "  </tbody>\n",
       "</table>\n",
       "</div>"
      ],
      "text/plain": [
       "     world_sales  critic_score  user_score\n",
       "33         14.60           NaN         NaN\n",
       "47         11.68           NaN         NaN\n",
       "96          7.55           NaN         NaN\n",
       "108         7.14           NaN         NaN\n",
       "184         5.22           NaN         NaN"
      ]
     },
     "execution_count": 48,
     "metadata": {},
     "output_type": "execute_result"
    }
   ],
   "source": [
    "_3ds_actual_data = actual_data.query('platform ==\"3DS\"')\n",
    "_3ds_rating = _3ds_actual_data.loc[:,['world_sales', 'critic_score', 'user_score']]\n",
    "_3ds_rating.head()"
   ]
  },
  {
   "cell_type": "code",
   "execution_count": 49,
   "metadata": {},
   "outputs": [
    {
     "data": {
      "text/html": [
       "<div>\n",
       "<style scoped>\n",
       "    .dataframe tbody tr th:only-of-type {\n",
       "        vertical-align: middle;\n",
       "    }\n",
       "\n",
       "    .dataframe tbody tr th {\n",
       "        vertical-align: top;\n",
       "    }\n",
       "\n",
       "    .dataframe thead th {\n",
       "        text-align: right;\n",
       "    }\n",
       "</style>\n",
       "<table border=\"1\" class=\"dataframe\">\n",
       "  <thead>\n",
       "    <tr style=\"text-align: right;\">\n",
       "      <th></th>\n",
       "      <th>world_sales</th>\n",
       "      <th>critic_score</th>\n",
       "      <th>user_score</th>\n",
       "    </tr>\n",
       "  </thead>\n",
       "  <tbody>\n",
       "    <tr>\n",
       "      <th>world_sales</th>\n",
       "      <td>1.000000</td>\n",
       "      <td>0.357057</td>\n",
       "      <td>0.241504</td>\n",
       "    </tr>\n",
       "    <tr>\n",
       "      <th>critic_score</th>\n",
       "      <td>0.357057</td>\n",
       "      <td>1.000000</td>\n",
       "      <td>0.769536</td>\n",
       "    </tr>\n",
       "    <tr>\n",
       "      <th>user_score</th>\n",
       "      <td>0.241504</td>\n",
       "      <td>0.769536</td>\n",
       "      <td>1.000000</td>\n",
       "    </tr>\n",
       "  </tbody>\n",
       "</table>\n",
       "</div>"
      ],
      "text/plain": [
       "              world_sales  critic_score  user_score\n",
       "world_sales      1.000000      0.357057    0.241504\n",
       "critic_score     0.357057      1.000000    0.769536\n",
       "user_score       0.241504      0.769536    1.000000"
      ]
     },
     "execution_count": 49,
     "metadata": {},
     "output_type": "execute_result"
    }
   ],
   "source": [
    "_3ds_rating.corr()"
   ]
  },
  {
   "cell_type": "code",
   "execution_count": 50,
   "metadata": {},
   "outputs": [
    {
     "data": {
      "image/png": "[encoded data removed]",
      "text/plain": [
       "<Figure size 1080x1080 with 9 Axes>"
      ]
     },
     "metadata": {
      "needs_background": "light"
     },
     "output_type": "display_data"
    }
   ],
   "source": [
    "pd.plotting.scatter_matrix(_3ds_rating, figsize=(15, 15));"
   ]
  },
  {
   "cell_type": "markdown",
   "metadata": {},
   "source": [
    "В платформах `PS3`, `XOne`, `X360` наблюдаются похожие связи как и в `PS4`\n",
    "\n",
    "Несколько отличается `3DS`. Взаимосвязь между оценками критиков и пользователей более высокая. С количеством продаж корреляция довольно низкая.\n",
    "\n",
    "### Распределение игр по жанрам"
   ]
  },
  {
   "cell_type": "code",
   "execution_count": 51,
   "metadata": {},
   "outputs": [
    {
     "data": {
      "text/html": [
       "<div>\n",
       "<style scoped>\n",
       "    .dataframe tbody tr th:only-of-type {\n",
       "        vertical-align: middle;\n",
       "    }\n",
       "\n",
       "    .dataframe tbody tr th {\n",
       "        vertical-align: top;\n",
       "    }\n",
       "\n",
       "    .dataframe thead th {\n",
       "        text-align: right;\n",
       "    }\n",
       "</style>\n",
       "<table border=\"1\" class=\"dataframe\">\n",
       "  <thead>\n",
       "    <tr style=\"text-align: right;\">\n",
       "      <th></th>\n",
       "      <th>median_world_sales</th>\n",
       "    </tr>\n",
       "    <tr>\n",
       "      <th>genre</th>\n",
       "      <th></th>\n",
       "    </tr>\n",
       "  </thead>\n",
       "  <tbody>\n",
       "    <tr>\n",
       "      <th>Shooter</th>\n",
       "      <td>0.450</td>\n",
       "    </tr>\n",
       "    <tr>\n",
       "      <th>Sports</th>\n",
       "      <td>0.240</td>\n",
       "    </tr>\n",
       "    <tr>\n",
       "      <th>Platform</th>\n",
       "      <td>0.225</td>\n",
       "    </tr>\n",
       "    <tr>\n",
       "      <th>Role-Playing</th>\n",
       "      <td>0.125</td>\n",
       "    </tr>\n",
       "    <tr>\n",
       "      <th>Fighting</th>\n",
       "      <td>0.125</td>\n",
       "    </tr>\n",
       "    <tr>\n",
       "      <th>Racing</th>\n",
       "      <td>0.120</td>\n",
       "    </tr>\n",
       "    <tr>\n",
       "      <th>Action</th>\n",
       "      <td>0.110</td>\n",
       "    </tr>\n",
       "    <tr>\n",
       "      <th>Simulation</th>\n",
       "      <td>0.100</td>\n",
       "    </tr>\n",
       "    <tr>\n",
       "      <th>Misc</th>\n",
       "      <td>0.100</td>\n",
       "    </tr>\n",
       "    <tr>\n",
       "      <th>Strategy</th>\n",
       "      <td>0.080</td>\n",
       "    </tr>\n",
       "    <tr>\n",
       "      <th>Puzzle</th>\n",
       "      <td>0.060</td>\n",
       "    </tr>\n",
       "    <tr>\n",
       "      <th>Adventure</th>\n",
       "      <td>0.030</td>\n",
       "    </tr>\n",
       "  </tbody>\n",
       "</table>\n",
       "</div>"
      ],
      "text/plain": [
       "              median_world_sales\n",
       "genre                           \n",
       "Shooter                    0.450\n",
       "Sports                     0.240\n",
       "Platform                   0.225\n",
       "Role-Playing               0.125\n",
       "Fighting                   0.125\n",
       "Racing                     0.120\n",
       "Action                     0.110\n",
       "Simulation                 0.100\n",
       "Misc                       0.100\n",
       "Strategy                   0.080\n",
       "Puzzle                     0.060\n",
       "Adventure                  0.030"
      ]
     },
     "execution_count": 51,
     "metadata": {},
     "output_type": "execute_result"
    }
   ],
   "source": [
    "genre_pivot = actual_data.pivot_table(index='genre', values='world_sales', aggfunc='median')\n",
    "genre_pivot.columns = ['median_world_sales']\n",
    "genre_pivot = genre_pivot.sort_values('median_world_sales', ascending=False)\n",
    "genre_pivot"
   ]
  },
  {
   "cell_type": "code",
   "execution_count": 52,
   "metadata": {},
   "outputs": [
    {
     "data": {
      "image/png": "[encoded data removed]",
      "text/plain": [
       "<Figure size 1080x360 with 1 Axes>"
      ]
     },
     "metadata": {
      "needs_background": "light"
     },
     "output_type": "display_data"
    }
   ],
   "source": [
    "genre_pivot['median_world_sales'].plot(kind='bar', figsize=(15, 5), grid=True);\n",
    "plt.title('Медианные продажи по платформам');\n",
    "plt.xlabel('Платформа');\n",
    "plt.xticks(rotation=0);\n",
    "plt.ylabel('Продажи, млн');\n",
    "plt.show();"
   ]
  },
  {
   "cell_type": "markdown",
   "metadata": {},
   "source": [
    "Наиболее прибыльными можно считать игры жанров  `Shooter`, `Sports`, `Platform` \n",
    "\n",
    " - выделяется жанр `Shooter` медианное значение превосходит второе место (`Sports`) в 1,9 раза\n",
    " - выделяется жанр `Advanture`,в котором медианное количество проданных копий на значительно ниже\n",
    " \n",
    "## Составление портрета пользователя каждого региона\n",
    "\n",
    "Необходимо определить:\n",
    " - Самые популярные платформы (топ-5). Опишите различия в долях продаж\n",
    " - Самые популярные жанры (топ-5). Поясните разницу\n",
    " - Влияет ли рейтинг ESRB на продажи в отдельном регионе?\n",
    " \n",
    "Создадим датафреймы для каждого региона\n",
    "\n",
    " "
   ]
  },
  {
   "cell_type": "code",
   "execution_count": 53,
   "metadata": {},
   "outputs": [
    {
     "name": "stdout",
     "output_type": "stream",
     "text": [
      "<class 'pandas.core.frame.DataFrame'>\n",
      "Int64Index: 1309 entries, 16 to 16672\n",
      "Data columns (total 12 columns):\n",
      " #   Column           Non-Null Count  Dtype  \n",
      "---  ------           --------------  -----  \n",
      " 0   name             1309 non-null   object \n",
      " 1   platform         1309 non-null   object \n",
      " 2   year_of_release  1309 non-null   float64\n",
      " 3   genre            1309 non-null   object \n",
      " 4   na_sales         1309 non-null   float64\n",
      " 5   eu_sales         1309 non-null   float64\n",
      " 6   jp_sales         1309 non-null   float64\n",
      " 7   other_sales      1309 non-null   float64\n",
      " 8   critic_score     809 non-null    float64\n",
      " 9   user_score       974 non-null    float32\n",
      " 10  rating           1309 non-null   object \n",
      " 11  world_sales      1309 non-null   float64\n",
      "dtypes: float32(1), float64(7), object(4)\n",
      "memory usage: 127.8+ KB\n"
     ]
    }
   ],
   "source": [
    "na_actual_data = actual_data.query('na_sales > 0')\n",
    "na_actual_data.info()"
   ]
  },
  {
   "cell_type": "code",
   "execution_count": 54,
   "metadata": {},
   "outputs": [
    {
     "name": "stdout",
     "output_type": "stream",
     "text": [
      "<class 'pandas.core.frame.DataFrame'>\n",
      "Int64Index: 1422 entries, 16 to 16692\n",
      "Data columns (total 12 columns):\n",
      " #   Column           Non-Null Count  Dtype  \n",
      "---  ------           --------------  -----  \n",
      " 0   name             1422 non-null   object \n",
      " 1   platform         1422 non-null   object \n",
      " 2   year_of_release  1422 non-null   float64\n",
      " 3   genre            1422 non-null   object \n",
      " 4   na_sales         1422 non-null   float64\n",
      " 5   eu_sales         1422 non-null   float64\n",
      " 6   jp_sales         1422 non-null   float64\n",
      " 7   other_sales      1422 non-null   float64\n",
      " 8   critic_score     872 non-null    float64\n",
      " 9   user_score       1047 non-null   float32\n",
      " 10  rating           1422 non-null   object \n",
      " 11  world_sales      1422 non-null   float64\n",
      "dtypes: float32(1), float64(7), object(4)\n",
      "memory usage: 138.9+ KB\n"
     ]
    }
   ],
   "source": [
    "eu_actual_data = actual_data.query('eu_sales > 0')\n",
    "eu_actual_data.info()"
   ]
  },
  {
   "cell_type": "code",
   "execution_count": 55,
   "metadata": {},
   "outputs": [
    {
     "name": "stdout",
     "output_type": "stream",
     "text": [
      "<class 'pandas.core.frame.DataFrame'>\n",
      "Int64Index: 1187 entries, 16 to 16714\n",
      "Data columns (total 12 columns):\n",
      " #   Column           Non-Null Count  Dtype  \n",
      "---  ------           --------------  -----  \n",
      " 0   name             1187 non-null   object \n",
      " 1   platform         1187 non-null   object \n",
      " 2   year_of_release  1187 non-null   float64\n",
      " 3   genre            1187 non-null   object \n",
      " 4   na_sales         1187 non-null   float64\n",
      " 5   eu_sales         1187 non-null   float64\n",
      " 6   jp_sales         1187 non-null   float64\n",
      " 7   other_sales      1187 non-null   float64\n",
      " 8   critic_score     410 non-null    float64\n",
      " 9   user_score       462 non-null    float32\n",
      " 10  rating           1187 non-null   object \n",
      " 11  world_sales      1187 non-null   float64\n",
      "dtypes: float32(1), float64(7), object(4)\n",
      "memory usage: 115.9+ KB\n"
     ]
    }
   ],
   "source": [
    "jp_actual_data = actual_data.query('jp_sales > 0')\n",
    "jp_actual_data.info()"
   ]
  },
  {
   "cell_type": "code",
   "execution_count": 56,
   "metadata": {},
   "outputs": [
    {
     "data": {
      "text/html": [
       "<div>\n",
       "<style scoped>\n",
       "    .dataframe tbody tr th:only-of-type {\n",
       "        vertical-align: middle;\n",
       "    }\n",
       "\n",
       "    .dataframe tbody tr th {\n",
       "        vertical-align: top;\n",
       "    }\n",
       "\n",
       "    .dataframe thead th {\n",
       "        text-align: right;\n",
       "    }\n",
       "</style>\n",
       "<table border=\"1\" class=\"dataframe\">\n",
       "  <thead>\n",
       "    <tr style=\"text-align: right;\">\n",
       "      <th></th>\n",
       "      <th>na_sales</th>\n",
       "    </tr>\n",
       "    <tr>\n",
       "      <th>platform</th>\n",
       "      <th></th>\n",
       "    </tr>\n",
       "  </thead>\n",
       "  <tbody>\n",
       "    <tr>\n",
       "      <th>PS4</th>\n",
       "      <td>108.74</td>\n",
       "    </tr>\n",
       "    <tr>\n",
       "      <th>XOne</th>\n",
       "      <td>93.12</td>\n",
       "    </tr>\n",
       "    <tr>\n",
       "      <th>X360</th>\n",
       "      <td>81.66</td>\n",
       "    </tr>\n",
       "    <tr>\n",
       "      <th>PS3</th>\n",
       "      <td>63.50</td>\n",
       "    </tr>\n",
       "    <tr>\n",
       "      <th>3DS</th>\n",
       "      <td>38.20</td>\n",
       "    </tr>\n",
       "    <tr>\n",
       "      <th>WiiU</th>\n",
       "      <td>29.21</td>\n",
       "    </tr>\n",
       "    <tr>\n",
       "      <th>PC</th>\n",
       "      <td>11.11</td>\n",
       "    </tr>\n",
       "    <tr>\n",
       "      <th>Wii</th>\n",
       "      <td>6.56</td>\n",
       "    </tr>\n",
       "    <tr>\n",
       "      <th>PSV</th>\n",
       "      <td>5.04</td>\n",
       "    </tr>\n",
       "    <tr>\n",
       "      <th>DS</th>\n",
       "      <td>0.57</td>\n",
       "    </tr>\n",
       "  </tbody>\n",
       "</table>\n",
       "</div>"
      ],
      "text/plain": [
       "          na_sales\n",
       "platform          \n",
       "PS4         108.74\n",
       "XOne         93.12\n",
       "X360         81.66\n",
       "PS3          63.50\n",
       "3DS          38.20\n",
       "WiiU         29.21\n",
       "PC           11.11\n",
       "Wii           6.56\n",
       "PSV           5.04\n",
       "DS            0.57"
      ]
     },
     "execution_count": 56,
     "metadata": {},
     "output_type": "execute_result"
    }
   ],
   "source": [
    "na_pivot = na_actual_data.pivot_table(index='platform', values='na_sales',\n",
    "                                        aggfunc='sum').sort_values('na_sales', ascending=False)\n",
    "na_pivot"
   ]
  },
  {
   "cell_type": "code",
   "execution_count": 57,
   "metadata": {},
   "outputs": [
    {
     "data": {
      "text/html": [
       "<div>\n",
       "<style scoped>\n",
       "    .dataframe tbody tr th:only-of-type {\n",
       "        vertical-align: middle;\n",
       "    }\n",
       "\n",
       "    .dataframe tbody tr th {\n",
       "        vertical-align: top;\n",
       "    }\n",
       "\n",
       "    .dataframe thead th {\n",
       "        text-align: right;\n",
       "    }\n",
       "</style>\n",
       "<table border=\"1\" class=\"dataframe\">\n",
       "  <thead>\n",
       "    <tr style=\"text-align: right;\">\n",
       "      <th></th>\n",
       "      <th>eu_sales</th>\n",
       "    </tr>\n",
       "    <tr>\n",
       "      <th>platform</th>\n",
       "      <th></th>\n",
       "    </tr>\n",
       "  </thead>\n",
       "  <tbody>\n",
       "    <tr>\n",
       "      <th>PS4</th>\n",
       "      <td>141.09</td>\n",
       "    </tr>\n",
       "    <tr>\n",
       "      <th>PS3</th>\n",
       "      <td>67.81</td>\n",
       "    </tr>\n",
       "    <tr>\n",
       "      <th>XOne</th>\n",
       "      <td>51.59</td>\n",
       "    </tr>\n",
       "    <tr>\n",
       "      <th>X360</th>\n",
       "      <td>42.52</td>\n",
       "    </tr>\n",
       "    <tr>\n",
       "      <th>3DS</th>\n",
       "      <td>30.96</td>\n",
       "    </tr>\n",
       "    <tr>\n",
       "      <th>PC</th>\n",
       "      <td>25.36</td>\n",
       "    </tr>\n",
       "    <tr>\n",
       "      <th>WiiU</th>\n",
       "      <td>19.85</td>\n",
       "    </tr>\n",
       "    <tr>\n",
       "      <th>PSV</th>\n",
       "      <td>6.10</td>\n",
       "    </tr>\n",
       "    <tr>\n",
       "      <th>Wii</th>\n",
       "      <td>5.93</td>\n",
       "    </tr>\n",
       "    <tr>\n",
       "      <th>DS</th>\n",
       "      <td>0.85</td>\n",
       "    </tr>\n",
       "    <tr>\n",
       "      <th>PSP</th>\n",
       "      <td>0.17</td>\n",
       "    </tr>\n",
       "  </tbody>\n",
       "</table>\n",
       "</div>"
      ],
      "text/plain": [
       "          eu_sales\n",
       "platform          \n",
       "PS4         141.09\n",
       "PS3          67.81\n",
       "XOne         51.59\n",
       "X360         42.52\n",
       "3DS          30.96\n",
       "PC           25.36\n",
       "WiiU         19.85\n",
       "PSV           6.10\n",
       "Wii           5.93\n",
       "DS            0.85\n",
       "PSP           0.17"
      ]
     },
     "execution_count": 57,
     "metadata": {},
     "output_type": "execute_result"
    }
   ],
   "source": [
    "eu_pivot = eu_actual_data.pivot_table(index='platform', values='eu_sales',\n",
    "                                        aggfunc='sum').sort_values('eu_sales', ascending=False)\n",
    "eu_pivot"
   ]
  },
  {
   "cell_type": "code",
   "execution_count": 58,
   "metadata": {},
   "outputs": [
    {
     "data": {
      "text/html": [
       "<div>\n",
       "<style scoped>\n",
       "    .dataframe tbody tr th:only-of-type {\n",
       "        vertical-align: middle;\n",
       "    }\n",
       "\n",
       "    .dataframe tbody tr th {\n",
       "        vertical-align: top;\n",
       "    }\n",
       "\n",
       "    .dataframe thead th {\n",
       "        text-align: right;\n",
       "    }\n",
       "</style>\n",
       "<table border=\"1\" class=\"dataframe\">\n",
       "  <thead>\n",
       "    <tr style=\"text-align: right;\">\n",
       "      <th></th>\n",
       "      <th>jp_sales</th>\n",
       "    </tr>\n",
       "    <tr>\n",
       "      <th>platform</th>\n",
       "      <th></th>\n",
       "    </tr>\n",
       "  </thead>\n",
       "  <tbody>\n",
       "    <tr>\n",
       "      <th>3DS</th>\n",
       "      <td>67.81</td>\n",
       "    </tr>\n",
       "    <tr>\n",
       "      <th>PS3</th>\n",
       "      <td>23.35</td>\n",
       "    </tr>\n",
       "    <tr>\n",
       "      <th>PSV</th>\n",
       "      <td>18.59</td>\n",
       "    </tr>\n",
       "    <tr>\n",
       "      <th>PS4</th>\n",
       "      <td>15.96</td>\n",
       "    </tr>\n",
       "    <tr>\n",
       "      <th>WiiU</th>\n",
       "      <td>10.88</td>\n",
       "    </tr>\n",
       "    <tr>\n",
       "      <th>PSP</th>\n",
       "      <td>3.29</td>\n",
       "    </tr>\n",
       "    <tr>\n",
       "      <th>X360</th>\n",
       "      <td>0.51</td>\n",
       "    </tr>\n",
       "    <tr>\n",
       "      <th>XOne</th>\n",
       "      <td>0.34</td>\n",
       "    </tr>\n",
       "    <tr>\n",
       "      <th>Wii</th>\n",
       "      <td>0.05</td>\n",
       "    </tr>\n",
       "  </tbody>\n",
       "</table>\n",
       "</div>"
      ],
      "text/plain": [
       "          jp_sales\n",
       "platform          \n",
       "3DS          67.81\n",
       "PS3          23.35\n",
       "PSV          18.59\n",
       "PS4          15.96\n",
       "WiiU         10.88\n",
       "PSP           3.29\n",
       "X360          0.51\n",
       "XOne          0.34\n",
       "Wii           0.05"
      ]
     },
     "execution_count": 58,
     "metadata": {},
     "output_type": "execute_result"
    }
   ],
   "source": [
    "jp_pivot = jp_actual_data.pivot_table(index='platform', values='jp_sales',\n",
    "                                        aggfunc='sum').sort_values('jp_sales', ascending=False)\n",
    "jp_pivot"
   ]
  },
  {
   "cell_type": "markdown",
   "metadata": {},
   "source": [
    "Топ платформ:\n",
    "\n",
    " - По Северной Америке: `PS4`, `XOne`, `X360`, `PS3` и `3DS`\n",
    " - По Европе: `PS4`, `PS3`, `XOne`, `X360` и `3DS`\n",
    " - По Японии: `3DS`, `PS3`, `PSV`, `PS4` и `WiiU`\n",
    " \n",
    "Популярность той или иной компнаии определяется активностью фирмы, узнаваемостью её бренда и прочее.\n",
    "\n",
    "Важно и место расположения компании. Так, например, в Америке имеет высокую популярность XOne, X360. В Японии компания Nintendo c двумя продуктами 3DS и WiiU. На европейском рынке преобладают общие тренды.\n",
    "\n",
    "В Америке за лидерство борются PS4 и XOne. В европе люди выбирают наиболее популярный продукт PS4. В Японии активная конкуренция между компаниями Nintendo и Sony, причем на рынке в Японии у платформы лидерство, однако на зарубежных рынках пользоватили отдают преимущество Sony.\n",
    "\n",
    "Популярные жанры по регионам:"
   ]
  },
  {
   "cell_type": "code",
   "execution_count": 59,
   "metadata": {},
   "outputs": [
    {
     "data": {
      "text/html": [
       "<div>\n",
       "<style scoped>\n",
       "    .dataframe tbody tr th:only-of-type {\n",
       "        vertical-align: middle;\n",
       "    }\n",
       "\n",
       "    .dataframe tbody tr th {\n",
       "        vertical-align: top;\n",
       "    }\n",
       "\n",
       "    .dataframe thead th {\n",
       "        text-align: right;\n",
       "    }\n",
       "</style>\n",
       "<table border=\"1\" class=\"dataframe\">\n",
       "  <thead>\n",
       "    <tr style=\"text-align: right;\">\n",
       "      <th></th>\n",
       "      <th>na_sales</th>\n",
       "    </tr>\n",
       "    <tr>\n",
       "      <th>genre</th>\n",
       "      <th></th>\n",
       "    </tr>\n",
       "  </thead>\n",
       "  <tbody>\n",
       "    <tr>\n",
       "      <th>Action</th>\n",
       "      <td>126.05</td>\n",
       "    </tr>\n",
       "    <tr>\n",
       "      <th>Shooter</th>\n",
       "      <td>109.74</td>\n",
       "    </tr>\n",
       "    <tr>\n",
       "      <th>Sports</th>\n",
       "      <td>65.27</td>\n",
       "    </tr>\n",
       "    <tr>\n",
       "      <th>Role-Playing</th>\n",
       "      <td>46.40</td>\n",
       "    </tr>\n",
       "    <tr>\n",
       "      <th>Misc</th>\n",
       "      <td>27.49</td>\n",
       "    </tr>\n",
       "    <tr>\n",
       "      <th>Platform</th>\n",
       "      <td>18.14</td>\n",
       "    </tr>\n",
       "    <tr>\n",
       "      <th>Fighting</th>\n",
       "      <td>15.55</td>\n",
       "    </tr>\n",
       "    <tr>\n",
       "      <th>Racing</th>\n",
       "      <td>12.96</td>\n",
       "    </tr>\n",
       "    <tr>\n",
       "      <th>Adventure</th>\n",
       "      <td>7.14</td>\n",
       "    </tr>\n",
       "    <tr>\n",
       "      <th>Simulation</th>\n",
       "      <td>4.86</td>\n",
       "    </tr>\n",
       "    <tr>\n",
       "      <th>Strategy</th>\n",
       "      <td>3.28</td>\n",
       "    </tr>\n",
       "    <tr>\n",
       "      <th>Puzzle</th>\n",
       "      <td>0.83</td>\n",
       "    </tr>\n",
       "  </tbody>\n",
       "</table>\n",
       "</div>"
      ],
      "text/plain": [
       "              na_sales\n",
       "genre                 \n",
       "Action          126.05\n",
       "Shooter         109.74\n",
       "Sports           65.27\n",
       "Role-Playing     46.40\n",
       "Misc             27.49\n",
       "Platform         18.14\n",
       "Fighting         15.55\n",
       "Racing           12.96\n",
       "Adventure         7.14\n",
       "Simulation        4.86\n",
       "Strategy          3.28\n",
       "Puzzle            0.83"
      ]
     },
     "execution_count": 59,
     "metadata": {},
     "output_type": "execute_result"
    }
   ],
   "source": [
    "na_genre_pivot = na_actual_data.pivot_table(index='genre', values='na_sales',\n",
    "                                        aggfunc='sum').sort_values('na_sales', ascending=False)\n",
    "na_genre_pivot"
   ]
  },
  {
   "cell_type": "code",
   "execution_count": 60,
   "metadata": {},
   "outputs": [
    {
     "data": {
      "text/html": [
       "<div>\n",
       "<style scoped>\n",
       "    .dataframe tbody tr th:only-of-type {\n",
       "        vertical-align: middle;\n",
       "    }\n",
       "\n",
       "    .dataframe tbody tr th {\n",
       "        vertical-align: top;\n",
       "    }\n",
       "\n",
       "    .dataframe thead th {\n",
       "        text-align: right;\n",
       "    }\n",
       "</style>\n",
       "<table border=\"1\" class=\"dataframe\">\n",
       "  <thead>\n",
       "    <tr style=\"text-align: right;\">\n",
       "      <th></th>\n",
       "      <th>eu_sales</th>\n",
       "    </tr>\n",
       "    <tr>\n",
       "      <th>genre</th>\n",
       "      <th></th>\n",
       "    </tr>\n",
       "  </thead>\n",
       "  <tbody>\n",
       "    <tr>\n",
       "      <th>Action</th>\n",
       "      <td>118.13</td>\n",
       "    </tr>\n",
       "    <tr>\n",
       "      <th>Shooter</th>\n",
       "      <td>87.86</td>\n",
       "    </tr>\n",
       "    <tr>\n",
       "      <th>Sports</th>\n",
       "      <td>60.52</td>\n",
       "    </tr>\n",
       "    <tr>\n",
       "      <th>Role-Playing</th>\n",
       "      <td>36.97</td>\n",
       "    </tr>\n",
       "    <tr>\n",
       "      <th>Racing</th>\n",
       "      <td>20.19</td>\n",
       "    </tr>\n",
       "    <tr>\n",
       "      <th>Misc</th>\n",
       "      <td>20.04</td>\n",
       "    </tr>\n",
       "    <tr>\n",
       "      <th>Platform</th>\n",
       "      <td>15.58</td>\n",
       "    </tr>\n",
       "    <tr>\n",
       "      <th>Simulation</th>\n",
       "      <td>10.92</td>\n",
       "    </tr>\n",
       "    <tr>\n",
       "      <th>Fighting</th>\n",
       "      <td>8.55</td>\n",
       "    </tr>\n",
       "    <tr>\n",
       "      <th>Adventure</th>\n",
       "      <td>8.25</td>\n",
       "    </tr>\n",
       "    <tr>\n",
       "      <th>Strategy</th>\n",
       "      <td>4.22</td>\n",
       "    </tr>\n",
       "    <tr>\n",
       "      <th>Puzzle</th>\n",
       "      <td>1.00</td>\n",
       "    </tr>\n",
       "  </tbody>\n",
       "</table>\n",
       "</div>"
      ],
      "text/plain": [
       "              eu_sales\n",
       "genre                 \n",
       "Action          118.13\n",
       "Shooter          87.86\n",
       "Sports           60.52\n",
       "Role-Playing     36.97\n",
       "Racing           20.19\n",
       "Misc             20.04\n",
       "Platform         15.58\n",
       "Simulation       10.92\n",
       "Fighting          8.55\n",
       "Adventure         8.25\n",
       "Strategy          4.22\n",
       "Puzzle            1.00"
      ]
     },
     "execution_count": 60,
     "metadata": {},
     "output_type": "execute_result"
    }
   ],
   "source": [
    "eu_genre_pivot = eu_actual_data.pivot_table(index='genre', values='eu_sales',\n",
    "                                        aggfunc='sum').sort_values('eu_sales', ascending=False)\n",
    "eu_genre_pivot"
   ]
  },
  {
   "cell_type": "code",
   "execution_count": 61,
   "metadata": {},
   "outputs": [
    {
     "data": {
      "text/html": [
       "<div>\n",
       "<style scoped>\n",
       "    .dataframe tbody tr th:only-of-type {\n",
       "        vertical-align: middle;\n",
       "    }\n",
       "\n",
       "    .dataframe tbody tr th {\n",
       "        vertical-align: top;\n",
       "    }\n",
       "\n",
       "    .dataframe thead th {\n",
       "        text-align: right;\n",
       "    }\n",
       "</style>\n",
       "<table border=\"1\" class=\"dataframe\">\n",
       "  <thead>\n",
       "    <tr style=\"text-align: right;\">\n",
       "      <th></th>\n",
       "      <th>jp_sales</th>\n",
       "    </tr>\n",
       "    <tr>\n",
       "      <th>genre</th>\n",
       "      <th></th>\n",
       "    </tr>\n",
       "  </thead>\n",
       "  <tbody>\n",
       "    <tr>\n",
       "      <th>Role-Playing</th>\n",
       "      <td>51.04</td>\n",
       "    </tr>\n",
       "    <tr>\n",
       "      <th>Action</th>\n",
       "      <td>40.49</td>\n",
       "    </tr>\n",
       "    <tr>\n",
       "      <th>Misc</th>\n",
       "      <td>9.20</td>\n",
       "    </tr>\n",
       "    <tr>\n",
       "      <th>Fighting</th>\n",
       "      <td>7.65</td>\n",
       "    </tr>\n",
       "    <tr>\n",
       "      <th>Shooter</th>\n",
       "      <td>6.61</td>\n",
       "    </tr>\n",
       "    <tr>\n",
       "      <th>Adventure</th>\n",
       "      <td>5.82</td>\n",
       "    </tr>\n",
       "    <tr>\n",
       "      <th>Sports</th>\n",
       "      <td>5.41</td>\n",
       "    </tr>\n",
       "    <tr>\n",
       "      <th>Platform</th>\n",
       "      <td>4.79</td>\n",
       "    </tr>\n",
       "    <tr>\n",
       "      <th>Simulation</th>\n",
       "      <td>4.52</td>\n",
       "    </tr>\n",
       "    <tr>\n",
       "      <th>Racing</th>\n",
       "      <td>2.30</td>\n",
       "    </tr>\n",
       "    <tr>\n",
       "      <th>Strategy</th>\n",
       "      <td>1.77</td>\n",
       "    </tr>\n",
       "    <tr>\n",
       "      <th>Puzzle</th>\n",
       "      <td>1.18</td>\n",
       "    </tr>\n",
       "  </tbody>\n",
       "</table>\n",
       "</div>"
      ],
      "text/plain": [
       "              jp_sales\n",
       "genre                 \n",
       "Role-Playing     51.04\n",
       "Action           40.49\n",
       "Misc              9.20\n",
       "Fighting          7.65\n",
       "Shooter           6.61\n",
       "Adventure         5.82\n",
       "Sports            5.41\n",
       "Platform          4.79\n",
       "Simulation        4.52\n",
       "Racing            2.30\n",
       "Strategy          1.77\n",
       "Puzzle            1.18"
      ]
     },
     "execution_count": 61,
     "metadata": {},
     "output_type": "execute_result"
    }
   ],
   "source": [
    "jp_genre_pivot = jp_actual_data.pivot_table(index='genre', values='jp_sales',\n",
    "                                        aggfunc='sum').sort_values('jp_sales', ascending=False)\n",
    "jp_genre_pivot"
   ]
  },
  {
   "cell_type": "markdown",
   "metadata": {},
   "source": [
    "Рейтинг жанров:\n",
    "\n",
    " - по Северной Америке: `Action`, `Shooter`, `Sports`, `Role-Playing` и `Misc`\n",
    " - по Европе: `Action`, `Shooter`, `Sports`, `Role-Playing` и `Racing`\n",
    " - по Японии: `Role-Playing`, `Action`, `Misc`, `Fighting` и `Shooter`\n",
    " \n",
    "Вне зависимости от региона популярны жанры `Action`, `Shooter`. Американцы и европейцы имеют схожи по выбору жанров игр.\n",
    "Японцы также предпочитают ролевые игры, а так же игры в жанре `Misc` и `Fighting`\n",
    "\n",
    "Различия в популярности игровых платформ в основном связаны с влиянием различных компаний. Это отражается во всех рейтингах продаж, где продукция компании Sony всегда присутствует.\n",
    "\n",
    "Кроме того, местоположение компании также играет роль. Популярность платформы XOne и X360 в Северной Америке обусловлена доминирующим присутствием компании Microsoft на рынке этого региона. В Японии аналогичное положение занимает компания Nintendo с продуктами 3DS и WiiU. В Европе смотрят на общую популярность платформ, так как отсутствуют крупные компании, специализирующиеся на разработке платформ.\n",
    "\n",
    "На американском рынке соревнуются PS4 и XOne в борьбе за продажи. Эти две компании являются постоянными конкурентами, и компания Microsoft стремится не отставать по продажам в своем регионе. В Европе нет такой ожесточенной конкуренции - люди предпочитают лучший и популярный продукт PS4. В Японии наблюдается высокая конкуренция между Nintendo и Sony за привлечение пользователей. Как видно, у Nintendo есть успехи в родном регионе, но за его пределами показатели не так хороши. В целом объем продаж ниже, так как в этом регионе меньше игроков.\n",
    "\n",
    "Изучим влияние рейтинга и региона"
   ]
  },
  {
   "cell_type": "code",
   "execution_count": 62,
   "metadata": {},
   "outputs": [
    {
     "data": {
      "text/html": [
       "<div>\n",
       "<style scoped>\n",
       "    .dataframe tbody tr th:only-of-type {\n",
       "        vertical-align: middle;\n",
       "    }\n",
       "\n",
       "    .dataframe tbody tr th {\n",
       "        vertical-align: top;\n",
       "    }\n",
       "\n",
       "    .dataframe thead th {\n",
       "        text-align: right;\n",
       "    }\n",
       "</style>\n",
       "<table border=\"1\" class=\"dataframe\">\n",
       "  <thead>\n",
       "    <tr style=\"text-align: right;\">\n",
       "      <th></th>\n",
       "      <th>na_sales</th>\n",
       "    </tr>\n",
       "    <tr>\n",
       "      <th>rating</th>\n",
       "      <th></th>\n",
       "    </tr>\n",
       "  </thead>\n",
       "  <tbody>\n",
       "    <tr>\n",
       "      <th>M</th>\n",
       "      <td>165.21</td>\n",
       "    </tr>\n",
       "    <tr>\n",
       "      <th>unknown</th>\n",
       "      <td>89.42</td>\n",
       "    </tr>\n",
       "    <tr>\n",
       "      <th>E</th>\n",
       "      <td>79.05</td>\n",
       "    </tr>\n",
       "    <tr>\n",
       "      <th>E10+</th>\n",
       "      <td>54.24</td>\n",
       "    </tr>\n",
       "    <tr>\n",
       "      <th>T</th>\n",
       "      <td>49.79</td>\n",
       "    </tr>\n",
       "  </tbody>\n",
       "</table>\n",
       "</div>"
      ],
      "text/plain": [
       "         na_sales\n",
       "rating           \n",
       "M          165.21\n",
       "unknown     89.42\n",
       "E           79.05\n",
       "E10+        54.24\n",
       "T           49.79"
      ]
     },
     "execution_count": 62,
     "metadata": {},
     "output_type": "execute_result"
    }
   ],
   "source": [
    "na_rating_pivot = na_actual_data.pivot_table(index='rating', values='na_sales',\n",
    "                                        aggfunc='sum').sort_values('na_sales', ascending=False)\n",
    "na_rating_pivot"
   ]
  },
  {
   "cell_type": "code",
   "execution_count": 63,
   "metadata": {},
   "outputs": [
    {
     "data": {
      "text/html": [
       "<div>\n",
       "<style scoped>\n",
       "    .dataframe tbody tr th:only-of-type {\n",
       "        vertical-align: middle;\n",
       "    }\n",
       "\n",
       "    .dataframe tbody tr th {\n",
       "        vertical-align: top;\n",
       "    }\n",
       "\n",
       "    .dataframe thead th {\n",
       "        text-align: right;\n",
       "    }\n",
       "</style>\n",
       "<table border=\"1\" class=\"dataframe\">\n",
       "  <thead>\n",
       "    <tr style=\"text-align: right;\">\n",
       "      <th></th>\n",
       "      <th>eu_sales</th>\n",
       "    </tr>\n",
       "    <tr>\n",
       "      <th>rating</th>\n",
       "      <th></th>\n",
       "    </tr>\n",
       "  </thead>\n",
       "  <tbody>\n",
       "    <tr>\n",
       "      <th>M</th>\n",
       "      <td>145.32</td>\n",
       "    </tr>\n",
       "    <tr>\n",
       "      <th>E</th>\n",
       "      <td>83.36</td>\n",
       "    </tr>\n",
       "    <tr>\n",
       "      <th>unknown</th>\n",
       "      <td>78.91</td>\n",
       "    </tr>\n",
       "    <tr>\n",
       "      <th>E10+</th>\n",
       "      <td>42.69</td>\n",
       "    </tr>\n",
       "    <tr>\n",
       "      <th>T</th>\n",
       "      <td>41.95</td>\n",
       "    </tr>\n",
       "  </tbody>\n",
       "</table>\n",
       "</div>"
      ],
      "text/plain": [
       "         eu_sales\n",
       "rating           \n",
       "M          145.32\n",
       "E           83.36\n",
       "unknown     78.91\n",
       "E10+        42.69\n",
       "T           41.95"
      ]
     },
     "execution_count": 63,
     "metadata": {},
     "output_type": "execute_result"
    }
   ],
   "source": [
    "eu_rating_pivot = eu_actual_data.pivot_table(index='rating', values='eu_sales',\n",
    "                                        aggfunc='sum').sort_values('eu_sales', ascending=False)\n",
    "eu_rating_pivot"
   ]
  },
  {
   "cell_type": "code",
   "execution_count": 64,
   "metadata": {
    "scrolled": true
   },
   "outputs": [
    {
     "data": {
      "text/html": [
       "<div>\n",
       "<style scoped>\n",
       "    .dataframe tbody tr th:only-of-type {\n",
       "        vertical-align: middle;\n",
       "    }\n",
       "\n",
       "    .dataframe tbody tr th {\n",
       "        vertical-align: top;\n",
       "    }\n",
       "\n",
       "    .dataframe thead th {\n",
       "        text-align: right;\n",
       "    }\n",
       "</style>\n",
       "<table border=\"1\" class=\"dataframe\">\n",
       "  <thead>\n",
       "    <tr style=\"text-align: right;\">\n",
       "      <th></th>\n",
       "      <th>jp_sales</th>\n",
       "    </tr>\n",
       "    <tr>\n",
       "      <th>rating</th>\n",
       "      <th></th>\n",
       "    </tr>\n",
       "  </thead>\n",
       "  <tbody>\n",
       "    <tr>\n",
       "      <th>unknown</th>\n",
       "      <td>85.05</td>\n",
       "    </tr>\n",
       "    <tr>\n",
       "      <th>T</th>\n",
       "      <td>20.59</td>\n",
       "    </tr>\n",
       "    <tr>\n",
       "      <th>E</th>\n",
       "      <td>15.14</td>\n",
       "    </tr>\n",
       "    <tr>\n",
       "      <th>M</th>\n",
       "      <td>14.11</td>\n",
       "    </tr>\n",
       "    <tr>\n",
       "      <th>E10+</th>\n",
       "      <td>5.89</td>\n",
       "    </tr>\n",
       "  </tbody>\n",
       "</table>\n",
       "</div>"
      ],
      "text/plain": [
       "         jp_sales\n",
       "rating           \n",
       "unknown     85.05\n",
       "T           20.59\n",
       "E           15.14\n",
       "M           14.11\n",
       "E10+         5.89"
      ]
     },
     "execution_count": 64,
     "metadata": {},
     "output_type": "execute_result"
    }
   ],
   "source": [
    "jp_rating_pivot = jp_actual_data.pivot_table(index='rating', values='jp_sales',\n",
    "                                        aggfunc='sum').sort_values('jp_sales', ascending=False)\n",
    "jp_rating_pivot"
   ]
  },
  {
   "cell_type": "markdown",
   "metadata": {},
   "source": [
    "Амрика и Европа похожи и по этим параметрам. Рынки ориентированны на пользователей 17+\n",
    "\n",
    "В Японии же компании ориентированны на подрастковую аудиторию 13+\n",
    "\n",
    "Причем доля игр, у которых отсутствует рейтинг **ESRB** (`unknown`) велика для каждого региона. Для Японии продаж с игр без рейтинга больше всего.\n",
    "\n",
    "Стоит учитывать, что `unknow` - говорит о том, что рейтинг был непроставлен, и по этим значениям сделать вывод о том, на какую целевую аудиторию стоит ориентироваться в том или ином регионе, однозначно нельзя.\n",
    "\n",
    "Однако по тем данным рейтинга, которые однозначно определяют возрастную группу можно сказать следующее:\n",
    "\n",
    "Портрет игрока из Америки:\n",
    " - `пользователь от 17 лет, играет на PS4 или XOne, любит игры в на внимательность и реакцию и шутеры`\n",
    " \n",
    "Портрет игрока из Европы:\n",
    " - `пользователь от 17 лет, играет на PS4, любит игры на реакцию, шутеры и спортивные игры`\n",
    " \n",
    "Портрет игрока из Японии:\n",
    " - `пользователь от 13 лет, играет на платформе 3DS, любит игры RPG и шутеры`\n",
    "\n",
    "## Проверка гипотез\n",
    "\n",
    "Стоит задача проверить две гипотезы:\n",
    "\n",
    " - Средние пользовательские рейтинги платформ Xbox One и PC одинаковые;\n",
    " - Средние пользовательские рейтинги жанров Action (англ. «действие», экшен-игры) и Sports (англ. «спортивные соревнования») разные.\n",
    " \n",
    "Так как необходимо проверить статистически значимые различия между двумя назависимыми группами - будем использовать `тест Стьюдента`\n",
    "\n",
    "Уровень значимости зададим 0.01, так как такое значение позволяет получить более высокую степень доверия в полученные результаты и позволяет снизить вероятность ошибки. \n",
    " \n",
    "### Гипотеза рейтингов платформ\n",
    "\n",
    "Нулевая гипотеза:\n",
    " - средние пользовательские рейтинги платформ `XOne` и `PC` равны;\n",
    " \n",
    "Альтернативная гипотеза:\n",
    " - средние пользовательские рейтинги платформ `XOne` и `PC` различаются;"
   ]
  },
  {
   "cell_type": "code",
   "execution_count": 65,
   "metadata": {},
   "outputs": [
    {
     "name": "stdout",
     "output_type": "stream",
     "text": [
      "p-значение: 0.14012765210016784\n",
      "Не отвергаем нулевую гипотезу\n"
     ]
    }
   ],
   "source": [
    "x_one_user_rating = actual_data.query('platform == \"XOne\"')['user_score'].dropna()\n",
    "pc_user_rating = actual_data.query('platform == \"PC\"')['user_score'].dropna()\n",
    "\n",
    "alpha = 0.01\n",
    "\n",
    "results = st.ttest_ind(x_one_user_rating, pc_user_rating)\n",
    "\n",
    "print('p-значение:', results.pvalue)\n",
    "\n",
    "if (results.pvalue < alpha):\n",
    "    print(\"Отвергаем нулевую гипотезу\")\n",
    "else:\n",
    "    print(\"Не отвергаем нулевую гипотезу\")"
   ]
  },
  {
   "cell_type": "markdown",
   "metadata": {},
   "source": [
    "### Гипотеза рейтингов жанров\n",
    "\n",
    "Нулевая гипотеза:\n",
    " - средние пользовательские рейтинги жанров `Action` и `Sports` равны;\n",
    " \n",
    "Альтернативная гипотеза:\n",
    " - средние пользовательские рейтинги жанров `Action` и `Sports` различаются;"
   ]
  },
  {
   "cell_type": "code",
   "execution_count": 66,
   "metadata": {},
   "outputs": [
    {
     "name": "stdout",
     "output_type": "stream",
     "text": [
      "p-значение: 1.0517772011408453e-27\n",
      "Отвергаем нулевую гипотезу\n"
     ]
    }
   ],
   "source": [
    "action_rating = actual_data.query('genre == \"Action\"')['user_score'].dropna()\n",
    "sports_rating = actual_data.query('genre == \"Sports\"')['user_score'].dropna()\n",
    "\n",
    "alpha = 0.01\n",
    "\n",
    "results = st.ttest_ind(action_rating, sports_rating)\n",
    "\n",
    "print('p-значение:', results.pvalue)\n",
    "\n",
    "if (results.pvalue < alpha):\n",
    "    print(\"Отвергаем нулевую гипотезу\")\n",
    "else:\n",
    "    print(\"Не отвергаем нулевую гипотезу\")"
   ]
  },
  {
   "cell_type": "markdown",
   "metadata": {},
   "source": [
    "Тест подтвердил различие между двумя выборками жанров.\n",
    "\n",
    "## Итоговый вывод\n",
    "было сделано:\n",
    "\n",
    " - изучен исходный датасет, выявлены аномалии и пропущенные значения.\n",
    " - Проведена предобработка датасета: замена столбцов, заполнение пропусков, удаление дубликатов.\n",
    " - Проведен анализ по данным и подготовлена актуальная информация\n",
    " - составлены портреты пользователей по географии продаж\n",
    " - проверены гипотезы.\n",
    " \n",
    "Продажи игр зависят от следующих параметров: \n",
    " - фирма производитель\n",
    " - платформа, на которой создана игра\n",
    " - жанр\n",
    " \n",
    "Сейчас популярны компании, которые уже давно разрабатывают игры и создают флагмановскме продукты на рынке.\n",
    " \n",
    "Качество игры обусловлено платформой под которую создаются игры. Чем более современная платформа, тем больше возможностей для разработки игры. Причем жизненный цикл в 5-12 лет обусловлен скачками в технологиях.\n",
    "\n",
    "Наиболее популярные жанры `Action` и `Shooters`, наибольшая часть целевой аудитории сидят именно в этом сегменте рынка.\n",
    "\n",
    "**Для кампании на 2017 год рекомендуется уделить внимание следующим аспектам:**\n",
    "\n",
    " - `Сосредоточиться на актуальных игровых платформах`. Отдавать предпочтение современным платформы, такие как PS4, XOne и 3DS. Это позволит учесть популярность этих платформ среди игроков и обеспечить продажи.\n",
    "\n",
    " - `Ориентированность на популярные жанры`. Выставлять на прилавки игры в популярных жанрах, таких как экшен, шутеры, спортивные и ролевые игры. Это поможет привлечь внимание широкой аудитории и увеличить спрос на игры.\n",
    "\n",
    " - `Учитывайте возрастную аудиторию`. Большинство игр, которые стоит предлагать, должны быть рассчитаны на игроков, которым 17 лет и старше. Это позволит соответствовать интересам и предпочтениям основной целевой аудитории.\n",
    "\n",
    "**В целом, рекомендуется сосредоточиться на продвижении современных платформ, популярных жанров и удовлетворении интересов целевой аудитории.**"
   ]
  }
 ],
 "metadata": {
  "ExecuteTimeLog": [
   {
    "duration": 900,
    "start_time": "2023-05-18T15:07:40.690Z"
   },
   {
    "duration": 210,
    "start_time": "2023-05-18T15:08:44.589Z"
   },
   {
    "duration": 26,
    "start_time": "2023-05-18T15:08:52.221Z"
   },
   {
    "duration": 19,
    "start_time": "2023-05-18T15:09:16.908Z"
   },
   {
    "duration": 83,
    "start_time": "2023-05-18T15:12:11.011Z"
   },
   {
    "duration": 20,
    "start_time": "2023-05-18T15:13:40.515Z"
   },
   {
    "duration": 6,
    "start_time": "2023-05-18T15:15:37.650Z"
   },
   {
    "duration": 37,
    "start_time": "2023-05-18T15:15:52.297Z"
   },
   {
    "duration": 24,
    "start_time": "2023-05-18T15:21:44.044Z"
   },
   {
    "duration": 24,
    "start_time": "2023-05-18T15:23:42.355Z"
   },
   {
    "duration": 28,
    "start_time": "2023-05-18T15:24:30.872Z"
   },
   {
    "duration": 74,
    "start_time": "2023-05-18T15:26:21.602Z"
   },
   {
    "duration": 16,
    "start_time": "2023-05-18T15:26:47.902Z"
   },
   {
    "duration": 30,
    "start_time": "2023-05-18T15:27:11.036Z"
   },
   {
    "duration": 29,
    "start_time": "2023-05-18T15:27:52.895Z"
   },
   {
    "duration": 27,
    "start_time": "2023-05-18T15:28:24.100Z"
   },
   {
    "duration": 28,
    "start_time": "2023-05-18T15:29:40.398Z"
   },
   {
    "duration": 31,
    "start_time": "2023-05-18T15:29:45.142Z"
   },
   {
    "duration": 287,
    "start_time": "2023-05-18T15:32:48.398Z"
   },
   {
    "duration": 318,
    "start_time": "2023-05-18T15:33:11.460Z"
   },
   {
    "duration": 212,
    "start_time": "2023-05-18T15:33:39.788Z"
   },
   {
    "duration": 277,
    "start_time": "2023-05-18T15:33:48.714Z"
   },
   {
    "duration": 407,
    "start_time": "2023-05-18T15:33:52.699Z"
   },
   {
    "duration": 1556,
    "start_time": "2023-05-18T15:34:03.403Z"
   },
   {
    "duration": 278,
    "start_time": "2023-05-18T15:34:15.475Z"
   },
   {
    "duration": 411,
    "start_time": "2023-05-18T15:35:38.489Z"
   },
   {
    "duration": 271,
    "start_time": "2023-05-18T15:35:44.364Z"
   },
   {
    "duration": 8,
    "start_time": "2023-05-18T15:52:05.506Z"
   },
   {
    "duration": 28,
    "start_time": "2023-05-18T15:52:47.409Z"
   },
   {
    "duration": 249,
    "start_time": "2023-05-18T15:52:57.550Z"
   },
   {
    "duration": 5,
    "start_time": "2023-05-18T15:52:57.949Z"
   },
   {
    "duration": 20,
    "start_time": "2023-05-18T15:53:15.201Z"
   },
   {
    "duration": 27,
    "start_time": "2023-05-18T15:53:25.997Z"
   },
   {
    "duration": 24,
    "start_time": "2023-05-18T15:57:50.926Z"
   },
   {
    "duration": 57,
    "start_time": "2023-05-18T15:58:03.200Z"
   },
   {
    "duration": 15,
    "start_time": "2023-05-18T15:58:03.436Z"
   },
   {
    "duration": 15,
    "start_time": "2023-05-18T15:58:03.770Z"
   },
   {
    "duration": 15,
    "start_time": "2023-05-18T15:58:09.018Z"
   },
   {
    "duration": 21,
    "start_time": "2023-05-18T15:58:10.642Z"
   },
   {
    "duration": 26,
    "start_time": "2023-05-18T15:58:51.248Z"
   },
   {
    "duration": 19,
    "start_time": "2023-05-18T15:59:07.562Z"
   },
   {
    "duration": 22,
    "start_time": "2023-05-18T16:00:49.532Z"
   },
   {
    "duration": 3,
    "start_time": "2023-05-18T16:01:00.707Z"
   },
   {
    "duration": 54,
    "start_time": "2023-05-18T16:01:00.968Z"
   },
   {
    "duration": 15,
    "start_time": "2023-05-18T16:01:01.202Z"
   },
   {
    "duration": 15,
    "start_time": "2023-05-18T16:01:02.158Z"
   },
   {
    "duration": 14,
    "start_time": "2023-05-18T16:01:02.954Z"
   },
   {
    "duration": 13,
    "start_time": "2023-05-18T16:01:04.710Z"
   },
   {
    "duration": 20,
    "start_time": "2023-05-18T16:01:20.362Z"
   },
   {
    "duration": 27,
    "start_time": "2023-05-18T17:38:42.393Z"
   },
   {
    "duration": 126,
    "start_time": "2023-05-18T17:39:01.713Z"
   },
   {
    "duration": 23,
    "start_time": "2023-05-18T17:39:13.316Z"
   },
   {
    "duration": 20,
    "start_time": "2023-05-18T17:41:45.746Z"
   },
   {
    "duration": 26,
    "start_time": "2023-05-18T17:41:53.495Z"
   },
   {
    "duration": 6,
    "start_time": "2023-05-18T17:43:16.658Z"
   },
   {
    "duration": 14,
    "start_time": "2023-05-18T17:44:12.625Z"
   },
   {
    "duration": 6,
    "start_time": "2023-05-18T17:44:30.186Z"
   },
   {
    "duration": 181,
    "start_time": "2023-05-18T17:44:41.990Z"
   },
   {
    "duration": 7,
    "start_time": "2023-05-18T17:45:02.582Z"
   },
   {
    "duration": 43,
    "start_time": "2023-05-18T17:46:28.898Z"
   },
   {
    "duration": 59,
    "start_time": "2023-05-18T17:46:42.094Z"
   },
   {
    "duration": 23,
    "start_time": "2023-05-18T17:47:16.413Z"
   },
   {
    "duration": 8,
    "start_time": "2023-05-18T17:50:12.055Z"
   },
   {
    "duration": 7,
    "start_time": "2023-05-18T17:50:32.957Z"
   },
   {
    "duration": 6,
    "start_time": "2023-05-18T17:53:29.916Z"
   },
   {
    "duration": 10,
    "start_time": "2023-05-18T17:55:00.245Z"
   },
   {
    "duration": 12,
    "start_time": "2023-05-18T17:55:47.982Z"
   },
   {
    "duration": 10,
    "start_time": "2023-05-18T17:56:00.251Z"
   },
   {
    "duration": 8,
    "start_time": "2023-05-18T18:15:05.577Z"
   },
   {
    "duration": 12,
    "start_time": "2023-05-18T18:15:49.795Z"
   },
   {
    "duration": 13,
    "start_time": "2023-05-18T18:16:07.859Z"
   },
   {
    "duration": 15,
    "start_time": "2023-05-18T18:16:20.573Z"
   },
   {
    "duration": 14,
    "start_time": "2023-05-18T18:16:31.963Z"
   },
   {
    "duration": 12,
    "start_time": "2023-05-18T18:16:46.674Z"
   },
   {
    "duration": 13,
    "start_time": "2023-05-18T18:16:50.852Z"
   },
   {
    "duration": 4,
    "start_time": "2023-05-18T18:17:16.520Z"
   },
   {
    "duration": 4,
    "start_time": "2023-05-18T18:17:19.873Z"
   },
   {
    "duration": 5,
    "start_time": "2023-05-18T18:17:32.887Z"
   },
   {
    "duration": 10,
    "start_time": "2023-05-18T18:19:19.447Z"
   },
   {
    "duration": 27,
    "start_time": "2023-05-18T18:47:17.405Z"
   },
   {
    "duration": 25,
    "start_time": "2023-05-18T18:47:51.960Z"
   },
   {
    "duration": 73,
    "start_time": "2023-05-18T18:48:12.496Z"
   },
   {
    "duration": 32,
    "start_time": "2023-05-18T18:48:12.848Z"
   },
   {
    "duration": 58,
    "start_time": "2023-05-18T18:48:14.639Z"
   },
   {
    "duration": 2275,
    "start_time": "2023-05-18T18:48:20.274Z"
   },
   {
    "duration": 28,
    "start_time": "2023-05-18T18:48:58.147Z"
   },
   {
    "duration": 21,
    "start_time": "2023-05-18T18:50:24.279Z"
   },
   {
    "duration": 21,
    "start_time": "2023-05-18T18:56:32.865Z"
   },
   {
    "duration": 13,
    "start_time": "2023-05-18T18:57:19.930Z"
   },
   {
    "duration": 36,
    "start_time": "2023-05-18T18:57:44.718Z"
   },
   {
    "duration": 20,
    "start_time": "2023-05-18T18:58:36.592Z"
   },
   {
    "duration": 39,
    "start_time": "2023-05-18T18:59:35.836Z"
   },
   {
    "duration": 48,
    "start_time": "2023-05-18T19:00:50.120Z"
   },
   {
    "duration": 44,
    "start_time": "2023-05-18T19:01:15.896Z"
   },
   {
    "duration": 27,
    "start_time": "2023-05-18T19:15:27.422Z"
   },
   {
    "duration": 15,
    "start_time": "2023-05-18T19:41:35.691Z"
   },
   {
    "duration": 10,
    "start_time": "2023-05-18T19:42:55.663Z"
   },
   {
    "duration": 13,
    "start_time": "2023-05-18T19:43:07.392Z"
   },
   {
    "duration": 20,
    "start_time": "2023-05-18T19:46:18.299Z"
   },
   {
    "duration": 20,
    "start_time": "2023-05-18T20:03:09.126Z"
   },
   {
    "duration": 20,
    "start_time": "2023-05-18T20:18:00.640Z"
   },
   {
    "duration": 16,
    "start_time": "2023-05-18T20:18:48.180Z"
   },
   {
    "duration": 12,
    "start_time": "2023-05-18T20:18:56.464Z"
   },
   {
    "duration": 19,
    "start_time": "2023-05-18T20:19:00.028Z"
   },
   {
    "duration": 12,
    "start_time": "2023-05-18T20:19:02.466Z"
   },
   {
    "duration": 39,
    "start_time": "2023-05-18T20:19:04.720Z"
   },
   {
    "duration": 11,
    "start_time": "2023-05-18T20:19:06.249Z"
   },
   {
    "duration": 25,
    "start_time": "2023-05-18T20:19:17.388Z"
   },
   {
    "duration": 23,
    "start_time": "2023-05-18T20:19:17.892Z"
   },
   {
    "duration": 1274,
    "start_time": "2023-05-18T20:19:17.950Z"
   },
   {
    "duration": 0,
    "start_time": "2023-05-18T20:19:19.227Z"
   },
   {
    "duration": 0,
    "start_time": "2023-05-18T20:19:19.228Z"
   },
   {
    "duration": 0,
    "start_time": "2023-05-18T20:19:19.230Z"
   },
   {
    "duration": 0,
    "start_time": "2023-05-18T20:19:19.231Z"
   },
   {
    "duration": 0,
    "start_time": "2023-05-18T20:19:19.233Z"
   },
   {
    "duration": 0,
    "start_time": "2023-05-18T20:19:19.234Z"
   },
   {
    "duration": 35,
    "start_time": "2023-05-18T20:19:19.748Z"
   },
   {
    "duration": 17,
    "start_time": "2023-05-18T20:19:21.322Z"
   },
   {
    "duration": 12,
    "start_time": "2023-05-18T20:19:50.556Z"
   },
   {
    "duration": 3,
    "start_time": "2023-05-18T20:20:05.859Z"
   },
   {
    "duration": 69,
    "start_time": "2023-05-18T20:20:06.367Z"
   },
   {
    "duration": 19,
    "start_time": "2023-05-18T20:20:06.438Z"
   },
   {
    "duration": 26,
    "start_time": "2023-05-18T20:20:06.459Z"
   },
   {
    "duration": 37,
    "start_time": "2023-05-18T20:20:06.490Z"
   },
   {
    "duration": 37,
    "start_time": "2023-05-18T20:20:06.529Z"
   },
   {
    "duration": 28,
    "start_time": "2023-05-18T20:20:06.569Z"
   },
   {
    "duration": 35,
    "start_time": "2023-05-18T20:20:06.600Z"
   },
   {
    "duration": 33,
    "start_time": "2023-05-18T20:20:06.638Z"
   },
   {
    "duration": 24,
    "start_time": "2023-05-18T20:20:06.673Z"
   },
   {
    "duration": 21,
    "start_time": "2023-05-18T20:20:07.224Z"
   },
   {
    "duration": 34,
    "start_time": "2023-05-18T20:20:10.689Z"
   },
   {
    "duration": 18,
    "start_time": "2023-05-18T20:20:11.843Z"
   },
   {
    "duration": 48,
    "start_time": "2023-05-18T20:30:44.141Z"
   },
   {
    "duration": 31,
    "start_time": "2023-05-18T20:35:27.018Z"
   },
   {
    "duration": 20,
    "start_time": "2023-05-18T20:44:00.492Z"
   },
   {
    "duration": 21,
    "start_time": "2023-05-18T20:44:18.944Z"
   },
   {
    "duration": 29,
    "start_time": "2023-05-18T20:44:24.607Z"
   },
   {
    "duration": 19,
    "start_time": "2023-05-18T20:49:24.096Z"
   },
   {
    "duration": 21,
    "start_time": "2023-05-18T20:49:52.818Z"
   },
   {
    "duration": 25,
    "start_time": "2023-05-18T20:49:59.300Z"
   },
   {
    "duration": 4,
    "start_time": "2023-05-18T20:50:06.077Z"
   },
   {
    "duration": 62,
    "start_time": "2023-05-18T20:50:06.583Z"
   },
   {
    "duration": 15,
    "start_time": "2023-05-18T20:50:06.647Z"
   },
   {
    "duration": 21,
    "start_time": "2023-05-18T20:50:06.664Z"
   },
   {
    "duration": 34,
    "start_time": "2023-05-18T20:50:06.691Z"
   },
   {
    "duration": 23,
    "start_time": "2023-05-18T20:50:06.728Z"
   },
   {
    "duration": 16,
    "start_time": "2023-05-18T20:50:06.753Z"
   },
   {
    "duration": 21,
    "start_time": "2023-05-18T20:50:06.785Z"
   },
   {
    "duration": 29,
    "start_time": "2023-05-18T20:50:06.826Z"
   },
   {
    "duration": 27,
    "start_time": "2023-05-18T20:50:06.868Z"
   },
   {
    "duration": 16,
    "start_time": "2023-05-18T20:50:06.944Z"
   },
   {
    "duration": 28,
    "start_time": "2023-05-18T20:50:08.044Z"
   },
   {
    "duration": 18,
    "start_time": "2023-05-18T20:50:09.094Z"
   },
   {
    "duration": 33,
    "start_time": "2023-05-18T20:50:10.944Z"
   },
   {
    "duration": 18,
    "start_time": "2023-05-18T20:50:12.942Z"
   },
   {
    "duration": 11,
    "start_time": "2023-05-18T20:51:25.451Z"
   },
   {
    "duration": 12,
    "start_time": "2023-05-18T20:52:22.253Z"
   },
   {
    "duration": 11,
    "start_time": "2023-05-18T20:52:34.441Z"
   },
   {
    "duration": 3,
    "start_time": "2023-05-18T20:52:43.123Z"
   },
   {
    "duration": 53,
    "start_time": "2023-05-18T20:52:43.644Z"
   },
   {
    "duration": 14,
    "start_time": "2023-05-18T20:52:43.699Z"
   },
   {
    "duration": 15,
    "start_time": "2023-05-18T20:52:43.714Z"
   },
   {
    "duration": 13,
    "start_time": "2023-05-18T20:52:43.745Z"
   },
   {
    "duration": 20,
    "start_time": "2023-05-18T20:52:43.789Z"
   },
   {
    "duration": 14,
    "start_time": "2023-05-18T20:52:43.841Z"
   },
   {
    "duration": 23,
    "start_time": "2023-05-18T20:52:43.857Z"
   },
   {
    "duration": 22,
    "start_time": "2023-05-18T20:52:43.884Z"
   },
   {
    "duration": 31,
    "start_time": "2023-05-18T20:52:43.907Z"
   },
   {
    "duration": 14,
    "start_time": "2023-05-18T20:52:43.961Z"
   },
   {
    "duration": 19,
    "start_time": "2023-05-18T20:52:44.041Z"
   },
   {
    "duration": 16,
    "start_time": "2023-05-18T20:52:44.092Z"
   },
   {
    "duration": 40,
    "start_time": "2023-05-18T20:52:49.624Z"
   },
   {
    "duration": 18,
    "start_time": "2023-05-18T20:52:50.891Z"
   },
   {
    "duration": 33,
    "start_time": "2023-05-18T21:01:32.490Z"
   },
   {
    "duration": 25,
    "start_time": "2023-05-18T21:08:03.341Z"
   },
   {
    "duration": 775,
    "start_time": "2023-05-19T17:39:01.106Z"
   },
   {
    "duration": 200,
    "start_time": "2023-05-19T17:39:01.884Z"
   },
   {
    "duration": 18,
    "start_time": "2023-05-19T17:39:02.086Z"
   },
   {
    "duration": 15,
    "start_time": "2023-05-19T17:39:02.802Z"
   },
   {
    "duration": 14,
    "start_time": "2023-05-19T17:39:03.342Z"
   },
   {
    "duration": 20,
    "start_time": "2023-05-19T17:39:03.371Z"
   },
   {
    "duration": 14,
    "start_time": "2023-05-19T17:39:03.401Z"
   },
   {
    "duration": 21,
    "start_time": "2023-05-19T17:39:04.119Z"
   },
   {
    "duration": 21,
    "start_time": "2023-05-19T17:39:04.523Z"
   },
   {
    "duration": 20,
    "start_time": "2023-05-19T17:39:04.863Z"
   },
   {
    "duration": 17,
    "start_time": "2023-05-19T17:39:15.632Z"
   },
   {
    "duration": 20,
    "start_time": "2023-05-19T17:39:18.129Z"
   },
   {
    "duration": 15,
    "start_time": "2023-05-19T17:39:22.972Z"
   },
   {
    "duration": 28,
    "start_time": "2023-05-19T17:39:25.430Z"
   },
   {
    "duration": 17,
    "start_time": "2023-05-19T17:39:29.186Z"
   },
   {
    "duration": 23,
    "start_time": "2023-05-19T17:39:31.761Z"
   },
   {
    "duration": 25,
    "start_time": "2023-05-19T17:39:34.175Z"
   },
   {
    "duration": 14,
    "start_time": "2023-05-19T17:49:20.668Z"
   },
   {
    "duration": 249,
    "start_time": "2023-05-19T17:50:15.922Z"
   },
   {
    "duration": 223,
    "start_time": "2023-05-19T17:51:46.307Z"
   },
   {
    "duration": 21,
    "start_time": "2023-05-19T17:53:10.913Z"
   },
   {
    "duration": 323,
    "start_time": "2023-05-19T17:57:34.865Z"
   },
   {
    "duration": 280,
    "start_time": "2023-05-19T18:00:31.483Z"
   },
   {
    "duration": 275,
    "start_time": "2023-05-19T18:01:11.066Z"
   },
   {
    "duration": 234,
    "start_time": "2023-05-19T18:01:39.186Z"
   },
   {
    "duration": 240,
    "start_time": "2023-05-19T18:02:16.114Z"
   },
   {
    "duration": 281,
    "start_time": "2023-05-19T18:02:26.349Z"
   },
   {
    "duration": 260,
    "start_time": "2023-05-19T18:02:34.664Z"
   },
   {
    "duration": 255,
    "start_time": "2023-05-19T18:03:12.420Z"
   },
   {
    "duration": 15,
    "start_time": "2023-05-19T18:32:50.534Z"
   },
   {
    "duration": 17,
    "start_time": "2023-05-19T18:33:20.872Z"
   },
   {
    "duration": 16,
    "start_time": "2023-05-19T18:33:30.742Z"
   },
   {
    "duration": 16,
    "start_time": "2023-05-19T18:35:19.975Z"
   },
   {
    "duration": 19,
    "start_time": "2023-05-19T19:27:44.030Z"
   },
   {
    "duration": 15,
    "start_time": "2023-05-19T19:27:51.162Z"
   },
   {
    "duration": 5,
    "start_time": "2023-05-19T19:32:21.572Z"
   },
   {
    "duration": 60,
    "start_time": "2023-05-19T19:43:17.055Z"
   },
   {
    "duration": 54,
    "start_time": "2023-05-19T19:44:25.369Z"
   },
   {
    "duration": 289,
    "start_time": "2023-05-19T19:47:05.650Z"
   },
   {
    "duration": 1416,
    "start_time": "2023-05-19T19:47:34.406Z"
   },
   {
    "duration": 1575,
    "start_time": "2023-05-19T19:48:46.650Z"
   },
   {
    "duration": 250,
    "start_time": "2023-05-19T19:50:03.382Z"
   },
   {
    "duration": 1340,
    "start_time": "2023-05-19T19:50:16.649Z"
   },
   {
    "duration": 1389,
    "start_time": "2023-05-19T19:51:34.401Z"
   },
   {
    "duration": 1427,
    "start_time": "2023-05-19T19:52:24.145Z"
   },
   {
    "duration": 162,
    "start_time": "2023-05-19T19:57:18.412Z"
   },
   {
    "duration": 1465,
    "start_time": "2023-05-19T20:03:00.887Z"
   },
   {
    "duration": 821,
    "start_time": "2023-05-22T07:10:44.960Z"
   },
   {
    "duration": 189,
    "start_time": "2023-05-22T07:10:45.784Z"
   },
   {
    "duration": 18,
    "start_time": "2023-05-22T07:10:46.171Z"
   },
   {
    "duration": 20,
    "start_time": "2023-05-22T07:10:49.052Z"
   },
   {
    "duration": 22,
    "start_time": "2023-05-22T07:10:49.553Z"
   },
   {
    "duration": 28,
    "start_time": "2023-05-22T07:10:49.751Z"
   },
   {
    "duration": 13,
    "start_time": "2023-05-22T07:10:49.951Z"
   },
   {
    "duration": 25,
    "start_time": "2023-05-22T07:10:50.160Z"
   },
   {
    "duration": 30,
    "start_time": "2023-05-22T07:10:50.350Z"
   },
   {
    "duration": 27,
    "start_time": "2023-05-22T07:10:50.557Z"
   },
   {
    "duration": 22,
    "start_time": "2023-05-22T07:10:51.055Z"
   },
   {
    "duration": 31,
    "start_time": "2023-05-22T07:10:51.557Z"
   },
   {
    "duration": 18,
    "start_time": "2023-05-22T07:10:52.107Z"
   },
   {
    "duration": 31,
    "start_time": "2023-05-22T07:10:52.809Z"
   },
   {
    "duration": 17,
    "start_time": "2023-05-22T07:10:53.161Z"
   },
   {
    "duration": 22,
    "start_time": "2023-05-22T07:10:53.641Z"
   },
   {
    "duration": 24,
    "start_time": "2023-05-22T07:10:54.215Z"
   },
   {
    "duration": 17,
    "start_time": "2023-05-22T07:10:54.752Z"
   },
   {
    "duration": 316,
    "start_time": "2023-05-22T07:10:55.649Z"
   },
   {
    "duration": 16,
    "start_time": "2023-05-22T07:10:56.587Z"
   },
   {
    "duration": 5,
    "start_time": "2023-05-22T07:11:00.065Z"
   },
   {
    "duration": 1547,
    "start_time": "2023-05-22T07:11:00.854Z"
   },
   {
    "duration": 215,
    "start_time": "2023-05-22T07:11:06.795Z"
   },
   {
    "duration": 14,
    "start_time": "2023-05-22T08:14:26.016Z"
   },
   {
    "duration": 20,
    "start_time": "2023-05-22T08:17:40.289Z"
   },
   {
    "duration": 78,
    "start_time": "2023-05-22T08:20:26.063Z"
   },
   {
    "duration": 24,
    "start_time": "2023-05-22T08:20:38.500Z"
   },
   {
    "duration": 25,
    "start_time": "2023-05-22T08:20:45.662Z"
   },
   {
    "duration": 17,
    "start_time": "2023-05-22T08:21:03.323Z"
   },
   {
    "duration": 18,
    "start_time": "2023-05-22T08:21:04.738Z"
   },
   {
    "duration": 31,
    "start_time": "2023-05-22T08:21:05.435Z"
   },
   {
    "duration": 13,
    "start_time": "2023-05-22T08:21:58.898Z"
   },
   {
    "duration": 17,
    "start_time": "2023-05-22T08:22:24.302Z"
   },
   {
    "duration": 14,
    "start_time": "2023-05-22T08:22:30.858Z"
   },
   {
    "duration": 13,
    "start_time": "2023-05-22T08:23:02.894Z"
   },
   {
    "duration": 14,
    "start_time": "2023-05-22T08:23:36.194Z"
   },
   {
    "duration": 186,
    "start_time": "2023-05-22T08:47:20.874Z"
   },
   {
    "duration": 443,
    "start_time": "2023-05-22T08:49:55.374Z"
   },
   {
    "duration": 130,
    "start_time": "2023-05-22T08:50:57.998Z"
   },
   {
    "duration": 424,
    "start_time": "2023-05-22T08:51:18.666Z"
   },
   {
    "duration": 15,
    "start_time": "2023-05-22T08:53:42.487Z"
   },
   {
    "duration": 14,
    "start_time": "2023-05-22T08:53:54.756Z"
   },
   {
    "duration": 14,
    "start_time": "2023-05-22T09:01:51.344Z"
   },
   {
    "duration": 880,
    "start_time": "2023-05-24T14:38:35.374Z"
   },
   {
    "duration": 491,
    "start_time": "2023-05-24T14:38:36.256Z"
   },
   {
    "duration": 25,
    "start_time": "2023-05-24T14:38:36.749Z"
   },
   {
    "duration": 15,
    "start_time": "2023-05-24T14:38:37.813Z"
   },
   {
    "duration": 15,
    "start_time": "2023-05-24T14:38:38.356Z"
   },
   {
    "duration": 32,
    "start_time": "2023-05-24T14:38:38.383Z"
   },
   {
    "duration": 18,
    "start_time": "2023-05-24T14:38:38.418Z"
   },
   {
    "duration": 35,
    "start_time": "2023-05-24T14:38:38.449Z"
   },
   {
    "duration": 24,
    "start_time": "2023-05-24T14:38:38.486Z"
   },
   {
    "duration": 31,
    "start_time": "2023-05-24T14:38:38.512Z"
   },
   {
    "duration": 21,
    "start_time": "2023-05-24T14:38:38.571Z"
   },
   {
    "duration": 27,
    "start_time": "2023-05-24T14:38:38.650Z"
   },
   {
    "duration": 22,
    "start_time": "2023-05-24T14:38:38.689Z"
   },
   {
    "duration": 44,
    "start_time": "2023-05-24T14:38:39.342Z"
   },
   {
    "duration": 24,
    "start_time": "2023-05-24T14:38:39.566Z"
   },
   {
    "duration": 33,
    "start_time": "2023-05-24T14:38:39.946Z"
   },
   {
    "duration": 53,
    "start_time": "2023-05-24T14:38:40.453Z"
   },
   {
    "duration": 24,
    "start_time": "2023-05-24T14:38:40.978Z"
   },
   {
    "duration": 331,
    "start_time": "2023-05-24T14:38:41.004Z"
   },
   {
    "duration": 19,
    "start_time": "2023-05-24T14:38:41.337Z"
   },
   {
    "duration": 20,
    "start_time": "2023-05-24T14:38:41.358Z"
   },
   {
    "duration": 1537,
    "start_time": "2023-05-24T14:38:41.381Z"
   },
   {
    "duration": 195,
    "start_time": "2023-05-24T14:38:42.920Z"
   },
   {
    "duration": 30,
    "start_time": "2023-05-24T14:38:43.118Z"
   },
   {
    "duration": 44,
    "start_time": "2023-05-24T14:38:43.152Z"
   },
   {
    "duration": 19,
    "start_time": "2023-05-24T14:38:47.650Z"
   },
   {
    "duration": 103,
    "start_time": "2023-05-24T14:46:24.497Z"
   },
   {
    "duration": 99,
    "start_time": "2023-05-24T14:46:34.559Z"
   },
   {
    "duration": 113,
    "start_time": "2023-05-24T14:47:04.142Z"
   },
   {
    "duration": 121,
    "start_time": "2023-05-24T14:47:18.812Z"
   },
   {
    "duration": 129,
    "start_time": "2023-05-24T14:47:41.038Z"
   },
   {
    "duration": 120,
    "start_time": "2023-05-24T14:51:02.038Z"
   },
   {
    "duration": 115,
    "start_time": "2023-05-24T14:51:44.855Z"
   },
   {
    "duration": 120,
    "start_time": "2023-05-24T14:52:13.243Z"
   },
   {
    "duration": 118,
    "start_time": "2023-05-24T14:53:10.140Z"
   },
   {
    "duration": 215,
    "start_time": "2023-05-24T14:54:24.989Z"
   },
   {
    "duration": 136,
    "start_time": "2023-05-24T14:55:59.969Z"
   },
   {
    "duration": 65,
    "start_time": "2023-05-24T15:45:27.811Z"
   },
   {
    "duration": 9,
    "start_time": "2023-05-24T15:46:11.115Z"
   },
   {
    "duration": 10,
    "start_time": "2023-05-24T15:46:53.047Z"
   },
   {
    "duration": 7,
    "start_time": "2023-05-24T15:47:11.803Z"
   },
   {
    "duration": 8,
    "start_time": "2023-05-24T15:48:12.002Z"
   },
   {
    "duration": 393,
    "start_time": "2023-05-24T15:49:40.590Z"
   },
   {
    "duration": 9,
    "start_time": "2023-05-24T15:49:50.188Z"
   },
   {
    "duration": 395,
    "start_time": "2023-05-24T15:49:50.485Z"
   },
   {
    "duration": 10,
    "start_time": "2023-05-24T15:51:09.999Z"
   },
   {
    "duration": 27,
    "start_time": "2023-05-24T15:56:31.262Z"
   },
   {
    "duration": 24,
    "start_time": "2023-05-24T15:56:36.672Z"
   },
   {
    "duration": 13,
    "start_time": "2023-05-24T15:56:36.749Z"
   },
   {
    "duration": 28,
    "start_time": "2023-05-24T15:56:36.797Z"
   },
   {
    "duration": 15,
    "start_time": "2023-05-24T15:56:36.843Z"
   },
   {
    "duration": 8,
    "start_time": "2023-05-24T15:56:36.887Z"
   },
   {
    "duration": 20,
    "start_time": "2023-05-24T15:56:36.947Z"
   },
   {
    "duration": 14,
    "start_time": "2023-05-24T15:56:37.002Z"
   },
   {
    "duration": 232,
    "start_time": "2023-05-24T15:56:37.035Z"
   },
   {
    "duration": 21,
    "start_time": "2023-05-24T15:56:37.268Z"
   },
   {
    "duration": 6,
    "start_time": "2023-05-24T15:56:37.291Z"
   },
   {
    "duration": 1349,
    "start_time": "2023-05-24T15:56:37.299Z"
   },
   {
    "duration": 162,
    "start_time": "2023-05-24T15:56:38.650Z"
   },
   {
    "duration": 13,
    "start_time": "2023-05-24T15:56:38.814Z"
   },
   {
    "duration": 16,
    "start_time": "2023-05-24T15:56:38.829Z"
   },
   {
    "duration": 37,
    "start_time": "2023-05-24T15:56:38.847Z"
   },
   {
    "duration": 108,
    "start_time": "2023-05-24T15:56:38.886Z"
   },
   {
    "duration": 105,
    "start_time": "2023-05-24T15:56:38.996Z"
   },
   {
    "duration": 102,
    "start_time": "2023-05-24T15:56:39.104Z"
   },
   {
    "duration": 105,
    "start_time": "2023-05-24T15:56:39.208Z"
   },
   {
    "duration": 115,
    "start_time": "2023-05-24T15:56:39.315Z"
   },
   {
    "duration": 120,
    "start_time": "2023-05-24T15:56:39.432Z"
   },
   {
    "duration": 10,
    "start_time": "2023-05-24T15:56:39.554Z"
   },
   {
    "duration": 22,
    "start_time": "2023-05-24T15:56:39.566Z"
   },
   {
    "duration": 737,
    "start_time": "2023-05-24T15:56:39.590Z"
   },
   {
    "duration": 11,
    "start_time": "2023-05-24T15:56:53.157Z"
   },
   {
    "duration": 12,
    "start_time": "2023-05-24T15:58:43.545Z"
   },
   {
    "duration": 3,
    "start_time": "2023-05-24T15:58:52.278Z"
   },
   {
    "duration": 45,
    "start_time": "2023-05-24T15:58:52.786Z"
   },
   {
    "duration": 13,
    "start_time": "2023-05-24T15:58:52.833Z"
   },
   {
    "duration": 24,
    "start_time": "2023-05-24T15:58:52.847Z"
   },
   {
    "duration": 13,
    "start_time": "2023-05-24T15:58:52.904Z"
   },
   {
    "duration": 18,
    "start_time": "2023-05-24T15:58:52.942Z"
   },
   {
    "duration": 11,
    "start_time": "2023-05-24T15:58:52.978Z"
   },
   {
    "duration": 17,
    "start_time": "2023-05-24T15:58:52.994Z"
   },
   {
    "duration": 18,
    "start_time": "2023-05-24T15:58:53.042Z"
   },
   {
    "duration": 17,
    "start_time": "2023-05-24T15:58:53.062Z"
   },
   {
    "duration": 14,
    "start_time": "2023-05-24T15:58:53.783Z"
   },
   {
    "duration": 22,
    "start_time": "2023-05-24T15:58:54.343Z"
   },
   {
    "duration": 16,
    "start_time": "2023-05-24T15:58:55.301Z"
   },
   {
    "duration": 34,
    "start_time": "2023-05-24T15:58:56.575Z"
   },
   {
    "duration": 19,
    "start_time": "2023-05-24T15:58:57.303Z"
   },
   {
    "duration": 9,
    "start_time": "2023-05-24T15:58:58.546Z"
   },
   {
    "duration": 24,
    "start_time": "2023-05-24T15:58:58.581Z"
   },
   {
    "duration": 15,
    "start_time": "2023-05-24T15:58:58.655Z"
   },
   {
    "duration": 241,
    "start_time": "2023-05-24T15:58:58.671Z"
   },
   {
    "duration": 14,
    "start_time": "2023-05-24T15:58:58.914Z"
   },
   {
    "duration": 4,
    "start_time": "2023-05-24T15:58:58.929Z"
   },
   {
    "duration": 1381,
    "start_time": "2023-05-24T15:58:58.934Z"
   },
   {
    "duration": 187,
    "start_time": "2023-05-24T15:59:00.317Z"
   },
   {
    "duration": 15,
    "start_time": "2023-05-24T15:59:00.506Z"
   },
   {
    "duration": 46,
    "start_time": "2023-05-24T15:59:00.523Z"
   },
   {
    "duration": 15,
    "start_time": "2023-05-24T15:59:00.571Z"
   },
   {
    "duration": 105,
    "start_time": "2023-05-24T15:59:00.588Z"
   },
   {
    "duration": 116,
    "start_time": "2023-05-24T15:59:00.695Z"
   },
   {
    "duration": 187,
    "start_time": "2023-05-24T15:59:00.813Z"
   },
   {
    "duration": 106,
    "start_time": "2023-05-24T15:59:01.002Z"
   },
   {
    "duration": 108,
    "start_time": "2023-05-24T15:59:01.110Z"
   },
   {
    "duration": 110,
    "start_time": "2023-05-24T15:59:01.219Z"
   },
   {
    "duration": 8,
    "start_time": "2023-05-24T15:59:01.331Z"
   },
   {
    "duration": 28,
    "start_time": "2023-05-24T15:59:01.341Z"
   },
   {
    "duration": 695,
    "start_time": "2023-05-24T15:59:01.371Z"
   },
   {
    "duration": 8,
    "start_time": "2023-05-24T16:40:02.210Z"
   },
   {
    "duration": 9,
    "start_time": "2023-05-24T16:40:22.367Z"
   },
   {
    "duration": 713,
    "start_time": "2023-05-24T16:40:42.715Z"
   },
   {
    "duration": 12,
    "start_time": "2023-05-24T17:00:59.435Z"
   },
   {
    "duration": 8,
    "start_time": "2023-05-24T17:01:09.340Z"
   },
   {
    "duration": 648,
    "start_time": "2023-05-24T17:01:09.874Z"
   },
   {
    "duration": 10,
    "start_time": "2023-05-24T17:02:48.628Z"
   },
   {
    "duration": 9,
    "start_time": "2023-05-24T17:02:49.211Z"
   },
   {
    "duration": 673,
    "start_time": "2023-05-24T17:02:51.480Z"
   },
   {
    "duration": 9,
    "start_time": "2023-05-24T17:03:21.609Z"
   },
   {
    "duration": 9,
    "start_time": "2023-05-24T17:04:06.995Z"
   },
   {
    "duration": 802,
    "start_time": "2023-05-24T17:04:45.562Z"
   },
   {
    "duration": 10,
    "start_time": "2023-05-24T17:06:47.275Z"
   },
   {
    "duration": 9,
    "start_time": "2023-05-24T17:07:05.450Z"
   },
   {
    "duration": 792,
    "start_time": "2023-05-24T17:07:48.197Z"
   },
   {
    "duration": 9,
    "start_time": "2023-05-24T17:08:54.842Z"
   },
   {
    "duration": 8,
    "start_time": "2023-05-24T17:09:39.687Z"
   },
   {
    "duration": 708,
    "start_time": "2023-05-24T17:09:59.432Z"
   },
   {
    "duration": 7,
    "start_time": "2023-05-24T17:24:09.171Z"
   },
   {
    "duration": 15,
    "start_time": "2023-05-24T17:26:10.039Z"
   },
   {
    "duration": 13,
    "start_time": "2023-05-24T17:50:01.073Z"
   },
   {
    "duration": 17,
    "start_time": "2023-05-24T17:50:27.473Z"
   },
   {
    "duration": 16,
    "start_time": "2023-05-24T17:50:50.227Z"
   },
   {
    "duration": 17,
    "start_time": "2023-05-24T17:53:36.910Z"
   },
   {
    "duration": 13,
    "start_time": "2023-05-24T17:53:58.658Z"
   },
   {
    "duration": 19,
    "start_time": "2023-05-24T17:54:21.645Z"
   },
   {
    "duration": 16,
    "start_time": "2023-05-24T18:08:52.388Z"
   },
   {
    "duration": 15,
    "start_time": "2023-05-24T18:09:00.262Z"
   },
   {
    "duration": 16,
    "start_time": "2023-05-24T18:09:35.202Z"
   },
   {
    "duration": 15,
    "start_time": "2023-05-24T18:09:48.990Z"
   },
   {
    "duration": 14,
    "start_time": "2023-05-24T18:10:03.086Z"
   },
   {
    "duration": 13,
    "start_time": "2023-05-24T18:31:31.247Z"
   },
   {
    "duration": 13,
    "start_time": "2023-05-24T18:32:10.787Z"
   },
   {
    "duration": 14,
    "start_time": "2023-05-24T18:32:51.438Z"
   },
   {
    "duration": 14,
    "start_time": "2023-05-24T18:40:52.146Z"
   },
   {
    "duration": 13,
    "start_time": "2023-05-24T18:41:27.742Z"
   },
   {
    "duration": 14,
    "start_time": "2023-05-24T18:42:01.599Z"
   },
   {
    "duration": 9,
    "start_time": "2023-05-24T19:05:11.943Z"
   },
   {
    "duration": 18,
    "start_time": "2023-05-24T19:10:05.471Z"
   },
   {
    "duration": 13,
    "start_time": "2023-05-24T19:10:53.421Z"
   },
   {
    "duration": 563,
    "start_time": "2023-05-24T19:11:27.799Z"
   },
   {
    "duration": 12,
    "start_time": "2023-05-24T19:11:34.121Z"
   },
   {
    "duration": 13,
    "start_time": "2023-05-24T19:12:02.275Z"
   },
   {
    "duration": 11,
    "start_time": "2023-05-24T19:15:21.791Z"
   },
   {
    "duration": 11,
    "start_time": "2023-05-24T19:18:50.507Z"
   },
   {
    "duration": 1039,
    "start_time": "2023-05-25T05:44:26.191Z"
   },
   {
    "duration": 177,
    "start_time": "2023-05-25T05:44:27.232Z"
   },
   {
    "duration": 20,
    "start_time": "2023-05-25T05:44:27.410Z"
   },
   {
    "duration": 17,
    "start_time": "2023-05-25T05:44:27.431Z"
   },
   {
    "duration": 13,
    "start_time": "2023-05-25T05:44:27.451Z"
   },
   {
    "duration": 29,
    "start_time": "2023-05-25T05:44:27.466Z"
   },
   {
    "duration": 13,
    "start_time": "2023-05-25T05:44:27.497Z"
   },
   {
    "duration": 22,
    "start_time": "2023-05-25T05:44:27.512Z"
   },
   {
    "duration": 33,
    "start_time": "2023-05-25T05:44:27.536Z"
   },
   {
    "duration": 41,
    "start_time": "2023-05-25T05:44:27.570Z"
   },
   {
    "duration": 18,
    "start_time": "2023-05-25T05:44:27.612Z"
   },
   {
    "duration": 32,
    "start_time": "2023-05-25T05:44:27.631Z"
   },
   {
    "duration": 16,
    "start_time": "2023-05-25T05:44:27.665Z"
   },
   {
    "duration": 28,
    "start_time": "2023-05-25T05:44:27.684Z"
   },
   {
    "duration": 16,
    "start_time": "2023-05-25T05:44:27.714Z"
   },
   {
    "duration": 32,
    "start_time": "2023-05-25T05:44:27.731Z"
   },
   {
    "duration": 34,
    "start_time": "2023-05-25T05:44:27.765Z"
   },
   {
    "duration": 17,
    "start_time": "2023-05-25T05:44:27.800Z"
   },
   {
    "duration": 341,
    "start_time": "2023-05-25T05:44:27.819Z"
   },
   {
    "duration": 20,
    "start_time": "2023-05-25T05:44:28.162Z"
   },
   {
    "duration": 5,
    "start_time": "2023-05-25T05:44:28.184Z"
   },
   {
    "duration": 1354,
    "start_time": "2023-05-25T05:44:28.190Z"
   },
   {
    "duration": 175,
    "start_time": "2023-05-25T05:44:29.546Z"
   },
   {
    "duration": 14,
    "start_time": "2023-05-25T05:44:29.723Z"
   },
   {
    "duration": 30,
    "start_time": "2023-05-25T05:44:29.738Z"
   },
   {
    "duration": 30,
    "start_time": "2023-05-25T05:44:29.769Z"
   },
   {
    "duration": 102,
    "start_time": "2023-05-25T05:44:29.800Z"
   },
   {
    "duration": 111,
    "start_time": "2023-05-25T05:44:29.904Z"
   },
   {
    "duration": 101,
    "start_time": "2023-05-25T05:44:30.017Z"
   },
   {
    "duration": 194,
    "start_time": "2023-05-25T05:44:30.119Z"
   },
   {
    "duration": 113,
    "start_time": "2023-05-25T05:44:30.314Z"
   },
   {
    "duration": 117,
    "start_time": "2023-05-25T05:44:30.429Z"
   },
   {
    "duration": 17,
    "start_time": "2023-05-25T05:44:30.547Z"
   },
   {
    "duration": 75,
    "start_time": "2023-05-25T05:44:30.566Z"
   },
   {
    "duration": 812,
    "start_time": "2023-05-25T05:44:30.643Z"
   },
   {
    "duration": 9,
    "start_time": "2023-05-25T05:44:31.457Z"
   },
   {
    "duration": 22,
    "start_time": "2023-05-25T05:44:31.468Z"
   },
   {
    "duration": 717,
    "start_time": "2023-05-25T05:44:31.491Z"
   },
   {
    "duration": 10,
    "start_time": "2023-05-25T05:44:32.210Z"
   },
   {
    "duration": 28,
    "start_time": "2023-05-25T05:44:32.222Z"
   },
   {
    "duration": 739,
    "start_time": "2023-05-25T05:44:32.253Z"
   },
   {
    "duration": 10,
    "start_time": "2023-05-25T05:44:32.994Z"
   },
   {
    "duration": 32,
    "start_time": "2023-05-25T05:44:33.005Z"
   },
   {
    "duration": 731,
    "start_time": "2023-05-25T05:44:33.039Z"
   },
   {
    "duration": 8,
    "start_time": "2023-05-25T05:44:33.772Z"
   },
   {
    "duration": 10,
    "start_time": "2023-05-25T05:44:33.782Z"
   },
   {
    "duration": 762,
    "start_time": "2023-05-25T05:44:33.794Z"
   },
   {
    "duration": 16,
    "start_time": "2023-05-25T05:44:34.558Z"
   },
   {
    "duration": 17,
    "start_time": "2023-05-25T05:44:34.576Z"
   },
   {
    "duration": 14,
    "start_time": "2023-05-25T05:44:34.594Z"
   },
   {
    "duration": 13,
    "start_time": "2023-05-25T05:44:34.610Z"
   },
   {
    "duration": 15,
    "start_time": "2023-05-25T05:44:34.657Z"
   },
   {
    "duration": 21,
    "start_time": "2023-05-25T05:44:34.673Z"
   },
   {
    "duration": 15,
    "start_time": "2023-05-25T05:44:34.696Z"
   },
   {
    "duration": 16,
    "start_time": "2023-05-25T05:44:34.713Z"
   },
   {
    "duration": 17,
    "start_time": "2023-05-25T05:44:34.756Z"
   },
   {
    "duration": 20,
    "start_time": "2023-05-25T05:44:34.775Z"
   },
   {
    "duration": 13,
    "start_time": "2023-05-25T05:44:34.796Z"
   },
   {
    "duration": 11,
    "start_time": "2023-05-25T05:44:34.811Z"
   },
   {
    "duration": 35,
    "start_time": "2023-05-25T05:44:34.824Z"
   },
   {
    "duration": 13,
    "start_time": "2023-05-25T05:44:34.861Z"
   },
   {
    "duration": 30,
    "start_time": "2023-05-25T05:44:34.876Z"
   },
   {
    "duration": 1328,
    "start_time": "2023-05-27T16:10:39.499Z"
   },
   {
    "duration": 94,
    "start_time": "2023-05-27T16:10:42.137Z"
   },
   {
    "duration": 18,
    "start_time": "2023-05-27T16:10:43.844Z"
   },
   {
    "duration": 15,
    "start_time": "2023-05-27T16:10:44.779Z"
   },
   {
    "duration": 3,
    "start_time": "2023-05-27T16:45:01.319Z"
   },
   {
    "duration": 54,
    "start_time": "2023-05-27T16:45:01.688Z"
   },
   {
    "duration": 15,
    "start_time": "2023-05-27T16:45:01.907Z"
   },
   {
    "duration": 16,
    "start_time": "2023-05-27T16:45:02.155Z"
   },
   {
    "duration": 15,
    "start_time": "2023-05-27T16:45:05.524Z"
   },
   {
    "duration": 23,
    "start_time": "2023-05-27T16:45:06.542Z"
   },
   {
    "duration": 14,
    "start_time": "2023-05-27T16:45:07.011Z"
   },
   {
    "duration": 24,
    "start_time": "2023-05-27T16:45:07.726Z"
   },
   {
    "duration": 24,
    "start_time": "2023-05-27T16:45:08.588Z"
   },
   {
    "duration": 25,
    "start_time": "2023-05-27T16:45:09.049Z"
   },
   {
    "duration": 20,
    "start_time": "2023-05-27T16:45:14.891Z"
   },
   {
    "duration": 27,
    "start_time": "2023-05-27T16:45:39.585Z"
   },
   {
    "duration": 98,
    "start_time": "2023-05-27T16:45:47.727Z"
   },
   {
    "duration": 8,
    "start_time": "2023-05-27T17:05:12.824Z"
   },
   {
    "duration": 160,
    "start_time": "2023-05-27T17:07:58.483Z"
   },
   {
    "duration": 22,
    "start_time": "2023-05-27T17:11:44.816Z"
   },
   {
    "duration": 17,
    "start_time": "2023-05-27T17:11:55.095Z"
   },
   {
    "duration": 5,
    "start_time": "2023-05-27T17:11:57.612Z"
   },
   {
    "duration": 991,
    "start_time": "2023-05-27T17:11:59.196Z"
   },
   {
    "duration": 9,
    "start_time": "2023-05-27T17:12:30.044Z"
   },
   {
    "duration": 3,
    "start_time": "2023-05-27T17:12:39.704Z"
   },
   {
    "duration": 49,
    "start_time": "2023-05-27T17:12:40.125Z"
   },
   {
    "duration": 16,
    "start_time": "2023-05-27T17:12:40.736Z"
   },
   {
    "duration": 16,
    "start_time": "2023-05-27T17:12:41.984Z"
   },
   {
    "duration": 15,
    "start_time": "2023-05-27T17:12:43.092Z"
   },
   {
    "duration": 23,
    "start_time": "2023-05-27T17:12:44.107Z"
   },
   {
    "duration": 14,
    "start_time": "2023-05-27T17:12:44.607Z"
   },
   {
    "duration": 25,
    "start_time": "2023-05-27T17:12:44.632Z"
   },
   {
    "duration": 21,
    "start_time": "2023-05-27T17:12:44.687Z"
   },
   {
    "duration": 19,
    "start_time": "2023-05-27T17:12:44.710Z"
   },
   {
    "duration": 14,
    "start_time": "2023-05-27T17:12:44.808Z"
   },
   {
    "duration": 23,
    "start_time": "2023-05-27T17:12:44.846Z"
   },
   {
    "duration": 18,
    "start_time": "2023-05-27T17:12:50.811Z"
   },
   {
    "duration": 7,
    "start_time": "2023-05-27T17:12:53.292Z"
   },
   {
    "duration": 1093,
    "start_time": "2023-05-27T17:13:02.704Z"
   },
   {
    "duration": 10,
    "start_time": "2023-05-27T17:14:06.721Z"
   },
   {
    "duration": 7,
    "start_time": "2023-05-27T17:14:20.036Z"
   },
   {
    "duration": 3,
    "start_time": "2023-05-27T17:14:31.134Z"
   },
   {
    "duration": 51,
    "start_time": "2023-05-27T17:14:31.508Z"
   },
   {
    "duration": 14,
    "start_time": "2023-05-27T17:14:31.816Z"
   },
   {
    "duration": 17,
    "start_time": "2023-05-27T17:14:32.318Z"
   },
   {
    "duration": 17,
    "start_time": "2023-05-27T17:14:32.393Z"
   },
   {
    "duration": 40,
    "start_time": "2023-05-27T17:14:32.415Z"
   },
   {
    "duration": 40,
    "start_time": "2023-05-27T17:14:32.457Z"
   },
   {
    "duration": 39,
    "start_time": "2023-05-27T17:14:32.501Z"
   },
   {
    "duration": 27,
    "start_time": "2023-05-27T17:14:32.545Z"
   },
   {
    "duration": 26,
    "start_time": "2023-05-27T17:14:32.583Z"
   },
   {
    "duration": 21,
    "start_time": "2023-05-27T17:14:32.624Z"
   },
   {
    "duration": 22,
    "start_time": "2023-05-27T17:14:32.683Z"
   },
   {
    "duration": 14,
    "start_time": "2023-05-27T17:14:32.833Z"
   },
   {
    "duration": 6,
    "start_time": "2023-05-27T17:14:32.900Z"
   },
   {
    "duration": 5,
    "start_time": "2023-05-27T17:14:32.920Z"
   },
   {
    "duration": 1053,
    "start_time": "2023-05-27T17:14:32.987Z"
   },
   {
    "duration": 9,
    "start_time": "2023-05-27T17:14:47.629Z"
   },
   {
    "duration": 7,
    "start_time": "2023-05-27T17:15:50.409Z"
   },
   {
    "duration": 15,
    "start_time": "2023-05-27T17:25:12.228Z"
   },
   {
    "duration": 7,
    "start_time": "2023-05-27T17:25:12.803Z"
   },
   {
    "duration": 6,
    "start_time": "2023-05-27T17:25:14.116Z"
   },
   {
    "duration": 1099,
    "start_time": "2023-05-27T17:25:16.383Z"
   },
   {
    "duration": 10,
    "start_time": "2023-05-27T17:25:19.503Z"
   },
   {
    "duration": 31,
    "start_time": "2023-05-27T17:28:20.753Z"
   },
   {
    "duration": 15,
    "start_time": "2023-05-27T17:30:08.531Z"
   },
   {
    "duration": 13,
    "start_time": "2023-05-27T17:35:12.641Z"
   },
   {
    "duration": 2,
    "start_time": "2023-05-27T17:35:28.306Z"
   },
   {
    "duration": 52,
    "start_time": "2023-05-27T17:35:28.339Z"
   },
   {
    "duration": 13,
    "start_time": "2023-05-27T17:35:28.393Z"
   },
   {
    "duration": 23,
    "start_time": "2023-05-27T17:35:28.408Z"
   },
   {
    "duration": 14,
    "start_time": "2023-05-27T17:35:28.483Z"
   },
   {
    "duration": 22,
    "start_time": "2023-05-27T17:35:28.521Z"
   },
   {
    "duration": 18,
    "start_time": "2023-05-27T17:35:28.545Z"
   },
   {
    "duration": 21,
    "start_time": "2023-05-27T17:35:28.579Z"
   },
   {
    "duration": 21,
    "start_time": "2023-05-27T17:35:28.601Z"
   },
   {
    "duration": 24,
    "start_time": "2023-05-27T17:35:28.630Z"
   },
   {
    "duration": 15,
    "start_time": "2023-05-27T17:35:29.097Z"
   },
   {
    "duration": 23,
    "start_time": "2023-05-27T17:35:30.189Z"
   },
   {
    "duration": 17,
    "start_time": "2023-05-27T17:35:37.612Z"
   },
   {
    "duration": 8,
    "start_time": "2023-05-27T17:35:39.516Z"
   },
   {
    "duration": 6,
    "start_time": "2023-05-27T17:35:43.180Z"
   },
   {
    "duration": 1102,
    "start_time": "2023-05-27T17:35:44.389Z"
   },
   {
    "duration": 10,
    "start_time": "2023-05-27T17:35:47.580Z"
   },
   {
    "duration": 21,
    "start_time": "2023-05-27T17:35:53.022Z"
   },
   {
    "duration": 9,
    "start_time": "2023-05-27T17:35:59.198Z"
   },
   {
    "duration": 3,
    "start_time": "2023-05-27T17:36:39.990Z"
   },
   {
    "duration": 52,
    "start_time": "2023-05-27T17:36:40.744Z"
   },
   {
    "duration": 13,
    "start_time": "2023-05-27T17:36:41.230Z"
   },
   {
    "duration": 13,
    "start_time": "2023-05-27T17:37:12.411Z"
   },
   {
    "duration": 23,
    "start_time": "2023-05-27T17:37:34.983Z"
   },
   {
    "duration": 22,
    "start_time": "2023-05-27T17:37:49.824Z"
   },
   {
    "duration": 26,
    "start_time": "2023-05-27T17:37:49.880Z"
   },
   {
    "duration": 35,
    "start_time": "2023-05-27T17:37:49.909Z"
   },
   {
    "duration": 43,
    "start_time": "2023-05-27T17:37:49.946Z"
   },
   {
    "duration": 26,
    "start_time": "2023-05-27T17:37:49.991Z"
   },
   {
    "duration": 48,
    "start_time": "2023-05-27T17:37:50.020Z"
   },
   {
    "duration": 19,
    "start_time": "2023-05-27T17:37:50.070Z"
   },
   {
    "duration": 33,
    "start_time": "2023-05-27T17:37:50.124Z"
   },
   {
    "duration": 25,
    "start_time": "2023-05-27T17:37:50.279Z"
   },
   {
    "duration": 9,
    "start_time": "2023-05-27T17:37:50.306Z"
   },
   {
    "duration": 7,
    "start_time": "2023-05-27T17:37:52.710Z"
   },
   {
    "duration": 1078,
    "start_time": "2023-05-27T17:37:54.889Z"
   },
   {
    "duration": 10,
    "start_time": "2023-05-27T17:37:57.207Z"
   },
   {
    "duration": 15,
    "start_time": "2023-05-27T17:38:05.694Z"
   },
   {
    "duration": 10,
    "start_time": "2023-05-27T17:38:19.889Z"
   },
   {
    "duration": 8,
    "start_time": "2023-05-27T17:39:14.968Z"
   },
   {
    "duration": 3,
    "start_time": "2023-05-27T17:39:35.105Z"
   },
   {
    "duration": 51,
    "start_time": "2023-05-27T17:39:35.450Z"
   },
   {
    "duration": 15,
    "start_time": "2023-05-27T17:39:35.935Z"
   },
   {
    "duration": 23,
    "start_time": "2023-05-27T17:40:00.687Z"
   },
   {
    "duration": 1161,
    "start_time": "2023-05-27T17:41:05.226Z"
   },
   {
    "duration": 1172,
    "start_time": "2023-05-27T17:41:21.587Z"
   },
   {
    "duration": 3,
    "start_time": "2023-05-27T17:41:31.275Z"
   },
   {
    "duration": 90,
    "start_time": "2023-05-27T17:41:31.294Z"
   },
   {
    "duration": 14,
    "start_time": "2023-05-27T17:41:31.385Z"
   },
   {
    "duration": 42,
    "start_time": "2023-05-27T17:41:31.401Z"
   },
   {
    "duration": 38,
    "start_time": "2023-05-27T17:41:31.445Z"
   },
   {
    "duration": 29,
    "start_time": "2023-05-27T17:41:31.485Z"
   },
   {
    "duration": 35,
    "start_time": "2023-05-27T17:41:31.516Z"
   },
   {
    "duration": 47,
    "start_time": "2023-05-27T17:41:31.553Z"
   },
   {
    "duration": 50,
    "start_time": "2023-05-27T17:41:31.602Z"
   },
   {
    "duration": 27,
    "start_time": "2023-05-27T17:41:31.654Z"
   },
   {
    "duration": 34,
    "start_time": "2023-05-27T17:41:31.683Z"
   },
   {
    "duration": 13,
    "start_time": "2023-05-27T17:41:54.792Z"
   },
   {
    "duration": 19,
    "start_time": "2023-05-27T17:42:13.613Z"
   },
   {
    "duration": 17,
    "start_time": "2023-05-27T17:42:19.891Z"
   },
   {
    "duration": 7,
    "start_time": "2023-05-27T17:42:21.107Z"
   },
   {
    "duration": 6,
    "start_time": "2023-05-27T17:42:22.676Z"
   },
   {
    "duration": 1075,
    "start_time": "2023-05-27T17:42:25.183Z"
   },
   {
    "duration": 9,
    "start_time": "2023-05-27T17:42:28.530Z"
   },
   {
    "duration": 16,
    "start_time": "2023-05-27T17:42:34.512Z"
   },
   {
    "duration": 22,
    "start_time": "2023-05-27T17:42:39.476Z"
   },
   {
    "duration": 16,
    "start_time": "2023-05-27T17:47:11.615Z"
   },
   {
    "duration": 39,
    "start_time": "2023-05-27T17:48:11.144Z"
   },
   {
    "duration": 16,
    "start_time": "2023-05-27T17:49:59.920Z"
   },
   {
    "duration": 27,
    "start_time": "2023-05-27T17:54:17.792Z"
   },
   {
    "duration": 27,
    "start_time": "2023-05-27T17:55:11.476Z"
   },
   {
    "duration": 17,
    "start_time": "2023-05-27T18:16:02.221Z"
   },
   {
    "duration": 214,
    "start_time": "2023-05-27T18:16:07.092Z"
   },
   {
    "duration": 17,
    "start_time": "2023-05-27T18:16:33.368Z"
   },
   {
    "duration": 5,
    "start_time": "2023-05-27T18:16:34.431Z"
   },
   {
    "duration": 1339,
    "start_time": "2023-05-27T18:16:35.488Z"
   },
   {
    "duration": 167,
    "start_time": "2023-05-27T18:16:41.289Z"
   },
   {
    "duration": 15,
    "start_time": "2023-05-27T18:16:47.171Z"
   },
   {
    "duration": 26,
    "start_time": "2023-05-27T18:17:02.563Z"
   },
   {
    "duration": 15,
    "start_time": "2023-05-27T18:17:04.577Z"
   },
   {
    "duration": 17,
    "start_time": "2023-05-27T18:21:55.688Z"
   },
   {
    "duration": 207,
    "start_time": "2023-05-27T18:21:56.902Z"
   },
   {
    "duration": 16,
    "start_time": "2023-05-27T18:22:01.263Z"
   },
   {
    "duration": 4,
    "start_time": "2023-05-27T18:22:03.878Z"
   },
   {
    "duration": 1355,
    "start_time": "2023-05-27T18:22:04.560Z"
   },
   {
    "duration": 172,
    "start_time": "2023-05-27T18:22:14.663Z"
   },
   {
    "duration": 14,
    "start_time": "2023-05-27T18:22:18.451Z"
   },
   {
    "duration": 21,
    "start_time": "2023-05-27T18:22:22.128Z"
   },
   {
    "duration": 16,
    "start_time": "2023-05-27T18:22:25.436Z"
   },
   {
    "duration": 74,
    "start_time": "2023-05-27T18:26:12.229Z"
   },
   {
    "duration": 483,
    "start_time": "2023-05-27T18:29:43.876Z"
   },
   {
    "duration": 561,
    "start_time": "2023-05-27T18:29:56.427Z"
   },
   {
    "duration": 64,
    "start_time": "2023-05-27T18:30:24.787Z"
   },
   {
    "duration": 491,
    "start_time": "2023-05-27T18:30:32.813Z"
   },
   {
    "duration": 201,
    "start_time": "2023-05-27T18:31:30.403Z"
   },
   {
    "duration": 217,
    "start_time": "2023-05-27T18:32:50.513Z"
   },
   {
    "duration": 307,
    "start_time": "2023-05-27T18:32:57.984Z"
   },
   {
    "duration": 253,
    "start_time": "2023-05-27T18:33:08.917Z"
   },
   {
    "duration": 3,
    "start_time": "2023-05-27T18:34:46.685Z"
   },
   {
    "duration": 5,
    "start_time": "2023-05-27T18:34:59.041Z"
   },
   {
    "duration": 5,
    "start_time": "2023-05-27T18:36:09.868Z"
   },
   {
    "duration": 5,
    "start_time": "2023-05-27T18:36:46.842Z"
   },
   {
    "duration": 4,
    "start_time": "2023-05-27T18:37:03.797Z"
   },
   {
    "duration": 180,
    "start_time": "2023-05-27T18:37:58.719Z"
   },
   {
    "duration": 190,
    "start_time": "2023-05-27T18:40:45.858Z"
   },
   {
    "duration": 10,
    "start_time": "2023-05-27T18:45:02.857Z"
   },
   {
    "duration": 16,
    "start_time": "2023-05-27T18:45:31.070Z"
   },
   {
    "duration": 117,
    "start_time": "2023-05-27T18:45:33.021Z"
   },
   {
    "duration": 15,
    "start_time": "2023-05-27T18:45:53.457Z"
   },
   {
    "duration": 12,
    "start_time": "2023-05-27T18:47:35.858Z"
   },
   {
    "duration": 9,
    "start_time": "2023-05-27T18:47:59.160Z"
   },
   {
    "duration": 803,
    "start_time": "2023-05-27T18:48:01.533Z"
   },
   {
    "duration": 17,
    "start_time": "2023-05-27T18:49:40.840Z"
   },
   {
    "duration": 18,
    "start_time": "2023-05-27T18:49:57.308Z"
   },
   {
    "duration": 14,
    "start_time": "2023-05-27T18:57:51.449Z"
   },
   {
    "duration": 12,
    "start_time": "2023-05-27T18:57:59.417Z"
   },
   {
    "duration": 9,
    "start_time": "2023-05-27T18:58:01.204Z"
   },
   {
    "duration": 815,
    "start_time": "2023-05-27T18:58:02.943Z"
   },
   {
    "duration": 13,
    "start_time": "2023-05-27T18:58:38.414Z"
   },
   {
    "duration": 9,
    "start_time": "2023-05-27T18:59:19.822Z"
   },
   {
    "duration": 697,
    "start_time": "2023-05-27T18:59:28.072Z"
   },
   {
    "duration": 12,
    "start_time": "2023-05-27T19:00:32.240Z"
   },
   {
    "duration": 9,
    "start_time": "2023-05-27T19:00:34.968Z"
   },
   {
    "duration": 778,
    "start_time": "2023-05-27T19:00:38.887Z"
   },
   {
    "duration": 12,
    "start_time": "2023-05-27T19:01:47.699Z"
   },
   {
    "duration": 9,
    "start_time": "2023-05-27T19:01:50.392Z"
   },
   {
    "duration": 801,
    "start_time": "2023-05-27T19:01:51.050Z"
   },
   {
    "duration": 12,
    "start_time": "2023-05-27T19:03:38.709Z"
   },
   {
    "duration": 9,
    "start_time": "2023-05-27T19:03:41.078Z"
   },
   {
    "duration": 672,
    "start_time": "2023-05-27T19:03:41.644Z"
   },
   {
    "duration": 23,
    "start_time": "2023-05-27T19:05:13.793Z"
   },
   {
    "duration": 22,
    "start_time": "2023-05-27T19:07:02.690Z"
   },
   {
    "duration": 14,
    "start_time": "2023-05-27T19:08:19.016Z"
   },
   {
    "duration": 10,
    "start_time": "2023-05-27T19:08:19.877Z"
   },
   {
    "duration": 852,
    "start_time": "2023-05-27T19:08:20.307Z"
   },
   {
    "duration": 13,
    "start_time": "2023-05-27T19:08:21.161Z"
   },
   {
    "duration": 9,
    "start_time": "2023-05-27T19:08:21.373Z"
   },
   {
    "duration": 729,
    "start_time": "2023-05-27T19:08:21.805Z"
   },
   {
    "duration": 12,
    "start_time": "2023-05-27T19:08:26.525Z"
   },
   {
    "duration": 9,
    "start_time": "2023-05-27T19:08:27.028Z"
   },
   {
    "duration": 687,
    "start_time": "2023-05-27T19:08:27.746Z"
   },
   {
    "duration": 12,
    "start_time": "2023-05-27T19:08:29.975Z"
   },
   {
    "duration": 9,
    "start_time": "2023-05-27T19:08:30.669Z"
   },
   {
    "duration": 946,
    "start_time": "2023-05-27T19:08:31.285Z"
   },
   {
    "duration": 12,
    "start_time": "2023-05-27T19:08:37.139Z"
   },
   {
    "duration": 9,
    "start_time": "2023-05-27T19:08:37.700Z"
   },
   {
    "duration": 652,
    "start_time": "2023-05-27T19:08:38.190Z"
   },
   {
    "duration": 181,
    "start_time": "2023-05-27T19:09:45.150Z"
   },
   {
    "duration": 211,
    "start_time": "2023-05-27T19:10:53.184Z"
   },
   {
    "duration": 207,
    "start_time": "2023-05-27T19:11:25.736Z"
   },
   {
    "duration": 21,
    "start_time": "2023-05-27T19:12:57.259Z"
   },
   {
    "duration": 15,
    "start_time": "2023-05-27T19:14:07.221Z"
   },
   {
    "duration": 336,
    "start_time": "2023-05-27T19:14:32.495Z"
   },
   {
    "duration": 194,
    "start_time": "2023-05-27T19:14:56.432Z"
   },
   {
    "duration": 188,
    "start_time": "2023-05-27T19:15:04.245Z"
   },
   {
    "duration": 14,
    "start_time": "2023-05-27T19:21:23.099Z"
   },
   {
    "duration": 13,
    "start_time": "2023-05-27T19:21:24.008Z"
   },
   {
    "duration": 13,
    "start_time": "2023-05-27T19:21:29.359Z"
   },
   {
    "duration": 15,
    "start_time": "2023-05-27T19:21:34.608Z"
   },
   {
    "duration": 15,
    "start_time": "2023-05-27T19:21:35.611Z"
   },
   {
    "duration": 13,
    "start_time": "2023-05-27T19:21:38.555Z"
   },
   {
    "duration": 14,
    "start_time": "2023-05-27T19:26:32.080Z"
   },
   {
    "duration": 15,
    "start_time": "2023-05-27T19:26:32.815Z"
   },
   {
    "duration": 14,
    "start_time": "2023-05-27T19:26:33.585Z"
   },
   {
    "duration": 14,
    "start_time": "2023-05-27T19:37:38.909Z"
   },
   {
    "duration": 17,
    "start_time": "2023-05-27T19:37:42.336Z"
   },
   {
    "duration": 14,
    "start_time": "2023-05-27T19:37:44.986Z"
   },
   {
    "duration": 14,
    "start_time": "2023-05-27T19:47:00.919Z"
   },
   {
    "duration": 15,
    "start_time": "2023-05-27T19:47:30.385Z"
   },
   {
    "duration": 17,
    "start_time": "2023-05-27T19:47:57.837Z"
   },
   {
    "duration": 13,
    "start_time": "2023-05-27T19:48:00.593Z"
   },
   {
    "duration": 14,
    "start_time": "2023-05-27T19:48:09.382Z"
   },
   {
    "duration": 17,
    "start_time": "2023-05-27T19:48:32.984Z"
   },
   {
    "duration": 13,
    "start_time": "2023-05-27T19:48:41.534Z"
   },
   {
    "duration": 18,
    "start_time": "2023-05-27T19:48:42.958Z"
   },
   {
    "duration": 11,
    "start_time": "2023-05-27T20:12:43.260Z"
   },
   {
    "duration": 11,
    "start_time": "2023-05-27T20:12:53.758Z"
   },
   {
    "duration": 72,
    "start_time": "2023-05-27T20:20:35.573Z"
   },
   {
    "duration": 3,
    "start_time": "2023-05-27T20:22:14.439Z"
   },
   {
    "duration": 47,
    "start_time": "2023-05-27T20:22:15.153Z"
   },
   {
    "duration": 12,
    "start_time": "2023-05-27T20:22:15.600Z"
   },
   {
    "duration": 14,
    "start_time": "2023-05-27T20:22:16.233Z"
   },
   {
    "duration": 112,
    "start_time": "2023-05-27T20:22:16.600Z"
   },
   {
    "duration": 18,
    "start_time": "2023-05-27T20:22:18.347Z"
   },
   {
    "duration": 19,
    "start_time": "2023-05-27T20:22:18.804Z"
   },
   {
    "duration": 15,
    "start_time": "2023-05-27T20:22:19.651Z"
   },
   {
    "duration": 22,
    "start_time": "2023-05-27T20:22:22.907Z"
   },
   {
    "duration": 22,
    "start_time": "2023-05-27T20:22:23.429Z"
   },
   {
    "duration": 23,
    "start_time": "2023-05-27T20:22:23.833Z"
   },
   {
    "duration": 15,
    "start_time": "2023-05-27T20:22:24.537Z"
   },
   {
    "duration": 19,
    "start_time": "2023-05-27T20:22:25.853Z"
   },
   {
    "duration": 15,
    "start_time": "2023-05-27T20:22:29.425Z"
   },
   {
    "duration": 8,
    "start_time": "2023-05-27T20:22:29.819Z"
   },
   {
    "duration": 6,
    "start_time": "2023-05-27T20:22:31.053Z"
   },
   {
    "duration": 1058,
    "start_time": "2023-05-27T20:22:38.900Z"
   },
   {
    "duration": 7,
    "start_time": "2023-05-27T20:22:39.960Z"
   },
   {
    "duration": 19,
    "start_time": "2023-05-27T20:22:53.241Z"
   },
   {
    "duration": 24,
    "start_time": "2023-05-27T20:22:58.101Z"
   },
   {
    "duration": 21,
    "start_time": "2023-05-27T20:22:59.518Z"
   },
   {
    "duration": 26,
    "start_time": "2023-05-27T20:23:01.896Z"
   },
   {
    "duration": 19,
    "start_time": "2023-05-27T20:23:06.390Z"
   },
   {
    "duration": 203,
    "start_time": "2023-05-27T20:23:07.313Z"
   },
   {
    "duration": 16,
    "start_time": "2023-05-27T20:23:09.518Z"
   },
   {
    "duration": 5,
    "start_time": "2023-05-27T20:23:10.908Z"
   },
   {
    "duration": 1531,
    "start_time": "2023-05-27T20:23:11.727Z"
   },
   {
    "duration": 173,
    "start_time": "2023-05-27T20:23:14.548Z"
   },
   {
    "duration": 19,
    "start_time": "2023-05-27T20:23:17.080Z"
   },
   {
    "duration": 21,
    "start_time": "2023-05-27T20:23:18.519Z"
   },
   {
    "duration": 20,
    "start_time": "2023-05-27T20:23:19.879Z"
   },
   {
    "duration": 99,
    "start_time": "2023-05-27T20:23:21.910Z"
   },
   {
    "duration": 7,
    "start_time": "2023-05-27T20:23:22.515Z"
   },
   {
    "duration": 207,
    "start_time": "2023-05-27T20:23:34.700Z"
   },
   {
    "duration": 20,
    "start_time": "2023-05-27T20:23:36.376Z"
   },
   {
    "duration": 1188,
    "start_time": "2023-05-28T12:48:59.044Z"
   },
   {
    "duration": 192,
    "start_time": "2023-05-28T12:49:00.234Z"
   },
   {
    "duration": 18,
    "start_time": "2023-05-28T12:49:00.428Z"
   },
   {
    "duration": 24,
    "start_time": "2023-05-28T12:49:00.447Z"
   },
   {
    "duration": 42,
    "start_time": "2023-05-28T12:49:00.473Z"
   },
   {
    "duration": 25,
    "start_time": "2023-05-28T12:49:00.517Z"
   },
   {
    "duration": 58,
    "start_time": "2023-05-28T12:49:00.544Z"
   },
   {
    "duration": 38,
    "start_time": "2023-05-28T12:49:00.603Z"
   },
   {
    "duration": 51,
    "start_time": "2023-05-28T12:49:00.643Z"
   },
   {
    "duration": 34,
    "start_time": "2023-05-28T12:49:00.695Z"
   },
   {
    "duration": 40,
    "start_time": "2023-05-28T12:49:00.730Z"
   },
   {
    "duration": 63,
    "start_time": "2023-05-28T12:49:00.772Z"
   },
   {
    "duration": 61,
    "start_time": "2023-05-28T12:49:00.837Z"
   },
   {
    "duration": 41,
    "start_time": "2023-05-28T12:49:00.901Z"
   },
   {
    "duration": 32,
    "start_time": "2023-05-28T12:49:00.943Z"
   },
   {
    "duration": 58,
    "start_time": "2023-05-28T12:49:00.976Z"
   },
   {
    "duration": 1178,
    "start_time": "2023-05-28T12:49:01.036Z"
   },
   {
    "duration": 10,
    "start_time": "2023-05-28T12:49:02.217Z"
   },
   {
    "duration": 53,
    "start_time": "2023-05-28T12:49:02.229Z"
   },
   {
    "duration": 33,
    "start_time": "2023-05-28T12:49:02.283Z"
   },
   {
    "duration": 28,
    "start_time": "2023-05-28T12:49:02.318Z"
   },
   {
    "duration": 32,
    "start_time": "2023-05-28T12:49:02.349Z"
   },
   {
    "duration": 19,
    "start_time": "2023-05-28T12:49:02.383Z"
   },
   {
    "duration": 238,
    "start_time": "2023-05-28T12:49:02.404Z"
   },
   {
    "duration": 31,
    "start_time": "2023-05-28T12:49:02.645Z"
   },
   {
    "duration": 8,
    "start_time": "2023-05-28T12:49:02.677Z"
   },
   {
    "duration": 1400,
    "start_time": "2023-05-28T12:49:02.686Z"
   },
   {
    "duration": 177,
    "start_time": "2023-05-28T12:49:04.088Z"
   },
   {
    "duration": 16,
    "start_time": "2023-05-28T12:49:04.270Z"
   },
   {
    "duration": 25,
    "start_time": "2023-05-28T12:49:04.288Z"
   },
   {
    "duration": 14,
    "start_time": "2023-05-28T12:49:04.315Z"
   },
   {
    "duration": 139,
    "start_time": "2023-05-28T12:49:04.331Z"
   },
   {
    "duration": 5,
    "start_time": "2023-05-28T12:49:04.472Z"
   },
   {
    "duration": 198,
    "start_time": "2023-05-28T12:49:04.479Z"
   },
   {
    "duration": 16,
    "start_time": "2023-05-28T12:49:04.678Z"
   },
   {
    "duration": 19,
    "start_time": "2023-05-28T12:49:04.696Z"
   },
   {
    "duration": 23,
    "start_time": "2023-05-28T12:49:04.717Z"
   },
   {
    "duration": 752,
    "start_time": "2023-05-28T12:49:04.741Z"
   },
   {
    "duration": 12,
    "start_time": "2023-05-28T12:49:05.495Z"
   },
   {
    "duration": 62,
    "start_time": "2023-05-28T12:49:05.508Z"
   },
   {
    "duration": 872,
    "start_time": "2023-05-28T12:49:05.574Z"
   },
   {
    "duration": 29,
    "start_time": "2023-05-28T12:49:06.447Z"
   },
   {
    "duration": 9,
    "start_time": "2023-05-28T12:49:06.478Z"
   },
   {
    "duration": 710,
    "start_time": "2023-05-28T12:49:06.489Z"
   },
   {
    "duration": 13,
    "start_time": "2023-05-28T12:49:07.201Z"
   },
   {
    "duration": 13,
    "start_time": "2023-05-28T12:49:07.216Z"
   },
   {
    "duration": 857,
    "start_time": "2023-05-28T12:49:07.231Z"
   },
   {
    "duration": 13,
    "start_time": "2023-05-28T12:49:08.090Z"
   },
   {
    "duration": 25,
    "start_time": "2023-05-28T12:49:08.105Z"
   },
   {
    "duration": 856,
    "start_time": "2023-05-28T12:49:08.131Z"
   },
   {
    "duration": 16,
    "start_time": "2023-05-28T12:49:08.989Z"
   },
   {
    "duration": 237,
    "start_time": "2023-05-28T12:49:09.007Z"
   },
   {
    "duration": 21,
    "start_time": "2023-05-28T12:49:09.246Z"
   },
   {
    "duration": 22,
    "start_time": "2023-05-28T12:49:09.268Z"
   },
   {
    "duration": 17,
    "start_time": "2023-05-28T12:49:09.292Z"
   },
   {
    "duration": 20,
    "start_time": "2023-05-28T12:49:09.311Z"
   },
   {
    "duration": 38,
    "start_time": "2023-05-28T12:49:09.332Z"
   },
   {
    "duration": 15,
    "start_time": "2023-05-28T12:49:09.372Z"
   },
   {
    "duration": 16,
    "start_time": "2023-05-28T12:49:09.388Z"
   },
   {
    "duration": 30,
    "start_time": "2023-05-28T12:49:09.406Z"
   },
   {
    "duration": 32,
    "start_time": "2023-05-28T12:49:09.438Z"
   },
   {
    "duration": 12,
    "start_time": "2023-05-28T12:49:09.472Z"
   },
   {
    "duration": 25,
    "start_time": "2023-05-28T12:49:09.486Z"
   },
   {
    "duration": 12,
    "start_time": "2023-05-28T12:49:09.513Z"
   },
   {
    "duration": 33,
    "start_time": "2023-05-28T12:49:09.527Z"
   },
   {
    "duration": 21,
    "start_time": "2023-05-28T12:49:09.562Z"
   }
  ],
  "kernelspec": {
   "display_name": "Python 3 (ipykernel)",
   "language": "python",
   "name": "python3"
  },
  "language_info": {
   "codemirror_mode": {
    "name": "ipython",
    "version": 3
   },
   "file_extension": ".py",
   "mimetype": "text/x-python",
   "name": "python",
   "nbconvert_exporter": "python",
   "pygments_lexer": "ipython3",
   "version": "3.9.5"
  },
  "toc": {
   "base_numbering": 1,
   "nav_menu": {},
   "number_sections": true,
   "sideBar": true,
   "skip_h1_title": true,
   "title_cell": "Table of Contents",
   "title_sidebar": "Contents",
   "toc_cell": false,
   "toc_position": {},
   "toc_section_display": true,
   "toc_window_display": false
  }
 },
 "nbformat": 4,
 "nbformat_minor": 2
}

{
 "cells": [
  {
   "cell_type": "markdown",
   "metadata": {
    "toc": true
   },
   "source": [
    "<h1>Содержание<span class=\"tocSkip\"></span></h1>\n",
    "<div class=\"toc\"><ul class=\"toc-item\"><li><span><a href=\"#Подготовка-данных\" data-toc-modified-id=\"Подготовка-данных-1\"><span class=\"toc-item-num\">1&nbsp;&nbsp;</span>Подготовка данных</a></span><ul class=\"toc-item\"><li><span><a href=\"#Общее-знакомство-с-данными\" data-toc-modified-id=\"Общее-знакомство-с-данными-1.1\"><span class=\"toc-item-num\">1.1&nbsp;&nbsp;</span>Общее знакомство с данными</a></span></li><li><span><a href=\"#Обработка-пропусков\" data-toc-modified-id=\"Обработка-пропусков-1.2\"><span class=\"toc-item-num\">1.2&nbsp;&nbsp;</span>Обработка пропусков</a></span></li><li><span><a href=\"#Переименование-столбцов\" data-toc-modified-id=\"Переименование-столбцов-1.3\"><span class=\"toc-item-num\">1.3&nbsp;&nbsp;</span>Переименование столбцов</a></span></li><li><span><a href=\"#Распределение-данных-по-столбцам\" data-toc-modified-id=\"Распределение-данных-по-столбцам-1.4\"><span class=\"toc-item-num\">1.4&nbsp;&nbsp;</span>Распределение данных по столбцам</a></span></li><li><span><a href=\"#Подготовка-данных-для-обучения-модели\" data-toc-modified-id=\"Подготовка-данных-для-обучения-модели-1.5\"><span class=\"toc-item-num\">1.5&nbsp;&nbsp;</span>Подготовка данных для обучения модели</a></span></li><li><span><a href=\"#Вывод\" data-toc-modified-id=\"Вывод-1.6\"><span class=\"toc-item-num\">1.6&nbsp;&nbsp;</span>Вывод</a></span></li></ul></li><li><span><a href=\"#Исследование-задачи\" data-toc-modified-id=\"Исследование-задачи-2\"><span class=\"toc-item-num\">2&nbsp;&nbsp;</span>Исследование задачи</a></span><ul class=\"toc-item\"><li><span><a href=\"#Разделение-данных-на-выборки\" data-toc-modified-id=\"Разделение-данных-на-выборки-2.1\"><span class=\"toc-item-num\">2.1&nbsp;&nbsp;</span>Разделение данных на выборки</a></span></li><li><span><a href=\"#Маштабирование-признаков\" data-toc-modified-id=\"Маштабирование-признаков-2.2\"><span class=\"toc-item-num\">2.2&nbsp;&nbsp;</span>Маштабирование признаков</a></span></li></ul></li><li><span><a href=\"#Дерево-решений\" data-toc-modified-id=\"Дерево-решений-3\"><span class=\"toc-item-num\">3&nbsp;&nbsp;</span>Дерево решений</a></span><ul class=\"toc-item\"><li><span><a href=\"#Случайный-лес\" data-toc-modified-id=\"Случайный-лес-3.1\"><span class=\"toc-item-num\">3.1&nbsp;&nbsp;</span>Случайный лес</a></span></li><li><span><a href=\"#Логистическая-регрессия\" data-toc-modified-id=\"Логистическая-регрессия-3.2\"><span class=\"toc-item-num\">3.2&nbsp;&nbsp;</span>Логистическая регрессия</a></span></li><li><span><a href=\"#Выводы\" data-toc-modified-id=\"Выводы-3.3\"><span class=\"toc-item-num\">3.3&nbsp;&nbsp;</span>Выводы</a></span></li></ul></li><li><span><a href=\"#Борьба-с-дисбалансом\" data-toc-modified-id=\"Борьба-с-дисбалансом-4\"><span class=\"toc-item-num\">4&nbsp;&nbsp;</span>Борьба с дисбалансом</a></span><ul class=\"toc-item\"><li><span><a href=\"#Соотношение-значение\" data-toc-modified-id=\"Соотношение-значение-4.1\"><span class=\"toc-item-num\">4.1&nbsp;&nbsp;</span>Соотношение значение</a></span></li><li><span><a href=\"#Downsampling\" data-toc-modified-id=\"Downsampling-4.2\"><span class=\"toc-item-num\">4.2&nbsp;&nbsp;</span>Downsampling</a></span><ul class=\"toc-item\"><li><span><a href=\"#Дерево-решений\" data-toc-modified-id=\"Дерево-решений-4.2.1\"><span class=\"toc-item-num\">4.2.1&nbsp;&nbsp;</span>Дерево решений</a></span></li><li><span><a href=\"#Случайный-лес\" data-toc-modified-id=\"Случайный-лес-4.2.2\"><span class=\"toc-item-num\">4.2.2&nbsp;&nbsp;</span>Случайный лес</a></span></li><li><span><a href=\"#Логистическая-регрессия\" data-toc-modified-id=\"Логистическая-регрессия-4.2.3\"><span class=\"toc-item-num\">4.2.3&nbsp;&nbsp;</span>Логистическая регрессия</a></span></li><li><span><a href=\"#Вывод\" data-toc-modified-id=\"Вывод-4.2.4\"><span class=\"toc-item-num\">4.2.4&nbsp;&nbsp;</span>Вывод</a></span></li></ul></li><li><span><a href=\"#Upsampling\" data-toc-modified-id=\"Upsampling-4.3\"><span class=\"toc-item-num\">4.3&nbsp;&nbsp;</span>Upsampling</a></span><ul class=\"toc-item\"><li><span><a href=\"#Дерево-решений\" data-toc-modified-id=\"Дерево-решений-4.3.1\"><span class=\"toc-item-num\">4.3.1&nbsp;&nbsp;</span>Дерево решений</a></span></li><li><span><a href=\"#Случайный-лес\" data-toc-modified-id=\"Случайный-лес-4.3.2\"><span class=\"toc-item-num\">4.3.2&nbsp;&nbsp;</span>Случайный лес</a></span></li><li><span><a href=\"#Логистическая-регрессия\" data-toc-modified-id=\"Логистическая-регрессия-4.3.3\"><span class=\"toc-item-num\">4.3.3&nbsp;&nbsp;</span>Логистическая регрессия</a></span></li><li><span><a href=\"#Вывод\" data-toc-modified-id=\"Вывод-4.3.4\"><span class=\"toc-item-num\">4.3.4&nbsp;&nbsp;</span>Вывод</a></span></li></ul></li><li><span><a href=\"#Вывод\" data-toc-modified-id=\"Вывод-4.4\"><span class=\"toc-item-num\">4.4&nbsp;&nbsp;</span>Вывод</a></span></li></ul></li><li><span><a href=\"#Тестирование-модели\" data-toc-modified-id=\"Тестирование-модели-5\"><span class=\"toc-item-num\">5&nbsp;&nbsp;</span>Тестирование модели</a></span><ul class=\"toc-item\"><li><span><a href=\"#Проверка-на-тестовой-выборке\" data-toc-modified-id=\"Проверка-на-тестовой-выборке-5.1\"><span class=\"toc-item-num\">5.1&nbsp;&nbsp;</span>Проверка на тестовой выборке</a></span></li><li><span><a href=\"#Метрика-AUC-ROC\" data-toc-modified-id=\"Метрика-AUC-ROC-5.2\"><span class=\"toc-item-num\">5.2&nbsp;&nbsp;</span>Метрика AUC-ROC</a></span></li></ul></li><li><span><a href=\"#Вывод\" data-toc-modified-id=\"Вывод-6\"><span class=\"toc-item-num\">6&nbsp;&nbsp;</span>Вывод</a></span></li><li><span><a href=\"#Чек-лист-готовности-проекта\" data-toc-modified-id=\"Чек-лист-готовности-проекта-7\"><span class=\"toc-item-num\">7&nbsp;&nbsp;</span>Чек-лист готовности проекта</a></span></li></ul></div>"
   ]
  },
  {
   "cell_type": "markdown",
   "metadata": {},
   "source": [
    "# Отток клиентов"
   ]
  },
  {
   "cell_type": "markdown",
   "metadata": {},
   "source": [
    "Из «Бета-Банка» стали уходить клиенты. Каждый месяц. Немного, но заметно. Банковские маркетологи посчитали: сохранять текущих клиентов дешевле, чем привлекать новых.\n",
    "\n",
    "Нужно спрогнозировать, уйдёт клиент из банка в ближайшее время или нет. Предоставлены исторические данные о поведении клиентов и расторжении договоров с банком. \n",
    "\n",
    "Необходимо постройть модель с предельно большим значением *F1*-меры. Метрика должна быть не нижу 0.59.\n",
    "\n",
    "Провести измерение метрики *AUC-ROC* для её сравнения со значением *F1*-меры.\n",
    "\n",
    "\n",
    "**Описание данных**\n",
    "\n",
    "**Признаки**\n",
    "\n",
    " - `RowNumber` — индекс строки в данных\n",
    " - `CustomerId` — уникальный идентификатор клиента\n",
    " - `Surname` — фамилия\n",
    " - `CreditScore` — кредитный рейтинг\n",
    " - `Geography` — страна проживания\n",
    " - `Gender` — пол\n",
    " - `Age` — возраст\n",
    " - `Tenure` — сколько лет человек является клиентом банка\n",
    " - `Balance` — баланс на счёте\n",
    " - `NumOfProducts` — количество продуктов банка, используемых клиентом\n",
    " - `HasCrCard` — наличие кредитной карты\n",
    " - `IsActiveMember` — активность клиента\n",
    " - `EstimatedSalary` — предполагаемая зарплата\n",
    " \n",
    "**Целевой признак**\n",
    "\n",
    " - `Exited`— факт ухода клиента"
   ]
  },
  {
   "cell_type": "markdown",
   "metadata": {},
   "source": [
    "## Подготовка данных\n",
    "\n",
    "Импортируем необходимые библиотеки"
   ]
  },
  {
   "cell_type": "code",
   "execution_count": 98,
   "metadata": {},
   "outputs": [],
   "source": [
    "import pandas as pd\n",
    "import numpy as np\n",
    "import matplotlib.pyplot as plt\n",
    "import seaborn as sns\n",
    "from sklearn.preprocessing import StandardScaler\n",
    "from sklearn.tree import DecisionTreeClassifier\n",
    "from sklearn.linear_model import LogisticRegression\n",
    "from sklearn.ensemble import RandomForestClassifier\n",
    "from sklearn.utils import shuffle\n",
    "from sklearn.metrics import (\n",
    "    accuracy_score, \n",
    "    f1_score, \n",
    "    roc_auc_score,\n",
    "    roc_curve\n",
    ")\n",
    "\n",
    "from sklearn.model_selection import train_test_split\n",
    "\n",
    "from tqdm import tqdm\n",
    "\n",
    "import re\n",
    "\n",
    "import warnings"
   ]
  },
  {
   "cell_type": "markdown",
   "metadata": {},
   "source": [
    "### Общее знакомство с данными\n",
    "\n",
    "Посмотрим общую информацию о данных, изучим пропуски и аномалии."
   ]
  },
  {
   "cell_type": "code",
   "execution_count": 99,
   "metadata": {},
   "outputs": [
    {
     "name": "stdout",
     "output_type": "stream",
     "text": [
      "<class 'pandas.core.frame.DataFrame'>\n",
      "RangeIndex: 10000 entries, 0 to 9999\n",
      "Data columns (total 14 columns):\n",
      " #   Column           Non-Null Count  Dtype  \n",
      "---  ------           --------------  -----  \n",
      " 0   RowNumber        10000 non-null  int64  \n",
      " 1   CustomerId       10000 non-null  int64  \n",
      " 2   Surname          10000 non-null  object \n",
      " 3   CreditScore      10000 non-null  int64  \n",
      " 4   Geography        10000 non-null  object \n",
      " 5   Gender           10000 non-null  object \n",
      " 6   Age              10000 non-null  int64  \n",
      " 7   Tenure           9091 non-null   float64\n",
      " 8   Balance          10000 non-null  float64\n",
      " 9   NumOfProducts    10000 non-null  int64  \n",
      " 10  HasCrCard        10000 non-null  int64  \n",
      " 11  IsActiveMember   10000 non-null  int64  \n",
      " 12  EstimatedSalary  10000 non-null  float64\n",
      " 13  Exited           10000 non-null  int64  \n",
      "dtypes: float64(3), int64(8), object(3)\n",
      "memory usage: 1.1+ MB\n"
     ]
    }
   ],
   "source": [
    "data = pd.read_csv('/datasets/Churn.csv')\n",
    "data.info()"
   ]
  },
  {
   "cell_type": "markdown",
   "metadata": {},
   "source": [
    "### Обработка пропусков\n",
    "\n",
    "В столбце `Tenure` - сколько лет человек является клиентом банка - имеется небольшой процент пропусков. Посмотрим, как распределены данные."
   ]
  },
  {
   "cell_type": "code",
   "execution_count": 100,
   "metadata": {},
   "outputs": [
    {
     "data": {
      "image/png": "[encoded data removed]",
      "text/plain": [
       "<Figure size 720x360 with 1 Axes>"
      ]
     },
     "metadata": {
      "needs_background": "light"
     },
     "output_type": "display_data"
    }
   ],
   "source": [
    "plt.figure(figsize=(10, 5));\n",
    "data['Tenure'].sort_values().value_counts().sort_index().plot(kind='bar', grid=True);\n",
    "plt.title('Tenure');\n",
    "plt.show();"
   ]
  },
  {
   "cell_type": "code",
   "execution_count": 101,
   "metadata": {},
   "outputs": [
    {
     "data": {
      "text/plain": [
       "1.0     952\n",
       "2.0     950\n",
       "8.0     933\n",
       "3.0     928\n",
       "5.0     927\n",
       "7.0     925\n",
       "4.0     885\n",
       "9.0     882\n",
       "6.0     881\n",
       "10.0    446\n",
       "0.0     382\n",
       "Name: Tenure, dtype: int64"
      ]
     },
     "execution_count": 101,
     "metadata": {},
     "output_type": "execute_result"
    }
   ],
   "source": [
    "data['Tenure'].value_counts()"
   ]
  },
  {
   "cell_type": "code",
   "execution_count": 102,
   "metadata": {},
   "outputs": [
    {
     "data": {
      "text/plain": [
       "count    9091.000000\n",
       "mean        4.997690\n",
       "std         2.894723\n",
       "min         0.000000\n",
       "25%         2.000000\n",
       "50%         5.000000\n",
       "75%         7.000000\n",
       "max        10.000000\n",
       "Name: Tenure, dtype: float64"
      ]
     },
     "execution_count": 102,
     "metadata": {},
     "output_type": "execute_result"
    }
   ],
   "source": [
    "data['Tenure'].describe()"
   ]
  },
  {
   "cell_type": "markdown",
   "metadata": {},
   "source": [
    "Значения данных распределены по годам. Медианное значение - `5`. Так как природа пропусков не ясна и чтобы не терять данные, заполним случайнами значениями датафрейм."
   ]
  },
  {
   "cell_type": "code",
   "execution_count": 103,
   "metadata": {},
   "outputs": [],
   "source": [
    "data['Tenure'] = data['Tenure'].fillna(data['Tenure'].apply(lambda x: np.random.randint(0, 11) if pd.isnull(x) else x))"
   ]
  },
  {
   "cell_type": "code",
   "execution_count": 104,
   "metadata": {},
   "outputs": [
    {
     "name": "stdout",
     "output_type": "stream",
     "text": [
      "<class 'pandas.core.frame.DataFrame'>\n",
      "RangeIndex: 10000 entries, 0 to 9999\n",
      "Data columns (total 14 columns):\n",
      " #   Column           Non-Null Count  Dtype  \n",
      "---  ------           --------------  -----  \n",
      " 0   RowNumber        10000 non-null  int64  \n",
      " 1   CustomerId       10000 non-null  int64  \n",
      " 2   Surname          10000 non-null  object \n",
      " 3   CreditScore      10000 non-null  int64  \n",
      " 4   Geography        10000 non-null  object \n",
      " 5   Gender           10000 non-null  object \n",
      " 6   Age              10000 non-null  int64  \n",
      " 7   Tenure           10000 non-null  float64\n",
      " 8   Balance          10000 non-null  float64\n",
      " 9   NumOfProducts    10000 non-null  int64  \n",
      " 10  HasCrCard        10000 non-null  int64  \n",
      " 11  IsActiveMember   10000 non-null  int64  \n",
      " 12  EstimatedSalary  10000 non-null  float64\n",
      " 13  Exited           10000 non-null  int64  \n",
      "dtypes: float64(3), int64(8), object(3)\n",
      "memory usage: 1.1+ MB\n"
     ]
    }
   ],
   "source": [
    "null_count = data['Tenure'].isnull().sum()\n",
    "random_values = np.random.randint(0, 11, size=null_count)\n",
    "data['Tenure'].fillna(pd.Series(random_values), inplace=True)\n",
    "data.info()"
   ]
  },
  {
   "cell_type": "code",
   "execution_count": 105,
   "metadata": {
    "scrolled": false
   },
   "outputs": [
    {
     "data": {
      "text/html": [
       "<div>\n",
       "<style scoped>\n",
       "    .dataframe tbody tr th:only-of-type {\n",
       "        vertical-align: middle;\n",
       "    }\n",
       "\n",
       "    .dataframe tbody tr th {\n",
       "        vertical-align: top;\n",
       "    }\n",
       "\n",
       "    .dataframe thead th {\n",
       "        text-align: right;\n",
       "    }\n",
       "</style>\n",
       "<table border=\"1\" class=\"dataframe\">\n",
       "  <thead>\n",
       "    <tr style=\"text-align: right;\">\n",
       "      <th></th>\n",
       "      <th>RowNumber</th>\n",
       "      <th>CustomerId</th>\n",
       "      <th>Surname</th>\n",
       "      <th>CreditScore</th>\n",
       "      <th>Geography</th>\n",
       "      <th>Gender</th>\n",
       "      <th>Age</th>\n",
       "      <th>Tenure</th>\n",
       "      <th>Balance</th>\n",
       "      <th>NumOfProducts</th>\n",
       "      <th>HasCrCard</th>\n",
       "      <th>IsActiveMember</th>\n",
       "      <th>EstimatedSalary</th>\n",
       "      <th>Exited</th>\n",
       "    </tr>\n",
       "  </thead>\n",
       "  <tbody>\n",
       "    <tr>\n",
       "      <th>0</th>\n",
       "      <td>1</td>\n",
       "      <td>15634602</td>\n",
       "      <td>Hargrave</td>\n",
       "      <td>619</td>\n",
       "      <td>France</td>\n",
       "      <td>Female</td>\n",
       "      <td>42</td>\n",
       "      <td>2.0</td>\n",
       "      <td>0.00</td>\n",
       "      <td>1</td>\n",
       "      <td>1</td>\n",
       "      <td>1</td>\n",
       "      <td>101348.88</td>\n",
       "      <td>1</td>\n",
       "    </tr>\n",
       "    <tr>\n",
       "      <th>1</th>\n",
       "      <td>2</td>\n",
       "      <td>15647311</td>\n",
       "      <td>Hill</td>\n",
       "      <td>608</td>\n",
       "      <td>Spain</td>\n",
       "      <td>Female</td>\n",
       "      <td>41</td>\n",
       "      <td>1.0</td>\n",
       "      <td>83807.86</td>\n",
       "      <td>1</td>\n",
       "      <td>0</td>\n",
       "      <td>1</td>\n",
       "      <td>112542.58</td>\n",
       "      <td>0</td>\n",
       "    </tr>\n",
       "    <tr>\n",
       "      <th>2</th>\n",
       "      <td>3</td>\n",
       "      <td>15619304</td>\n",
       "      <td>Onio</td>\n",
       "      <td>502</td>\n",
       "      <td>France</td>\n",
       "      <td>Female</td>\n",
       "      <td>42</td>\n",
       "      <td>8.0</td>\n",
       "      <td>159660.80</td>\n",
       "      <td>3</td>\n",
       "      <td>1</td>\n",
       "      <td>0</td>\n",
       "      <td>113931.57</td>\n",
       "      <td>1</td>\n",
       "    </tr>\n",
       "    <tr>\n",
       "      <th>3</th>\n",
       "      <td>4</td>\n",
       "      <td>15701354</td>\n",
       "      <td>Boni</td>\n",
       "      <td>699</td>\n",
       "      <td>France</td>\n",
       "      <td>Female</td>\n",
       "      <td>39</td>\n",
       "      <td>1.0</td>\n",
       "      <td>0.00</td>\n",
       "      <td>2</td>\n",
       "      <td>0</td>\n",
       "      <td>0</td>\n",
       "      <td>93826.63</td>\n",
       "      <td>0</td>\n",
       "    </tr>\n",
       "    <tr>\n",
       "      <th>4</th>\n",
       "      <td>5</td>\n",
       "      <td>15737888</td>\n",
       "      <td>Mitchell</td>\n",
       "      <td>850</td>\n",
       "      <td>Spain</td>\n",
       "      <td>Female</td>\n",
       "      <td>43</td>\n",
       "      <td>2.0</td>\n",
       "      <td>125510.82</td>\n",
       "      <td>1</td>\n",
       "      <td>1</td>\n",
       "      <td>1</td>\n",
       "      <td>79084.10</td>\n",
       "      <td>0</td>\n",
       "    </tr>\n",
       "  </tbody>\n",
       "</table>\n",
       "</div>"
      ],
      "text/plain": [
       "   RowNumber  CustomerId   Surname  CreditScore Geography  Gender  Age  \\\n",
       "0          1    15634602  Hargrave          619    France  Female   42   \n",
       "1          2    15647311      Hill          608     Spain  Female   41   \n",
       "2          3    15619304      Onio          502    France  Female   42   \n",
       "3          4    15701354      Boni          699    France  Female   39   \n",
       "4          5    15737888  Mitchell          850     Spain  Female   43   \n",
       "\n",
       "   Tenure    Balance  NumOfProducts  HasCrCard  IsActiveMember  \\\n",
       "0     2.0       0.00              1          1               1   \n",
       "1     1.0   83807.86              1          0               1   \n",
       "2     8.0  159660.80              3          1               0   \n",
       "3     1.0       0.00              2          0               0   \n",
       "4     2.0  125510.82              1          1               1   \n",
       "\n",
       "   EstimatedSalary  Exited  \n",
       "0        101348.88       1  \n",
       "1        112542.58       0  \n",
       "2        113931.57       1  \n",
       "3         93826.63       0  \n",
       "4         79084.10       0  "
      ]
     },
     "execution_count": 105,
     "metadata": {},
     "output_type": "execute_result"
    }
   ],
   "source": [
    "data.head()"
   ]
  },
  {
   "cell_type": "markdown",
   "metadata": {},
   "source": [
    "### Переименование столбцов\n",
    "\n",
    "Приведем названия столбцов к привычному `змеиному_регистру`."
   ]
  },
  {
   "cell_type": "code",
   "execution_count": 106,
   "metadata": {
    "scrolled": true
   },
   "outputs": [
    {
     "data": {
      "text/html": [
       "<div>\n",
       "<style scoped>\n",
       "    .dataframe tbody tr th:only-of-type {\n",
       "        vertical-align: middle;\n",
       "    }\n",
       "\n",
       "    .dataframe tbody tr th {\n",
       "        vertical-align: top;\n",
       "    }\n",
       "\n",
       "    .dataframe thead th {\n",
       "        text-align: right;\n",
       "    }\n",
       "</style>\n",
       "<table border=\"1\" class=\"dataframe\">\n",
       "  <thead>\n",
       "    <tr style=\"text-align: right;\">\n",
       "      <th></th>\n",
       "      <th>row_number</th>\n",
       "      <th>customer_id</th>\n",
       "      <th>surname</th>\n",
       "      <th>credit_score</th>\n",
       "      <th>geography</th>\n",
       "      <th>gender</th>\n",
       "      <th>age</th>\n",
       "      <th>tenure</th>\n",
       "      <th>balance</th>\n",
       "      <th>num_of_products</th>\n",
       "      <th>has_cr_card</th>\n",
       "      <th>is_active_member</th>\n",
       "      <th>estimated_salary</th>\n",
       "      <th>exited</th>\n",
       "    </tr>\n",
       "  </thead>\n",
       "  <tbody>\n",
       "    <tr>\n",
       "      <th>0</th>\n",
       "      <td>1</td>\n",
       "      <td>15634602</td>\n",
       "      <td>Hargrave</td>\n",
       "      <td>619</td>\n",
       "      <td>France</td>\n",
       "      <td>Female</td>\n",
       "      <td>42</td>\n",
       "      <td>2.0</td>\n",
       "      <td>0.00</td>\n",
       "      <td>1</td>\n",
       "      <td>1</td>\n",
       "      <td>1</td>\n",
       "      <td>101348.88</td>\n",
       "      <td>1</td>\n",
       "    </tr>\n",
       "    <tr>\n",
       "      <th>1</th>\n",
       "      <td>2</td>\n",
       "      <td>15647311</td>\n",
       "      <td>Hill</td>\n",
       "      <td>608</td>\n",
       "      <td>Spain</td>\n",
       "      <td>Female</td>\n",
       "      <td>41</td>\n",
       "      <td>1.0</td>\n",
       "      <td>83807.86</td>\n",
       "      <td>1</td>\n",
       "      <td>0</td>\n",
       "      <td>1</td>\n",
       "      <td>112542.58</td>\n",
       "      <td>0</td>\n",
       "    </tr>\n",
       "    <tr>\n",
       "      <th>2</th>\n",
       "      <td>3</td>\n",
       "      <td>15619304</td>\n",
       "      <td>Onio</td>\n",
       "      <td>502</td>\n",
       "      <td>France</td>\n",
       "      <td>Female</td>\n",
       "      <td>42</td>\n",
       "      <td>8.0</td>\n",
       "      <td>159660.80</td>\n",
       "      <td>3</td>\n",
       "      <td>1</td>\n",
       "      <td>0</td>\n",
       "      <td>113931.57</td>\n",
       "      <td>1</td>\n",
       "    </tr>\n",
       "    <tr>\n",
       "      <th>3</th>\n",
       "      <td>4</td>\n",
       "      <td>15701354</td>\n",
       "      <td>Boni</td>\n",
       "      <td>699</td>\n",
       "      <td>France</td>\n",
       "      <td>Female</td>\n",
       "      <td>39</td>\n",
       "      <td>1.0</td>\n",
       "      <td>0.00</td>\n",
       "      <td>2</td>\n",
       "      <td>0</td>\n",
       "      <td>0</td>\n",
       "      <td>93826.63</td>\n",
       "      <td>0</td>\n",
       "    </tr>\n",
       "    <tr>\n",
       "      <th>4</th>\n",
       "      <td>5</td>\n",
       "      <td>15737888</td>\n",
       "      <td>Mitchell</td>\n",
       "      <td>850</td>\n",
       "      <td>Spain</td>\n",
       "      <td>Female</td>\n",
       "      <td>43</td>\n",
       "      <td>2.0</td>\n",
       "      <td>125510.82</td>\n",
       "      <td>1</td>\n",
       "      <td>1</td>\n",
       "      <td>1</td>\n",
       "      <td>79084.10</td>\n",
       "      <td>0</td>\n",
       "    </tr>\n",
       "  </tbody>\n",
       "</table>\n",
       "</div>"
      ],
      "text/plain": [
       "   row_number  customer_id   surname  credit_score geography  gender  age  \\\n",
       "0           1     15634602  Hargrave           619    France  Female   42   \n",
       "1           2     15647311      Hill           608     Spain  Female   41   \n",
       "2           3     15619304      Onio           502    France  Female   42   \n",
       "3           4     15701354      Boni           699    France  Female   39   \n",
       "4           5     15737888  Mitchell           850     Spain  Female   43   \n",
       "\n",
       "   tenure    balance  num_of_products  has_cr_card  is_active_member  \\\n",
       "0     2.0       0.00                1            1                 1   \n",
       "1     1.0   83807.86                1            0                 1   \n",
       "2     8.0  159660.80                3            1                 0   \n",
       "3     1.0       0.00                2            0                 0   \n",
       "4     2.0  125510.82                1            1                 1   \n",
       "\n",
       "   estimated_salary  exited  \n",
       "0         101348.88       1  \n",
       "1         112542.58       0  \n",
       "2         113931.57       1  \n",
       "3          93826.63       0  \n",
       "4          79084.10       0  "
      ]
     },
     "execution_count": 106,
     "metadata": {},
     "output_type": "execute_result"
    }
   ],
   "source": [
    "data.columns = [re.sub(r'(?<!^)(?=[A-Z])', '_', i).lower() for i in data.columns]\n",
    "data.head()"
   ]
  },
  {
   "cell_type": "markdown",
   "metadata": {},
   "source": [
    "### Распределение данных по столбцам\n",
    "\n",
    "Посмотрим как распределены значения столбцов 'credit_score', 'age', 'balance', 'estimated_salary'."
   ]
  },
  {
   "cell_type": "code",
   "execution_count": 107,
   "metadata": {
    "scrolled": false
   },
   "outputs": [
    {
     "data": {
      "image/png": "[encoded data removed]",
      "text/plain": [
       "<Figure size 1080x504 with 1 Axes>"
      ]
     },
     "metadata": {
      "needs_background": "light"
     },
     "output_type": "display_data"
    },
    {
     "data": {
      "image/png": "[encoded data removed]",
      "text/plain": [
       "<Figure size 1080x504 with 1 Axes>"
      ]
     },
     "metadata": {
      "needs_background": "light"
     },
     "output_type": "display_data"
    },
    {
     "data": {
      "image/png": "[encoded data removed]",
      "text/plain": [
       "<Figure size 1080x504 with 1 Axes>"
      ]
     },
     "metadata": {
      "needs_background": "light"
     },
     "output_type": "display_data"
    },
    {
     "data": {
      "image/png": "[encoded data removed]",
      "text/plain": [
       "<Figure size 1080x504 with 1 Axes>"
      ]
     },
     "metadata": {
      "needs_background": "light"
     },
     "output_type": "display_data"
    }
   ],
   "source": [
    "hist_list = ['credit_score', 'age', 'balance', 'estimated_salary']\n",
    "\n",
    "for column in hist_list:\n",
    "    plt.figure(figsize=(15, 7))\n",
    "    plt.hist(data[column], bins=50)\n",
    "    plt.xlabel(column)\n",
    "    plt.ylabel('Частота')\n",
    "    plt.title(f'Гистограма столбца {column}')\n",
    "    plt.xticks(rotation=45)\n",
    "    plt.show()"
   ]
  },
  {
   "cell_type": "markdown",
   "metadata": {},
   "source": [
    "Данные в столбце `credit_score` распределены нормально с небольшим перекосом вправо. Однако присутствует явный воброс в районе 850. Изучим по подробнее:"
   ]
  },
  {
   "cell_type": "code",
   "execution_count": 108,
   "metadata": {},
   "outputs": [
    {
     "data": {
      "image/png": "[encoded data removed]",
      "text/plain": [
       "<Figure size 1080x216 with 1 Axes>"
      ]
     },
     "metadata": {
      "needs_background": "light"
     },
     "output_type": "display_data"
    }
   ],
   "source": [
    "data['credit_score'].hist(bins=100, range=(800, 900), figsize=(15,3));"
   ]
  },
  {
   "cell_type": "code",
   "execution_count": 109,
   "metadata": {},
   "outputs": [
    {
     "data": {
      "text/plain": [
       "850"
      ]
     },
     "execution_count": 109,
     "metadata": {},
     "output_type": "execute_result"
    }
   ],
   "source": [
    "data['credit_score'].max()"
   ]
  },
  {
   "cell_type": "code",
   "execution_count": 110,
   "metadata": {},
   "outputs": [
    {
     "data": {
      "text/plain": [
       "233"
      ]
     },
     "execution_count": 110,
     "metadata": {},
     "output_type": "execute_result"
    }
   ],
   "source": [
    "data[data['credit_score'] == 850]['credit_score'].count()"
   ]
  },
  {
   "cell_type": "code",
   "execution_count": 111,
   "metadata": {
    "scrolled": true
   },
   "outputs": [
    {
     "data": {
      "text/html": [
       "<div>\n",
       "<style scoped>\n",
       "    .dataframe tbody tr th:only-of-type {\n",
       "        vertical-align: middle;\n",
       "    }\n",
       "\n",
       "    .dataframe tbody tr th {\n",
       "        vertical-align: top;\n",
       "    }\n",
       "\n",
       "    .dataframe thead th {\n",
       "        text-align: right;\n",
       "    }\n",
       "</style>\n",
       "<table border=\"1\" class=\"dataframe\">\n",
       "  <thead>\n",
       "    <tr style=\"text-align: right;\">\n",
       "      <th></th>\n",
       "      <th>row_number</th>\n",
       "      <th>customer_id</th>\n",
       "      <th>surname</th>\n",
       "      <th>credit_score</th>\n",
       "      <th>geography</th>\n",
       "      <th>gender</th>\n",
       "      <th>age</th>\n",
       "      <th>tenure</th>\n",
       "      <th>balance</th>\n",
       "      <th>num_of_products</th>\n",
       "      <th>has_cr_card</th>\n",
       "      <th>is_active_member</th>\n",
       "      <th>estimated_salary</th>\n",
       "      <th>exited</th>\n",
       "    </tr>\n",
       "  </thead>\n",
       "  <tbody>\n",
       "    <tr>\n",
       "      <th>4</th>\n",
       "      <td>5</td>\n",
       "      <td>15737888</td>\n",
       "      <td>Mitchell</td>\n",
       "      <td>850</td>\n",
       "      <td>Spain</td>\n",
       "      <td>Female</td>\n",
       "      <td>43</td>\n",
       "      <td>2.0</td>\n",
       "      <td>125510.82</td>\n",
       "      <td>1</td>\n",
       "      <td>1</td>\n",
       "      <td>1</td>\n",
       "      <td>79084.10</td>\n",
       "      <td>0</td>\n",
       "    </tr>\n",
       "    <tr>\n",
       "      <th>38</th>\n",
       "      <td>39</td>\n",
       "      <td>15717426</td>\n",
       "      <td>Armstrong</td>\n",
       "      <td>850</td>\n",
       "      <td>France</td>\n",
       "      <td>Male</td>\n",
       "      <td>36</td>\n",
       "      <td>7.0</td>\n",
       "      <td>0.00</td>\n",
       "      <td>1</td>\n",
       "      <td>1</td>\n",
       "      <td>1</td>\n",
       "      <td>40812.90</td>\n",
       "      <td>0</td>\n",
       "    </tr>\n",
       "    <tr>\n",
       "      <th>180</th>\n",
       "      <td>181</td>\n",
       "      <td>15716334</td>\n",
       "      <td>Rozier</td>\n",
       "      <td>850</td>\n",
       "      <td>Spain</td>\n",
       "      <td>Female</td>\n",
       "      <td>45</td>\n",
       "      <td>0.0</td>\n",
       "      <td>122311.21</td>\n",
       "      <td>1</td>\n",
       "      <td>1</td>\n",
       "      <td>1</td>\n",
       "      <td>19482.50</td>\n",
       "      <td>0</td>\n",
       "    </tr>\n",
       "    <tr>\n",
       "      <th>200</th>\n",
       "      <td>201</td>\n",
       "      <td>15604482</td>\n",
       "      <td>Chiemezie</td>\n",
       "      <td>850</td>\n",
       "      <td>Spain</td>\n",
       "      <td>Male</td>\n",
       "      <td>30</td>\n",
       "      <td>2.0</td>\n",
       "      <td>141040.01</td>\n",
       "      <td>1</td>\n",
       "      <td>1</td>\n",
       "      <td>1</td>\n",
       "      <td>5978.20</td>\n",
       "      <td>0</td>\n",
       "    </tr>\n",
       "    <tr>\n",
       "      <th>223</th>\n",
       "      <td>224</td>\n",
       "      <td>15733247</td>\n",
       "      <td>Stevenson</td>\n",
       "      <td>850</td>\n",
       "      <td>France</td>\n",
       "      <td>Male</td>\n",
       "      <td>33</td>\n",
       "      <td>10.0</td>\n",
       "      <td>0.00</td>\n",
       "      <td>1</td>\n",
       "      <td>1</td>\n",
       "      <td>0</td>\n",
       "      <td>4861.72</td>\n",
       "      <td>1</td>\n",
       "    </tr>\n",
       "    <tr>\n",
       "      <th>259</th>\n",
       "      <td>260</td>\n",
       "      <td>15607178</td>\n",
       "      <td>Welch</td>\n",
       "      <td>850</td>\n",
       "      <td>Germany</td>\n",
       "      <td>Male</td>\n",
       "      <td>38</td>\n",
       "      <td>3.0</td>\n",
       "      <td>54901.01</td>\n",
       "      <td>1</td>\n",
       "      <td>1</td>\n",
       "      <td>1</td>\n",
       "      <td>140075.55</td>\n",
       "      <td>0</td>\n",
       "    </tr>\n",
       "    <tr>\n",
       "      <th>356</th>\n",
       "      <td>357</td>\n",
       "      <td>15611759</td>\n",
       "      <td>Simmons</td>\n",
       "      <td>850</td>\n",
       "      <td>Spain</td>\n",
       "      <td>Female</td>\n",
       "      <td>57</td>\n",
       "      <td>8.0</td>\n",
       "      <td>126776.30</td>\n",
       "      <td>2</td>\n",
       "      <td>1</td>\n",
       "      <td>1</td>\n",
       "      <td>132298.49</td>\n",
       "      <td>0</td>\n",
       "    </tr>\n",
       "    <tr>\n",
       "      <th>411</th>\n",
       "      <td>412</td>\n",
       "      <td>15760431</td>\n",
       "      <td>Pino</td>\n",
       "      <td>850</td>\n",
       "      <td>France</td>\n",
       "      <td>Male</td>\n",
       "      <td>38</td>\n",
       "      <td>1.0</td>\n",
       "      <td>0.00</td>\n",
       "      <td>2</td>\n",
       "      <td>1</td>\n",
       "      <td>1</td>\n",
       "      <td>80006.65</td>\n",
       "      <td>0</td>\n",
       "    </tr>\n",
       "    <tr>\n",
       "      <th>451</th>\n",
       "      <td>452</td>\n",
       "      <td>15785798</td>\n",
       "      <td>Uchechukwu</td>\n",
       "      <td>850</td>\n",
       "      <td>France</td>\n",
       "      <td>Male</td>\n",
       "      <td>40</td>\n",
       "      <td>9.0</td>\n",
       "      <td>0.00</td>\n",
       "      <td>2</td>\n",
       "      <td>0</td>\n",
       "      <td>1</td>\n",
       "      <td>119232.33</td>\n",
       "      <td>0</td>\n",
       "    </tr>\n",
       "    <tr>\n",
       "      <th>466</th>\n",
       "      <td>467</td>\n",
       "      <td>15663252</td>\n",
       "      <td>Olisanugo</td>\n",
       "      <td>850</td>\n",
       "      <td>Spain</td>\n",
       "      <td>Female</td>\n",
       "      <td>32</td>\n",
       "      <td>9.0</td>\n",
       "      <td>0.00</td>\n",
       "      <td>2</td>\n",
       "      <td>1</td>\n",
       "      <td>1</td>\n",
       "      <td>18924.92</td>\n",
       "      <td>0</td>\n",
       "    </tr>\n",
       "    <tr>\n",
       "      <th>520</th>\n",
       "      <td>521</td>\n",
       "      <td>15671256</td>\n",
       "      <td>Macartney</td>\n",
       "      <td>850</td>\n",
       "      <td>France</td>\n",
       "      <td>Female</td>\n",
       "      <td>35</td>\n",
       "      <td>1.0</td>\n",
       "      <td>211774.31</td>\n",
       "      <td>1</td>\n",
       "      <td>1</td>\n",
       "      <td>0</td>\n",
       "      <td>188574.12</td>\n",
       "      <td>1</td>\n",
       "    </tr>\n",
       "    <tr>\n",
       "      <th>521</th>\n",
       "      <td>522</td>\n",
       "      <td>15653547</td>\n",
       "      <td>Madukwe</td>\n",
       "      <td>850</td>\n",
       "      <td>France</td>\n",
       "      <td>Male</td>\n",
       "      <td>56</td>\n",
       "      <td>7.0</td>\n",
       "      <td>131317.48</td>\n",
       "      <td>1</td>\n",
       "      <td>1</td>\n",
       "      <td>1</td>\n",
       "      <td>119175.45</td>\n",
       "      <td>0</td>\n",
       "    </tr>\n",
       "    <tr>\n",
       "      <th>559</th>\n",
       "      <td>560</td>\n",
       "      <td>15571816</td>\n",
       "      <td>Ritchie</td>\n",
       "      <td>850</td>\n",
       "      <td>Spain</td>\n",
       "      <td>Female</td>\n",
       "      <td>70</td>\n",
       "      <td>8.0</td>\n",
       "      <td>0.00</td>\n",
       "      <td>1</td>\n",
       "      <td>1</td>\n",
       "      <td>1</td>\n",
       "      <td>705.18</td>\n",
       "      <td>0</td>\n",
       "    </tr>\n",
       "    <tr>\n",
       "      <th>625</th>\n",
       "      <td>626</td>\n",
       "      <td>15604119</td>\n",
       "      <td>Alderete</td>\n",
       "      <td>850</td>\n",
       "      <td>Spain</td>\n",
       "      <td>Male</td>\n",
       "      <td>35</td>\n",
       "      <td>7.0</td>\n",
       "      <td>110349.82</td>\n",
       "      <td>1</td>\n",
       "      <td>0</td>\n",
       "      <td>0</td>\n",
       "      <td>126355.80</td>\n",
       "      <td>0</td>\n",
       "    </tr>\n",
       "    <tr>\n",
       "      <th>634</th>\n",
       "      <td>635</td>\n",
       "      <td>15738181</td>\n",
       "      <td>Douglas</td>\n",
       "      <td>850</td>\n",
       "      <td>France</td>\n",
       "      <td>Male</td>\n",
       "      <td>31</td>\n",
       "      <td>6.0</td>\n",
       "      <td>67996.23</td>\n",
       "      <td>2</td>\n",
       "      <td>0</td>\n",
       "      <td>0</td>\n",
       "      <td>50129.87</td>\n",
       "      <td>1</td>\n",
       "    </tr>\n",
       "    <tr>\n",
       "      <th>792</th>\n",
       "      <td>793</td>\n",
       "      <td>15707473</td>\n",
       "      <td>Summers</td>\n",
       "      <td>850</td>\n",
       "      <td>Germany</td>\n",
       "      <td>Female</td>\n",
       "      <td>48</td>\n",
       "      <td>6.0</td>\n",
       "      <td>111962.99</td>\n",
       "      <td>1</td>\n",
       "      <td>1</td>\n",
       "      <td>0</td>\n",
       "      <td>111755.80</td>\n",
       "      <td>0</td>\n",
       "    </tr>\n",
       "    <tr>\n",
       "      <th>804</th>\n",
       "      <td>805</td>\n",
       "      <td>15640280</td>\n",
       "      <td>Cameron</td>\n",
       "      <td>850</td>\n",
       "      <td>France</td>\n",
       "      <td>Male</td>\n",
       "      <td>39</td>\n",
       "      <td>4.0</td>\n",
       "      <td>127771.35</td>\n",
       "      <td>2</td>\n",
       "      <td>0</td>\n",
       "      <td>1</td>\n",
       "      <td>151738.54</td>\n",
       "      <td>0</td>\n",
       "    </tr>\n",
       "    <tr>\n",
       "      <th>937</th>\n",
       "      <td>938</td>\n",
       "      <td>15662100</td>\n",
       "      <td>Hsu</td>\n",
       "      <td>850</td>\n",
       "      <td>Germany</td>\n",
       "      <td>Female</td>\n",
       "      <td>44</td>\n",
       "      <td>5.0</td>\n",
       "      <td>128605.32</td>\n",
       "      <td>1</td>\n",
       "      <td>0</td>\n",
       "      <td>1</td>\n",
       "      <td>171096.20</td>\n",
       "      <td>0</td>\n",
       "    </tr>\n",
       "    <tr>\n",
       "      <th>960</th>\n",
       "      <td>961</td>\n",
       "      <td>15686164</td>\n",
       "      <td>Maclean</td>\n",
       "      <td>850</td>\n",
       "      <td>Germany</td>\n",
       "      <td>Female</td>\n",
       "      <td>31</td>\n",
       "      <td>1.0</td>\n",
       "      <td>108822.40</td>\n",
       "      <td>1</td>\n",
       "      <td>1</td>\n",
       "      <td>1</td>\n",
       "      <td>132173.31</td>\n",
       "      <td>0</td>\n",
       "    </tr>\n",
       "    <tr>\n",
       "      <th>1018</th>\n",
       "      <td>1019</td>\n",
       "      <td>15602010</td>\n",
       "      <td>Zikoranaudodimma</td>\n",
       "      <td>850</td>\n",
       "      <td>Germany</td>\n",
       "      <td>Female</td>\n",
       "      <td>45</td>\n",
       "      <td>5.0</td>\n",
       "      <td>103909.86</td>\n",
       "      <td>1</td>\n",
       "      <td>1</td>\n",
       "      <td>0</td>\n",
       "      <td>60083.11</td>\n",
       "      <td>1</td>\n",
       "    </tr>\n",
       "  </tbody>\n",
       "</table>\n",
       "</div>"
      ],
      "text/plain": [
       "      row_number  customer_id           surname  credit_score geography  \\\n",
       "4              5     15737888          Mitchell           850     Spain   \n",
       "38            39     15717426         Armstrong           850    France   \n",
       "180          181     15716334            Rozier           850     Spain   \n",
       "200          201     15604482         Chiemezie           850     Spain   \n",
       "223          224     15733247         Stevenson           850    France   \n",
       "259          260     15607178             Welch           850   Germany   \n",
       "356          357     15611759           Simmons           850     Spain   \n",
       "411          412     15760431              Pino           850    France   \n",
       "451          452     15785798        Uchechukwu           850    France   \n",
       "466          467     15663252         Olisanugo           850     Spain   \n",
       "520          521     15671256         Macartney           850    France   \n",
       "521          522     15653547           Madukwe           850    France   \n",
       "559          560     15571816           Ritchie           850     Spain   \n",
       "625          626     15604119          Alderete           850     Spain   \n",
       "634          635     15738181           Douglas           850    France   \n",
       "792          793     15707473           Summers           850   Germany   \n",
       "804          805     15640280           Cameron           850    France   \n",
       "937          938     15662100               Hsu           850   Germany   \n",
       "960          961     15686164           Maclean           850   Germany   \n",
       "1018        1019     15602010  Zikoranaudodimma           850   Germany   \n",
       "\n",
       "      gender  age  tenure    balance  num_of_products  has_cr_card  \\\n",
       "4     Female   43     2.0  125510.82                1            1   \n",
       "38      Male   36     7.0       0.00                1            1   \n",
       "180   Female   45     0.0  122311.21                1            1   \n",
       "200     Male   30     2.0  141040.01                1            1   \n",
       "223     Male   33    10.0       0.00                1            1   \n",
       "259     Male   38     3.0   54901.01                1            1   \n",
       "356   Female   57     8.0  126776.30                2            1   \n",
       "411     Male   38     1.0       0.00                2            1   \n",
       "451     Male   40     9.0       0.00                2            0   \n",
       "466   Female   32     9.0       0.00                2            1   \n",
       "520   Female   35     1.0  211774.31                1            1   \n",
       "521     Male   56     7.0  131317.48                1            1   \n",
       "559   Female   70     8.0       0.00                1            1   \n",
       "625     Male   35     7.0  110349.82                1            0   \n",
       "634     Male   31     6.0   67996.23                2            0   \n",
       "792   Female   48     6.0  111962.99                1            1   \n",
       "804     Male   39     4.0  127771.35                2            0   \n",
       "937   Female   44     5.0  128605.32                1            0   \n",
       "960   Female   31     1.0  108822.40                1            1   \n",
       "1018  Female   45     5.0  103909.86                1            1   \n",
       "\n",
       "      is_active_member  estimated_salary  exited  \n",
       "4                    1          79084.10       0  \n",
       "38                   1          40812.90       0  \n",
       "180                  1          19482.50       0  \n",
       "200                  1           5978.20       0  \n",
       "223                  0           4861.72       1  \n",
       "259                  1         140075.55       0  \n",
       "356                  1         132298.49       0  \n",
       "411                  1          80006.65       0  \n",
       "451                  1         119232.33       0  \n",
       "466                  1          18924.92       0  \n",
       "520                  0         188574.12       1  \n",
       "521                  1         119175.45       0  \n",
       "559                  1            705.18       0  \n",
       "625                  0         126355.80       0  \n",
       "634                  0          50129.87       1  \n",
       "792                  0         111755.80       0  \n",
       "804                  1         151738.54       0  \n",
       "937                  1         171096.20       0  \n",
       "960                  1         132173.31       0  \n",
       "1018                 0          60083.11       1  "
      ]
     },
     "execution_count": 111,
     "metadata": {},
     "output_type": "execute_result"
    }
   ],
   "source": [
    "data[data['credit_score'] == 850].head(20)"
   ]
  },
  {
   "cell_type": "markdown",
   "metadata": {},
   "source": [
    "Значение 850 говорит о безупречном кредитном рейтинге клиентов. Таких клиентов 233 человека, что в общей выборке из 10000 вполне возможно.\n",
    "\n",
    "Посмотрим на выброс в районе 0 для столбца `balance`"
   ]
  },
  {
   "cell_type": "code",
   "execution_count": 112,
   "metadata": {},
   "outputs": [
    {
     "data": {
      "image/png": "[encoded data removed]",
      "text/plain": [
       "<Figure size 1080x216 with 1 Axes>"
      ]
     },
     "metadata": {
      "needs_background": "light"
     },
     "output_type": "display_data"
    }
   ],
   "source": [
    "data['balance'].hist(bins=50, range=(0, 10), figsize=(15,3));"
   ]
  },
  {
   "cell_type": "code",
   "execution_count": 113,
   "metadata": {},
   "outputs": [
    {
     "data": {
      "text/plain": [
       "3617"
      ]
     },
     "execution_count": 113,
     "metadata": {},
     "output_type": "execute_result"
    }
   ],
   "source": [
    "data[data['balance'] == 0]['balance'].count()"
   ]
  },
  {
   "cell_type": "markdown",
   "metadata": {},
   "source": [
    "У `36%` пользователей баланс равен 0.\n",
    "\n",
    "Изучим остальные признаки: `geography`, `gender`, `tenure`, `num_of_products`, `has_cr_card`, `is_active_member`, `exited`"
   ]
  },
  {
   "cell_type": "code",
   "execution_count": 114,
   "metadata": {},
   "outputs": [
    {
     "data": {
      "image/png": "[encoded data removed]",
      "text/plain": [
       "<Figure size 720x720 with 1 Axes>"
      ]
     },
     "metadata": {},
     "output_type": "display_data"
    }
   ],
   "source": [
    "plt.figure(figsize=(10, 10));\n",
    "plt.pie(data['geography'].value_counts(), labels=data['geography'].value_counts(), autopct='%1.1f%%')\n",
    "plt.axis('equal') \n",
    "plt.title('Круговая диаграмма стран', loc='left')\n",
    "plt.legend(data['geography'].unique(), loc='best')\n",
    "plt.show()"
   ]
  },
  {
   "cell_type": "markdown",
   "metadata": {},
   "source": [
    "Больше половины клиентов из Франции (50,1%).\n",
    "\n",
    "Посмотрим на параметр `gender`"
   ]
  },
  {
   "cell_type": "code",
   "execution_count": 115,
   "metadata": {},
   "outputs": [
    {
     "data": {
      "image/png": "[encoded data removed]",
      "text/plain": [
       "<Figure size 720x720 with 1 Axes>"
      ]
     },
     "metadata": {},
     "output_type": "display_data"
    }
   ],
   "source": [
    "plt.figure(figsize=(10, 10));\n",
    "plt.pie(data['gender'].value_counts(), labels=data['gender'].value_counts(), autopct='%1.1f%%')\n",
    "plt.axis('equal') \n",
    "plt.title('Круговая диаграмма по гендеру', loc='left')\n",
    "plt.legend(data['gender'].unique(), loc='best')\n",
    "plt.show()"
   ]
  },
  {
   "cell_type": "markdown",
   "metadata": {},
   "source": [
    "Женщин больше половины (54,6%)."
   ]
  },
  {
   "cell_type": "markdown",
   "metadata": {},
   "source": [
    "Для признаков `tenure`, `num_of_products`, `has_cr_card`, `is_active_member`, `exited` постороим столбчатую диаграмму."
   ]
  },
  {
   "cell_type": "code",
   "execution_count": 116,
   "metadata": {
    "scrolled": true
   },
   "outputs": [
    {
     "data": {
      "image/png": "[encoded data removed]",
      "text/plain": [
       "<Figure size 720x360 with 1 Axes>"
      ]
     },
     "metadata": {
      "needs_background": "light"
     },
     "output_type": "display_data"
    },
    {
     "data": {
      "image/png": "[encoded data removed]",
      "text/plain": [
       "<Figure size 720x360 with 1 Axes>"
      ]
     },
     "metadata": {
      "needs_background": "light"
     },
     "output_type": "display_data"
    },
    {
     "data": {
      "image/png": "[encoded data removed]",
      "text/plain": [
       "<Figure size 720x360 with 1 Axes>"
      ]
     },
     "metadata": {
      "needs_background": "light"
     },
     "output_type": "display_data"
    },
    {
     "data": {
      "image/png": "[encoded data removed]",
      "text/plain": [
       "<Figure size 720x360 with 1 Axes>"
      ]
     },
     "metadata": {
      "needs_background": "light"
     },
     "output_type": "display_data"
    },
    {
     "data": {
      "image/png": "[encoded data removed]",
      "text/plain": [
       "<Figure size 720x360 with 1 Axes>"
      ]
     },
     "metadata": {
      "needs_background": "light"
     },
     "output_type": "display_data"
    }
   ],
   "source": [
    "bar_list = ['tenure', 'num_of_products', 'has_cr_card', 'is_active_member', 'exited']\n",
    "for col in bar_list:\n",
    "    plt.figure(figsize=(10, 5));\n",
    "    data[col].sort_values().value_counts().sort_index().plot(kind='bar', grid=True);\n",
    "    plt.title(col);\n",
    "    plt.show();"
   ]
  },
  {
   "cell_type": "markdown",
   "metadata": {},
   "source": [
    "`tenure` - пользователи распределены равномерно\n",
    "`num_of_products` - пользователей с 1-2 продуктами подавляющее большинство\n",
    "`has_cr_card` - владельцев кредитных карт более чем в 2 раза больше в данной выборке\n",
    "`is_active_member` - активных пользователей больше немного половины\n",
    "`exited` - остающиеся пользователи и ушедшие распределены в соотношении 80/20 соответственно.\n",
    "\n",
    "### Подготовка данных для обучения модели\n",
    "\n",
    "Небходимо удалить из датафрейма столбцы, которые не нужны для обучения модели: `row_number, customer_id, surname`"
   ]
  },
  {
   "cell_type": "code",
   "execution_count": 117,
   "metadata": {},
   "outputs": [
    {
     "name": "stdout",
     "output_type": "stream",
     "text": [
      "<class 'pandas.core.frame.DataFrame'>\n",
      "RangeIndex: 10000 entries, 0 to 9999\n",
      "Data columns (total 11 columns):\n",
      " #   Column            Non-Null Count  Dtype  \n",
      "---  ------            --------------  -----  \n",
      " 0   credit_score      10000 non-null  int64  \n",
      " 1   geography         10000 non-null  object \n",
      " 2   gender            10000 non-null  object \n",
      " 3   age               10000 non-null  int64  \n",
      " 4   tenure            10000 non-null  float64\n",
      " 5   balance           10000 non-null  float64\n",
      " 6   num_of_products   10000 non-null  int64  \n",
      " 7   has_cr_card       10000 non-null  int64  \n",
      " 8   is_active_member  10000 non-null  int64  \n",
      " 9   estimated_salary  10000 non-null  float64\n",
      " 10  exited            10000 non-null  int64  \n",
      "dtypes: float64(3), int64(6), object(2)\n",
      "memory usage: 859.5+ KB\n"
     ]
    }
   ],
   "source": [
    "data = data.drop(['row_number', 'customer_id', 'surname'], axis=1)\n",
    "data.info()"
   ]
  },
  {
   "cell_type": "markdown",
   "metadata": {},
   "source": [
    "Так же необходимо преобразовать столбцы типа **object** (`geography`, `gender`) в численный тип, используя технику One-Hot-Encoding "
   ]
  },
  {
   "cell_type": "code",
   "execution_count": 118,
   "metadata": {},
   "outputs": [
    {
     "name": "stdout",
     "output_type": "stream",
     "text": [
      "<class 'pandas.core.frame.DataFrame'>\n",
      "RangeIndex: 10000 entries, 0 to 9999\n",
      "Data columns (total 12 columns):\n",
      " #   Column             Non-Null Count  Dtype  \n",
      "---  ------             --------------  -----  \n",
      " 0   credit_score       10000 non-null  int64  \n",
      " 1   age                10000 non-null  int64  \n",
      " 2   tenure             10000 non-null  float64\n",
      " 3   balance            10000 non-null  float64\n",
      " 4   num_of_products    10000 non-null  int64  \n",
      " 5   has_cr_card        10000 non-null  int64  \n",
      " 6   is_active_member   10000 non-null  int64  \n",
      " 7   estimated_salary   10000 non-null  float64\n",
      " 8   exited             10000 non-null  int64  \n",
      " 9   geography_Germany  10000 non-null  uint8  \n",
      " 10  geography_Spain    10000 non-null  uint8  \n",
      " 11  gender_Male        10000 non-null  uint8  \n",
      "dtypes: float64(3), int64(6), uint8(3)\n",
      "memory usage: 732.5 KB\n"
     ]
    }
   ],
   "source": [
    "data = pd.get_dummies(data, columns=['geography', 'gender'], drop_first=True)\n",
    "data.info()"
   ]
  },
  {
   "cell_type": "code",
   "execution_count": 119,
   "metadata": {},
   "outputs": [
    {
     "data": {
      "text/html": [
       "<div>\n",
       "<style scoped>\n",
       "    .dataframe tbody tr th:only-of-type {\n",
       "        vertical-align: middle;\n",
       "    }\n",
       "\n",
       "    .dataframe tbody tr th {\n",
       "        vertical-align: top;\n",
       "    }\n",
       "\n",
       "    .dataframe thead th {\n",
       "        text-align: right;\n",
       "    }\n",
       "</style>\n",
       "<table border=\"1\" class=\"dataframe\">\n",
       "  <thead>\n",
       "    <tr style=\"text-align: right;\">\n",
       "      <th></th>\n",
       "      <th>credit_score</th>\n",
       "      <th>age</th>\n",
       "      <th>tenure</th>\n",
       "      <th>balance</th>\n",
       "      <th>num_of_products</th>\n",
       "      <th>has_cr_card</th>\n",
       "      <th>is_active_member</th>\n",
       "      <th>estimated_salary</th>\n",
       "      <th>exited</th>\n",
       "      <th>geography_Germany</th>\n",
       "      <th>geography_Spain</th>\n",
       "      <th>gender_Male</th>\n",
       "    </tr>\n",
       "  </thead>\n",
       "  <tbody>\n",
       "    <tr>\n",
       "      <th>0</th>\n",
       "      <td>619</td>\n",
       "      <td>42</td>\n",
       "      <td>2.0</td>\n",
       "      <td>0.00</td>\n",
       "      <td>1</td>\n",
       "      <td>1</td>\n",
       "      <td>1</td>\n",
       "      <td>101348.88</td>\n",
       "      <td>1</td>\n",
       "      <td>0</td>\n",
       "      <td>0</td>\n",
       "      <td>0</td>\n",
       "    </tr>\n",
       "    <tr>\n",
       "      <th>1</th>\n",
       "      <td>608</td>\n",
       "      <td>41</td>\n",
       "      <td>1.0</td>\n",
       "      <td>83807.86</td>\n",
       "      <td>1</td>\n",
       "      <td>0</td>\n",
       "      <td>1</td>\n",
       "      <td>112542.58</td>\n",
       "      <td>0</td>\n",
       "      <td>0</td>\n",
       "      <td>1</td>\n",
       "      <td>0</td>\n",
       "    </tr>\n",
       "    <tr>\n",
       "      <th>2</th>\n",
       "      <td>502</td>\n",
       "      <td>42</td>\n",
       "      <td>8.0</td>\n",
       "      <td>159660.80</td>\n",
       "      <td>3</td>\n",
       "      <td>1</td>\n",
       "      <td>0</td>\n",
       "      <td>113931.57</td>\n",
       "      <td>1</td>\n",
       "      <td>0</td>\n",
       "      <td>0</td>\n",
       "      <td>0</td>\n",
       "    </tr>\n",
       "    <tr>\n",
       "      <th>3</th>\n",
       "      <td>699</td>\n",
       "      <td>39</td>\n",
       "      <td>1.0</td>\n",
       "      <td>0.00</td>\n",
       "      <td>2</td>\n",
       "      <td>0</td>\n",
       "      <td>0</td>\n",
       "      <td>93826.63</td>\n",
       "      <td>0</td>\n",
       "      <td>0</td>\n",
       "      <td>0</td>\n",
       "      <td>0</td>\n",
       "    </tr>\n",
       "    <tr>\n",
       "      <th>4</th>\n",
       "      <td>850</td>\n",
       "      <td>43</td>\n",
       "      <td>2.0</td>\n",
       "      <td>125510.82</td>\n",
       "      <td>1</td>\n",
       "      <td>1</td>\n",
       "      <td>1</td>\n",
       "      <td>79084.10</td>\n",
       "      <td>0</td>\n",
       "      <td>0</td>\n",
       "      <td>1</td>\n",
       "      <td>0</td>\n",
       "    </tr>\n",
       "  </tbody>\n",
       "</table>\n",
       "</div>"
      ],
      "text/plain": [
       "   credit_score  age  tenure    balance  num_of_products  has_cr_card  \\\n",
       "0           619   42     2.0       0.00                1            1   \n",
       "1           608   41     1.0   83807.86                1            0   \n",
       "2           502   42     8.0  159660.80                3            1   \n",
       "3           699   39     1.0       0.00                2            0   \n",
       "4           850   43     2.0  125510.82                1            1   \n",
       "\n",
       "   is_active_member  estimated_salary  exited  geography_Germany  \\\n",
       "0                 1         101348.88       1                  0   \n",
       "1                 1         112542.58       0                  0   \n",
       "2                 0         113931.57       1                  0   \n",
       "3                 0          93826.63       0                  0   \n",
       "4                 1          79084.10       0                  0   \n",
       "\n",
       "   geography_Spain  gender_Male  \n",
       "0                0            0  \n",
       "1                1            0  \n",
       "2                0            0  \n",
       "3                0            0  \n",
       "4                1            0  "
      ]
     },
     "execution_count": 119,
     "metadata": {},
     "output_type": "execute_result"
    }
   ],
   "source": [
    "data.head()"
   ]
  },
  {
   "cell_type": "markdown",
   "metadata": {},
   "source": [
    "### Вывод\n",
    "\n",
    "**На этапе подготовки данных выполнено:**\n",
    " - заполнение пропущенных значений\n",
    " - приведены в порядок названия столбцов\n",
    " - проведено общее знакомство с распределение данных\n",
    " - удалены столбцы, которые не нужны для обучения модели\n",
    " - категориальные переменные закодированы техникой OHE\n",
    " \n",
    "Данные подготовлены к обучению модели."
   ]
  },
  {
   "cell_type": "markdown",
   "metadata": {},
   "source": [
    "## Исследование задачи\n",
    "\n",
    "### Разделение данных на выборки\n",
    "\n",
    "Разделим выборку на: \n",
    "\n",
    " - `exited` - целевой признак\n",
    " \n",
    "И остальные  - `предикторы`"
   ]
  },
  {
   "cell_type": "code",
   "execution_count": 120,
   "metadata": {},
   "outputs": [],
   "source": [
    "features = data.drop(['exited'], axis=1)\n",
    "target = data['exited']"
   ]
  },
  {
   "cell_type": "markdown",
   "metadata": {},
   "source": [
    "Разделим данные на тренировочную, валидационную и тестовую выборки в соотношении 3:1:1"
   ]
  },
  {
   "cell_type": "code",
   "execution_count": 121,
   "metadata": {},
   "outputs": [
    {
     "name": "stdout",
     "output_type": "stream",
     "text": [
      "Тренировочная выборка:  6000\n",
      "Валидационная выборка:  2000\n",
      "Тестовая выборка:  2000\n"
     ]
    }
   ],
   "source": [
    "features_vt, features_test, target_vt, target_test = train_test_split(\n",
    "    features, target, test_size=0.2, random_state=12345, stratify=target)\n",
    "\n",
    "features_train, features_valid, target_train, target_valid = train_test_split(\n",
    "    features_vt, target_vt, test_size=0.25, random_state=12345, stratify=target_vt)\n",
    "\n",
    "print('Тренировочная выборка: ', len(target_train))\n",
    "print('Валидационная выборка: ', len(target_valid))\n",
    "print('Тестовая выборка: ', len(target_test))"
   ]
  },
  {
   "cell_type": "markdown",
   "metadata": {},
   "source": [
    "### Маштабирование признаков\n",
    "\n",
    "Во избежание переоценки значимости признаков с бОльшими численными значениеми необходимо стандартизировать данные."
   ]
  },
  {
   "cell_type": "code",
   "execution_count": 122,
   "metadata": {},
   "outputs": [],
   "source": [
    "pd.options.mode.chained_assignment = None\n",
    "\n",
    "numeric = ['credit_score', 'age', 'tenure', 'balance', 'estimated_salary']\n",
    "scaler = StandardScaler()\n",
    "scaler.fit(features_train[numeric])\n",
    "features_train[numeric] = scaler.transform(features_train[numeric])\n",
    "features_valid[numeric] = scaler.transform(features_valid[numeric])\n",
    "features_test[numeric] = scaler.transform(features_test[numeric])"
   ]
  },
  {
   "cell_type": "markdown",
   "metadata": {},
   "source": [
    "## Дерево решений\n",
    "\n",
    "Обучим модель дерева решений и посчитаем значение f1 меры для разной глубины деревьев."
   ]
  },
  {
   "cell_type": "code",
   "execution_count": 123,
   "metadata": {},
   "outputs": [
    {
     "name": "stdout",
     "output_type": "stream",
     "text": [
      "0.573082489146165 лучшее значение f1 с глубиной дерева:  8\n"
     ]
    },
    {
     "data": {
      "image/png": "[encoded data removed]",
      "text/plain": [
       "<Figure size 1080x720 with 1 Axes>"
      ]
     },
     "metadata": {
      "needs_background": "light"
     },
     "output_type": "display_data"
    }
   ],
   "source": [
    "best_model = None\n",
    "best_result = 0\n",
    "model_depth = 0\n",
    "epohs_tree = []\n",
    "results_valid_tree = []\n",
    "\n",
    "for depth in range(1, 20):\n",
    "    model = DecisionTreeClassifier(random_state=12345, max_depth=depth)\n",
    "    model.fit(features_train, target_train)\n",
    "    predicted_valid = model.predict(features_valid)\n",
    "    result = f1_score(target_valid, predicted_valid)\n",
    "    epohs_tree.append(depth)\n",
    "    results_valid_tree.append(result)\n",
    "    if result > best_result:\n",
    "        best_result = result\n",
    "        model_depth = depth\n",
    "        best_model = model\n",
    "        \n",
    "print(best_result, 'лучшее значение f1 с глубиной дерева: ', model_depth)\n",
    "\n",
    "plt.figure(figsize=(15, 10));\n",
    "plt.plot(epohs_tree, results_valid_tree, label='valid_data');\n",
    "plt.xlabel('Глубина дерева')\n",
    "plt.ylabel('Точность')\n",
    "plt.title('Зависимость точности от глубины дерева')\n",
    "plt.legend()\n",
    "plt.show()"
   ]
  },
  {
   "cell_type": "markdown",
   "metadata": {},
   "source": [
    "Самое высокое значение f1 меры - `0.573082489146165` при глубине дерев - `8`\n",
    "\n",
    "### Случайный лес\n",
    "\n",
    "Обучим модель случайного леса и посчитаем значение f1 меры для разной глубины деревьев и количества деревьев."
   ]
  },
  {
   "cell_type": "code",
   "execution_count": 124,
   "metadata": {},
   "outputs": [
    {
     "data": {
      "image/png": "[encoded data removed]",
      "text/plain": [
       "<Figure size 1080x504 with 1 Axes>"
      ]
     },
     "metadata": {
      "needs_background": "light"
     },
     "output_type": "display_data"
    },
    {
     "name": "stdout",
     "output_type": "stream",
     "text": [
      "f1 лучшей модели для леса: 0.5864197530864197\n",
      "Глубина для лучшей модели: 22\n",
      "Количество деревьев для лучшей модели: 100\n"
     ]
    }
   ],
   "source": [
    "best_model = None\n",
    "best_result = 0\n",
    "model_depth = 0\n",
    "epohs_forest = []\n",
    "results_valid_forest = []\n",
    "\n",
    "for est in range(10, 151, 10):\n",
    "    for depth in range(1, 30):\n",
    "        model = RandomForestClassifier(random_state=12345, max_depth=depth, n_estimators=est)\n",
    "        model.fit(features_train, target_train)\n",
    "        predicted_valid = model.predict(features_valid)\n",
    "        result = f1_score(target_valid, predicted_valid)\n",
    "        results_valid_forest.append({'accuracy': result, 'depth':depth, 'est':est})\n",
    "        if result > best_result:\n",
    "            best_model = model\n",
    "            best_result = result\n",
    "            best_est = est\n",
    "            best_depth = depth\n",
    "            \n",
    "\n",
    "rf_results = pd.DataFrame(results_valid_forest)\n",
    "rf_results.pivot_table(index='depth', columns='est', values='accuracy').plot(figsize=(15, 7));\n",
    "plt.xticks(fontsize=14) \n",
    "plt.yticks(fontsize=14) \n",
    "plt.xlabel('Глубина деревьев', fontsize=14) \n",
    "plt.ylabel('f1 метрика', fontsize=14) \n",
    "plt.title('Точность моделей в зависимости от глубины дерева', fontsize=16) \n",
    "plt.show()\n",
    "print('f1 лучшей модели для леса:', best_result)\n",
    "print('Глубина для лучшей модели:', best_depth)\n",
    "print('Количество деревьев для лучшей модели:', best_est)     "
   ]
  },
  {
   "cell_type": "markdown",
   "metadata": {},
   "source": [
    "Наиболее высокое значение f1 меры модели случайного леса получилось с гиперпараметрами:\n",
    "\n",
    " - `max_depth` - 22\n",
    " - `n_estimators` - 100"
   ]
  },
  {
   "cell_type": "markdown",
   "metadata": {},
   "source": [
    "### Логистическая регрессия\n",
    "\n",
    "Обучим модел логистической регрессии и посмотрим на её значение f1 меры."
   ]
  },
  {
   "cell_type": "code",
   "execution_count": 125,
   "metadata": {},
   "outputs": [
    {
     "name": "stdout",
     "output_type": "stream",
     "text": [
      "f1 мера логистической регрессии:  0.3252336448598131\n"
     ]
    }
   ],
   "source": [
    "model = LogisticRegression(random_state=12345, solver='liblinear', max_iter=1000)\n",
    "model.fit(features_train, target_train)\n",
    "predicted_valid = model.predict(features_valid)\n",
    "result = f1_score(target_valid, predicted_valid)\n",
    "\n",
    "print('f1 мера логистической регрессии: ', result)"
   ]
  },
  {
   "cell_type": "markdown",
   "metadata": {},
   "source": [
    "\n",
    "\n",
    "### Выводы\n",
    "\n",
    "При дисбалансе значений модели наилучший результат получился у модели `RandomForest` - 0.5902140672782874\n",
    "Модели дерева решений и логистической регресси показали более плохи результаты.\n",
    "\n",
    "Есть необходимость устранить дисбаланс и проверить как это повлияет на значение f1 меры."
   ]
  },
  {
   "cell_type": "markdown",
   "metadata": {},
   "source": [
    "## Борьба с дисбалансом\n",
    "\n",
    "### Соотношение значение\n",
    "\n",
    "На этапе подготовки данных было выяснено, что соотношение количества значений в столбце целевого признака `exited` примерно 80/20."
   ]
  },
  {
   "cell_type": "code",
   "execution_count": 127,
   "metadata": {},
   "outputs": [
    {
     "data": {
      "text/plain": [
       "3.9091801669121256"
      ]
     },
     "execution_count": 127,
     "metadata": {},
     "output_type": "execute_result"
    }
   ],
   "source": [
    "value_upsample = data[data['exited'] == 0]['exited'].count() / data[data['exited'] == 1]['exited'].count()\n",
    "value_upsample"
   ]
  },
  {
   "cell_type": "markdown",
   "metadata": {},
   "source": [
    "То есть не ушедших клиентов в 3,9 раз больше, чем ушедших."
   ]
  },
  {
   "cell_type": "code",
   "execution_count": 128,
   "metadata": {},
   "outputs": [
    {
     "data": {
      "text/plain": [
       "0.25580811252040686"
      ]
     },
     "execution_count": 128,
     "metadata": {},
     "output_type": "execute_result"
    }
   ],
   "source": [
    "value_downsample = data[data['exited'] == 1]['exited'].count() / data[data['exited'] == 0]['exited'].count()\n",
    "value_downsample"
   ]
  },
  {
   "cell_type": "markdown",
   "metadata": {},
   "source": [
    "Это справедливо и в обратную сторону."
   ]
  },
  {
   "cell_type": "markdown",
   "metadata": {},
   "source": [
    "### Downsampling\n",
    "\n",
    "Произведем даунсемплинг и обучим модели на этих данных."
   ]
  },
  {
   "cell_type": "code",
   "execution_count": 129,
   "metadata": {},
   "outputs": [],
   "source": [
    "def downsample(features, target, fraction):\n",
    "    features_zeros = pd.DataFrame(features[target == 0])\n",
    "    features_ones = pd.DataFrame(features[target == 1])\n",
    "    target_zeros = pd.DataFrame(target[target == 0])\n",
    "    target_ones = pd.DataFrame(target[target == 1])\n",
    "\n",
    "    features_downsampled = pd.concat(\n",
    "        [features_zeros.sample(frac=fraction, random_state=12345)] + [features_ones])\n",
    "    target_downsampled = pd.concat(\n",
    "        [target_zeros.sample(frac=fraction, random_state=12345)] + [target_ones])\n",
    "    \n",
    "    features_downsampled, target_downsampled = shuffle(\n",
    "        features_downsampled, target_downsampled, random_state=12345)\n",
    "    \n",
    "    return features_downsampled, target_downsampled\n",
    "\n",
    "features_downsampled, target_downsampled = downsample(features_train, target_train, value_downsample)"
   ]
  },
  {
   "cell_type": "markdown",
   "metadata": {},
   "source": [
    "#### Дерево решений"
   ]
  },
  {
   "cell_type": "code",
   "execution_count": 130,
   "metadata": {},
   "outputs": [
    {
     "name": "stdout",
     "output_type": "stream",
     "text": [
      "0.5930232558139534 лучшее значение f1 с глубиной дерева:  6\n"
     ]
    },
    {
     "data": {
      "image/png": "[encoded data removed]",
      "text/plain": [
       "<Figure size 1080x720 with 1 Axes>"
      ]
     },
     "metadata": {
      "needs_background": "light"
     },
     "output_type": "display_data"
    }
   ],
   "source": [
    "best_model = None\n",
    "best_result = 0\n",
    "model_depth = 0\n",
    "epohs_tree = []\n",
    "results_valid_tree = []\n",
    "\n",
    "for depth in range(1, 20):\n",
    "    model = DecisionTreeClassifier(random_state=12345, max_depth=depth)\n",
    "    model.fit(features_downsampled, target_downsampled)\n",
    "    predicted_valid = model.predict(features_valid)\n",
    "    result = f1_score(target_valid, predicted_valid)\n",
    "    epohs_tree.append(depth)\n",
    "    results_valid_tree.append(result)\n",
    "    if result > best_result:\n",
    "        best_result = result\n",
    "        model_depth = depth\n",
    "        best_model = model\n",
    "        \n",
    "print(best_result, 'лучшее значение f1 с глубиной дерева: ', model_depth)\n",
    "\n",
    "plt.figure(figsize=(15, 10));\n",
    "plt.plot(epohs_tree, results_valid_tree, label='valid_data');\n",
    "plt.xlabel('Глубина дерева')\n",
    "plt.ylabel('Точность')\n",
    "plt.title('Зависимость точности от глубины дерева')\n",
    "plt.legend()\n",
    "plt.show()"
   ]
  },
  {
   "cell_type": "markdown",
   "metadata": {},
   "source": [
    "#### Случайный лес"
   ]
  },
  {
   "cell_type": "code",
   "execution_count": 131,
   "metadata": {},
   "outputs": [
    {
     "data": {
      "image/png": "[encoded data removed]",
      "text/plain": [
       "<Figure size 1080x504 with 1 Axes>"
      ]
     },
     "metadata": {
      "needs_background": "light"
     },
     "output_type": "display_data"
    },
    {
     "name": "stdout",
     "output_type": "stream",
     "text": [
      "f1 лучшей модели для леса: 0.6193806193806193\n",
      "Глубина для лучшей модели: 7\n",
      "Количество деревьев для лучшей модели: 140\n"
     ]
    }
   ],
   "source": [
    "warnings.filterwarnings('ignore')\n",
    "\n",
    "best_model = None\n",
    "best_result = 0\n",
    "model_depth = 0\n",
    "epohs_forest = []\n",
    "results_valid_forest = []\n",
    "\n",
    "for est in range(10, 151, 10):\n",
    "    for depth in range(1, 30):\n",
    "        model = RandomForestClassifier(random_state=12345, max_depth=depth, n_estimators=est)\n",
    "        model.fit(features_downsampled, target_downsampled)\n",
    "        predicted_valid = model.predict(features_valid)\n",
    "        result = f1_score(target_valid, predicted_valid)\n",
    "        results_valid_forest.append({'accuracy': result, 'depth':depth, 'est':est})\n",
    "        if result > best_result:\n",
    "            best_model = model\n",
    "            best_result = result\n",
    "            best_est = est\n",
    "            best_depth = depth\n",
    "            \n",
    "\n",
    "rf_results = pd.DataFrame(results_valid_forest)\n",
    "rf_results.pivot_table(index='depth', columns='est', values='accuracy').plot(figsize=(15, 7));\n",
    "plt.xticks(fontsize=14) \n",
    "plt.yticks(fontsize=14) \n",
    "plt.xlabel('Глубина деревьев', fontsize=14) \n",
    "plt.ylabel('f1 метрика', fontsize=14) \n",
    "plt.title('Точность моделей в зависимости от глубины дерева', fontsize=16) \n",
    "plt.show()\n",
    "print('f1 лучшей модели для леса:', best_result)\n",
    "print('Глубина для лучшей модели:', best_depth)\n",
    "print('Количество деревьев для лучшей модели:', best_est) "
   ]
  },
  {
   "cell_type": "markdown",
   "metadata": {},
   "source": [
    "#### Логистическая регрессия"
   ]
  },
  {
   "cell_type": "code",
   "execution_count": 132,
   "metadata": {},
   "outputs": [
    {
     "name": "stdout",
     "output_type": "stream",
     "text": [
      "f1 мера логистической регрессии:  0.5100436681222706\n"
     ]
    }
   ],
   "source": [
    "model = LogisticRegression(random_state=12345, solver='liblinear', max_iter=1000, class_weight='balanced')\n",
    "model.fit(features_downsampled, target_downsampled)\n",
    "predicted_valid = model.predict(features_valid)\n",
    "result = f1_score(target_valid, predicted_valid)\n",
    "\n",
    "print('f1 мера логистической регрессии: ', result)"
   ]
  },
  {
   "cell_type": "markdown",
   "metadata": {},
   "source": [
    "#### Вывод\n",
    "\n",
    "Наилучшее значение f1 меры получилось у модели RandomForest с параметрами:\n",
    " - `max_depth` - 7\n",
    " - `n_estimators` - 140"
   ]
  },
  {
   "cell_type": "markdown",
   "metadata": {},
   "source": [
    "### Upsampling\n",
    "\n",
    "Произведем апсемплинг и обучим модели на этих данных."
   ]
  },
  {
   "cell_type": "code",
   "execution_count": 133,
   "metadata": {},
   "outputs": [],
   "source": [
    "def upsample(features, target, repeat):\n",
    "    features_zeros = pd.DataFrame(features[target == 0])\n",
    "    features_ones = pd.DataFrame(features[target == 1])\n",
    "    target_zeros = pd.DataFrame(target[target == 0])\n",
    "    target_ones = pd.DataFrame(target[target == 1])\n",
    "\n",
    "    features_upsampled = pd.concat([features_zeros] + [features_ones] * repeat)\n",
    "    target_upsampled = pd.concat([target_zeros] + [target_ones] * repeat)\n",
    "    \n",
    "    features_upsampled, target_upsampled = shuffle(\n",
    "        features_upsampled, target_upsampled, random_state=12345)\n",
    "    \n",
    "    return features_upsampled, target_upsampled\n",
    "\n",
    "features_upsampled, target_upsampled = upsample(features_train, target_train, 4)"
   ]
  },
  {
   "cell_type": "markdown",
   "metadata": {},
   "source": [
    "#### Дерево решений"
   ]
  },
  {
   "cell_type": "code",
   "execution_count": 134,
   "metadata": {},
   "outputs": [
    {
     "name": "stdout",
     "output_type": "stream",
     "text": [
      "0.5732484076433122 лучшее значение f1 с глубиной дерева:  7\n"
     ]
    },
    {
     "data": {
      "image/png": "[encoded data removed]",
      "text/plain": [
       "<Figure size 1080x720 with 1 Axes>"
      ]
     },
     "metadata": {
      "needs_background": "light"
     },
     "output_type": "display_data"
    }
   ],
   "source": [
    "best_model = None\n",
    "best_result = 0\n",
    "model_depth = 0\n",
    "epohs_tree = []\n",
    "results_valid_tree = []\n",
    "\n",
    "for depth in range(1, 20):\n",
    "    model = DecisionTreeClassifier(random_state=12345, max_depth=depth)\n",
    "    model.fit(features_upsampled, target_upsampled)\n",
    "    predicted_valid = model.predict(features_valid)\n",
    "    result = f1_score(target_valid, predicted_valid)\n",
    "    epohs_tree.append(depth)\n",
    "    results_valid_tree.append(result)\n",
    "    if result > best_result:\n",
    "        best_result = result\n",
    "        model_depth = depth\n",
    "        best_model = model\n",
    "        \n",
    "print(best_result, 'лучшее значение f1 с глубиной дерева: ', model_depth)\n",
    "\n",
    "plt.figure(figsize=(15, 10));\n",
    "plt.plot(epohs_tree, results_valid_tree, label='valid_data');\n",
    "plt.xlabel('Глубина дерева')\n",
    "plt.ylabel('Точность')\n",
    "plt.title('Зависимость точности от глубины дерева')\n",
    "plt.legend()\n",
    "plt.show()"
   ]
  },
  {
   "cell_type": "markdown",
   "metadata": {},
   "source": [
    "#### Случайный лес"
   ]
  },
  {
   "cell_type": "code",
   "execution_count": 135,
   "metadata": {},
   "outputs": [
    {
     "data": {
      "image/png": "[encoded data removed]",
      "text/plain": [
       "<Figure size 1080x504 with 1 Axes>"
      ]
     },
     "metadata": {
      "needs_background": "light"
     },
     "output_type": "display_data"
    },
    {
     "name": "stdout",
     "output_type": "stream",
     "text": [
      "f1 лучшей модели для леса: 0.636568848758465\n",
      "Глубина для лучшей модели: 11\n",
      "Количество деревьев для лучшей модели: 20\n"
     ]
    }
   ],
   "source": [
    "best_model = None\n",
    "best_result = 0\n",
    "model_depth = 0\n",
    "epohs_forest = []\n",
    "results_valid_forest = []\n",
    "\n",
    "for est in range(10, 151, 10):\n",
    "    for depth in range(1, 30):\n",
    "        model = RandomForestClassifier(random_state=12345, max_depth=depth, n_estimators=est)\n",
    "        model.fit(features_upsampled, target_upsampled)\n",
    "        predicted_valid = model.predict(features_valid)\n",
    "        result = f1_score(target_valid, predicted_valid)\n",
    "        results_valid_forest.append({'accuracy': result, 'depth':depth, 'est':est})\n",
    "        if result > best_result:\n",
    "            best_model = model\n",
    "            best_result = result\n",
    "            best_est = est\n",
    "            best_depth = depth\n",
    "            \n",
    "\n",
    "rf_results = pd.DataFrame(results_valid_forest)\n",
    "rf_results.pivot_table(index='depth', columns='est', values='accuracy').plot(figsize=(15, 7));\n",
    "plt.xticks(fontsize=14) \n",
    "plt.yticks(fontsize=14) \n",
    "plt.xlabel('Глубина деревьев', fontsize=14) \n",
    "plt.ylabel('f1 метрика', fontsize=14) \n",
    "plt.title('Точность моделей в зависимости от глубины дерева', fontsize=16) \n",
    "plt.show()\n",
    "print('f1 лучшей модели для леса:', best_result)\n",
    "print('Глубина для лучшей модели:', best_depth)\n",
    "print('Количество деревьев для лучшей модели:', best_est) "
   ]
  },
  {
   "cell_type": "markdown",
   "metadata": {},
   "source": [
    "#### Логистическая регрессия"
   ]
  },
  {
   "cell_type": "code",
   "execution_count": 136,
   "metadata": {},
   "outputs": [
    {
     "name": "stdout",
     "output_type": "stream",
     "text": [
      "f1 мера логистической регрессии:  0.5104166666666666\n"
     ]
    }
   ],
   "source": [
    "model = LogisticRegression(random_state=12345, solver='liblinear', max_iter=1000, class_weight='balanced')\n",
    "model.fit(features_upsampled, target_upsampled)\n",
    "predicted_valid = model.predict(features_valid)\n",
    "result = f1_score(target_valid, predicted_valid)\n",
    "\n",
    "print('f1 мера логистической регрессии: ', result)"
   ]
  },
  {
   "cell_type": "markdown",
   "metadata": {},
   "source": [
    "#### Вывод\n",
    "\n",
    "Наилучшее значение f1 меры получилось у модели RandomForest.\n",
    "\n",
    "### Вывод\n",
    "\n",
    "Самое высокое значение f1 меры получилось достигнуть при апсемплинге данных для модели RandomForest - `0.636568848758465` с параметрами:\n",
    " - `max_depth` - 11\n",
    " - `n_estimators` - 20"
   ]
  },
  {
   "cell_type": "markdown",
   "metadata": {},
   "source": [
    "## Тестирование модели\n",
    "\n",
    "### Проверка на тестовой выборке\n"
   ]
  },
  {
   "cell_type": "code",
   "execution_count": 142,
   "metadata": {},
   "outputs": [
    {
     "name": "stdout",
     "output_type": "stream",
     "text": [
      "f1 на лучшей модели: 0.5993189557321227\n",
      "CPU times: user 226 ms, sys: 10 µs, total: 226 ms\n",
      "Wall time: 224 ms\n"
     ]
    }
   ],
   "source": [
    "%%time\n",
    "\n",
    "model = RandomForestClassifier(random_state=12345, n_estimators=20, max_depth=11) \n",
    "model.fit(features_upsampled, target_upsampled)\n",
    "predicted = model.predict(features_test)\n",
    "result = f1_score(target_test, predicted)\n",
    "print('f1 на лучшей модели:', result)"
   ]
  },
  {
   "cell_type": "markdown",
   "metadata": {},
   "source": [
    "Значение метрики f1 получилось выше, чем 0,59\n",
    "\n",
    "### Метрика AUC-ROC"
   ]
  },
  {
   "cell_type": "code",
   "execution_count": 138,
   "metadata": {},
   "outputs": [
    {
     "data": {
      "text/plain": [
       "0.8541592439897523"
      ]
     },
     "execution_count": 138,
     "metadata": {},
     "output_type": "execute_result"
    }
   ],
   "source": [
    "probabilities_test = model.predict_proba(features_test)\n",
    "probabilities_one_test = probabilities_test[:, 1]\n",
    "auc_roc = roc_auc_score(target_test, probabilities_one_test)\n",
    "auc_roc"
   ]
  },
  {
   "cell_type": "markdown",
   "metadata": {},
   "source": [
    "Значение метрики - `AUC-ROC` довольно высокое, что показывает высокую степень точности определения положительных случаев.\n",
    "\n",
    "Построим график метрики `AUC-ROC`"
   ]
  },
  {
   "cell_type": "code",
   "execution_count": 139,
   "metadata": {},
   "outputs": [
    {
     "data": {
      "image/png": "[encoded data removed]",
      "text/plain": [
       "<Figure size 1080x720 with 1 Axes>"
      ]
     },
     "metadata": {
      "needs_background": "light"
     },
     "output_type": "display_data"
    }
   ],
   "source": [
    "fpr, tpr, thresholds = roc_curve(target_test, probabilities_one_test) \n",
    "\n",
    "plt.figure(figsize=(15, 10))\n",
    "plt.plot([0, 1], [0, 1], linestyle='--')\n",
    "plt.plot(fpr, tpr)\n",
    "plt.xlabel('False Positive Rate')\n",
    "plt.ylabel('True Positive Rate')\n",
    "plt.ylim([0.0, 1.0])\n",
    "plt.xlim([0.0, 1.0])\n",
    "plt.title('ROC-кривая')\n",
    "plt.show()"
   ]
  },
  {
   "cell_type": "markdown",
   "metadata": {},
   "source": [
    "## Вывод\n",
    "\n",
    "**В результате исследования данных клиентов банка было сделано:**\n",
    "\n",
    " - Предобработка исходных данных;\n",
    " - Подготовка данных для обучения моделей;\n",
    " - Был обнаружен дисбаланс в целевом признаке: количество ушедших клиентов было в 4 раза меньше, чем количество активных клиентов. Для решения этой проблемы использовалось два подхода - апсемплинг и даунсемплинг. Лучшие результаты показал апсемплинг;\n",
    " - В ходе обучения моделей классификации - случайного леса деревьев, дерева решений и логистической регрессии - был произведен подбор гиперпараметров. Самой эффективной моделью оказался случайный лес;\n",
    " - После обучения модель была проверена на тестовых данных. Модель показала следующие метрики: f1-мера равна `0.5993189557321227`, AUC-ROC равен `0.8541592439897523`. Это свидетельствует о достаточно сбалансированной модели с высокой точностью и полнотой.\n",
    "\n",
    "**Таким образом, на основе проведенного исследования, мы можем сделать вывод о применимости модели случайного леса деревьев для прогнозирования ухода клиентов банка.**"
   ]
  }
 ],
 "metadata": {
  "ExecuteTimeLog": [
   {
    "duration": 708,
    "start_time": "2023-06-19T20:40:05.147Z"
   },
   {
    "duration": 248,
    "start_time": "2023-06-19T20:40:52.142Z"
   },
   {
    "duration": 413,
    "start_time": "2023-06-20T16:27:49.418Z"
   },
   {
    "duration": 4,
    "start_time": "2023-06-20T16:35:13.509Z"
   },
   {
    "duration": 104,
    "start_time": "2023-06-20T16:35:54.813Z"
   },
   {
    "duration": 28,
    "start_time": "2023-06-20T16:36:39.231Z"
   },
   {
    "duration": 4,
    "start_time": "2023-06-20T16:41:19.519Z"
   },
   {
    "duration": 14,
    "start_time": "2023-06-20T16:41:28.579Z"
   },
   {
    "duration": 1865,
    "start_time": "2023-06-20T16:41:56.373Z"
   },
   {
    "duration": 1220,
    "start_time": "2023-06-20T16:42:00.730Z"
   },
   {
    "duration": 1424,
    "start_time": "2023-06-20T16:42:12.384Z"
   },
   {
    "duration": 1641,
    "start_time": "2023-06-20T16:42:35.136Z"
   },
   {
    "duration": 16,
    "start_time": "2023-06-20T16:43:37.789Z"
   },
   {
    "duration": 95,
    "start_time": "2023-06-20T16:44:59.366Z"
   },
   {
    "duration": 4,
    "start_time": "2023-06-20T16:45:41.553Z"
   },
   {
    "duration": 358,
    "start_time": "2023-06-20T16:47:32.840Z"
   },
   {
    "duration": 52,
    "start_time": "2023-06-20T16:47:33.280Z"
   },
   {
    "duration": 19,
    "start_time": "2023-06-20T16:47:34.377Z"
   },
   {
    "duration": 13,
    "start_time": "2023-06-20T16:47:35.537Z"
   },
   {
    "duration": 36291,
    "start_time": "2023-06-20T16:47:36.595Z"
   },
   {
    "duration": 20,
    "start_time": "2023-06-20T16:48:12.887Z"
   },
   {
    "duration": 3,
    "start_time": "2023-06-20T16:49:43.507Z"
   },
   {
    "duration": 37765,
    "start_time": "2023-06-20T16:53:01.997Z"
   },
   {
    "duration": 37790,
    "start_time": "2023-06-20T16:56:54.748Z"
   },
   {
    "duration": 39669,
    "start_time": "2023-06-20T16:57:32.717Z"
   },
   {
    "duration": 803,
    "start_time": "2023-06-22T10:08:00.202Z"
   },
   {
    "duration": 172,
    "start_time": "2023-06-22T10:08:01.154Z"
   },
   {
    "duration": 22,
    "start_time": "2023-06-22T10:08:04.096Z"
   },
   {
    "duration": 13,
    "start_time": "2023-06-22T10:08:07.025Z"
   },
   {
    "duration": 35866,
    "start_time": "2023-06-22T10:08:10.214Z"
   },
   {
    "duration": 4,
    "start_time": "2023-06-22T10:58:11.661Z"
   },
   {
    "duration": 751,
    "start_time": "2023-06-22T10:59:16.444Z"
   },
   {
    "duration": 2344,
    "start_time": "2023-06-22T11:03:02.128Z"
   },
   {
    "duration": 4,
    "start_time": "2023-06-22T11:03:12.413Z"
   },
   {
    "duration": 47,
    "start_time": "2023-06-22T11:03:12.647Z"
   },
   {
    "duration": 131,
    "start_time": "2023-06-22T11:03:13.561Z"
   },
   {
    "duration": 116,
    "start_time": "2023-06-22T11:03:21.927Z"
   },
   {
    "duration": 14,
    "start_time": "2023-06-22T11:04:27.607Z"
   },
   {
    "duration": 7,
    "start_time": "2023-06-22T11:04:31.632Z"
   },
   {
    "duration": 9,
    "start_time": "2023-06-22T11:05:51.424Z"
   },
   {
    "duration": 4,
    "start_time": "2023-06-22T11:07:38.735Z"
   },
   {
    "duration": 21,
    "start_time": "2023-06-22T11:07:51.331Z"
   },
   {
    "duration": 14,
    "start_time": "2023-06-22T11:08:06.239Z"
   },
   {
    "duration": 15,
    "start_time": "2023-06-22T11:08:07.639Z"
   },
   {
    "duration": 38005,
    "start_time": "2023-06-22T11:08:15.234Z"
   },
   {
    "duration": 2897,
    "start_time": "2023-06-22T11:13:22.759Z"
   },
   {
    "duration": 2004,
    "start_time": "2023-06-22T11:23:06.113Z"
   },
   {
    "duration": 61,
    "start_time": "2023-06-22T11:23:16.150Z"
   },
   {
    "duration": 193,
    "start_time": "2023-06-22T11:23:18.944Z"
   },
   {
    "duration": 120,
    "start_time": "2023-06-22T11:23:29.777Z"
   },
   {
    "duration": 127,
    "start_time": "2023-06-22T11:23:35.613Z"
   },
   {
    "duration": 266,
    "start_time": "2023-06-22T11:23:42.020Z"
   },
   {
    "duration": 7,
    "start_time": "2023-06-22T11:23:53.732Z"
   },
   {
    "duration": 10,
    "start_time": "2023-06-22T11:23:54.976Z"
   },
   {
    "duration": 1906,
    "start_time": "2023-06-22T11:27:38.217Z"
   },
   {
    "duration": 13,
    "start_time": "2023-06-22T11:28:06.029Z"
   },
   {
    "duration": 13,
    "start_time": "2023-06-22T11:28:06.522Z"
   },
   {
    "duration": 787,
    "start_time": "2023-06-22T11:28:07.523Z"
   },
   {
    "duration": 950,
    "start_time": "2023-06-22T11:28:23.218Z"
   },
   {
    "duration": 202,
    "start_time": "2023-06-22T11:31:17.338Z"
   },
   {
    "duration": 298,
    "start_time": "2023-06-22T11:31:48.030Z"
   },
   {
    "duration": 251,
    "start_time": "2023-06-22T11:32:12.414Z"
   },
   {
    "duration": 6,
    "start_time": "2023-06-22T11:32:40.556Z"
   },
   {
    "duration": 15,
    "start_time": "2023-06-22T11:33:32.005Z"
   },
   {
    "duration": 3,
    "start_time": "2023-06-22T11:34:13.233Z"
   },
   {
    "duration": 53,
    "start_time": "2023-06-22T11:34:13.721Z"
   },
   {
    "duration": 154,
    "start_time": "2023-06-22T11:34:13.780Z"
   },
   {
    "duration": 7,
    "start_time": "2023-06-22T11:34:13.936Z"
   },
   {
    "duration": 30,
    "start_time": "2023-06-22T11:34:13.959Z"
   },
   {
    "duration": 26,
    "start_time": "2023-06-22T11:34:13.991Z"
   },
   {
    "duration": 31,
    "start_time": "2023-06-22T11:34:14.019Z"
   },
   {
    "duration": 43,
    "start_time": "2023-06-22T11:34:14.052Z"
   },
   {
    "duration": 988,
    "start_time": "2023-06-22T11:34:14.099Z"
   },
   {
    "duration": 232,
    "start_time": "2023-06-22T11:34:15.089Z"
   },
   {
    "duration": 4,
    "start_time": "2023-06-22T11:34:15.323Z"
   },
   {
    "duration": 51,
    "start_time": "2023-06-22T11:34:15.329Z"
   },
   {
    "duration": 13,
    "start_time": "2023-06-22T11:34:15.382Z"
   },
   {
    "duration": 15,
    "start_time": "2023-06-22T11:34:15.396Z"
   },
   {
    "duration": 5,
    "start_time": "2023-06-22T11:34:57.548Z"
   },
   {
    "duration": 15,
    "start_time": "2023-06-22T11:35:25.674Z"
   },
   {
    "duration": 18,
    "start_time": "2023-06-22T11:38:36.204Z"
   },
   {
    "duration": 13,
    "start_time": "2023-06-22T11:43:02.941Z"
   },
   {
    "duration": 963,
    "start_time": "2023-06-22T11:44:06.122Z"
   },
   {
    "duration": 270,
    "start_time": "2023-06-22T11:44:31.115Z"
   },
   {
    "duration": 5,
    "start_time": "2023-06-22T11:44:32.121Z"
   },
   {
    "duration": 5,
    "start_time": "2023-06-22T11:44:32.580Z"
   },
   {
    "duration": 28,
    "start_time": "2023-06-22T11:44:34.173Z"
   },
   {
    "duration": 204,
    "start_time": "2023-06-22T11:46:24.362Z"
   },
   {
    "duration": 178,
    "start_time": "2023-06-22T11:46:35.423Z"
   },
   {
    "duration": 285,
    "start_time": "2023-06-22T11:46:42.922Z"
   },
   {
    "duration": 269,
    "start_time": "2023-06-22T11:47:22.726Z"
   },
   {
    "duration": 328,
    "start_time": "2023-06-22T11:49:12.524Z"
   },
   {
    "duration": 1759,
    "start_time": "2023-06-22T13:16:21.426Z"
   },
   {
    "duration": 207,
    "start_time": "2023-06-22T13:16:38.109Z"
   },
   {
    "duration": 262,
    "start_time": "2023-06-22T13:16:48.926Z"
   },
   {
    "duration": 8,
    "start_time": "2023-06-22T13:17:28.516Z"
   },
   {
    "duration": 143,
    "start_time": "2023-06-22T13:25:41.007Z"
   },
   {
    "duration": 149,
    "start_time": "2023-06-22T13:30:06.705Z"
   },
   {
    "duration": 122,
    "start_time": "2023-06-22T13:30:24.518Z"
   },
   {
    "duration": 151,
    "start_time": "2023-06-22T13:32:24.256Z"
   },
   {
    "duration": 125,
    "start_time": "2023-06-22T13:32:43.012Z"
   },
   {
    "duration": 198,
    "start_time": "2023-06-22T13:33:19.511Z"
   },
   {
    "duration": 190,
    "start_time": "2023-06-22T13:33:38.032Z"
   },
   {
    "duration": 232,
    "start_time": "2023-06-22T13:36:14.001Z"
   },
   {
    "duration": 242,
    "start_time": "2023-06-22T13:36:31.605Z"
   },
   {
    "duration": 8,
    "start_time": "2023-06-22T13:37:24.365Z"
   },
   {
    "duration": 371,
    "start_time": "2023-06-22T13:37:48.440Z"
   },
   {
    "duration": 182,
    "start_time": "2023-06-22T13:38:02.302Z"
   },
   {
    "duration": 222,
    "start_time": "2023-06-22T13:38:10.755Z"
   },
   {
    "duration": 123,
    "start_time": "2023-06-22T13:39:13.330Z"
   },
   {
    "duration": 192,
    "start_time": "2023-06-22T13:43:57.865Z"
   },
   {
    "duration": 84337,
    "start_time": "2023-06-22T13:47:45.245Z"
   },
   {
    "duration": 13,
    "start_time": "2023-06-22T13:50:38.453Z"
   },
   {
    "duration": 214,
    "start_time": "2023-06-22T13:51:20.208Z"
   },
   {
    "duration": 1536,
    "start_time": "2023-06-22T13:53:23.173Z"
   },
   {
    "duration": 51,
    "start_time": "2023-06-22T13:53:24.711Z"
   },
   {
    "duration": 154,
    "start_time": "2023-06-22T13:53:24.764Z"
   },
   {
    "duration": 6,
    "start_time": "2023-06-22T13:53:24.920Z"
   },
   {
    "duration": 19,
    "start_time": "2023-06-22T13:53:24.928Z"
   },
   {
    "duration": 16,
    "start_time": "2023-06-22T13:53:26.513Z"
   },
   {
    "duration": 17,
    "start_time": "2023-06-22T13:53:27.104Z"
   },
   {
    "duration": 13,
    "start_time": "2023-06-22T13:53:28.612Z"
   },
   {
    "duration": 914,
    "start_time": "2023-06-22T13:53:29.036Z"
   },
   {
    "duration": 317,
    "start_time": "2023-06-22T13:53:31.137Z"
   },
   {
    "duration": 6,
    "start_time": "2023-06-22T13:53:31.459Z"
   },
   {
    "duration": 8,
    "start_time": "2023-06-22T13:53:33.004Z"
   },
   {
    "duration": 21,
    "start_time": "2023-06-22T13:53:33.435Z"
   },
   {
    "duration": 181,
    "start_time": "2023-06-22T13:53:35.148Z"
   },
   {
    "duration": 7,
    "start_time": "2023-06-22T13:53:35.495Z"
   },
   {
    "duration": 189,
    "start_time": "2023-06-22T13:53:36.855Z"
   },
   {
    "duration": 157,
    "start_time": "2023-06-22T13:53:38.832Z"
   },
   {
    "duration": 77104,
    "start_time": "2023-06-22T13:54:04.004Z"
   },
   {
    "duration": 7,
    "start_time": "2023-06-22T13:59:41.059Z"
   },
   {
    "duration": 388,
    "start_time": "2023-06-22T14:01:43.097Z"
   },
   {
    "duration": 113,
    "start_time": "2023-06-22T14:02:05.096Z"
   },
   {
    "duration": 21,
    "start_time": "2023-06-22T14:02:14.158Z"
   },
   {
    "duration": 19,
    "start_time": "2023-06-22T14:02:22.149Z"
   },
   {
    "duration": 15,
    "start_time": "2023-06-22T14:02:46.818Z"
   },
   {
    "duration": 87,
    "start_time": "2023-06-22T14:03:10.304Z"
   },
   {
    "duration": 147,
    "start_time": "2023-06-22T14:04:58.405Z"
   },
   {
    "duration": 394,
    "start_time": "2023-06-22T14:06:34.113Z"
   },
   {
    "duration": 1881,
    "start_time": "2023-06-22T14:06:46.701Z"
   },
   {
    "duration": 143,
    "start_time": "2023-06-22T14:07:17.460Z"
   },
   {
    "duration": 23,
    "start_time": "2023-06-22T14:07:41.229Z"
   },
   {
    "duration": 154,
    "start_time": "2023-06-22T14:08:12.812Z"
   },
   {
    "duration": 17,
    "start_time": "2023-06-22T14:08:28.862Z"
   },
   {
    "duration": 151,
    "start_time": "2023-06-22T14:08:41.804Z"
   },
   {
    "duration": 157,
    "start_time": "2023-06-22T14:09:43.796Z"
   },
   {
    "duration": 154,
    "start_time": "2023-06-22T14:10:10.973Z"
   },
   {
    "duration": 17,
    "start_time": "2023-06-22T14:10:21.150Z"
   },
   {
    "duration": 250,
    "start_time": "2023-06-22T14:10:34.135Z"
   },
   {
    "duration": 172,
    "start_time": "2023-06-22T14:16:56.009Z"
   },
   {
    "duration": 154,
    "start_time": "2023-06-22T17:31:04.408Z"
   },
   {
    "duration": 733,
    "start_time": "2023-06-22T17:33:33.726Z"
   },
   {
    "duration": 632,
    "start_time": "2023-06-22T17:34:14.413Z"
   },
   {
    "duration": 676,
    "start_time": "2023-06-22T17:35:12.958Z"
   },
   {
    "duration": 3,
    "start_time": "2023-06-22T18:02:49.550Z"
   },
   {
    "duration": 51,
    "start_time": "2023-06-22T18:02:52.796Z"
   },
   {
    "duration": 177,
    "start_time": "2023-06-22T18:02:54.191Z"
   },
   {
    "duration": 8,
    "start_time": "2023-06-22T18:03:00.640Z"
   },
   {
    "duration": 10,
    "start_time": "2023-06-22T18:03:01.188Z"
   },
   {
    "duration": 13,
    "start_time": "2023-06-22T18:03:02.701Z"
   },
   {
    "duration": 14,
    "start_time": "2023-06-22T18:03:03.695Z"
   },
   {
    "duration": 15,
    "start_time": "2023-06-22T18:03:04.815Z"
   },
   {
    "duration": 1745,
    "start_time": "2023-06-22T18:03:44.024Z"
   },
   {
    "duration": 4,
    "start_time": "2023-06-22T18:04:22.385Z"
   },
   {
    "duration": 50,
    "start_time": "2023-06-22T18:04:23.122Z"
   },
   {
    "duration": 281,
    "start_time": "2023-06-22T18:04:24.478Z"
   },
   {
    "duration": 7,
    "start_time": "2023-06-22T18:04:25.010Z"
   },
   {
    "duration": 9,
    "start_time": "2023-06-22T18:04:25.561Z"
   },
   {
    "duration": 13,
    "start_time": "2023-06-22T18:04:26.657Z"
   },
   {
    "duration": 16,
    "start_time": "2023-06-22T18:04:31.905Z"
   },
   {
    "duration": 16,
    "start_time": "2023-06-22T18:04:33.646Z"
   },
   {
    "duration": 872,
    "start_time": "2023-06-22T18:04:34.534Z"
   },
   {
    "duration": 278,
    "start_time": "2023-06-22T18:04:37.692Z"
   },
   {
    "duration": 4,
    "start_time": "2023-06-22T18:04:38.394Z"
   },
   {
    "duration": 7,
    "start_time": "2023-06-22T18:04:38.795Z"
   },
   {
    "duration": 20,
    "start_time": "2023-06-22T18:04:39.020Z"
   },
   {
    "duration": 178,
    "start_time": "2023-06-22T18:04:40.886Z"
   },
   {
    "duration": 6,
    "start_time": "2023-06-22T18:04:42.328Z"
   },
   {
    "duration": 183,
    "start_time": "2023-06-22T18:04:43.286Z"
   },
   {
    "duration": 154,
    "start_time": "2023-06-22T18:04:45.517Z"
   },
   {
    "duration": 763,
    "start_time": "2023-06-22T18:04:47.557Z"
   },
   {
    "duration": 1874,
    "start_time": "2023-06-22T18:06:13.477Z"
   },
   {
    "duration": 4,
    "start_time": "2023-06-22T18:06:17.817Z"
   },
   {
    "duration": 48,
    "start_time": "2023-06-22T18:06:18.395Z"
   },
   {
    "duration": 160,
    "start_time": "2023-06-22T18:06:20.492Z"
   },
   {
    "duration": 7,
    "start_time": "2023-06-22T18:06:25.652Z"
   },
   {
    "duration": 9,
    "start_time": "2023-06-22T18:06:26.150Z"
   },
   {
    "duration": 15,
    "start_time": "2023-06-22T18:06:27.056Z"
   },
   {
    "duration": 13,
    "start_time": "2023-06-22T18:06:28.744Z"
   },
   {
    "duration": 14,
    "start_time": "2023-06-22T18:06:29.674Z"
   },
   {
    "duration": 853,
    "start_time": "2023-06-22T18:06:30.613Z"
   },
   {
    "duration": 350,
    "start_time": "2023-06-22T18:06:32.453Z"
   },
   {
    "duration": 5,
    "start_time": "2023-06-22T18:06:33.790Z"
   },
   {
    "duration": 6,
    "start_time": "2023-06-22T18:06:34.166Z"
   },
   {
    "duration": 29,
    "start_time": "2023-06-22T18:06:34.579Z"
   },
   {
    "duration": 187,
    "start_time": "2023-06-22T18:06:36.139Z"
   },
   {
    "duration": 8,
    "start_time": "2023-06-22T18:06:37.682Z"
   },
   {
    "duration": 167,
    "start_time": "2023-06-22T18:06:39.919Z"
   },
   {
    "duration": 162,
    "start_time": "2023-06-22T18:06:41.788Z"
   },
   {
    "duration": 610,
    "start_time": "2023-06-22T18:06:45.334Z"
   },
   {
    "duration": 4,
    "start_time": "2023-06-22T18:11:13.388Z"
   },
   {
    "duration": 48,
    "start_time": "2023-06-22T18:11:14.145Z"
   },
   {
    "duration": 159,
    "start_time": "2023-06-22T18:11:15.619Z"
   },
   {
    "duration": 8,
    "start_time": "2023-06-22T18:11:18.559Z"
   },
   {
    "duration": 9,
    "start_time": "2023-06-22T18:11:20.190Z"
   },
   {
    "duration": 11,
    "start_time": "2023-06-22T18:11:21.802Z"
   },
   {
    "duration": 14,
    "start_time": "2023-06-22T18:11:31.553Z"
   },
   {
    "duration": 3,
    "start_time": "2023-06-22T18:12:21.091Z"
   },
   {
    "duration": 54,
    "start_time": "2023-06-22T18:12:21.877Z"
   },
   {
    "duration": 145,
    "start_time": "2023-06-22T18:12:22.856Z"
   },
   {
    "duration": 7,
    "start_time": "2023-06-22T18:12:24.177Z"
   },
   {
    "duration": 9,
    "start_time": "2023-06-22T18:12:25.253Z"
   },
   {
    "duration": 13,
    "start_time": "2023-06-22T18:12:30.950Z"
   },
   {
    "duration": 6,
    "start_time": "2023-06-22T18:12:50.116Z"
   },
   {
    "duration": 48,
    "start_time": "2023-06-22T18:12:50.573Z"
   },
   {
    "duration": 146,
    "start_time": "2023-06-22T18:12:51.548Z"
   },
   {
    "duration": 7,
    "start_time": "2023-06-22T18:12:53.620Z"
   },
   {
    "duration": 11,
    "start_time": "2023-06-22T18:12:54.086Z"
   },
   {
    "duration": 6,
    "start_time": "2023-06-22T18:12:55.106Z"
   },
   {
    "duration": 21,
    "start_time": "2023-06-22T18:13:31.789Z"
   },
   {
    "duration": 10,
    "start_time": "2023-06-22T18:14:01.310Z"
   },
   {
    "duration": 7,
    "start_time": "2023-06-22T18:14:08.873Z"
   },
   {
    "duration": 5,
    "start_time": "2023-06-22T18:14:23.639Z"
   },
   {
    "duration": 6,
    "start_time": "2023-06-22T18:15:20.173Z"
   },
   {
    "duration": 285,
    "start_time": "2023-06-22T18:22:53.090Z"
   },
   {
    "duration": 52,
    "start_time": "2023-06-22T18:22:55.150Z"
   },
   {
    "duration": 169,
    "start_time": "2023-06-22T18:22:56.092Z"
   },
   {
    "duration": 7,
    "start_time": "2023-06-22T18:22:57.698Z"
   },
   {
    "duration": 12,
    "start_time": "2023-06-22T18:22:58.303Z"
   },
   {
    "duration": 10,
    "start_time": "2023-06-22T18:23:13.035Z"
   },
   {
    "duration": 10,
    "start_time": "2023-06-22T18:23:22.938Z"
   },
   {
    "duration": 11,
    "start_time": "2023-06-22T18:23:30.916Z"
   },
   {
    "duration": 14,
    "start_time": "2023-06-22T18:23:34.892Z"
   },
   {
    "duration": 10,
    "start_time": "2023-06-22T18:24:45.231Z"
   },
   {
    "duration": 14,
    "start_time": "2023-06-22T18:24:46.149Z"
   },
   {
    "duration": 14,
    "start_time": "2023-06-22T18:24:48.447Z"
   },
   {
    "duration": 16,
    "start_time": "2023-06-22T18:24:49.810Z"
   },
   {
    "duration": 836,
    "start_time": "2023-06-22T18:24:51.202Z"
   },
   {
    "duration": 207,
    "start_time": "2023-06-22T18:24:53.533Z"
   },
   {
    "duration": 5,
    "start_time": "2023-06-22T18:24:54.495Z"
   },
   {
    "duration": 8,
    "start_time": "2023-06-22T18:24:54.807Z"
   },
   {
    "duration": 17,
    "start_time": "2023-06-22T18:24:55.215Z"
   },
   {
    "duration": 172,
    "start_time": "2023-06-22T18:24:56.636Z"
   },
   {
    "duration": 7,
    "start_time": "2023-06-22T18:24:57.709Z"
   },
   {
    "duration": 157,
    "start_time": "2023-06-22T18:24:58.693Z"
   },
   {
    "duration": 149,
    "start_time": "2023-06-22T18:25:00.661Z"
   },
   {
    "duration": 715,
    "start_time": "2023-06-22T18:25:03.994Z"
   },
   {
    "duration": 18,
    "start_time": "2023-06-22T18:41:24.307Z"
   },
   {
    "duration": 25,
    "start_time": "2023-06-22T18:49:03.499Z"
   },
   {
    "duration": 14,
    "start_time": "2023-06-22T18:58:31.749Z"
   },
   {
    "duration": 6,
    "start_time": "2023-06-22T19:20:57.487Z"
   },
   {
    "duration": 16,
    "start_time": "2023-06-22T19:29:12.734Z"
   },
   {
    "duration": 110,
    "start_time": "2023-06-22T19:51:04.437Z"
   },
   {
    "duration": 4,
    "start_time": "2023-06-22T19:51:48.819Z"
   },
   {
    "duration": 9,
    "start_time": "2023-06-22T19:57:08.779Z"
   },
   {
    "duration": 3,
    "start_time": "2023-06-22T19:59:56.832Z"
   },
   {
    "duration": 50,
    "start_time": "2023-06-22T19:59:57.359Z"
   },
   {
    "duration": 164,
    "start_time": "2023-06-22T19:59:57.420Z"
   },
   {
    "duration": 6,
    "start_time": "2023-06-22T19:59:57.586Z"
   },
   {
    "duration": 23,
    "start_time": "2023-06-22T19:59:57.593Z"
   },
   {
    "duration": 12,
    "start_time": "2023-06-22T19:59:57.618Z"
   },
   {
    "duration": 36,
    "start_time": "2023-06-22T19:59:57.632Z"
   },
   {
    "duration": 18,
    "start_time": "2023-06-22T19:59:57.670Z"
   },
   {
    "duration": 17,
    "start_time": "2023-06-22T19:59:57.691Z"
   },
   {
    "duration": 922,
    "start_time": "2023-06-22T19:59:57.721Z"
   },
   {
    "duration": 383,
    "start_time": "2023-06-22T19:59:58.645Z"
   },
   {
    "duration": 4,
    "start_time": "2023-06-22T19:59:59.031Z"
   },
   {
    "duration": 10,
    "start_time": "2023-06-22T19:59:59.038Z"
   },
   {
    "duration": 21,
    "start_time": "2023-06-22T19:59:59.059Z"
   },
   {
    "duration": 215,
    "start_time": "2023-06-22T19:59:59.081Z"
   },
   {
    "duration": 8,
    "start_time": "2023-06-22T19:59:59.298Z"
   },
   {
    "duration": 213,
    "start_time": "2023-06-22T19:59:59.308Z"
   },
   {
    "duration": 177,
    "start_time": "2023-06-22T19:59:59.522Z"
   },
   {
    "duration": 611,
    "start_time": "2023-06-22T19:59:59.702Z"
   },
   {
    "duration": 13,
    "start_time": "2023-06-22T20:00:00.315Z"
   },
   {
    "duration": 38,
    "start_time": "2023-06-22T20:00:00.330Z"
   },
   {
    "duration": 14,
    "start_time": "2023-06-22T20:00:00.371Z"
   },
   {
    "duration": 28,
    "start_time": "2023-06-22T20:00:00.388Z"
   },
   {
    "duration": 14,
    "start_time": "2023-06-22T20:00:00.528Z"
   },
   {
    "duration": 18,
    "start_time": "2023-06-22T20:00:02.347Z"
   },
   {
    "duration": 22,
    "start_time": "2023-06-22T20:00:14.339Z"
   },
   {
    "duration": 21,
    "start_time": "2023-06-22T20:00:20.599Z"
   },
   {
    "duration": 12,
    "start_time": "2023-06-22T20:03:41.248Z"
   },
   {
    "duration": 3,
    "start_time": "2023-06-22T20:04:49.600Z"
   },
   {
    "duration": 46,
    "start_time": "2023-06-22T20:04:49.660Z"
   },
   {
    "duration": 153,
    "start_time": "2023-06-22T20:04:49.721Z"
   },
   {
    "duration": 7,
    "start_time": "2023-06-22T20:04:49.876Z"
   },
   {
    "duration": 16,
    "start_time": "2023-06-22T20:04:49.885Z"
   },
   {
    "duration": 14,
    "start_time": "2023-06-22T20:04:49.903Z"
   },
   {
    "duration": 41,
    "start_time": "2023-06-22T20:04:49.919Z"
   },
   {
    "duration": 14,
    "start_time": "2023-06-22T20:04:49.962Z"
   },
   {
    "duration": 13,
    "start_time": "2023-06-22T20:04:49.988Z"
   },
   {
    "duration": 1013,
    "start_time": "2023-06-22T20:04:50.032Z"
   },
   {
    "duration": 254,
    "start_time": "2023-06-22T20:04:51.058Z"
   },
   {
    "duration": 5,
    "start_time": "2023-06-22T20:04:51.314Z"
   },
   {
    "duration": 33,
    "start_time": "2023-06-22T20:04:51.321Z"
   },
   {
    "duration": 69,
    "start_time": "2023-06-22T20:04:51.356Z"
   },
   {
    "duration": 205,
    "start_time": "2023-06-22T20:04:51.427Z"
   },
   {
    "duration": 8,
    "start_time": "2023-06-22T20:04:51.633Z"
   },
   {
    "duration": 233,
    "start_time": "2023-06-22T20:04:51.642Z"
   },
   {
    "duration": 182,
    "start_time": "2023-06-22T20:04:51.877Z"
   },
   {
    "duration": 790,
    "start_time": "2023-06-22T20:04:52.061Z"
   },
   {
    "duration": 18,
    "start_time": "2023-06-22T20:04:52.853Z"
   },
   {
    "duration": 18,
    "start_time": "2023-06-22T20:04:52.873Z"
   },
   {
    "duration": 12,
    "start_time": "2023-06-22T20:04:52.893Z"
   },
   {
    "duration": 15,
    "start_time": "2023-06-22T20:04:52.907Z"
   },
   {
    "duration": 40,
    "start_time": "2023-06-22T20:04:52.924Z"
   },
   {
    "duration": 15,
    "start_time": "2023-06-22T20:04:52.966Z"
   },
   {
    "duration": 12,
    "start_time": "2023-06-22T20:06:54.541Z"
   },
   {
    "duration": 4,
    "start_time": "2023-06-22T20:07:20.872Z"
   },
   {
    "duration": 48,
    "start_time": "2023-06-22T20:07:21.401Z"
   },
   {
    "duration": 159,
    "start_time": "2023-06-22T20:07:21.460Z"
   },
   {
    "duration": 7,
    "start_time": "2023-06-22T20:07:21.622Z"
   },
   {
    "duration": 29,
    "start_time": "2023-06-22T20:07:21.631Z"
   },
   {
    "duration": 12,
    "start_time": "2023-06-22T20:07:21.662Z"
   },
   {
    "duration": 15,
    "start_time": "2023-06-22T20:07:21.675Z"
   },
   {
    "duration": 13,
    "start_time": "2023-06-22T20:07:21.691Z"
   },
   {
    "duration": 23,
    "start_time": "2023-06-22T20:07:21.706Z"
   },
   {
    "duration": 910,
    "start_time": "2023-06-22T20:07:21.773Z"
   },
   {
    "duration": 253,
    "start_time": "2023-06-22T20:07:22.685Z"
   },
   {
    "duration": 5,
    "start_time": "2023-06-22T20:07:22.941Z"
   },
   {
    "duration": 32,
    "start_time": "2023-06-22T20:07:22.948Z"
   },
   {
    "duration": 68,
    "start_time": "2023-06-22T20:07:22.982Z"
   },
   {
    "duration": 220,
    "start_time": "2023-06-22T20:07:23.052Z"
   },
   {
    "duration": 8,
    "start_time": "2023-06-22T20:07:23.274Z"
   },
   {
    "duration": 219,
    "start_time": "2023-06-22T20:07:23.284Z"
   },
   {
    "duration": 313,
    "start_time": "2023-06-22T20:07:23.506Z"
   },
   {
    "duration": 682,
    "start_time": "2023-06-22T20:07:23.823Z"
   },
   {
    "duration": 15,
    "start_time": "2023-06-22T20:07:24.507Z"
   },
   {
    "duration": 34,
    "start_time": "2023-06-22T20:07:24.525Z"
   },
   {
    "duration": 13,
    "start_time": "2023-06-22T20:07:24.561Z"
   },
   {
    "duration": 17,
    "start_time": "2023-06-22T20:07:24.575Z"
   },
   {
    "duration": 27,
    "start_time": "2023-06-22T20:07:24.594Z"
   },
   {
    "duration": 14,
    "start_time": "2023-06-22T20:07:24.624Z"
   },
   {
    "duration": 45,
    "start_time": "2023-06-22T20:32:50.359Z"
   },
   {
    "duration": 23,
    "start_time": "2023-06-22T20:33:00.536Z"
   },
   {
    "duration": 350,
    "start_time": "2023-06-22T20:33:34.653Z"
   },
   {
    "duration": 509,
    "start_time": "2023-06-22T20:33:45.059Z"
   },
   {
    "duration": 188649,
    "start_time": "2023-06-22T20:45:48.766Z"
   },
   {
    "duration": 10,
    "start_time": "2023-06-22T20:52:53.956Z"
   },
   {
    "duration": 185033,
    "start_time": "2023-06-22T20:53:03.757Z"
   },
   {
    "duration": 11,
    "start_time": "2023-06-22T21:06:39.201Z"
   },
   {
    "duration": 19,
    "start_time": "2023-06-22T21:07:06.752Z"
   },
   {
    "duration": 96,
    "start_time": "2023-06-22T21:09:42.571Z"
   },
   {
    "duration": 18,
    "start_time": "2023-06-22T21:15:30.044Z"
   },
   {
    "duration": 14,
    "start_time": "2023-06-22T21:15:37.167Z"
   },
   {
    "duration": 8,
    "start_time": "2023-06-22T21:23:02.774Z"
   },
   {
    "duration": 7,
    "start_time": "2023-06-22T21:26:42.896Z"
   },
   {
    "duration": 7,
    "start_time": "2023-06-22T21:27:20.184Z"
   },
   {
    "duration": 15,
    "start_time": "2023-06-22T21:43:28.347Z"
   },
   {
    "duration": 15,
    "start_time": "2023-06-22T21:43:38.136Z"
   },
   {
    "duration": 16,
    "start_time": "2023-06-22T21:43:48.406Z"
   },
   {
    "duration": 16,
    "start_time": "2023-06-22T21:46:12.830Z"
   },
   {
    "duration": 4,
    "start_time": "2023-06-22T21:46:55.047Z"
   },
   {
    "duration": 16,
    "start_time": "2023-06-22T21:47:15.146Z"
   },
   {
    "duration": 23,
    "start_time": "2023-06-22T21:47:54.643Z"
   },
   {
    "duration": 20,
    "start_time": "2023-06-22T21:50:04.937Z"
   },
   {
    "duration": 4,
    "start_time": "2023-06-22T21:52:06.803Z"
   },
   {
    "duration": 11,
    "start_time": "2023-06-22T21:52:38.477Z"
   },
   {
    "duration": 12,
    "start_time": "2023-06-22T21:53:22.261Z"
   },
   {
    "duration": 9,
    "start_time": "2023-06-22T21:54:35.777Z"
   },
   {
    "duration": 5,
    "start_time": "2023-06-22T21:54:49.109Z"
   },
   {
    "duration": 16,
    "start_time": "2023-06-22T21:54:55.397Z"
   },
   {
    "duration": 11,
    "start_time": "2023-06-22T21:56:50.656Z"
   },
   {
    "duration": 3,
    "start_time": "2023-06-22T21:57:25.937Z"
   },
   {
    "duration": 43,
    "start_time": "2023-06-22T21:57:26.473Z"
   },
   {
    "duration": 130,
    "start_time": "2023-06-22T21:57:26.533Z"
   },
   {
    "duration": 6,
    "start_time": "2023-06-22T21:57:26.665Z"
   },
   {
    "duration": 10,
    "start_time": "2023-06-22T21:57:26.672Z"
   },
   {
    "duration": 12,
    "start_time": "2023-06-22T21:57:26.684Z"
   },
   {
    "duration": 30,
    "start_time": "2023-06-22T21:57:26.697Z"
   },
   {
    "duration": 12,
    "start_time": "2023-06-22T21:57:26.729Z"
   },
   {
    "duration": 14,
    "start_time": "2023-06-22T21:57:26.777Z"
   },
   {
    "duration": 747,
    "start_time": "2023-06-22T21:57:28.350Z"
   },
   {
    "duration": 325,
    "start_time": "2023-06-22T21:57:29.098Z"
   },
   {
    "duration": 4,
    "start_time": "2023-06-22T21:57:29.425Z"
   },
   {
    "duration": 14,
    "start_time": "2023-06-22T21:57:29.431Z"
   },
   {
    "duration": 20,
    "start_time": "2023-06-22T21:57:29.447Z"
   },
   {
    "duration": 163,
    "start_time": "2023-06-22T21:57:29.469Z"
   },
   {
    "duration": 7,
    "start_time": "2023-06-22T21:57:29.634Z"
   },
   {
    "duration": 166,
    "start_time": "2023-06-22T21:57:29.642Z"
   },
   {
    "duration": 140,
    "start_time": "2023-06-22T21:57:29.810Z"
   },
   {
    "duration": 513,
    "start_time": "2023-06-22T21:57:31.379Z"
   },
   {
    "duration": 13,
    "start_time": "2023-06-22T21:57:33.341Z"
   },
   {
    "duration": 17,
    "start_time": "2023-06-22T21:57:36.749Z"
   },
   {
    "duration": 11,
    "start_time": "2023-06-22T21:57:39.146Z"
   },
   {
    "duration": 6,
    "start_time": "2023-06-22T21:57:40.776Z"
   },
   {
    "duration": 15,
    "start_time": "2023-06-22T21:57:42.054Z"
   },
   {
    "duration": 13,
    "start_time": "2023-06-22T21:57:42.952Z"
   },
   {
    "duration": 486,
    "start_time": "2023-06-22T21:57:46.406Z"
   },
   {
    "duration": 178272,
    "start_time": "2023-06-22T21:58:02.687Z"
   },
   {
    "duration": 20,
    "start_time": "2023-06-22T22:01:06.947Z"
   },
   {
    "duration": 15,
    "start_time": "2023-06-22T22:01:39.468Z"
   },
   {
    "duration": 13,
    "start_time": "2023-06-22T22:01:42.294Z"
   },
   {
    "duration": 7,
    "start_time": "2023-06-22T22:02:00.931Z"
   },
   {
    "duration": 6,
    "start_time": "2023-06-22T22:02:03.230Z"
   },
   {
    "duration": 10,
    "start_time": "2023-06-22T22:02:10.290Z"
   },
   {
    "duration": 390,
    "start_time": "2023-06-22T22:04:22.830Z"
   },
   {
    "duration": 104956,
    "start_time": "2023-06-22T22:05:40.632Z"
   },
   {
    "duration": 103958,
    "start_time": "2023-06-22T22:07:39.363Z"
   },
   {
    "duration": 15,
    "start_time": "2023-06-22T22:09:35.117Z"
   },
   {
    "duration": 49270,
    "start_time": "2023-06-22T22:11:11.836Z"
   },
   {
    "duration": 48734,
    "start_time": "2023-06-22T22:12:53.890Z"
   },
   {
    "duration": 104337,
    "start_time": "2023-06-22T22:14:12.637Z"
   },
   {
    "duration": 4,
    "start_time": "2023-06-22T22:17:57.714Z"
   },
   {
    "duration": 101860,
    "start_time": "2023-06-22T22:18:08.316Z"
   },
   {
    "duration": 18,
    "start_time": "2023-06-22T22:20:17.619Z"
   },
   {
    "duration": 11,
    "start_time": "2023-06-22T22:20:37.156Z"
   },
   {
    "duration": 15,
    "start_time": "2023-06-22T22:24:02.621Z"
   },
   {
    "duration": 24,
    "start_time": "2023-06-22T22:24:23.575Z"
   },
   {
    "duration": 15,
    "start_time": "2023-06-22T22:25:27.488Z"
   },
   {
    "duration": 9,
    "start_time": "2023-06-22T22:26:39.373Z"
   },
   {
    "duration": 9,
    "start_time": "2023-06-22T22:27:18.738Z"
   },
   {
    "duration": 658,
    "start_time": "2023-06-22T22:28:13.579Z"
   },
   {
    "duration": 6,
    "start_time": "2023-06-22T22:29:17.094Z"
   },
   {
    "duration": 246541,
    "start_time": "2023-06-22T22:29:21.679Z"
   },
   {
    "duration": 22,
    "start_time": "2023-06-22T22:33:41.434Z"
   },
   {
    "duration": 156,
    "start_time": "2023-06-22T22:42:04.076Z"
   },
   {
    "duration": 27,
    "start_time": "2023-06-22T22:45:56.104Z"
   },
   {
    "duration": 10,
    "start_time": "2023-06-22T22:51:08.092Z"
   },
   {
    "duration": 17,
    "start_time": "2023-06-22T22:51:27.734Z"
   },
   {
    "duration": 102,
    "start_time": "2023-06-22T22:51:40.076Z"
   },
   {
    "duration": 104,
    "start_time": "2023-06-22T22:52:14.709Z"
   },
   {
    "duration": 115,
    "start_time": "2023-06-22T22:52:33.956Z"
   },
   {
    "duration": 150,
    "start_time": "2023-06-22T22:53:04.159Z"
   },
   {
    "duration": 2592,
    "start_time": "2023-06-23T05:06:49.344Z"
   },
   {
    "duration": 119,
    "start_time": "2023-06-23T05:06:51.938Z"
   },
   {
    "duration": 172,
    "start_time": "2023-06-23T05:06:52.059Z"
   },
   {
    "duration": 7,
    "start_time": "2023-06-23T05:06:52.233Z"
   },
   {
    "duration": 12,
    "start_time": "2023-06-23T05:06:52.243Z"
   },
   {
    "duration": 14,
    "start_time": "2023-06-23T05:06:52.256Z"
   },
   {
    "duration": 41,
    "start_time": "2023-06-23T05:06:52.272Z"
   },
   {
    "duration": 15,
    "start_time": "2023-06-23T05:06:52.314Z"
   },
   {
    "duration": 26,
    "start_time": "2023-06-23T05:06:52.331Z"
   },
   {
    "duration": 875,
    "start_time": "2023-06-23T05:06:52.358Z"
   },
   {
    "duration": 217,
    "start_time": "2023-06-23T05:06:53.234Z"
   },
   {
    "duration": 4,
    "start_time": "2023-06-23T05:06:53.453Z"
   },
   {
    "duration": 18,
    "start_time": "2023-06-23T05:06:53.459Z"
   },
   {
    "duration": 31,
    "start_time": "2023-06-23T05:06:53.482Z"
   },
   {
    "duration": 191,
    "start_time": "2023-06-23T05:06:53.514Z"
   },
   {
    "duration": 5,
    "start_time": "2023-06-23T05:06:53.718Z"
   },
   {
    "duration": 164,
    "start_time": "2023-06-23T05:06:53.725Z"
   },
   {
    "duration": 164,
    "start_time": "2023-06-23T05:06:53.890Z"
   },
   {
    "duration": 694,
    "start_time": "2023-06-23T05:06:54.056Z"
   },
   {
    "duration": 12,
    "start_time": "2023-06-23T05:06:54.752Z"
   },
   {
    "duration": 52,
    "start_time": "2023-06-23T05:06:54.766Z"
   },
   {
    "duration": 16,
    "start_time": "2023-06-23T05:06:54.820Z"
   },
   {
    "duration": 19,
    "start_time": "2023-06-23T05:06:54.837Z"
   },
   {
    "duration": 21,
    "start_time": "2023-06-23T05:06:54.858Z"
   },
   {
    "duration": 11,
    "start_time": "2023-06-23T05:06:54.881Z"
   },
   {
    "duration": 735,
    "start_time": "2023-06-23T05:06:54.893Z"
   },
   {
    "duration": 784513,
    "start_time": "2023-06-23T05:06:55.630Z"
   },
   {
    "duration": 74,
    "start_time": "2023-06-23T05:20:00.145Z"
   },
   {
    "duration": 85,
    "start_time": "2023-06-23T05:20:00.224Z"
   },
   {
    "duration": 118,
    "start_time": "2023-06-23T05:20:00.324Z"
   },
   {
    "duration": 64,
    "start_time": "2023-06-23T05:20:00.443Z"
   },
   {
    "duration": 43,
    "start_time": "2023-06-23T05:20:00.509Z"
   },
   {
    "duration": 1167,
    "start_time": "2023-06-23T05:20:00.554Z"
   },
   {
    "duration": 175810,
    "start_time": "2023-06-23T05:20:01.723Z"
   },
   {
    "duration": 13,
    "start_time": "2023-06-23T05:22:57.537Z"
   },
   {
    "duration": 73,
    "start_time": "2023-06-23T05:22:57.552Z"
   },
   {
    "duration": 819,
    "start_time": "2023-06-23T05:22:57.629Z"
   },
   {
    "duration": 295571,
    "start_time": "2023-06-23T05:22:58.450Z"
   },
   {
    "duration": 22,
    "start_time": "2023-06-23T05:27:54.022Z"
   },
   {
    "duration": 328,
    "start_time": "2023-06-23T05:27:54.099Z"
   },
   {
    "duration": 14,
    "start_time": "2023-06-23T05:27:54.435Z"
   },
   {
    "duration": 180,
    "start_time": "2023-06-23T05:27:54.451Z"
   },
   {
    "duration": 2121,
    "start_time": "2023-06-23T12:11:32.425Z"
   },
   {
    "duration": 5,
    "start_time": "2023-06-23T12:12:19.619Z"
   },
   {
    "duration": 91,
    "start_time": "2023-06-23T12:12:25.712Z"
   },
   {
    "duration": 171,
    "start_time": "2023-06-23T12:12:28.009Z"
   },
   {
    "duration": 7,
    "start_time": "2023-06-23T12:12:30.116Z"
   },
   {
    "duration": 9,
    "start_time": "2023-06-23T12:12:30.621Z"
   },
   {
    "duration": 13,
    "start_time": "2023-06-23T12:12:31.812Z"
   },
   {
    "duration": 14,
    "start_time": "2023-06-23T12:12:34.608Z"
   },
   {
    "duration": 146,
    "start_time": "2023-06-23T12:13:18.312Z"
   },
   {
    "duration": 5,
    "start_time": "2023-06-23T12:14:00.612Z"
   },
   {
    "duration": 20,
    "start_time": "2023-06-23T12:14:24.065Z"
   },
   {
    "duration": 4,
    "start_time": "2023-06-23T12:15:34.008Z"
   },
   {
    "duration": 50,
    "start_time": "2023-06-23T12:15:36.446Z"
   },
   {
    "duration": 161,
    "start_time": "2023-06-23T12:15:38.234Z"
   },
   {
    "duration": 7,
    "start_time": "2023-06-23T12:15:39.344Z"
   },
   {
    "duration": 11,
    "start_time": "2023-06-23T12:15:39.652Z"
   },
   {
    "duration": 12,
    "start_time": "2023-06-23T12:15:44.424Z"
   },
   {
    "duration": 16,
    "start_time": "2023-06-23T12:15:56.133Z"
   },
   {
    "duration": 18,
    "start_time": "2023-06-23T12:15:58.237Z"
   },
   {
    "duration": 17,
    "start_time": "2023-06-23T12:16:00.973Z"
   },
   {
    "duration": 1138,
    "start_time": "2023-06-23T12:16:10.837Z"
   },
   {
    "duration": 256,
    "start_time": "2023-06-23T12:16:14.677Z"
   },
   {
    "duration": 5,
    "start_time": "2023-06-23T12:16:16.227Z"
   },
   {
    "duration": 8,
    "start_time": "2023-06-23T12:16:17.618Z"
   },
   {
    "duration": 27,
    "start_time": "2023-06-23T12:16:19.059Z"
   },
   {
    "duration": 237,
    "start_time": "2023-06-23T12:16:32.612Z"
   },
   {
    "duration": 7,
    "start_time": "2023-06-23T12:16:34.970Z"
   },
   {
    "duration": 191,
    "start_time": "2023-06-23T12:16:41.937Z"
   },
   {
    "duration": 172,
    "start_time": "2023-06-23T12:16:43.971Z"
   },
   {
    "duration": 734,
    "start_time": "2023-06-23T12:16:49.755Z"
   },
   {
    "duration": 18,
    "start_time": "2023-06-23T12:17:14.069Z"
   },
   {
    "duration": 12,
    "start_time": "2023-06-23T12:36:55.831Z"
   },
   {
    "duration": 4,
    "start_time": "2023-06-23T12:37:19.567Z"
   },
   {
    "duration": 15,
    "start_time": "2023-06-23T12:37:21.771Z"
   },
   {
    "duration": 28,
    "start_time": "2023-06-23T12:38:41.990Z"
   },
   {
    "duration": 25,
    "start_time": "2023-06-23T12:39:39.466Z"
   },
   {
    "duration": 22,
    "start_time": "2023-06-23T12:41:02.005Z"
   },
   {
    "duration": 19,
    "start_time": "2023-06-23T12:41:06.713Z"
   },
   {
    "duration": 25,
    "start_time": "2023-06-23T12:41:09.055Z"
   },
   {
    "duration": 18,
    "start_time": "2023-06-23T12:41:11.011Z"
   },
   {
    "duration": 5,
    "start_time": "2023-06-23T12:41:18.179Z"
   },
   {
    "duration": 51,
    "start_time": "2023-06-23T12:41:20.091Z"
   },
   {
    "duration": 191,
    "start_time": "2023-06-23T12:41:20.147Z"
   },
   {
    "duration": 16,
    "start_time": "2023-06-23T12:41:20.341Z"
   },
   {
    "duration": 56,
    "start_time": "2023-06-23T12:41:20.360Z"
   },
   {
    "duration": 29,
    "start_time": "2023-06-23T12:41:20.418Z"
   },
   {
    "duration": 23,
    "start_time": "2023-06-23T12:41:20.449Z"
   },
   {
    "duration": 39,
    "start_time": "2023-06-23T12:41:20.478Z"
   },
   {
    "duration": 15,
    "start_time": "2023-06-23T12:41:20.536Z"
   },
   {
    "duration": 1105,
    "start_time": "2023-06-23T12:41:20.716Z"
   },
   {
    "duration": 299,
    "start_time": "2023-06-23T12:41:21.823Z"
   },
   {
    "duration": 5,
    "start_time": "2023-06-23T12:41:22.124Z"
   },
   {
    "duration": 11,
    "start_time": "2023-06-23T12:41:22.131Z"
   },
   {
    "duration": 44,
    "start_time": "2023-06-23T12:41:22.154Z"
   },
   {
    "duration": 293,
    "start_time": "2023-06-23T12:41:22.200Z"
   },
   {
    "duration": 9,
    "start_time": "2023-06-23T12:41:22.496Z"
   },
   {
    "duration": 262,
    "start_time": "2023-06-23T12:41:22.508Z"
   },
   {
    "duration": 367,
    "start_time": "2023-06-23T12:41:22.772Z"
   },
   {
    "duration": 848,
    "start_time": "2023-06-23T12:41:23.141Z"
   },
   {
    "duration": 19,
    "start_time": "2023-06-23T12:41:26.472Z"
   },
   {
    "duration": 18,
    "start_time": "2023-06-23T12:41:28.619Z"
   },
   {
    "duration": 13,
    "start_time": "2023-06-23T12:41:36.243Z"
   },
   {
    "duration": 7,
    "start_time": "2023-06-23T12:41:39.578Z"
   },
   {
    "duration": 15,
    "start_time": "2023-06-23T12:41:40.679Z"
   },
   {
    "duration": 14,
    "start_time": "2023-06-23T12:41:42.935Z"
   },
   {
    "duration": 702,
    "start_time": "2023-06-23T12:41:53.146Z"
   },
   {
    "duration": 671,
    "start_time": "2023-06-23T12:43:05.844Z"
   },
   {
    "duration": 229687,
    "start_time": "2023-06-23T12:43:30.382Z"
   },
   {
    "duration": 3,
    "start_time": "2023-06-23T12:48:10.703Z"
   },
   {
    "duration": 12,
    "start_time": "2023-06-23T12:50:25.807Z"
   },
   {
    "duration": 6,
    "start_time": "2023-06-23T12:50:42.456Z"
   },
   {
    "duration": 49,
    "start_time": "2023-06-23T12:50:43.057Z"
   },
   {
    "duration": 266,
    "start_time": "2023-06-23T12:50:43.134Z"
   },
   {
    "duration": 6,
    "start_time": "2023-06-23T12:50:43.402Z"
   },
   {
    "duration": 16,
    "start_time": "2023-06-23T12:50:43.410Z"
   },
   {
    "duration": 31,
    "start_time": "2023-06-23T12:50:43.428Z"
   },
   {
    "duration": 19,
    "start_time": "2023-06-23T12:50:43.462Z"
   },
   {
    "duration": 19,
    "start_time": "2023-06-23T12:50:43.483Z"
   },
   {
    "duration": 29,
    "start_time": "2023-06-23T12:50:43.515Z"
   },
   {
    "duration": 949,
    "start_time": "2023-06-23T12:50:43.612Z"
   },
   {
    "duration": 261,
    "start_time": "2023-06-23T12:50:44.563Z"
   },
   {
    "duration": 4,
    "start_time": "2023-06-23T12:50:44.826Z"
   },
   {
    "duration": 17,
    "start_time": "2023-06-23T12:50:44.832Z"
   },
   {
    "duration": 23,
    "start_time": "2023-06-23T12:50:44.854Z"
   },
   {
    "duration": 201,
    "start_time": "2023-06-23T12:50:44.879Z"
   },
   {
    "duration": 6,
    "start_time": "2023-06-23T12:50:45.081Z"
   },
   {
    "duration": 188,
    "start_time": "2023-06-23T12:50:45.088Z"
   },
   {
    "duration": 169,
    "start_time": "2023-06-23T12:50:45.278Z"
   },
   {
    "duration": 748,
    "start_time": "2023-06-23T12:50:45.449Z"
   },
   {
    "duration": 14,
    "start_time": "2023-06-23T12:50:46.198Z"
   },
   {
    "duration": 17,
    "start_time": "2023-06-23T12:50:46.214Z"
   },
   {
    "duration": 13,
    "start_time": "2023-06-23T12:50:46.253Z"
   },
   {
    "duration": 6,
    "start_time": "2023-06-23T12:50:51.971Z"
   },
   {
    "duration": 14,
    "start_time": "2023-06-23T12:50:54.108Z"
   },
   {
    "duration": 28,
    "start_time": "2023-06-23T12:50:58.406Z"
   },
   {
    "duration": 675,
    "start_time": "2023-06-23T12:51:06.572Z"
   },
   {
    "duration": 231360,
    "start_time": "2023-06-23T12:51:30.112Z"
   },
   {
    "duration": 5,
    "start_time": "2023-06-23T14:30:10.808Z"
   },
   {
    "duration": 49,
    "start_time": "2023-06-23T14:30:12.924Z"
   },
   {
    "duration": 152,
    "start_time": "2023-06-23T14:30:14.472Z"
   },
   {
    "duration": 6,
    "start_time": "2023-06-23T14:30:15.368Z"
   },
   {
    "duration": 9,
    "start_time": "2023-06-23T14:30:15.878Z"
   },
   {
    "duration": 11,
    "start_time": "2023-06-23T14:30:15.962Z"
   },
   {
    "duration": 14,
    "start_time": "2023-06-23T14:30:16.037Z"
   },
   {
    "duration": 14,
    "start_time": "2023-06-23T14:30:16.077Z"
   },
   {
    "duration": 17,
    "start_time": "2023-06-23T14:30:16.149Z"
   },
   {
    "duration": 976,
    "start_time": "2023-06-23T14:30:16.310Z"
   },
   {
    "duration": 272,
    "start_time": "2023-06-23T14:30:17.288Z"
   },
   {
    "duration": 6,
    "start_time": "2023-06-23T14:30:17.562Z"
   },
   {
    "duration": 5,
    "start_time": "2023-06-23T14:30:17.796Z"
   },
   {
    "duration": 19,
    "start_time": "2023-06-23T14:30:17.821Z"
   },
   {
    "duration": 198,
    "start_time": "2023-06-23T14:30:17.936Z"
   },
   {
    "duration": 18,
    "start_time": "2023-06-23T14:30:18.136Z"
   },
   {
    "duration": 196,
    "start_time": "2023-06-23T14:30:18.156Z"
   },
   {
    "duration": 186,
    "start_time": "2023-06-23T14:30:18.354Z"
   },
   {
    "duration": 769,
    "start_time": "2023-06-23T14:30:18.542Z"
   },
   {
    "duration": 14,
    "start_time": "2023-06-23T14:30:19.312Z"
   },
   {
    "duration": 18,
    "start_time": "2023-06-23T14:30:19.466Z"
   },
   {
    "duration": 13,
    "start_time": "2023-06-23T14:30:24.152Z"
   },
   {
    "duration": 5,
    "start_time": "2023-06-23T14:30:27.007Z"
   },
   {
    "duration": 16,
    "start_time": "2023-06-23T14:30:27.792Z"
   },
   {
    "duration": 28,
    "start_time": "2023-06-23T14:30:29.511Z"
   },
   {
    "duration": 603,
    "start_time": "2023-06-23T14:30:32.707Z"
   },
   {
    "duration": 215819,
    "start_time": "2023-06-23T14:30:50.112Z"
   },
   {
    "duration": 26,
    "start_time": "2023-06-23T14:35:02.934Z"
   },
   {
    "duration": 2,
    "start_time": "2023-06-23T14:35:05.327Z"
   },
   {
    "duration": 9,
    "start_time": "2023-06-23T14:35:09.817Z"
   },
   {
    "duration": 9,
    "start_time": "2023-06-23T14:35:13.252Z"
   },
   {
    "duration": 14,
    "start_time": "2023-06-23T14:35:19.106Z"
   },
   {
    "duration": 449,
    "start_time": "2023-06-23T14:35:25.094Z"
   },
   {
    "duration": 123096,
    "start_time": "2023-06-23T14:35:32.611Z"
   },
   {
    "duration": 24,
    "start_time": "2023-06-23T14:37:54.106Z"
   },
   {
    "duration": 14,
    "start_time": "2023-06-23T14:38:10.925Z"
   },
   {
    "duration": 858,
    "start_time": "2023-06-23T14:38:15.552Z"
   },
   {
    "duration": 300099,
    "start_time": "2023-06-23T14:38:27.209Z"
   },
   {
    "duration": 112,
    "start_time": "2023-06-23T14:45:06.248Z"
   },
   {
    "duration": 191,
    "start_time": "2023-06-23T14:46:20.321Z"
   },
   {
    "duration": 18,
    "start_time": "2023-06-23T14:46:40.235Z"
   },
   {
    "duration": 170,
    "start_time": "2023-06-23T14:46:46.543Z"
   },
   {
    "duration": 198,
    "start_time": "2023-06-23T14:47:04.164Z"
   },
   {
    "duration": 175,
    "start_time": "2023-06-23T14:47:07.974Z"
   },
   {
    "duration": 229,
    "start_time": "2023-06-23T14:47:22.379Z"
   }
  ],
  "kernelspec": {
   "display_name": "Python 3 (ipykernel)",
   "language": "python",
   "name": "python3"
  },
  "language_info": {
   "codemirror_mode": {
    "name": "ipython",
    "version": 3
   },
   "file_extension": ".py",
   "mimetype": "text/x-python",
   "name": "python",
   "nbconvert_exporter": "python",
   "pygments_lexer": "ipython3",
   "version": "3.9.5"
  },
  "toc": {
   "base_numbering": 1,
   "nav_menu": {},
   "number_sections": true,
   "sideBar": true,
   "skip_h1_title": true,
   "title_cell": "Содержание",
   "title_sidebar": "Contents",
   "toc_cell": true,
   "toc_position": {},
   "toc_section_display": true,
   "toc_window_display": false
  }
 },
 "nbformat": 4,
 "nbformat_minor": 2
}
